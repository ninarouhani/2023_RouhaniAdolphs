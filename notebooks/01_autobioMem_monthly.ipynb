{
 "cells": [
  {
   "cell_type": "code",
   "execution_count": 3,
   "metadata": {},
   "outputs": [],
   "source": [
    "# load packages \n",
    "library(reshape2)\n",
    "library(lme4)\n",
    "library(lmerTest)\n",
    "library(brms)"
   ]
  },
  {
   "cell_type": "code",
   "execution_count": 4,
   "metadata": {},
   "outputs": [],
   "source": [
    "# set working directory to dataFiles and read in files\n",
    "setwd('../dataFiles')\n",
    "subDate<-read.csv('autobioMem_subDate.csv')"
   ]
  },
  {
   "cell_type": "code",
   "execution_count": 5,
   "metadata": {},
   "outputs": [],
   "source": [
    "# subset for memory/emotion collections\n",
    "\n",
    "# change factor orders\n",
    "subDate$marchFactor<-factor(subDate$marchFactor,levels=c('Other','March'))\n",
    "\n",
    "# subset for retrieved months\n",
    "months = c(\"January\",\"February\",\"March\",\"April\",\"May\",\"June\",\"July\",\"August\",\"September\",\"October\",\"November\",\"December\")\n",
    "subDate<-subset(subDate, date %in% months)\n",
    "\n",
    "# subset memory collections\n",
    "sd_2020 = subset(subDate, set=='2020') # 2020 memory Dec 2020\n",
    "sd_2020_p1 = subset(subDate, set=='2020+1') # 2020 memory on year later\n",
    "sd_2020_p2 = subset(subDate, set=='2020+2') # 2020 memory two years later\n",
    "sd_2020_p2_r = subset(subDate, set=='2020+2_rep') # 2020 memory two years later, replication in new sample\n",
    "sd_2021 = subset(subDate, set=='2021') # 2021 memory Dec 2021 \n",
    "\n",
    "# subset for covid-dynamic study emotion collection months (April-December 2020) \n",
    "sentMonths = c(\"April\",\"May\",\"June\",\"July\",\"August\",\"September\",\"October\",\"November\",\"December\")\n",
    "sd_cd = subset(sd_2020, date %in% sentMonths)\n",
    "\n",
    "# subsets for testing interactions \n",
    "sd_2020_orig_p1<-rbind(sd_2020,sd_2020_p1) # 2020 memory in 2020 vs 1 year later\n",
    "sd_2020_orig_p2<-rbind(sd_2020,sd_2020_p2) # 2020 memory in 2020 vs 2 yrs later\n",
    "sd_2020_p1_p2<-rbind(sd_2020_p2,sd_2020_p1) # 2020 memory 1 vs 2 yrs later\n",
    "sd_2020_2021<-rbind(sd_2020,sd_2021) # 2020 vs 2021 memory (tested end of that year)\n",
    "sd_2020_sampleRep<-rbind(sd_2020_p2,sd_2020_p2_r) # 2020 memory 2 yrs later, original versus new sample"
   ]
  },
  {
   "cell_type": "markdown",
   "metadata": {},
   "source": [
    "# greater autobiographical memory for march 2020 (pandemic onset) across three years"
   ]
  },
  {
   "cell_type": "code",
   "execution_count": 4,
   "metadata": {},
   "outputs": [
    {
     "data": {
      "text/plain": [
       "Generalized linear mixed model fit by maximum likelihood (Laplace\n",
       "  Approximation) [glmerMod]\n",
       " Family: poisson  ( log )\n",
       "Formula: memCount ~ marchFactor + (marchFactor | subject)\n",
       "   Data: sd_2020\n",
       "Control: glmerControl(\"bobyqa\")\n",
       "\n",
       "     AIC      BIC   logLik deviance df.resid \n",
       " 37160.3  37197.0 -18575.2  37150.3    11263 \n",
       "\n",
       "Scaled residuals: \n",
       "    Min      1Q  Median      3Q     Max \n",
       "-3.2503 -0.8434 -0.5564  0.2256 27.2118 \n",
       "\n",
       "Random effects:\n",
       " Groups  Name             Variance Std.Dev. Corr \n",
       " subject (Intercept)      0.9667   0.9832        \n",
       "         marchFactorMarch 1.3376   1.1566   -0.51\n",
       "Number of obs: 11268, groups:  subject, 939\n",
       "\n",
       "Fixed effects:\n",
       "                 Estimate Std. Error z value Pr(>|z|)    \n",
       "(Intercept)      -0.49992    0.03555  -14.06   <2e-16 ***\n",
       "marchFactorMarch  1.16972    0.04974   23.52   <2e-16 ***\n",
       "---\n",
       "Signif. codes:  0 ‘***’ 0.001 ‘**’ 0.01 ‘*’ 0.05 ‘.’ 0.1 ‘ ’ 1\n",
       "\n",
       "Correlation of Fixed Effects:\n",
       "            (Intr)\n",
       "mrchFctrMrc -0.482"
      ]
     },
     "metadata": {},
     "output_type": "display_data"
    },
    {
     "data": {
      "text/plain": [
       "Generalized linear mixed model fit by maximum likelihood (Laplace\n",
       "  Approximation) [glmerMod]\n",
       " Family: poisson  ( log )\n",
       "Formula: memCount ~ marchFactor + (marchFactor | subject)\n",
       "   Data: sd_2020_p1\n",
       "Control: glmerControl(\"bobyqa\")\n",
       "\n",
       "     AIC      BIC   logLik deviance df.resid \n",
       " 16413.9  16447.5  -8201.9  16403.9     6139 \n",
       "\n",
       "Scaled residuals: \n",
       "    Min      1Q  Median      3Q     Max \n",
       "-2.9288 -0.7322 -0.4841 -0.3117 15.7791 \n",
       "\n",
       "Random effects:\n",
       " Groups  Name             Variance Std.Dev. Corr \n",
       " subject (Intercept)      1.117    1.057         \n",
       "         marchFactorMarch 2.013    1.419    -0.52\n",
       "Number of obs: 6144, groups:  subject, 512\n",
       "\n",
       "Fixed effects:\n",
       "                 Estimate Std. Error z value Pr(>|z|)    \n",
       "(Intercept)      -0.98933    0.05485  -18.04   <2e-16 ***\n",
       "marchFactorMarch  1.22518    0.08950   13.69   <2e-16 ***\n",
       "---\n",
       "Signif. codes:  0 ‘***’ 0.001 ‘**’ 0.01 ‘*’ 0.05 ‘.’ 0.1 ‘ ’ 1\n",
       "\n",
       "Correlation of Fixed Effects:\n",
       "            (Intr)\n",
       "mrchFctrMrc -0.478"
      ]
     },
     "metadata": {},
     "output_type": "display_data"
    },
    {
     "data": {
      "text/plain": [
       "Generalized linear mixed model fit by maximum likelihood (Laplace\n",
       "  Approximation) [glmerMod]\n",
       " Family: poisson  ( log )\n",
       "Formula: memCount ~ marchFactor + (marchFactor | subject)\n",
       "   Data: sd_2020_p2\n",
       "Control: glmerControl(\"bobyqa\")\n",
       "\n",
       "     AIC      BIC   logLik deviance df.resid \n",
       " 10385.3  10416.3  -5187.7  10375.3     3631 \n",
       "\n",
       "Scaled residuals: \n",
       "    Min      1Q  Median      3Q     Max \n",
       "-2.2428 -0.7756 -0.5310  0.0297 16.1725 \n",
       "\n",
       "Random effects:\n",
       " Groups  Name             Variance Std.Dev. Corr \n",
       " subject (Intercept)      0.9565   0.978         \n",
       "         marchFactorMarch 1.0773   1.038    -0.51\n",
       "Number of obs: 3636, groups:  subject, 303\n",
       "\n",
       "Fixed effects:\n",
       "                 Estimate Std. Error z value Pr(>|z|)    \n",
       "(Intercept)      -0.76186    0.06394  -11.91   <2e-16 ***\n",
       "marchFactorMarch  1.66561    0.07982   20.87   <2e-16 ***\n",
       "---\n",
       "Signif. codes:  0 ‘***’ 0.001 ‘**’ 0.01 ‘*’ 0.05 ‘.’ 0.1 ‘ ’ 1\n",
       "\n",
       "Correlation of Fixed Effects:\n",
       "            (Intr)\n",
       "mrchFctrMrc -0.517"
      ]
     },
     "metadata": {},
     "output_type": "display_data"
    },
    {
     "data": {
      "text/plain": [
       "Generalized linear mixed model fit by maximum likelihood (Laplace\n",
       "  Approximation) [glmerMod]\n",
       " Family: poisson  ( log )\n",
       "Formula: memCount ~ marchFactor + (marchFactor | subject)\n",
       "   Data: sd_2020_p2_r\n",
       "Control: glmerControl(\"bobyqa\")\n",
       "\n",
       "     AIC      BIC   logLik deviance df.resid \n",
       "  8847.8   8877.9  -4418.9   8837.8     3019 \n",
       "\n",
       "Scaled residuals: \n",
       "    Min      1Q  Median      3Q     Max \n",
       "-2.0041 -0.8039 -0.5423 -0.0934 11.4405 \n",
       "\n",
       "Random effects:\n",
       " Groups  Name             Variance Std.Dev. Corr \n",
       " subject (Intercept)      0.951    0.9752        \n",
       "         marchFactorMarch 1.009    1.0046   -0.58\n",
       "Number of obs: 3024, groups:  subject, 252\n",
       "\n",
       "Fixed effects:\n",
       "                 Estimate Std. Error z value Pr(>|z|)    \n",
       "(Intercept)      -0.75576    0.07033  -10.75   <2e-16 ***\n",
       "marchFactorMarch  1.86191    0.08374   22.23   <2e-16 ***\n",
       "---\n",
       "Signif. codes:  0 ‘***’ 0.001 ‘**’ 0.01 ‘*’ 0.05 ‘.’ 0.1 ‘ ’ 1\n",
       "\n",
       "Correlation of Fixed Effects:\n",
       "            (Intr)\n",
       "mrchFctrMrc -0.579"
      ]
     },
     "metadata": {},
     "output_type": "display_data"
    },
    {
     "data": {
      "text/plain": [
       "Generalized linear mixed model fit by maximum likelihood (Laplace\n",
       "  Approximation) [glmerMod]\n",
       " Family: poisson  ( log )\n",
       "Formula: memCount ~ marchFactor + (marchFactor | subject)\n",
       "   Data: sd_2021\n",
       "Control: glmerControl(\"bobyqa\")\n",
       "\n",
       "     AIC      BIC   logLik deviance df.resid \n",
       " 16828.2  16861.9  -8409.1  16818.2     6271 \n",
       "\n",
       "Scaled residuals: \n",
       "    Min      1Q  Median      3Q     Max \n",
       "-2.5613 -0.7786 -0.5029 -0.2082 13.0235 \n",
       "\n",
       "Random effects:\n",
       " Groups  Name             Variance Std.Dev. Corr \n",
       " subject (Intercept)      0.8127   0.9015        \n",
       "         marchFactorMarch 3.6977   1.9229   -0.06\n",
       "Number of obs: 6276, groups:  subject, 523\n",
       "\n",
       "Fixed effects:\n",
       "                 Estimate Std. Error z value Pr(>|z|)    \n",
       "(Intercept)      -0.70242    0.04565 -15.387  < 2e-16 ***\n",
       "marchFactorMarch -1.45916    0.22522  -6.479 9.24e-11 ***\n",
       "---\n",
       "Signif. codes:  0 ‘***’ 0.001 ‘**’ 0.01 ‘*’ 0.05 ‘.’ 0.1 ‘ ’ 1\n",
       "\n",
       "Correlation of Fixed Effects:\n",
       "            (Intr)\n",
       "mrchFctrMrc -0.069"
      ]
     },
     "metadata": {},
     "output_type": "display_data"
    }
   ],
   "source": [
    "summary(glmer(memCount~marchFactor+(marchFactor|subject),data = sd_2020, family = poisson(link = \"log\"),glmerControl(\"bobyqa\")))\n",
    "summary(glmer(memCount~marchFactor+(marchFactor|subject),data = sd_2020_p1, family = poisson(link = \"log\"),glmerControl(\"bobyqa\")))\n",
    "summary(glmer(memCount~marchFactor+(marchFactor|subject),data = sd_2020_p2, family = poisson(link = \"log\"),glmerControl(\"bobyqa\")))\n",
    "summary(glmer(memCount~marchFactor+(marchFactor|subject),data = sd_2020_p2_r, family = poisson(link = \"log\"),glmerControl(\"bobyqa\")))\n",
    "summary(glmer(memCount~marchFactor+(marchFactor|subject),data = sd_2021, family = poisson(link = \"log\"),glmerControl(\"bobyqa\")))"
   ]
  },
  {
   "cell_type": "code",
   "execution_count": 5,
   "metadata": {},
   "outputs": [
    {
     "name": "stderr",
     "output_type": "stream",
     "text": [
      "Compiling Stan program...\n",
      "\n",
      "Start sampling\n",
      "\n"
     ]
    },
    {
     "data": {
      "text/plain": [
       " Family: poisson \n",
       "  Links: mu = log \n",
       "Formula: memCount ~ 1 + marchFactor + (marchFactor | subject) \n",
       "   Data: sd_2020 (Number of observations: 11268) \n",
       "  Draws: 4 chains, each with iter = 2000; warmup = 1000; thin = 1;\n",
       "         total post-warmup draws = 4000\n",
       "\n",
       "Group-Level Effects: \n",
       "~subject (Number of levels: 939) \n",
       "                                Estimate Est.Error l-95% CI u-95% CI Rhat\n",
       "sd(Intercept)                       0.99      0.03     0.94     1.05 1.01\n",
       "sd(marchFactorMarch)                1.18      0.04     1.09     1.27 1.00\n",
       "cor(Intercept,marchFactorMarch)    -0.50      0.04    -0.57    -0.42 1.00\n",
       "                                Bulk_ESS Tail_ESS\n",
       "sd(Intercept)                        547     1352\n",
       "sd(marchFactorMarch)                1146     2105\n",
       "cor(Intercept,marchFactorMarch)      868     1685\n",
       "\n",
       "Population-Level Effects: \n",
       "                 Estimate Est.Error l-95% CI u-95% CI Rhat Bulk_ESS Tail_ESS\n",
       "Intercept           -0.50      0.04    -0.58    -0.44 1.00      740     1603\n",
       "marchFactorMarch     1.16      0.05     1.06     1.26 1.00     1372     2601\n",
       "\n",
       "Draws were sampled using sampling(NUTS). For each parameter, Bulk_ESS\n",
       "and Tail_ESS are effective sample size measures, and Rhat is the potential\n",
       "scale reduction factor on split chains (at convergence, Rhat = 1)."
      ]
     },
     "metadata": {},
     "output_type": "display_data"
    },
    {
     "name": "stderr",
     "output_type": "stream",
     "text": [
      "Compiling Stan program...\n",
      "\n",
      "recompiling to avoid crashing R session\n",
      "\n",
      "Start sampling\n",
      "\n"
     ]
    },
    {
     "data": {
      "text/plain": [
       " Family: poisson \n",
       "  Links: mu = log \n",
       "Formula: memCount ~ 1 + marchFactor + (marchFactor | subject) \n",
       "   Data: sd_2020_p1 (Number of observations: 6144) \n",
       "  Draws: 4 chains, each with iter = 2000; warmup = 1000; thin = 1;\n",
       "         total post-warmup draws = 4000\n",
       "\n",
       "Group-Level Effects: \n",
       "~subject (Number of levels: 512) \n",
       "                                Estimate Est.Error l-95% CI u-95% CI Rhat\n",
       "sd(Intercept)                       1.07      0.05     0.98     1.17 1.00\n",
       "sd(marchFactorMarch)                1.44      0.08     1.30     1.60 1.00\n",
       "cor(Intercept,marchFactorMarch)    -0.51      0.05    -0.60    -0.40 1.00\n",
       "                                Bulk_ESS Tail_ESS\n",
       "sd(Intercept)                        857     1550\n",
       "sd(marchFactorMarch)                1158     1858\n",
       "cor(Intercept,marchFactorMarch)      918     1694\n",
       "\n",
       "Population-Level Effects: \n",
       "                 Estimate Est.Error l-95% CI u-95% CI Rhat Bulk_ESS Tail_ESS\n",
       "Intercept           -0.99      0.06    -1.10    -0.88 1.01     1101     1929\n",
       "marchFactorMarch     1.22      0.09     1.03     1.40 1.00     1914     2588\n",
       "\n",
       "Draws were sampled using sampling(NUTS). For each parameter, Bulk_ESS\n",
       "and Tail_ESS are effective sample size measures, and Rhat is the potential\n",
       "scale reduction factor on split chains (at convergence, Rhat = 1)."
      ]
     },
     "metadata": {},
     "output_type": "display_data"
    },
    {
     "name": "stderr",
     "output_type": "stream",
     "text": [
      "Compiling Stan program...\n",
      "\n",
      "recompiling to avoid crashing R session\n",
      "\n",
      "Start sampling\n",
      "\n"
     ]
    },
    {
     "data": {
      "text/plain": [
       " Family: poisson \n",
       "  Links: mu = log \n",
       "Formula: memCount ~ 1 + marchFactor + (marchFactor | subject) \n",
       "   Data: sd_2020_p2 (Number of observations: 3636) \n",
       "  Draws: 4 chains, each with iter = 2000; warmup = 1000; thin = 1;\n",
       "         total post-warmup draws = 4000\n",
       "\n",
       "Group-Level Effects: \n",
       "~subject (Number of levels: 303) \n",
       "                                Estimate Est.Error l-95% CI u-95% CI Rhat\n",
       "sd(Intercept)                       0.99      0.05     0.89     1.11 1.00\n",
       "sd(marchFactorMarch)                1.05      0.07     0.91     1.20 1.00\n",
       "cor(Intercept,marchFactorMarch)    -0.50      0.07    -0.62    -0.36 1.00\n",
       "                                Bulk_ESS Tail_ESS\n",
       "sd(Intercept)                        953     1731\n",
       "sd(marchFactorMarch)                1201     2328\n",
       "cor(Intercept,marchFactorMarch)     1229     2203\n",
       "\n",
       "Population-Level Effects: \n",
       "                 Estimate Est.Error l-95% CI u-95% CI Rhat Bulk_ESS Tail_ESS\n",
       "Intercept           -0.77      0.07    -0.90    -0.64 1.00     1195     2251\n",
       "marchFactorMarch     1.66      0.08     1.50     1.82 1.00     2365     2952\n",
       "\n",
       "Draws were sampled using sampling(NUTS). For each parameter, Bulk_ESS\n",
       "and Tail_ESS are effective sample size measures, and Rhat is the potential\n",
       "scale reduction factor on split chains (at convergence, Rhat = 1)."
      ]
     },
     "metadata": {},
     "output_type": "display_data"
    },
    {
     "name": "stderr",
     "output_type": "stream",
     "text": [
      "Compiling Stan program...\n",
      "\n",
      "recompiling to avoid crashing R session\n",
      "\n",
      "Start sampling\n",
      "\n"
     ]
    },
    {
     "data": {
      "text/plain": [
       " Family: poisson \n",
       "  Links: mu = log \n",
       "Formula: memCount ~ 1 + marchFactor + (marchFactor | subject) \n",
       "   Data: sd_2020_p2_r (Number of observations: 3024) \n",
       "  Draws: 4 chains, each with iter = 2000; warmup = 1000; thin = 1;\n",
       "         total post-warmup draws = 4000\n",
       "\n",
       "Group-Level Effects: \n",
       "~subject (Number of levels: 252) \n",
       "                                Estimate Est.Error l-95% CI u-95% CI Rhat\n",
       "sd(Intercept)                       1.00      0.06     0.87     1.13 1.00\n",
       "sd(marchFactorMarch)                1.03      0.08     0.88     1.20 1.00\n",
       "cor(Intercept,marchFactorMarch)    -0.57      0.07    -0.69    -0.43 1.00\n",
       "                                Bulk_ESS Tail_ESS\n",
       "sd(Intercept)                        954     1542\n",
       "sd(marchFactorMarch)                1380     2300\n",
       "cor(Intercept,marchFactorMarch)     1440     2100\n",
       "\n",
       "Population-Level Effects: \n",
       "                 Estimate Est.Error l-95% CI u-95% CI Rhat Bulk_ESS Tail_ESS\n",
       "Intercept           -0.76      0.07    -0.91    -0.62 1.00     1274     1344\n",
       "marchFactorMarch     1.86      0.09     1.69     2.03 1.00     1910     2759\n",
       "\n",
       "Draws were sampled using sampling(NUTS). For each parameter, Bulk_ESS\n",
       "and Tail_ESS are effective sample size measures, and Rhat is the potential\n",
       "scale reduction factor on split chains (at convergence, Rhat = 1)."
      ]
     },
     "metadata": {},
     "output_type": "display_data"
    },
    {
     "name": "stderr",
     "output_type": "stream",
     "text": [
      "Compiling Stan program...\n",
      "\n",
      "recompiling to avoid crashing R session\n",
      "\n",
      "Start sampling\n",
      "\n"
     ]
    },
    {
     "data": {
      "text/plain": [
       " Family: poisson \n",
       "  Links: mu = log \n",
       "Formula: memCount ~ 1 + marchFactor + (marchFactor | subject) \n",
       "   Data: sd_2021 (Number of observations: 6276) \n",
       "  Draws: 4 chains, each with iter = 2000; warmup = 1000; thin = 1;\n",
       "         total post-warmup draws = 4000\n",
       "\n",
       "Group-Level Effects: \n",
       "~subject (Number of levels: 523) \n",
       "                                Estimate Est.Error l-95% CI u-95% CI Rhat\n",
       "sd(Intercept)                       0.92      0.04     0.84     0.99 1.00\n",
       "sd(marchFactorMarch)                1.73      0.15     1.46     2.04 1.00\n",
       "cor(Intercept,marchFactorMarch)    -0.04      0.08    -0.20     0.12 1.00\n",
       "                                Bulk_ESS Tail_ESS\n",
       "sd(Intercept)                        866     1875\n",
       "sd(marchFactorMarch)                1405     2025\n",
       "cor(Intercept,marchFactorMarch)     1104     1865\n",
       "\n",
       "Population-Level Effects: \n",
       "                 Estimate Est.Error l-95% CI u-95% CI Rhat Bulk_ESS Tail_ESS\n",
       "Intercept           -0.70      0.05    -0.80    -0.61 1.00     1183     1720\n",
       "marchFactorMarch    -1.26      0.19    -1.67    -0.90 1.00     2267     2631\n",
       "\n",
       "Draws were sampled using sampling(NUTS). For each parameter, Bulk_ESS\n",
       "and Tail_ESS are effective sample size measures, and Rhat is the potential\n",
       "scale reduction factor on split chains (at convergence, Rhat = 1)."
      ]
     },
     "metadata": {},
     "output_type": "display_data"
    }
   ],
   "source": [
    "# bayesian regression models (for confidence intervals)\n",
    "brm(memCount~1+marchFactor+(marchFactor|subject),data = sd_2020, family = poisson, init = \"random\", cores=10)\n",
    "brm(memCount~1+marchFactor+(marchFactor|subject),data = sd_2020_p1, family = poisson, init = \"random\", cores=10)\n",
    "brm(memCount~1+marchFactor+(marchFactor|subject),data = sd_2020_p2, family = poisson, init = \"random\", cores=10)\n",
    "brm(memCount~1+marchFactor+(marchFactor|subject),data = sd_2020_p2_r, family = poisson, init = \"random\", cores=10)\n",
    "brm(memCount~1+marchFactor+(marchFactor|subject),data = sd_2021, family = poisson, init = \"random\", cores=10)"
   ]
  },
  {
   "cell_type": "code",
   "execution_count": 6,
   "metadata": {},
   "outputs": [
    {
     "data": {
      "text/plain": [
       "Generalized linear mixed model fit by maximum likelihood (Laplace\n",
       "  Approximation) [glmerMod]\n",
       " Family: poisson  ( log )\n",
       "Formula: memCount ~ marchFactor * set + (marchFactor * set | subject)\n",
       "   Data: sd_2020_2021\n",
       "Control: glmerControl(\"bobyqa\")\n",
       "\n",
       "     AIC      BIC   logLik deviance df.resid \n",
       " 53876.2  53985.1 -26924.1  53848.2    17530 \n",
       "\n",
       "Scaled residuals: \n",
       "    Min      1Q  Median      3Q     Max \n",
       "-3.2459 -0.8064 -0.5435  0.1333 27.2536 \n",
       "\n",
       "Random effects:\n",
       " Groups  Name                     Variance Std.Dev. Corr             \n",
       " subject (Intercept)              0.9595   0.9796                    \n",
       "         marchFactorMarch         1.3214   1.1495   -0.51            \n",
       "         set2021                  0.8741   0.9349   -0.56  0.43      \n",
       "         marchFactorMarch:set2021 4.5244   2.1271    0.30 -0.46 -0.33\n",
       "Number of obs: 17544, groups:  subject, 939\n",
       "\n",
       "Fixed effects:\n",
       "                         Estimate Std. Error z value Pr(>|z|)    \n",
       "(Intercept)              -0.49843    0.03575 -13.943  < 2e-16 ***\n",
       "marchFactorMarch          1.16476    0.05114  22.774  < 2e-16 ***\n",
       "set2021                  -0.24794    0.04774  -5.194 2.06e-07 ***\n",
       "marchFactorMarch:set2021 -2.61858    0.22861 -11.454  < 2e-16 ***\n",
       "---\n",
       "Signif. codes:  0 ‘***’ 0.001 ‘**’ 0.01 ‘*’ 0.05 ‘.’ 0.1 ‘ ’ 1\n",
       "\n",
       "Correlation of Fixed Effects:\n",
       "            (Intr) mrchFM st2021\n",
       "mrchFctrMrc -0.472              \n",
       "set2021     -0.472  0.303       \n",
       "mrchFM:2021  0.113 -0.204 -0.148"
      ]
     },
     "metadata": {},
     "output_type": "display_data"
    },
    {
     "data": {
      "text/plain": [
       "Generalized linear mixed model fit by maximum likelihood (Laplace\n",
       "  Approximation) [glmerMod]\n",
       " Family: poisson  ( log )\n",
       "Formula: memCount ~ marchFactor * set + (marchFactor * set | subject)\n",
       "   Data: sd_2020_p1_p2\n",
       "Control: glmerControl(\"bobyqa\")\n",
       "\n",
       "     AIC      BIC   logLik deviance df.resid \n",
       " 26713.6  26814.2 -13342.8  26685.6     9766 \n",
       "\n",
       "Scaled residuals: \n",
       "    Min      1Q  Median      3Q     Max \n",
       "-2.9288 -0.7411 -0.5127 -0.2924 15.9350 \n",
       "\n",
       "Random effects:\n",
       " Groups  Name                       Variance Std.Dev. Corr             \n",
       " subject (Intercept)                1.100    1.049                     \n",
       "         marchFactorMarch           1.970    1.404    -0.52            \n",
       "         set2020+2                  1.027    1.014    -0.56  0.40      \n",
       "         marchFactorMarch:set2020+2 1.791    1.338     0.34 -0.70 -0.59\n",
       "Number of obs: 9780, groups:  subject, 512\n",
       "\n",
       "Fixed effects:\n",
       "                           Estimate Std. Error z value Pr(>|z|)    \n",
       "(Intercept)                -0.98423    0.05350 -18.397  < 2e-16 ***\n",
       "marchFactorMarch            1.23831    0.08386  14.766  < 2e-16 ***\n",
       "set2020+2                   0.21248    0.06819   3.116  0.00183 ** \n",
       "marchFactorMarch:set2020+2  0.43197    0.10390   4.158 3.22e-05 ***\n",
       "---\n",
       "Signif. codes:  0 ‘***’ 0.001 ‘**’ 0.01 ‘*’ 0.05 ‘.’ 0.1 ‘ ’ 1\n",
       "\n",
       "Correlation of Fixed Effects:\n",
       "            (Intr) mrchFM s2020+\n",
       "mrchFctrMrc -0.494              \n",
       "set2020+2   -0.515  0.317       \n",
       "mrFM:2020+2  0.297 -0.662 -0.539"
      ]
     },
     "metadata": {},
     "output_type": "display_data"
    },
    {
     "data": {
      "text/plain": [
       "Generalized linear mixed model fit by maximum likelihood (Laplace\n",
       "  Approximation) [glmerMod]\n",
       " Family: poisson  ( log )\n",
       "Formula: memCount ~ marchFactor * set + (marchFactor * set | subject)\n",
       "   Data: sd_2020_orig_p2\n",
       "Control: glmerControl(\"bobyqa\")\n",
       "\n",
       "     AIC      BIC   logLik deviance df.resid \n",
       " 47476.7  47583.3 -23724.4  47448.7    14890 \n",
       "\n",
       "Scaled residuals: \n",
       "    Min      1Q  Median      3Q     Max \n",
       "-3.2498 -0.8272 -0.5523  0.1863 27.2137 \n",
       "\n",
       "Random effects:\n",
       " Groups  Name                       Variance Std.Dev. Corr             \n",
       " subject (Intercept)                0.9616   0.9806                    \n",
       "         marchFactorMarch           1.3351   1.1554   -0.51            \n",
       "         set2020+2                  1.0688   1.0338   -0.54  0.41      \n",
       "         marchFactorMarch:set2020+2 2.1030   1.4502    0.38 -0.71 -0.65\n",
       "Number of obs: 14904, groups:  subject, 939\n",
       "\n",
       "Fixed effects:\n",
       "                           Estimate Std. Error z value Pr(>|z|)    \n",
       "(Intercept)                -0.49871    0.03546 -14.065  < 2e-16 ***\n",
       "marchFactorMarch            1.16933    0.04965  23.551  < 2e-16 ***\n",
       "set2020+2                  -0.34199    0.06501  -5.261 1.43e-07 ***\n",
       "marchFactorMarch:set2020+2  0.49940    0.09407   5.309 1.10e-07 ***\n",
       "---\n",
       "Signif. codes:  0 ‘***’ 0.001 ‘**’ 0.01 ‘*’ 0.05 ‘.’ 0.1 ‘ ’ 1\n",
       "\n",
       "Correlation of Fixed Effects:\n",
       "            (Intr) mrchFM s2020+\n",
       "mrchFctrMrc -0.483              \n",
       "set2020+2   -0.353  0.235       \n",
       "mrFM:2020+2  0.243 -0.494 -0.578"
      ]
     },
     "metadata": {},
     "output_type": "display_data"
    },
    {
     "data": {
      "text/plain": [
       "Generalized linear mixed model fit by maximum likelihood (Laplace\n",
       "  Approximation) [glmerMod]\n",
       " Family: poisson  ( log )\n",
       "Formula: memCount ~ marchFactor * set + (marchFactor | subject)\n",
       "   Data: sd_2020_sampleRep\n",
       "Control: glmerControl(\"bobyqa\")\n",
       "\n",
       "     AIC      BIC   logLik deviance df.resid \n",
       " 19228.1  19275.7  -9607.0  19214.1     6653 \n",
       "\n",
       "Scaled residuals: \n",
       "    Min      1Q  Median      3Q     Max \n",
       "-2.2433 -0.7905 -0.5311 -0.0223 16.1697 \n",
       "\n",
       "Random effects:\n",
       " Groups  Name             Variance Std.Dev. Corr \n",
       " subject (Intercept)      0.9537   0.9766        \n",
       "         marchFactorMarch 1.0446   1.0221   -0.54\n",
       "Number of obs: 6660, groups:  subject, 555\n",
       "\n",
       "Fixed effects:\n",
       "                               Estimate Std. Error z value Pr(>|z|)    \n",
       "(Intercept)                    -0.76239    0.06311 -12.081   <2e-16 ***\n",
       "marchFactorMarch                1.68294    0.07650  21.999   <2e-16 ***\n",
       "set2020+2_rep                   0.00743    0.09209   0.081    0.936    \n",
       "marchFactorMarch:set2020+2_rep  0.15965    0.10784   1.480    0.139    \n",
       "---\n",
       "Signif. codes:  0 ‘***’ 0.001 ‘**’ 0.01 ‘*’ 0.05 ‘.’ 0.1 ‘ ’ 1\n",
       "\n",
       "Correlation of Fixed Effects:\n",
       "            (Intr) mrchFM s2020+\n",
       "mrchFctrMrc -0.540              \n",
       "st2020+2_rp -0.662  0.350       \n",
       "mFM:2020+2_  0.362 -0.656 -0.547"
      ]
     },
     "metadata": {},
     "output_type": "display_data"
    }
   ],
   "source": [
    "# check for interactions \n",
    "summary(mod<-glmer(memCount~marchFactor*set+(marchFactor*set|subject),data=sd_2020_2021,family = poisson(link = \"log\"),glmerControl(\"bobyqa\")))\n",
    "summary(mod<-glmer(memCount~marchFactor*set+(marchFactor*set|subject),data=sd_2020_p1_p2,family = poisson(link = \"log\"),glmerControl(\"bobyqa\")))\n",
    "summary(mod<-glmer(memCount~marchFactor*set+(marchFactor*set|subject),data=sd_2020_orig_p2,family = poisson(link = \"log\"),glmerControl(\"bobyqa\")))\n",
    "summary(mod<-glmer(memCount~marchFactor*set+(marchFactor|subject),data=sd_2020_sampleRep,family = poisson(link = \"log\"),glmerControl(\"bobyqa\")))"
   ]
  },
  {
   "cell_type": "code",
   "execution_count": 7,
   "metadata": {},
   "outputs": [
    {
     "name": "stderr",
     "output_type": "stream",
     "text": [
      "Compiling Stan program...\n",
      "\n",
      "Start sampling\n",
      "\n"
     ]
    },
    {
     "data": {
      "text/plain": [
       " Family: poisson \n",
       "  Links: mu = log \n",
       "Formula: memCount ~ 1 + marchFactor * set + (marchFactor * set | subject) \n",
       "   Data: sd_2020_2021 (Number of observations: 17544) \n",
       "  Draws: 4 chains, each with iter = 2000; warmup = 1000; thin = 1;\n",
       "         total post-warmup draws = 4000\n",
       "\n",
       "Group-Level Effects: \n",
       "~subject (Number of levels: 939) \n",
       "                                               Estimate Est.Error l-95% CI\n",
       "sd(Intercept)                                      0.99      0.03     0.93\n",
       "sd(marchFactorMarch)                               1.16      0.05     1.08\n",
       "sd(set2021)                                        0.95      0.04     0.87\n",
       "sd(marchFactorMarch:set2021)                       1.98      0.15     1.70\n",
       "cor(Intercept,marchFactorMarch)                   -0.49      0.04    -0.57\n",
       "cor(Intercept,set2021)                            -0.56      0.04    -0.63\n",
       "cor(marchFactorMarch,set2021)                      0.42      0.05     0.31\n",
       "cor(Intercept,marchFactorMarch:set2021)            0.33      0.06     0.21\n",
       "cor(marchFactorMarch,marchFactorMarch:set2021)    -0.47      0.07    -0.59\n",
       "cor(set2021,marchFactorMarch:set2021)             -0.34      0.07    -0.48\n",
       "                                               u-95% CI Rhat Bulk_ESS Tail_ESS\n",
       "sd(Intercept)                                      1.05 1.00      425      685\n",
       "sd(marchFactorMarch)                               1.26 1.00      820     1619\n",
       "sd(set2021)                                        1.03 1.01      836     1544\n",
       "sd(marchFactorMarch:set2021)                       2.29 1.00     1439     2207\n",
       "cor(Intercept,marchFactorMarch)                   -0.42 1.00      694     1401\n",
       "cor(Intercept,set2021)                            -0.48 1.00      601     1173\n",
       "cor(marchFactorMarch,set2021)                      0.51 1.01      502      976\n",
       "cor(Intercept,marchFactorMarch:set2021)            0.45 1.00     1025     2072\n",
       "cor(marchFactorMarch,marchFactorMarch:set2021)    -0.33 1.00     1065     1867\n",
       "cor(set2021,marchFactorMarch:set2021)             -0.20 1.00      814     1572\n",
       "\n",
       "Population-Level Effects: \n",
       "                         Estimate Est.Error l-95% CI u-95% CI Rhat Bulk_ESS\n",
       "Intercept                   -0.50      0.04    -0.57    -0.43 1.01      519\n",
       "marchFactorMarch             1.16      0.05     1.06     1.26 1.00     1252\n",
       "set2021                     -0.25      0.05    -0.34    -0.16 1.00     1059\n",
       "marchFactorMarch:set2021    -2.46      0.21    -2.90    -2.08 1.00     1914\n",
       "                         Tail_ESS\n",
       "Intercept                    1109\n",
       "marchFactorMarch             2230\n",
       "set2021                      2246\n",
       "marchFactorMarch:set2021     2458\n",
       "\n",
       "Draws were sampled using sampling(NUTS). For each parameter, Bulk_ESS\n",
       "and Tail_ESS are effective sample size measures, and Rhat is the potential\n",
       "scale reduction factor on split chains (at convergence, Rhat = 1)."
      ]
     },
     "metadata": {},
     "output_type": "display_data"
    },
    {
     "name": "stderr",
     "output_type": "stream",
     "text": [
      "Compiling Stan program...\n",
      "\n",
      "recompiling to avoid crashing R session\n",
      "\n",
      "Start sampling\n",
      "\n"
     ]
    },
    {
     "data": {
      "text/plain": [
       " Family: poisson \n",
       "  Links: mu = log \n",
       "Formula: memCount ~ 1 + marchFactor * set + (marchFactor * set | subject) \n",
       "   Data: sd_2020_p1_p2 (Number of observations: 9780) \n",
       "  Draws: 4 chains, each with iter = 3000; warmup = 1500; thin = 1;\n",
       "         total post-warmup draws = 6000\n",
       "\n",
       "Group-Level Effects: \n",
       "~subject (Number of levels: 512) \n",
       "                                                 Estimate Est.Error l-95% CI\n",
       "sd(Intercept)                                        1.06      0.05     0.98\n",
       "sd(marchFactorMarch)                                 1.42      0.08     1.28\n",
       "sd(set2020P2)                                        1.02      0.06     0.91\n",
       "sd(marchFactorMarch:set2020P2)                       1.35      0.10     1.16\n",
       "cor(Intercept,marchFactorMarch)                     -0.50      0.05    -0.59\n",
       "cor(Intercept,set2020P2)                            -0.55      0.05    -0.65\n",
       "cor(marchFactorMarch,set2020P2)                      0.37      0.07     0.21\n",
       "cor(Intercept,marchFactorMarch:set2020P2)            0.32      0.07     0.17\n",
       "cor(marchFactorMarch,marchFactorMarch:set2020P2)    -0.68      0.05    -0.78\n",
       "cor(set2020P2,marchFactorMarch:set2020P2)           -0.57      0.07    -0.69\n",
       "                                                 u-95% CI Rhat Bulk_ESS\n",
       "sd(Intercept)                                        1.15 1.01      687\n",
       "sd(marchFactorMarch)                                 1.58 1.01     1057\n",
       "sd(set2020P2)                                        1.15 1.00      924\n",
       "sd(marchFactorMarch:set2020P2)                       1.56 1.00      876\n",
       "cor(Intercept,marchFactorMarch)                     -0.40 1.01      714\n",
       "cor(Intercept,set2020P2)                            -0.43 1.01      678\n",
       "cor(marchFactorMarch,set2020P2)                      0.51 1.00      718\n",
       "cor(Intercept,marchFactorMarch:set2020P2)            0.45 1.01      862\n",
       "cor(marchFactorMarch,marchFactorMarch:set2020P2)    -0.57 1.01      948\n",
       "cor(set2020P2,marchFactorMarch:set2020P2)           -0.43 1.00      803\n",
       "                                                 Tail_ESS\n",
       "sd(Intercept)                                        1414\n",
       "sd(marchFactorMarch)                                 2290\n",
       "sd(set2020P2)                                        1763\n",
       "sd(marchFactorMarch:set2020P2)                       1782\n",
       "cor(Intercept,marchFactorMarch)                      1467\n",
       "cor(Intercept,set2020P2)                             1344\n",
       "cor(marchFactorMarch,set2020P2)                       950\n",
       "cor(Intercept,marchFactorMarch:set2020P2)            1761\n",
       "cor(marchFactorMarch,marchFactorMarch:set2020P2)     2101\n",
       "cor(set2020P2,marchFactorMarch:set2020P2)            1750\n",
       "\n",
       "Population-Level Effects: \n",
       "                           Estimate Est.Error l-95% CI u-95% CI Rhat Bulk_ESS\n",
       "Intercept                     -0.99      0.05    -1.10    -0.88 1.00      917\n",
       "marchFactorMarch               1.22      0.09     1.04     1.40 1.00     1131\n",
       "set2020P2                      0.21      0.07     0.08     0.35 1.00     1167\n",
       "marchFactorMarch:set2020P2     0.44      0.11     0.22     0.66 1.00     1432\n",
       "                           Tail_ESS\n",
       "Intercept                      1833\n",
       "marchFactorMarch               2045\n",
       "set2020P2                      2364\n",
       "marchFactorMarch:set2020P2     2025\n",
       "\n",
       "Draws were sampled using sampling(NUTS). For each parameter, Bulk_ESS\n",
       "and Tail_ESS are effective sample size measures, and Rhat is the potential\n",
       "scale reduction factor on split chains (at convergence, Rhat = 1)."
      ]
     },
     "metadata": {},
     "output_type": "display_data"
    },
    {
     "name": "stderr",
     "output_type": "stream",
     "text": [
      "Compiling Stan program...\n",
      "\n",
      "recompiling to avoid crashing R session\n",
      "\n",
      "Start sampling\n",
      "\n"
     ]
    },
    {
     "data": {
      "text/plain": [
       " Family: poisson \n",
       "  Links: mu = log \n",
       "Formula: memCount ~ 1 + marchFactor * set + (marchFactor * set | subject) \n",
       "   Data: sd_2020_orig_p2 (Number of observations: 14904) \n",
       "  Draws: 4 chains, each with iter = 3000; warmup = 1500; thin = 1;\n",
       "         total post-warmup draws = 6000\n",
       "\n",
       "Group-Level Effects: \n",
       "~subject (Number of levels: 939) \n",
       "                                                 Estimate Est.Error l-95% CI\n",
       "sd(Intercept)                                        0.99      0.03     0.93\n",
       "sd(marchFactorMarch)                                 1.17      0.04     1.09\n",
       "sd(set2020P2)                                        1.05      0.06     0.94\n",
       "sd(marchFactorMarch:set2020P2)                       1.47      0.09     1.30\n",
       "cor(Intercept,marchFactorMarch)                     -0.50      0.04    -0.57\n",
       "cor(Intercept,set2020P2)                            -0.52      0.05    -0.62\n",
       "cor(marchFactorMarch,set2020P2)                      0.39      0.07     0.25\n",
       "cor(Intercept,marchFactorMarch:set2020P2)            0.36      0.06     0.24\n",
       "cor(marchFactorMarch,marchFactorMarch:set2020P2)    -0.70      0.04    -0.77\n",
       "cor(set2020P2,marchFactorMarch:set2020P2)           -0.63      0.05    -0.72\n",
       "                                                 u-95% CI Rhat Bulk_ESS\n",
       "sd(Intercept)                                        1.05 1.01      505\n",
       "sd(marchFactorMarch)                                 1.26 1.00      965\n",
       "sd(set2020P2)                                        1.16 1.00     1147\n",
       "sd(marchFactorMarch:set2020P2)                       1.66 1.00      978\n",
       "cor(Intercept,marchFactorMarch)                     -0.42 1.00      614\n",
       "cor(Intercept,set2020P2)                            -0.41 1.01      681\n",
       "cor(marchFactorMarch,set2020P2)                      0.51 1.00      675\n",
       "cor(Intercept,marchFactorMarch:set2020P2)            0.48 1.00      860\n",
       "cor(marchFactorMarch,marchFactorMarch:set2020P2)    -0.60 1.00      967\n",
       "cor(set2020P2,marchFactorMarch:set2020P2)           -0.52 1.00     1023\n",
       "                                                 Tail_ESS\n",
       "sd(Intercept)                                        1194\n",
       "sd(marchFactorMarch)                                 1985\n",
       "sd(set2020P2)                                        2501\n",
       "sd(marchFactorMarch:set2020P2)                       2104\n",
       "cor(Intercept,marchFactorMarch)                      1371\n",
       "cor(Intercept,set2020P2)                             1201\n",
       "cor(marchFactorMarch,set2020P2)                      1450\n",
       "cor(Intercept,marchFactorMarch:set2020P2)            1771\n",
       "cor(marchFactorMarch,marchFactorMarch:set2020P2)     1835\n",
       "cor(set2020P2,marchFactorMarch:set2020P2)            2348\n",
       "\n",
       "Population-Level Effects: \n",
       "                           Estimate Est.Error l-95% CI u-95% CI Rhat Bulk_ESS\n",
       "Intercept                     -0.50      0.04    -0.57    -0.43 1.01      453\n",
       "marchFactorMarch               1.16      0.05     1.05     1.26 1.00     1039\n",
       "set2020P2                     -0.35      0.07    -0.48    -0.22 1.00     1306\n",
       "marchFactorMarch:set2020P2     0.50      0.10     0.31     0.70 1.00     1587\n",
       "                           Tail_ESS\n",
       "Intercept                      1319\n",
       "marchFactorMarch               2205\n",
       "set2020P2                      2508\n",
       "marchFactorMarch:set2020P2     2779\n",
       "\n",
       "Draws were sampled using sampling(NUTS). For each parameter, Bulk_ESS\n",
       "and Tail_ESS are effective sample size measures, and Rhat is the potential\n",
       "scale reduction factor on split chains (at convergence, Rhat = 1)."
      ]
     },
     "metadata": {},
     "output_type": "display_data"
    },
    {
     "name": "stderr",
     "output_type": "stream",
     "text": [
      "Compiling Stan program...\n",
      "\n",
      "Start sampling\n",
      "\n"
     ]
    },
    {
     "data": {
      "text/plain": [
       " Family: poisson \n",
       "  Links: mu = log \n",
       "Formula: memCount ~ 1 + marchFactor * set + (marchFactor | subject) \n",
       "   Data: sd_2020_sampleRep (Number of observations: 6660) \n",
       "  Draws: 4 chains, each with iter = 3000; warmup = 1500; thin = 1;\n",
       "         total post-warmup draws = 6000\n",
       "\n",
       "Group-Level Effects: \n",
       "~subject (Number of levels: 555) \n",
       "                                Estimate Est.Error l-95% CI u-95% CI Rhat\n",
       "sd(Intercept)                       0.99      0.04     0.91     1.07 1.00\n",
       "sd(marchFactorMarch)                1.04      0.05     0.94     1.15 1.00\n",
       "cor(Intercept,marchFactorMarch)    -0.53      0.05    -0.62    -0.43 1.00\n",
       "                                Bulk_ESS Tail_ESS\n",
       "sd(Intercept)                       1236     2435\n",
       "sd(marchFactorMarch)                1688     3118\n",
       "cor(Intercept,marchFactorMarch)     1411     2654\n",
       "\n",
       "Population-Level Effects: \n",
       "                               Estimate Est.Error l-95% CI u-95% CI Rhat\n",
       "Intercept                         -0.77      0.07    -0.90    -0.64 1.00\n",
       "marchFactorMarch                   1.68      0.08     1.52     1.83 1.00\n",
       "set2020P2_rep                      0.01      0.09    -0.17     0.20 1.01\n",
       "marchFactorMarch:set2020P2_rep     0.16      0.11    -0.07     0.38 1.01\n",
       "                               Bulk_ESS Tail_ESS\n",
       "Intercept                          1096     2177\n",
       "marchFactorMarch                   1828     3347\n",
       "set2020P2_rep                      1107     2101\n",
       "marchFactorMarch:set2020P2_rep     1393     2582\n",
       "\n",
       "Draws were sampled using sampling(NUTS). For each parameter, Bulk_ESS\n",
       "and Tail_ESS are effective sample size measures, and Rhat is the potential\n",
       "scale reduction factor on split chains (at convergence, Rhat = 1)."
      ]
     },
     "metadata": {},
     "output_type": "display_data"
    }
   ],
   "source": [
    "# check interactions in bayesian regression model\n",
    "brm(memCount~1+marchFactor*set+(marchFactor*set|subject),data=sd_2020_2021, family=poisson, init = \"random\", cores=10)\n",
    "brm(memCount~1+marchFactor*set+(marchFactor*set|subject),iter=3000,data=sd_2020_p1_p2, family=poisson, init = \"random\", cores=10)\n",
    "brm(memCount~1+marchFactor*set+(marchFactor*set|subject),iter=3000,data=sd_2020_orig_p2, family=poisson, init = \"random\", cores=10)\n",
    "brm(memCount~1+marchFactor*set+(marchFactor|subject),iter=3000,data=sd_2020_sampleRep, family=poisson, init = \"random\", cores=10)"
   ]
  },
  {
   "cell_type": "markdown",
   "metadata": {},
   "source": [
    "### entry-count check (SI Appendix 3.2)"
   ]
  },
  {
   "cell_type": "code",
   "execution_count": 8,
   "metadata": {},
   "outputs": [
    {
     "data": {
      "text/plain": [
       "Generalized linear mixed model fit by maximum likelihood (Laplace\n",
       "  Approximation) [glmerMod]\n",
       " Family: poisson  ( log )\n",
       "Formula: entryCount ~ marchFactor + (1 | subject)\n",
       "   Data: sd_2020\n",
       "Control: glmerControl(\"bobyqa\")\n",
       "\n",
       "     AIC      BIC   logLik deviance df.resid \n",
       " 17796.1  17818.1  -8895.0  17790.1    11265 \n",
       "\n",
       "Scaled residuals: \n",
       "    Min      1Q  Median      3Q     Max \n",
       "-1.8768 -0.5394 -0.4560  0.5281  7.4275 \n",
       "\n",
       "Random effects:\n",
       " Groups  Name        Variance Std.Dev.\n",
       " subject (Intercept) 0.3977   0.6306  \n",
       "Number of obs: 11268, groups:  subject, 939\n",
       "\n",
       "Fixed effects:\n",
       "                 Estimate Std. Error z value Pr(>|z|)    \n",
       "(Intercept)      -1.21479    0.02807  -43.27   <2e-16 ***\n",
       "marchFactorMarch  1.07166    0.03497   30.65   <2e-16 ***\n",
       "---\n",
       "Signif. codes:  0 ‘***’ 0.001 ‘**’ 0.01 ‘*’ 0.05 ‘.’ 0.1 ‘ ’ 1\n",
       "\n",
       "Correlation of Fixed Effects:\n",
       "            (Intr)\n",
       "mrchFctrMrc -0.261"
      ]
     },
     "metadata": {},
     "output_type": "display_data"
    },
    {
     "data": {
      "text/plain": [
       "Generalized linear mixed model fit by maximum likelihood (Laplace\n",
       "  Approximation) [glmerMod]\n",
       " Family: poisson  ( log )\n",
       "Formula: entryCount ~ marchFactor + (1 | subject)\n",
       "   Data: sd_2020_p1\n",
       "Control: glmerControl(\"bobyqa\")\n",
       "\n",
       "     AIC      BIC   logLik deviance df.resid \n",
       "  7989.8   8010.0  -3991.9   7983.8     6141 \n",
       "\n",
       "Scaled residuals: \n",
       "    Min      1Q  Median      3Q     Max \n",
       "-1.7358 -0.4904 -0.4123 -0.3351  6.0097 \n",
       "\n",
       "Random effects:\n",
       " Groups  Name        Variance Std.Dev.\n",
       " subject (Intercept) 0.3593   0.5994  \n",
       "Number of obs: 6144, groups:  subject, 512\n",
       "\n",
       "Fixed effects:\n",
       "                 Estimate Std. Error z value Pr(>|z|)    \n",
       "(Intercept)      -1.59587    0.04148  -38.48   <2e-16 ***\n",
       "marchFactorMarch  1.29490    0.05410   23.93   <2e-16 ***\n",
       "---\n",
       "Signif. codes:  0 ‘***’ 0.001 ‘**’ 0.01 ‘*’ 0.05 ‘.’ 0.1 ‘ ’ 1\n",
       "\n",
       "Correlation of Fixed Effects:\n",
       "            (Intr)\n",
       "mrchFctrMrc -0.325"
      ]
     },
     "metadata": {},
     "output_type": "display_data"
    },
    {
     "data": {
      "text/plain": [
       "Generalized linear mixed model fit by maximum likelihood (Laplace\n",
       "  Approximation) [glmerMod]\n",
       " Family: poisson  ( log )\n",
       "Formula: entryCount ~ marchFactor + (1 | subject)\n",
       "   Data: sd_2020_p2\n",
       "Control: glmerControl(\"bobyqa\")\n",
       "\n",
       "     AIC      BIC   logLik deviance df.resid \n",
       "  5448.8   5467.4  -2721.4   5442.8     3633 \n",
       "\n",
       "Scaled residuals: \n",
       "    Min      1Q  Median      3Q     Max \n",
       "-1.3287 -0.5381 -0.4399  0.2134  6.4802 \n",
       "\n",
       "Random effects:\n",
       " Groups  Name        Variance Std.Dev.\n",
       " subject (Intercept) 0.2729   0.5224  \n",
       "Number of obs: 3636, groups:  subject, 303\n",
       "\n",
       "Fixed effects:\n",
       "                 Estimate Std. Error z value Pr(>|z|)    \n",
       "(Intercept)      -1.35096    0.04633  -29.16   <2e-16 ***\n",
       "marchFactorMarch  1.58113    0.05655   27.96   <2e-16 ***\n",
       "---\n",
       "Signif. codes:  0 ‘***’ 0.001 ‘**’ 0.01 ‘*’ 0.05 ‘.’ 0.1 ‘ ’ 1\n",
       "\n",
       "Correlation of Fixed Effects:\n",
       "            (Intr)\n",
       "mrchFctrMrc -0.374"
      ]
     },
     "metadata": {},
     "output_type": "display_data"
    },
    {
     "data": {
      "text/plain": [
       "Generalized linear mixed model fit by maximum likelihood (Laplace\n",
       "  Approximation) [glmerMod]\n",
       " Family: poisson  ( log )\n",
       "Formula: entryCount ~ marchFactor + (1 | subject)\n",
       "   Data: sd_2020_p2_r\n",
       "Control: glmerControl(\"bobyqa\")\n",
       "\n",
       "     AIC      BIC   logLik deviance df.resid \n",
       "  4440.9   4458.9  -2217.4   4434.9     3021 \n",
       "\n",
       "Scaled residuals: \n",
       "    Min      1Q  Median      3Q     Max \n",
       "-1.5345 -0.4939 -0.4236  0.0386  9.3803 \n",
       "\n",
       "Random effects:\n",
       " Groups  Name        Variance Std.Dev.\n",
       " subject (Intercept) 0.3254   0.5704  \n",
       "Number of obs: 3024, groups:  subject, 252\n",
       "\n",
       "Fixed effects:\n",
       "                 Estimate Std. Error z value Pr(>|z|)    \n",
       "(Intercept)      -1.41329    0.05354  -26.40   <2e-16 ***\n",
       "marchFactorMarch  1.67930    0.06083   27.61   <2e-16 ***\n",
       "---\n",
       "Signif. codes:  0 ‘***’ 0.001 ‘**’ 0.01 ‘*’ 0.05 ‘.’ 0.1 ‘ ’ 1\n",
       "\n",
       "Correlation of Fixed Effects:\n",
       "            (Intr)\n",
       "mrchFctrMrc -0.372"
      ]
     },
     "metadata": {},
     "output_type": "display_data"
    },
    {
     "data": {
      "text/plain": [
       "Generalized linear mixed model fit by maximum likelihood (Laplace\n",
       "  Approximation) [glmerMod]\n",
       " Family: poisson  ( log )\n",
       "Formula: entryCount ~ marchFactor + (1 | subject)\n",
       "   Data: sd_2021\n",
       "Control: glmerControl(\"bobyqa\")\n",
       "\n",
       "     AIC      BIC   logLik deviance df.resid \n",
       "  8784.9   8805.1  -4389.4   8778.9     6273 \n",
       "\n",
       "Scaled residuals: \n",
       "    Min      1Q  Median      3Q     Max \n",
       "-1.4131 -0.5015 -0.4003 -0.0885  6.0638 \n",
       "\n",
       "Random effects:\n",
       " Groups  Name        Variance Std.Dev.\n",
       " subject (Intercept) 0.4936   0.7026  \n",
       "Number of obs: 6276, groups:  subject, 523\n",
       "\n",
       "Fixed effects:\n",
       "                 Estimate Std. Error z value Pr(>|z|)    \n",
       "(Intercept)      -1.38192    0.04214 -32.797   <2e-16 ***\n",
       "marchFactorMarch -0.08432    0.08162  -1.033    0.302    \n",
       "---\n",
       "Signif. codes:  0 ‘***’ 0.001 ‘**’ 0.01 ‘*’ 0.05 ‘.’ 0.1 ‘ ’ 1\n",
       "\n",
       "Correlation of Fixed Effects:\n",
       "            (Intr)\n",
       "mrchFctrMrc -0.149"
      ]
     },
     "metadata": {},
     "output_type": "display_data"
    }
   ],
   "source": [
    "summary(glmer(entryCount~marchFactor+(1|subject),data = sd_2020, family = poisson(link = \"log\"),glmerControl(\"bobyqa\")))\n",
    "summary(glmer(entryCount~marchFactor+(1|subject),data = sd_2020_p1, family = poisson(link = \"log\"),glmerControl(\"bobyqa\")))\n",
    "summary(glmer(entryCount~marchFactor+(1|subject),data = sd_2020_p2, family = poisson(link = \"log\"),glmerControl(\"bobyqa\")))\n",
    "summary(glmer(entryCount~marchFactor+(1|subject),data = sd_2020_p2_r, family = poisson(link = \"log\"),glmerControl(\"bobyqa\")))\n",
    "summary(glmer(entryCount~marchFactor+(1|subject),data = sd_2021, family = poisson(link = \"log\"),glmerControl(\"bobyqa\")))"
   ]
  },
  {
   "cell_type": "code",
   "execution_count": 9,
   "metadata": {},
   "outputs": [
    {
     "name": "stderr",
     "output_type": "stream",
     "text": [
      "Compiling Stan program...\n",
      "\n",
      "Start sampling\n",
      "\n"
     ]
    },
    {
     "data": {
      "text/plain": [
       " Family: poisson \n",
       "  Links: mu = log \n",
       "Formula: entryCount ~ 1 + marchFactor + (1 | subject) \n",
       "   Data: sd_2020 (Number of observations: 11268) \n",
       "  Draws: 4 chains, each with iter = 2000; warmup = 1000; thin = 1;\n",
       "         total post-warmup draws = 4000\n",
       "\n",
       "Group-Level Effects: \n",
       "~subject (Number of levels: 939) \n",
       "              Estimate Est.Error l-95% CI u-95% CI Rhat Bulk_ESS Tail_ESS\n",
       "sd(Intercept)     0.64      0.02     0.59     0.69 1.00     1402     2062\n",
       "\n",
       "Population-Level Effects: \n",
       "                 Estimate Est.Error l-95% CI u-95% CI Rhat Bulk_ESS Tail_ESS\n",
       "Intercept           -1.22      0.03    -1.27    -1.16 1.00     1596     2401\n",
       "marchFactorMarch     1.07      0.04     1.00     1.14 1.00     5348     2838\n",
       "\n",
       "Draws were sampled using sampling(NUTS). For each parameter, Bulk_ESS\n",
       "and Tail_ESS are effective sample size measures, and Rhat is the potential\n",
       "scale reduction factor on split chains (at convergence, Rhat = 1)."
      ]
     },
     "metadata": {},
     "output_type": "display_data"
    },
    {
     "name": "stderr",
     "output_type": "stream",
     "text": [
      "Compiling Stan program...\n",
      "\n",
      "recompiling to avoid crashing R session\n",
      "\n",
      "Start sampling\n",
      "\n"
     ]
    },
    {
     "data": {
      "text/plain": [
       " Family: poisson \n",
       "  Links: mu = log \n",
       "Formula: entryCount ~ 1 + marchFactor + (1 | subject) \n",
       "   Data: sd_2020_p1 (Number of observations: 6144) \n",
       "  Draws: 4 chains, each with iter = 2000; warmup = 1000; thin = 1;\n",
       "         total post-warmup draws = 4000\n",
       "\n",
       "Group-Level Effects: \n",
       "~subject (Number of levels: 512) \n",
       "              Estimate Est.Error l-95% CI u-95% CI Rhat Bulk_ESS Tail_ESS\n",
       "sd(Intercept)     0.61      0.04     0.54     0.68 1.00     1848     2347\n",
       "\n",
       "Population-Level Effects: \n",
       "                 Estimate Est.Error l-95% CI u-95% CI Rhat Bulk_ESS Tail_ESS\n",
       "Intercept           -1.60      0.04    -1.68    -1.52 1.00     2504     2874\n",
       "marchFactorMarch     1.29      0.05     1.19     1.40 1.00     5675     2598\n",
       "\n",
       "Draws were sampled using sampling(NUTS). For each parameter, Bulk_ESS\n",
       "and Tail_ESS are effective sample size measures, and Rhat is the potential\n",
       "scale reduction factor on split chains (at convergence, Rhat = 1)."
      ]
     },
     "metadata": {},
     "output_type": "display_data"
    },
    {
     "name": "stderr",
     "output_type": "stream",
     "text": [
      "Compiling Stan program...\n",
      "\n",
      "recompiling to avoid crashing R session\n",
      "\n",
      "Start sampling\n",
      "\n"
     ]
    },
    {
     "data": {
      "text/plain": [
       " Family: poisson \n",
       "  Links: mu = log \n",
       "Formula: entryCount ~ 1 + marchFactor + (1 | subject) \n",
       "   Data: sd_2020_p2 (Number of observations: 3636) \n",
       "  Draws: 4 chains, each with iter = 2000; warmup = 1000; thin = 1;\n",
       "         total post-warmup draws = 4000\n",
       "\n",
       "Group-Level Effects: \n",
       "~subject (Number of levels: 303) \n",
       "              Estimate Est.Error l-95% CI u-95% CI Rhat Bulk_ESS Tail_ESS\n",
       "sd(Intercept)     0.53      0.04     0.46     0.61 1.00     1382     2669\n",
       "\n",
       "Population-Level Effects: \n",
       "                 Estimate Est.Error l-95% CI u-95% CI Rhat Bulk_ESS Tail_ESS\n",
       "Intercept           -1.36      0.05    -1.45    -1.26 1.00     2982     2978\n",
       "marchFactorMarch     1.58      0.06     1.47     1.69 1.00     7916     2946\n",
       "\n",
       "Draws were sampled using sampling(NUTS). For each parameter, Bulk_ESS\n",
       "and Tail_ESS are effective sample size measures, and Rhat is the potential\n",
       "scale reduction factor on split chains (at convergence, Rhat = 1)."
      ]
     },
     "metadata": {},
     "output_type": "display_data"
    },
    {
     "name": "stderr",
     "output_type": "stream",
     "text": [
      "Compiling Stan program...\n",
      "\n",
      "recompiling to avoid crashing R session\n",
      "\n",
      "Start sampling\n",
      "\n"
     ]
    },
    {
     "data": {
      "text/plain": [
       " Family: poisson \n",
       "  Links: mu = log \n",
       "Formula: entryCount ~ 1 + marchFactor + (1 | subject) \n",
       "   Data: sd_2020_p2_r (Number of observations: 3024) \n",
       "  Draws: 4 chains, each with iter = 2000; warmup = 1000; thin = 1;\n",
       "         total post-warmup draws = 4000\n",
       "\n",
       "Group-Level Effects: \n",
       "~subject (Number of levels: 252) \n",
       "              Estimate Est.Error l-95% CI u-95% CI Rhat Bulk_ESS Tail_ESS\n",
       "sd(Intercept)     0.58      0.05     0.49     0.67 1.00     1575     2605\n",
       "\n",
       "Population-Level Effects: \n",
       "                 Estimate Est.Error l-95% CI u-95% CI Rhat Bulk_ESS Tail_ESS\n",
       "Intercept           -1.42      0.05    -1.53    -1.31 1.00     2992     3149\n",
       "marchFactorMarch     1.68      0.06     1.56     1.80 1.00     8010     2609\n",
       "\n",
       "Draws were sampled using sampling(NUTS). For each parameter, Bulk_ESS\n",
       "and Tail_ESS are effective sample size measures, and Rhat is the potential\n",
       "scale reduction factor on split chains (at convergence, Rhat = 1)."
      ]
     },
     "metadata": {},
     "output_type": "display_data"
    },
    {
     "name": "stderr",
     "output_type": "stream",
     "text": [
      "Compiling Stan program...\n",
      "\n",
      "recompiling to avoid crashing R session\n",
      "\n",
      "Start sampling\n",
      "\n"
     ]
    },
    {
     "data": {
      "text/plain": [
       " Family: poisson \n",
       "  Links: mu = log \n",
       "Formula: entryCount ~ 1 + marchFactor + (1 | subject) \n",
       "   Data: sd_2021 (Number of observations: 6276) \n",
       "  Draws: 4 chains, each with iter = 2000; warmup = 1000; thin = 1;\n",
       "         total post-warmup draws = 4000\n",
       "\n",
       "Group-Level Effects: \n",
       "~subject (Number of levels: 523) \n",
       "              Estimate Est.Error l-95% CI u-95% CI Rhat Bulk_ESS Tail_ESS\n",
       "sd(Intercept)     0.71      0.04     0.64     0.79 1.00     1487     2202\n",
       "\n",
       "Population-Level Effects: \n",
       "                 Estimate Est.Error l-95% CI u-95% CI Rhat Bulk_ESS Tail_ESS\n",
       "Intercept           -1.39      0.04    -1.47    -1.31 1.00     2067     2641\n",
       "marchFactorMarch    -0.09      0.08    -0.26     0.07 1.00     8216     2996\n",
       "\n",
       "Draws were sampled using sampling(NUTS). For each parameter, Bulk_ESS\n",
       "and Tail_ESS are effective sample size measures, and Rhat is the potential\n",
       "scale reduction factor on split chains (at convergence, Rhat = 1)."
      ]
     },
     "metadata": {},
     "output_type": "display_data"
    }
   ],
   "source": [
    "# bayesian regression models (for confidence intervals)\n",
    "brm(entryCount~1+marchFactor+(1|subject),data = sd_2020, family = poisson, init = \"random\", cores=10)\n",
    "brm(entryCount~1+marchFactor+(1|subject),data = sd_2020_p1, family = poisson, init = \"random\", cores=10)\n",
    "brm(entryCount~1+marchFactor+(1|subject),data = sd_2020_p2, family = poisson, init = \"random\", cores=10)\n",
    "brm(entryCount~1+marchFactor+(1|subject),data = sd_2020_p2_r, family = poisson, init = \"random\", cores=10)\n",
    "brm(entryCount~1+marchFactor+(1|subject),data = sd_2021, family = poisson, init = \"random\", cores=10)"
   ]
  },
  {
   "cell_type": "code",
   "execution_count": 10,
   "metadata": {},
   "outputs": [
    {
     "data": {
      "text/plain": [
       "Generalized linear mixed model fit by maximum likelihood (Laplace\n",
       "  Approximation) [glmerMod]\n",
       " Family: poisson  ( log )\n",
       "Formula: entryCount ~ marchFactor * set + (1 | subject)\n",
       "   Data: sd_2020_2021\n",
       "Control: glmerControl(\"bobyqa\")\n",
       "\n",
       "     AIC      BIC   logLik deviance df.resid \n",
       " 26577.1  26616.0 -13283.5  26567.1    17539 \n",
       "\n",
       "Scaled residuals: \n",
       "    Min      1Q  Median      3Q     Max \n",
       "-1.8727 -0.5557 -0.4510  0.4040  7.3610 \n",
       "\n",
       "Random effects:\n",
       " Groups  Name        Variance Std.Dev.\n",
       " subject (Intercept) 0.3897   0.6242  \n",
       "Number of obs: 17544, groups:  subject, 939\n",
       "\n",
       "Fixed effects:\n",
       "                         Estimate Std. Error z value Pr(>|z|)    \n",
       "(Intercept)              -1.21029    0.02737 -44.220  < 2e-16 ***\n",
       "marchFactorMarch          1.07166    0.03505  30.573  < 2e-16 ***\n",
       "set2021                  -0.12990    0.02984  -4.354 1.34e-05 ***\n",
       "marchFactorMarch:set2021 -1.15598    0.08945 -12.923  < 2e-16 ***\n",
       "---\n",
       "Signif. codes:  0 ‘***’ 0.001 ‘**’ 0.01 ‘*’ 0.05 ‘.’ 0.1 ‘ ’ 1\n",
       "\n",
       "Correlation of Fixed Effects:\n",
       "            (Intr) mrchFM st2021\n",
       "mrchFctrMrc -0.269              \n",
       "set2021     -0.316  0.246       \n",
       "mrchFM:2021  0.105 -0.391 -0.292"
      ]
     },
     "metadata": {},
     "output_type": "display_data"
    },
    {
     "data": {
      "text/plain": [
       "Generalized linear mixed model fit by maximum likelihood (Laplace\n",
       "  Approximation) [glmerMod]\n",
       " Family: poisson  ( log )\n",
       "Formula: entryCount ~ marchFactor * set + (1 | subject)\n",
       "   Data: sd_2020_p1_p2\n",
       "Control: glmerControl(\"bobyqa\")\n",
       "\n",
       "     AIC      BIC   logLik deviance df.resid \n",
       " 13378.9  13414.9  -6684.5  13368.9     9775 \n",
       "\n",
       "Scaled residuals: \n",
       "    Min      1Q  Median      3Q     Max \n",
       "-1.6384 -0.5014 -0.4190 -0.2934  7.1760 \n",
       "\n",
       "Random effects:\n",
       " Groups  Name        Variance Std.Dev.\n",
       " subject (Intercept) 0.3038   0.5512  \n",
       "Number of obs: 9780, groups:  subject, 512\n",
       "\n",
       "Fixed effects:\n",
       "                           Estimate Std. Error z value Pr(>|z|)    \n",
       "(Intercept)                -1.56609    0.03784 -41.386  < 2e-16 ***\n",
       "marchFactorMarch            1.29490    0.05327  24.309  < 2e-16 ***\n",
       "set2020+2                   0.19262    0.04348   4.431  9.4e-06 ***\n",
       "marchFactorMarch:set2020+2  0.28623    0.07775   3.682 0.000232 ***\n",
       "---\n",
       "Signif. codes:  0 ‘***’ 0.001 ‘**’ 0.01 ‘*’ 0.05 ‘.’ 0.1 ‘ ’ 1\n",
       "\n",
       "Correlation of Fixed Effects:\n",
       "            (Intr) mrchFM s2020+\n",
       "mrchFctrMrc -0.351              \n",
       "set2020+2   -0.433  0.305       \n",
       "mrFM:2020+2  0.240 -0.685 -0.500"
      ]
     },
     "metadata": {},
     "output_type": "display_data"
    },
    {
     "data": {
      "text/plain": [
       "Generalized linear mixed model fit by maximum likelihood (Laplace\n",
       "  Approximation) [glmerMod]\n",
       " Family: poisson  ( log )\n",
       "Formula: entryCount ~ marchFactor * set + (1 | subject)\n",
       "   Data: sd_2020_orig_p2\n",
       "Control: glmerControl(\"bobyqa\")\n",
       "\n",
       "     AIC      BIC   logLik deviance df.resid \n",
       " 23258.1  23296.2 -11624.1  23248.1    14899 \n",
       "\n",
       "Scaled residuals: \n",
       "    Min      1Q  Median      3Q     Max \n",
       "-1.8484 -0.5522 -0.4458  0.4686  9.1241 \n",
       "\n",
       "Random effects:\n",
       " Groups  Name        Variance Std.Dev.\n",
       " subject (Intercept) 0.3479   0.5898  \n",
       "Number of obs: 14904, groups:  subject, 939\n",
       "\n",
       "Fixed effects:\n",
       "                           Estimate Std. Error z value Pr(>|z|)    \n",
       "(Intercept)                -1.18951    0.02659 -44.735  < 2e-16 ***\n",
       "marchFactorMarch            1.07166    0.03507  30.558  < 2e-16 ***\n",
       "set2020+2                  -0.24877    0.03886  -6.401 1.54e-10 ***\n",
       "marchFactorMarch:set2020+2  0.50947    0.06663   7.646 2.07e-14 ***\n",
       "---\n",
       "Signif. codes:  0 ‘***’ 0.001 ‘**’ 0.01 ‘*’ 0.05 ‘.’ 0.1 ‘ ’ 1\n",
       "\n",
       "Correlation of Fixed Effects:\n",
       "            (Intr) mrchFM s2020+\n",
       "mrchFctrMrc -0.277              \n",
       "set2020+2   -0.242  0.189       \n",
       "mrFM:2020+2  0.146 -0.526 -0.479"
      ]
     },
     "metadata": {},
     "output_type": "display_data"
    },
    {
     "data": {
      "text/plain": [
       "Generalized linear mixed model fit by maximum likelihood (Laplace\n",
       "  Approximation) [glmerMod]\n",
       " Family: poisson  ( log )\n",
       "Formula: entryCount ~ marchFactor * set + (1 | subject)\n",
       "   Data: sd_2020_sampleRep\n",
       "Control: glmerControl(\"bobyqa\")\n",
       "\n",
       "     AIC      BIC   logLik deviance df.resid \n",
       "  9888.3   9922.4  -4939.2   9878.3     6655 \n",
       "\n",
       "Scaled residuals: \n",
       "    Min      1Q  Median      3Q     Max \n",
       "-1.5242 -0.5043 -0.4360  0.0792  9.4798 \n",
       "\n",
       "Random effects:\n",
       " Groups  Name        Variance Std.Dev.\n",
       " subject (Intercept) 0.2971   0.545   \n",
       "Number of obs: 6660, groups:  subject, 555\n",
       "\n",
       "Fixed effects:\n",
       "                               Estimate Std. Error z value Pr(>|z|)    \n",
       "(Intercept)                    -1.35886    0.04631 -29.345   <2e-16 ***\n",
       "marchFactorMarch                1.58113    0.05648  27.992   <2e-16 ***\n",
       "set2020+2_rep                  -0.04524    0.06754  -0.670    0.503    \n",
       "marchFactorMarch:set2020+2_rep  0.09817    0.08305   1.182    0.237    \n",
       "---\n",
       "Signif. codes:  0 ‘***’ 0.001 ‘**’ 0.01 ‘*’ 0.05 ‘.’ 0.1 ‘ ’ 1\n",
       "\n",
       "Correlation of Fixed Effects:\n",
       "            (Intr) mrchFM s2020+\n",
       "mrchFctrMrc -0.374              \n",
       "st2020+2_rp -0.653  0.256       \n",
       "mFM:2020+2_  0.254 -0.680 -0.391"
      ]
     },
     "metadata": {},
     "output_type": "display_data"
    }
   ],
   "source": [
    "# check for interactions \n",
    "summary(mod<-glmer(entryCount~marchFactor*set+(1|subject),data=sd_2020_2021,family = poisson(link = \"log\"),glmerControl(\"bobyqa\")))\n",
    "summary(mod<-glmer(entryCount~marchFactor*set+(1|subject),data=sd_2020_p1_p2,family = poisson(link = \"log\"),glmerControl(\"bobyqa\")))\n",
    "summary(mod<-glmer(entryCount~marchFactor*set+(1|subject),data=sd_2020_orig_p2,family = poisson(link = \"log\"),glmerControl(\"bobyqa\")))\n",
    "summary(mod<-glmer(entryCount~marchFactor*set+(1|subject),data=sd_2020_sampleRep,family = poisson(link = \"log\"),glmerControl(\"bobyqa\")))"
   ]
  },
  {
   "cell_type": "code",
   "execution_count": 11,
   "metadata": {},
   "outputs": [
    {
     "name": "stderr",
     "output_type": "stream",
     "text": [
      "Compiling Stan program...\n",
      "\n",
      "recompiling to avoid crashing R session\n",
      "\n",
      "Start sampling\n",
      "\n"
     ]
    },
    {
     "data": {
      "text/plain": [
       " Family: poisson \n",
       "  Links: mu = log \n",
       "Formula: entryCount ~ 1 + marchFactor * set + (1 | subject) \n",
       "   Data: sd_2020_2021 (Number of observations: 17544) \n",
       "  Draws: 4 chains, each with iter = 2000; warmup = 1000; thin = 1;\n",
       "         total post-warmup draws = 4000\n",
       "\n",
       "Group-Level Effects: \n",
       "~subject (Number of levels: 939) \n",
       "              Estimate Est.Error l-95% CI u-95% CI Rhat Bulk_ESS Tail_ESS\n",
       "sd(Intercept)     0.63      0.02     0.59     0.67 1.00     1083     1855\n",
       "\n",
       "Population-Level Effects: \n",
       "                         Estimate Est.Error l-95% CI u-95% CI Rhat Bulk_ESS\n",
       "Intercept                   -1.21      0.03    -1.27    -1.16 1.00     1382\n",
       "marchFactorMarch             1.07      0.04     1.00     1.14 1.00     4482\n",
       "set2021                     -0.13      0.03    -0.19    -0.07 1.00     3680\n",
       "marchFactorMarch:set2021    -1.16      0.09    -1.34    -0.98 1.00     4128\n",
       "                         Tail_ESS\n",
       "Intercept                    2098\n",
       "marchFactorMarch             2810\n",
       "set2021                      3155\n",
       "marchFactorMarch:set2021     3061\n",
       "\n",
       "Draws were sampled using sampling(NUTS). For each parameter, Bulk_ESS\n",
       "and Tail_ESS are effective sample size measures, and Rhat is the potential\n",
       "scale reduction factor on split chains (at convergence, Rhat = 1)."
      ]
     },
     "metadata": {},
     "output_type": "display_data"
    },
    {
     "name": "stderr",
     "output_type": "stream",
     "text": [
      "Compiling Stan program...\n",
      "\n",
      "recompiling to avoid crashing R session\n",
      "\n",
      "Start sampling\n",
      "\n"
     ]
    },
    {
     "data": {
      "text/plain": [
       " Family: poisson \n",
       "  Links: mu = log \n",
       "Formula: entryCount ~ 1 + marchFactor * set + (1 | subject) \n",
       "   Data: sd_2020_p1_p2 (Number of observations: 9780) \n",
       "  Draws: 4 chains, each with iter = 2000; warmup = 1000; thin = 1;\n",
       "         total post-warmup draws = 4000\n",
       "\n",
       "Group-Level Effects: \n",
       "~subject (Number of levels: 512) \n",
       "              Estimate Est.Error l-95% CI u-95% CI Rhat Bulk_ESS Tail_ESS\n",
       "sd(Intercept)     0.56      0.03     0.50     0.61 1.00     1610     2226\n",
       "\n",
       "Population-Level Effects: \n",
       "                           Estimate Est.Error l-95% CI u-95% CI Rhat Bulk_ESS\n",
       "Intercept                     -1.57      0.04    -1.64    -1.49 1.00     2503\n",
       "marchFactorMarch               1.29      0.05     1.19     1.40 1.00     4232\n",
       "set2020P2                      0.19      0.04     0.11     0.28 1.00     4023\n",
       "marchFactorMarch:set2020P2     0.29      0.08     0.13     0.44 1.00     3605\n",
       "                           Tail_ESS\n",
       "Intercept                      2910\n",
       "marchFactorMarch               3358\n",
       "set2020P2                      3273\n",
       "marchFactorMarch:set2020P2     3015\n",
       "\n",
       "Draws were sampled using sampling(NUTS). For each parameter, Bulk_ESS\n",
       "and Tail_ESS are effective sample size measures, and Rhat is the potential\n",
       "scale reduction factor on split chains (at convergence, Rhat = 1)."
      ]
     },
     "metadata": {},
     "output_type": "display_data"
    },
    {
     "name": "stderr",
     "output_type": "stream",
     "text": [
      "Compiling Stan program...\n",
      "\n",
      "recompiling to avoid crashing R session\n",
      "\n",
      "Start sampling\n",
      "\n"
     ]
    },
    {
     "data": {
      "text/plain": [
       " Family: poisson \n",
       "  Links: mu = log \n",
       "Formula: entryCount ~ 1 + marchFactor * set + (1 | subject) \n",
       "   Data: sd_2020_orig_p2 (Number of observations: 14904) \n",
       "  Draws: 4 chains, each with iter = 2000; warmup = 1000; thin = 1;\n",
       "         total post-warmup draws = 4000\n",
       "\n",
       "Group-Level Effects: \n",
       "~subject (Number of levels: 939) \n",
       "              Estimate Est.Error l-95% CI u-95% CI Rhat Bulk_ESS Tail_ESS\n",
       "sd(Intercept)     0.60      0.02     0.55     0.64 1.00     1104     1757\n",
       "\n",
       "Population-Level Effects: \n",
       "                           Estimate Est.Error l-95% CI u-95% CI Rhat Bulk_ESS\n",
       "Intercept                     -1.19      0.03    -1.24    -1.14 1.01     1387\n",
       "marchFactorMarch               1.07      0.04     1.00     1.14 1.00     3616\n",
       "set2020P2                     -0.25      0.04    -0.33    -0.17 1.00     2702\n",
       "marchFactorMarch:set2020P2     0.51      0.07     0.38     0.64 1.00     3000\n",
       "                           Tail_ESS\n",
       "Intercept                      2114\n",
       "marchFactorMarch               2678\n",
       "set2020P2                      3046\n",
       "marchFactorMarch:set2020P2     2909\n",
       "\n",
       "Draws were sampled using sampling(NUTS). For each parameter, Bulk_ESS\n",
       "and Tail_ESS are effective sample size measures, and Rhat is the potential\n",
       "scale reduction factor on split chains (at convergence, Rhat = 1)."
      ]
     },
     "metadata": {},
     "output_type": "display_data"
    },
    {
     "name": "stderr",
     "output_type": "stream",
     "text": [
      "Compiling Stan program...\n",
      "\n",
      "recompiling to avoid crashing R session\n",
      "\n",
      "Start sampling\n",
      "\n"
     ]
    },
    {
     "data": {
      "text/plain": [
       " Family: poisson \n",
       "  Links: mu = log \n",
       "Formula: entryCount ~ 1 + marchFactor * set + (1 | subject) \n",
       "   Data: sd_2020_sampleRep (Number of observations: 6660) \n",
       "  Draws: 4 chains, each with iter = 2000; warmup = 1000; thin = 1;\n",
       "         total post-warmup draws = 4000\n",
       "\n",
       "Group-Level Effects: \n",
       "~subject (Number of levels: 555) \n",
       "              Estimate Est.Error l-95% CI u-95% CI Rhat Bulk_ESS Tail_ESS\n",
       "sd(Intercept)     0.55      0.03     0.50     0.62 1.00     1492     2060\n",
       "\n",
       "Population-Level Effects: \n",
       "                               Estimate Est.Error l-95% CI u-95% CI Rhat\n",
       "Intercept                         -1.36      0.05    -1.45    -1.27 1.00\n",
       "marchFactorMarch                   1.58      0.06     1.47     1.69 1.00\n",
       "set2020P2_rep                     -0.05      0.07    -0.18     0.09 1.00\n",
       "marchFactorMarch:set2020P2_rep     0.10      0.08    -0.07     0.26 1.00\n",
       "                               Bulk_ESS Tail_ESS\n",
       "Intercept                          2194     2958\n",
       "marchFactorMarch                   3585     3030\n",
       "set2020P2_rep                      1843     2541\n",
       "marchFactorMarch:set2020P2_rep     3329     2832\n",
       "\n",
       "Draws were sampled using sampling(NUTS). For each parameter, Bulk_ESS\n",
       "and Tail_ESS are effective sample size measures, and Rhat is the potential\n",
       "scale reduction factor on split chains (at convergence, Rhat = 1)."
      ]
     },
     "metadata": {},
     "output_type": "display_data"
    }
   ],
   "source": [
    "# check interactions in bayesian regression model\n",
    "brm(entryCount~1+marchFactor*set+(1|subject),data=sd_2020_2021, family=poisson, init = \"random\", cores=10)\n",
    "brm(entryCount~1+marchFactor*set+(1|subject),data=sd_2020_p1_p2, family=poisson, init = \"random\", cores=10)\n",
    "brm(entryCount~1+marchFactor*set+(1|subject),data=sd_2020_orig_p2, family=poisson, init = \"random\", cores=10)\n",
    "brm(entryCount~1+marchFactor*set+(1|subject),data=sd_2020_sampleRep, family=poisson, init = \"random\", cores=10)"
   ]
  },
  {
   "cell_type": "markdown",
   "metadata": {},
   "source": [
    "### event-count check (SI Appendix 3.2)"
   ]
  },
  {
   "cell_type": "code",
   "execution_count": 12,
   "metadata": {},
   "outputs": [
    {
     "data": {
      "text/html": [
       "0.917592847973159"
      ],
      "text/latex": [
       "0.917592847973159"
      ],
      "text/markdown": [
       "0.917592847973159"
      ],
      "text/plain": [
       "[1] 0.9175928"
      ]
     },
     "metadata": {},
     "output_type": "display_data"
    }
   ],
   "source": [
    "# correlation between model-generated event count and memory (sentence) count \n",
    "cor(subDate$eventCount,subDate$memCount,use=\"complete.obs\")"
   ]
  },
  {
   "cell_type": "code",
   "execution_count": 13,
   "metadata": {},
   "outputs": [
    {
     "data": {
      "text/plain": [
       "Generalized linear mixed model fit by maximum likelihood (Laplace\n",
       "  Approximation) [glmerMod]\n",
       " Family: poisson  ( log )\n",
       "Formula: eventCount ~ marchFactor + (1 | subject)\n",
       "   Data: sd_2020\n",
       "Control: glmerControl(\"bobyqa\")\n",
       "\n",
       "     AIC      BIC   logLik deviance df.resid \n",
       " 39689.8  39711.8 -19841.9  39683.8    11265 \n",
       "\n",
       "Scaled residuals: \n",
       "    Min      1Q  Median      3Q     Max \n",
       "-3.8624 -0.9106 -0.6392  0.3115 19.4326 \n",
       "\n",
       "Random effects:\n",
       " Groups  Name        Variance Std.Dev.\n",
       " subject (Intercept) 0.7038   0.8389  \n",
       "Number of obs: 11268, groups:  subject, 939\n",
       "\n",
       "Fixed effects:\n",
       "                 Estimate Std. Error z value Pr(>|z|)    \n",
       "(Intercept)      -0.31633    0.03016  -10.49   <2e-16 ***\n",
       "marchFactorMarch  1.17912    0.02010   58.65   <2e-16 ***\n",
       "---\n",
       "Signif. codes:  0 ‘***’ 0.001 ‘**’ 0.01 ‘*’ 0.05 ‘.’ 0.1 ‘ ’ 1\n",
       "\n",
       "Correlation of Fixed Effects:\n",
       "            (Intr)\n",
       "mrchFctrMrc -0.152"
      ]
     },
     "metadata": {},
     "output_type": "display_data"
    },
    {
     "data": {
      "text/plain": [
       "Generalized linear mixed model fit by maximum likelihood (Laplace\n",
       "  Approximation) [glmerMod]\n",
       " Family: poisson  ( log )\n",
       "Formula: eventCount ~ marchFactor + (1 | subject)\n",
       "   Data: sd_2020_p1\n",
       "Control: glmerControl(\"bobyqa\")\n",
       "\n",
       "     AIC      BIC   logLik deviance df.resid \n",
       " 17926.0  17946.1  -8960.0  17920.0     6141 \n",
       "\n",
       "Scaled residuals: \n",
       "    Min      1Q  Median      3Q     Max \n",
       "-3.5114 -0.8367 -0.5985 -0.3466 13.8365 \n",
       "\n",
       "Random effects:\n",
       " Groups  Name        Variance Std.Dev.\n",
       " subject (Intercept) 0.7605   0.8721  \n",
       "Number of obs: 6144, groups:  subject, 512\n",
       "\n",
       "Fixed effects:\n",
       "                 Estimate Std. Error z value Pr(>|z|)    \n",
       "(Intercept)      -0.75078    0.04398  -17.07   <2e-16 ***\n",
       "marchFactorMarch  1.37965    0.03078   44.83   <2e-16 ***\n",
       "---\n",
       "Signif. codes:  0 ‘***’ 0.001 ‘**’ 0.01 ‘*’ 0.05 ‘.’ 0.1 ‘ ’ 1\n",
       "\n",
       "Correlation of Fixed Effects:\n",
       "            (Intr)\n",
       "mrchFctrMrc -0.186"
      ]
     },
     "metadata": {},
     "output_type": "display_data"
    },
    {
     "data": {
      "text/plain": [
       "Generalized linear mixed model fit by maximum likelihood (Laplace\n",
       "  Approximation) [glmerMod]\n",
       " Family: poisson  ( log )\n",
       "Formula: eventCount ~ marchFactor + (1 | subject)\n",
       "   Data: sd_2020_p2\n",
       "Control: glmerControl(\"bobyqa\")\n",
       "\n",
       "     AIC      BIC   logLik deviance df.resid \n",
       " 11380.2  11398.7  -5687.1  11374.2     3633 \n",
       "\n",
       "Scaled residuals: \n",
       "    Min      1Q  Median      3Q     Max \n",
       "-3.1372 -0.8513 -0.6388 -0.1208 16.4634 \n",
       "\n",
       "Random effects:\n",
       " Groups  Name        Variance Std.Dev.\n",
       " subject (Intercept) 0.635    0.7968  \n",
       "Number of obs: 3636, groups:  subject, 303\n",
       "\n",
       "Fixed effects:\n",
       "                 Estimate Std. Error z value Pr(>|z|)    \n",
       "(Intercept)      -0.53751    0.05173  -10.39   <2e-16 ***\n",
       "marchFactorMarch  1.62717    0.03413   47.67   <2e-16 ***\n",
       "---\n",
       "Signif. codes:  0 ‘***’ 0.001 ‘**’ 0.01 ‘*’ 0.05 ‘.’ 0.1 ‘ ’ 1\n",
       "\n",
       "Correlation of Fixed Effects:\n",
       "            (Intr)\n",
       "mrchFctrMrc -0.209"
      ]
     },
     "metadata": {},
     "output_type": "display_data"
    },
    {
     "data": {
      "text/plain": [
       "Generalized linear mixed model fit by maximum likelihood (Laplace\n",
       "  Approximation) [glmerMod]\n",
       " Family: poisson  ( log )\n",
       "Formula: eventCount ~ marchFactor + (1 | subject)\n",
       "   Data: sd_2020_p2_r\n",
       "Control: glmerControl(\"bobyqa\")\n",
       "\n",
       "     AIC      BIC   logLik deviance df.resid \n",
       "  9693.4   9711.5  -4843.7   9687.4     3021 \n",
       "\n",
       "Scaled residuals: \n",
       "    Min      1Q  Median      3Q     Max \n",
       "-2.8668 -0.8748 -0.6339 -0.2251 12.7429 \n",
       "\n",
       "Random effects:\n",
       " Groups  Name        Variance Std.Dev.\n",
       " subject (Intercept) 0.6168   0.7854  \n",
       "Number of obs: 3024, groups:  subject, 252\n",
       "\n",
       "Fixed effects:\n",
       "                 Estimate Std. Error z value Pr(>|z|)    \n",
       "(Intercept)      -0.51306    0.05600  -9.162   <2e-16 ***\n",
       "marchFactorMarch  1.71244    0.03633  47.136   <2e-16 ***\n",
       "---\n",
       "Signif. codes:  0 ‘***’ 0.001 ‘**’ 0.01 ‘*’ 0.05 ‘.’ 0.1 ‘ ’ 1\n",
       "\n",
       "Correlation of Fixed Effects:\n",
       "            (Intr)\n",
       "mrchFctrMrc -0.217"
      ]
     },
     "metadata": {},
     "output_type": "display_data"
    },
    {
     "data": {
      "text/plain": [
       "Generalized linear mixed model fit by maximum likelihood (Laplace\n",
       "  Approximation) [glmerMod]\n",
       " Family: poisson  ( log )\n",
       "Formula: eventCount ~ marchFactor + (1 | subject)\n",
       "   Data: sd_2021\n",
       "Control: glmerControl(\"bobyqa\")\n",
       "\n",
       "     AIC      BIC   logLik deviance df.resid \n",
       " 18317.7  18337.9  -9155.8  18311.7     6273 \n",
       "\n",
       "Scaled residuals: \n",
       "    Min      1Q  Median      3Q     Max \n",
       "-2.4246 -0.8530 -0.5867 -0.3797 13.5370 \n",
       "\n",
       "Random effects:\n",
       " Groups  Name        Variance Std.Dev.\n",
       " subject (Intercept) 0.7895   0.8885  \n",
       "Number of obs: 6276, groups:  subject, 523\n",
       "\n",
       "Fixed effects:\n",
       "                 Estimate Std. Error z value Pr(>|z|)    \n",
       "(Intercept)      -0.58053    0.04388 -13.229   <2e-16 ***\n",
       "marchFactorMarch -0.09279    0.05192  -1.787   0.0739 .  \n",
       "---\n",
       "Signif. codes:  0 ‘***’ 0.001 ‘**’ 0.01 ‘*’ 0.05 ‘.’ 0.1 ‘ ’ 1\n",
       "\n",
       "Correlation of Fixed Effects:\n",
       "            (Intr)\n",
       "mrchFctrMrc -0.091"
      ]
     },
     "metadata": {},
     "output_type": "display_data"
    }
   ],
   "source": [
    "summary(glmer(eventCount~marchFactor+(1|subject),data = sd_2020, family = poisson(link = \"log\"),glmerControl(\"bobyqa\")))\n",
    "summary(glmer(eventCount~marchFactor+(1|subject),data = sd_2020_p1, family = poisson(link = \"log\"),glmerControl(\"bobyqa\")))\n",
    "summary(glmer(eventCount~marchFactor+(1|subject),data = sd_2020_p2, family = poisson(link = \"log\"),glmerControl(\"bobyqa\")))\n",
    "summary(glmer(eventCount~marchFactor+(1|subject),data = sd_2020_p2_r, family = poisson(link = \"log\"),glmerControl(\"bobyqa\")))\n",
    "summary(glmer(eventCount~marchFactor+(1|subject),data = sd_2021, family = poisson(link = \"log\"),glmerControl(\"bobyqa\")))"
   ]
  },
  {
   "cell_type": "code",
   "execution_count": 47,
   "metadata": {},
   "outputs": [
    {
     "name": "stderr",
     "output_type": "stream",
     "text": [
      "Compiling Stan program...\n",
      "\n",
      "Start sampling\n",
      "\n"
     ]
    },
    {
     "data": {
      "text/plain": [
       " Family: poisson \n",
       "  Links: mu = log \n",
       "Formula: eventCount ~ 1 + marchFactor + (1 | subject) \n",
       "   Data: sd_2020 (Number of observations: 11268) \n",
       "  Draws: 4 chains, each with iter = 2000; warmup = 1000; thin = 1;\n",
       "         total post-warmup draws = 4000\n",
       "\n",
       "Group-Level Effects: \n",
       "~subject (Number of levels: 939) \n",
       "              Estimate Est.Error l-95% CI u-95% CI Rhat Bulk_ESS Tail_ESS\n",
       "sd(Intercept)     0.85      0.03     0.80     0.90 1.01      597     1369\n",
       "\n",
       "Population-Level Effects: \n",
       "                 Estimate Est.Error l-95% CI u-95% CI Rhat Bulk_ESS Tail_ESS\n",
       "Intercept           -0.32      0.03    -0.38    -0.26 1.00      568     1306\n",
       "marchFactorMarch     1.18      0.02     1.14     1.22 1.00     6213     1982\n",
       "\n",
       "Draws were sampled using sampling(NUTS). For each parameter, Bulk_ESS\n",
       "and Tail_ESS are effective sample size measures, and Rhat is the potential\n",
       "scale reduction factor on split chains (at convergence, Rhat = 1)."
      ]
     },
     "metadata": {},
     "output_type": "display_data"
    },
    {
     "name": "stderr",
     "output_type": "stream",
     "text": [
      "Compiling Stan program...\n",
      "\n",
      "Start sampling\n",
      "\n"
     ]
    },
    {
     "data": {
      "text/plain": [
       " Family: poisson \n",
       "  Links: mu = log \n",
       "Formula: eventCount ~ 1 + marchFactor + (1 | subject) \n",
       "   Data: sd_2020_p1 (Number of observations: 6144) \n",
       "  Draws: 4 chains, each with iter = 3000; warmup = 1500; thin = 1;\n",
       "         total post-warmup draws = 6000\n",
       "\n",
       "Group-Level Effects: \n",
       "~subject (Number of levels: 512) \n",
       "              Estimate Est.Error l-95% CI u-95% CI Rhat Bulk_ESS Tail_ESS\n",
       "sd(Intercept)     0.88      0.04     0.81     0.96 1.00      912     1640\n",
       "\n",
       "Population-Level Effects: \n",
       "                 Estimate Est.Error l-95% CI u-95% CI Rhat Bulk_ESS Tail_ESS\n",
       "Intercept           -0.75      0.04    -0.84    -0.67 1.00      980     1583\n",
       "marchFactorMarch     1.38      0.03     1.32     1.44 1.00     7105     4303\n",
       "\n",
       "Draws were sampled using sampling(NUTS). For each parameter, Bulk_ESS\n",
       "and Tail_ESS are effective sample size measures, and Rhat is the potential\n",
       "scale reduction factor on split chains (at convergence, Rhat = 1)."
      ]
     },
     "metadata": {},
     "output_type": "display_data"
    },
    {
     "name": "stderr",
     "output_type": "stream",
     "text": [
      "Compiling Stan program...\n",
      "\n",
      "Start sampling\n",
      "\n"
     ]
    },
    {
     "data": {
      "text/plain": [
       " Family: poisson \n",
       "  Links: mu = log \n",
       "Formula: eventCount ~ 1 + marchFactor + (1 | subject) \n",
       "   Data: sd_2020_p2 (Number of observations: 3636) \n",
       "  Draws: 4 chains, each with iter = 2000; warmup = 1000; thin = 1;\n",
       "         total post-warmup draws = 4000\n",
       "\n",
       "Group-Level Effects: \n",
       "~subject (Number of levels: 303) \n",
       "              Estimate Est.Error l-95% CI u-95% CI Rhat Bulk_ESS Tail_ESS\n",
       "sd(Intercept)     0.81      0.04     0.73     0.89 1.00      698     1385\n",
       "\n",
       "Population-Level Effects: \n",
       "                 Estimate Est.Error l-95% CI u-95% CI Rhat Bulk_ESS Tail_ESS\n",
       "Intercept           -0.54      0.05    -0.64    -0.44 1.01      706     1209\n",
       "marchFactorMarch     1.63      0.04     1.56     1.69 1.00     7050     2915\n",
       "\n",
       "Draws were sampled using sampling(NUTS). For each parameter, Bulk_ESS\n",
       "and Tail_ESS are effective sample size measures, and Rhat is the potential\n",
       "scale reduction factor on split chains (at convergence, Rhat = 1)."
      ]
     },
     "metadata": {},
     "output_type": "display_data"
    },
    {
     "name": "stderr",
     "output_type": "stream",
     "text": [
      "Compiling Stan program...\n",
      "\n",
      "Start sampling\n",
      "\n"
     ]
    },
    {
     "data": {
      "text/plain": [
       " Family: poisson \n",
       "  Links: mu = log \n",
       "Formula: eventCount ~ 1 + marchFactor + (1 | subject) \n",
       "   Data: sd_2020_p2_r (Number of observations: 3024) \n",
       "  Draws: 4 chains, each with iter = 2000; warmup = 1000; thin = 1;\n",
       "         total post-warmup draws = 4000\n",
       "\n",
       "Group-Level Effects: \n",
       "~subject (Number of levels: 252) \n",
       "              Estimate Est.Error l-95% CI u-95% CI Rhat Bulk_ESS Tail_ESS\n",
       "sd(Intercept)     0.80      0.05     0.71     0.89 1.00      845     1480\n",
       "\n",
       "Population-Level Effects: \n",
       "                 Estimate Est.Error l-95% CI u-95% CI Rhat Bulk_ESS Tail_ESS\n",
       "Intercept           -0.52      0.06    -0.63    -0.41 1.01      613     1173\n",
       "marchFactorMarch     1.71      0.04     1.64     1.79 1.00     7139     2633\n",
       "\n",
       "Draws were sampled using sampling(NUTS). For each parameter, Bulk_ESS\n",
       "and Tail_ESS are effective sample size measures, and Rhat is the potential\n",
       "scale reduction factor on split chains (at convergence, Rhat = 1)."
      ]
     },
     "metadata": {},
     "output_type": "display_data"
    },
    {
     "name": "stderr",
     "output_type": "stream",
     "text": [
      "Compiling Stan program...\n",
      "\n",
      "Start sampling\n",
      "\n"
     ]
    },
    {
     "data": {
      "text/plain": [
       " Family: poisson \n",
       "  Links: mu = log \n",
       "Formula: eventCount ~ 1 + marchFactor + (1 | subject) \n",
       "   Data: sd_2021 (Number of observations: 6276) \n",
       "  Draws: 4 chains, each with iter = 3000; warmup = 1500; thin = 1;\n",
       "         total post-warmup draws = 6000\n",
       "\n",
       "Group-Level Effects: \n",
       "~subject (Number of levels: 523) \n",
       "              Estimate Est.Error l-95% CI u-95% CI Rhat Bulk_ESS Tail_ESS\n",
       "sd(Intercept)     0.90      0.04     0.83     0.98 1.01      848     1658\n",
       "\n",
       "Population-Level Effects: \n",
       "                 Estimate Est.Error l-95% CI u-95% CI Rhat Bulk_ESS Tail_ESS\n",
       "Intercept           -0.58      0.04    -0.67    -0.50 1.01      965     2013\n",
       "marchFactorMarch    -0.09      0.05    -0.20     0.01 1.00     6669     4362\n",
       "\n",
       "Draws were sampled using sampling(NUTS). For each parameter, Bulk_ESS\n",
       "and Tail_ESS are effective sample size measures, and Rhat is the potential\n",
       "scale reduction factor on split chains (at convergence, Rhat = 1)."
      ]
     },
     "metadata": {},
     "output_type": "display_data"
    }
   ],
   "source": [
    "# bayesian regression models (for confidence intervals)\n",
    "brm(eventCount~1+marchFactor+(1|subject),data = sd_2020, family = poisson, init = \"random\", cores=10)\n",
    "brm(eventCount~1+marchFactor+(1|subject),data = sd_2020_p1, family = poisson, init = \"random\", iter=3000, cores=10)\n",
    "brm(eventCount~1+marchFactor+(1|subject),data = sd_2020_p2, family = poisson, init = \"random\", cores=10)\n",
    "brm(eventCount~1+marchFactor+(1|subject),data = sd_2020_p2_r, family = poisson, init = \"random\", cores=10)\n",
    "brm(eventCount~1+marchFactor+(1|subject),data = sd_2021, family = poisson, init = \"random\", iter=3000, cores=10)"
   ]
  },
  {
   "cell_type": "code",
   "execution_count": 15,
   "metadata": {},
   "outputs": [
    {
     "data": {
      "text/plain": [
       "Generalized linear mixed model fit by maximum likelihood (Laplace\n",
       "  Approximation) [glmerMod]\n",
       " Family: poisson  ( log )\n",
       "Formula: eventCount ~ marchFactor * set + (1 | subject)\n",
       "   Data: sd_2020_2021\n",
       "Control: glmerControl(\"bobyqa\")\n",
       "\n",
       "     AIC      BIC   logLik deviance df.resid \n",
       " 58995.9  59034.7 -29492.9  58985.9    17539 \n",
       "\n",
       "Scaled residuals: \n",
       "    Min      1Q  Median      3Q     Max \n",
       "-3.6624 -0.9041 -0.6572  0.1126 23.6903 \n",
       "\n",
       "Random effects:\n",
       " Groups  Name        Variance Std.Dev.\n",
       " subject (Intercept) 0.6179   0.7861  \n",
       "Number of obs: 17544, groups:  subject, 939\n",
       "\n",
       "Fixed effects:\n",
       "                         Estimate Std. Error z value Pr(>|z|)    \n",
       "(Intercept)              -0.27612    0.02824  -9.779   <2e-16 ***\n",
       "marchFactorMarch          1.17912    0.02015  58.506   <2e-16 ***\n",
       "set2021                  -0.29719    0.01863 -15.951   <2e-16 ***\n",
       "marchFactorMarch:set2021 -1.27191    0.05612 -22.663   <2e-16 ***\n",
       "---\n",
       "Signif. codes:  0 ‘***’ 0.001 ‘**’ 0.01 ‘*’ 0.05 ‘.’ 0.1 ‘ ’ 1\n",
       "\n",
       "Correlation of Fixed Effects:\n",
       "            (Intr) mrchFM st2021\n",
       "mrchFctrMrc -0.163              \n",
       "set2021     -0.168  0.247       \n",
       "mrchFM:2021  0.058 -0.359 -0.289"
      ]
     },
     "metadata": {},
     "output_type": "display_data"
    },
    {
     "data": {
      "text/plain": [
       "Generalized linear mixed model fit by maximum likelihood (Laplace\n",
       "  Approximation) [glmerMod]\n",
       " Family: poisson  ( log )\n",
       "Formula: eventCount ~ marchFactor * set + (1 | subject)\n",
       "   Data: sd_2020_p1_p2\n",
       "Control: glmerControl(\"bobyqa\")\n",
       "\n",
       "     AIC      BIC   logLik deviance df.resid \n",
       " 29789.0  29825.0 -14889.5  29779.0     9775 \n",
       "\n",
       "Scaled residuals: \n",
       "    Min      1Q  Median      3Q     Max \n",
       "-4.0656 -0.8530 -0.6170 -0.3788 17.3351 \n",
       "\n",
       "Random effects:\n",
       " Groups  Name        Variance Std.Dev.\n",
       " subject (Intercept) 0.5922   0.7696  \n",
       "Number of obs: 9780, groups:  subject, 512\n",
       "\n",
       "Fixed effects:\n",
       "                           Estimate Std. Error z value Pr(>|z|)    \n",
       "(Intercept)                -0.66880    0.03882 -17.227  < 2e-16 ***\n",
       "marchFactorMarch            1.37964    0.03093  44.607  < 2e-16 ***\n",
       "set2020+2                   0.10450    0.02698   3.873 0.000108 ***\n",
       "marchFactorMarch:set2020+2  0.24752    0.04619   5.358  8.4e-08 ***\n",
       "---\n",
       "Signif. codes:  0 ‘***’ 0.001 ‘**’ 0.01 ‘*’ 0.05 ‘.’ 0.1 ‘ ’ 1\n",
       "\n",
       "Correlation of Fixed Effects:\n",
       "            (Intr) mrchFM s2020+\n",
       "mrchFctrMrc -0.211              \n",
       "set2020+2   -0.238  0.304       \n",
       "mrFM:2020+2  0.142 -0.669 -0.502"
      ]
     },
     "metadata": {},
     "output_type": "display_data"
    },
    {
     "data": {
      "text/plain": [
       "Generalized linear mixed model fit by maximum likelihood (Laplace\n",
       "  Approximation) [glmerMod]\n",
       " Family: poisson  ( log )\n",
       "Formula: eventCount ~ marchFactor * set + (1 | subject)\n",
       "   Data: sd_2020_orig_p2\n",
       "Control: glmerControl(\"bobyqa\")\n",
       "\n",
       "     AIC      BIC   logLik deviance df.resid \n",
       " 51710.7  51748.7 -25850.3  51700.7    14899 \n",
       "\n",
       "Scaled residuals: \n",
       "    Min      1Q  Median      3Q     Max \n",
       "-3.7245 -0.9157 -0.6583  0.2542 19.4757 \n",
       "\n",
       "Random effects:\n",
       " Groups  Name        Variance Std.Dev.\n",
       " subject (Intercept) 0.6327   0.7954  \n",
       "Number of obs: 14904, groups:  subject, 939\n",
       "\n",
       "Fixed effects:\n",
       "                           Estimate Std. Error z value Pr(>|z|)    \n",
       "(Intercept)                -0.28076    0.02862   -9.81   <2e-16 ***\n",
       "marchFactorMarch            1.17912    0.02014   58.55   <2e-16 ***\n",
       "set2020+2                  -0.39397    0.02406  -16.38   <2e-16 ***\n",
       "marchFactorMarch:set2020+2  0.44804    0.03983   11.25   <2e-16 ***\n",
       "---\n",
       "Signif. codes:  0 ‘***’ 0.001 ‘**’ 0.01 ‘*’ 0.05 ‘.’ 0.1 ‘ ’ 1\n",
       "\n",
       "Correlation of Fixed Effects:\n",
       "            (Intr) mrchFM s2020+\n",
       "mrchFctrMrc -0.161              \n",
       "set2020+2   -0.121  0.191       \n",
       "mrFM:2020+2  0.081 -0.506 -0.486"
      ]
     },
     "metadata": {},
     "output_type": "display_data"
    },
    {
     "data": {
      "text/plain": [
       "Generalized linear mixed model fit by maximum likelihood (Laplace\n",
       "  Approximation) [glmerMod]\n",
       " Family: poisson  ( log )\n",
       "Formula: eventCount ~ marchFactor * set + (1 | subject)\n",
       "   Data: sd_2020_sampleRep\n",
       "Control: glmerControl(\"bobyqa\")\n",
       "\n",
       "     AIC      BIC   logLik deviance df.resid \n",
       " 21071.6  21105.7 -10530.8  21061.6     6655 \n",
       "\n",
       "Scaled residuals: \n",
       "    Min      1Q  Median      3Q     Max \n",
       "-3.1362 -0.8512 -0.6334 -0.1888 16.4700 \n",
       "\n",
       "Random effects:\n",
       " Groups  Name        Variance Std.Dev.\n",
       " subject (Intercept) 0.6269   0.7918  \n",
       "Number of obs: 6660, groups:  subject, 555\n",
       "\n",
       "Fixed effects:\n",
       "                               Estimate Std. Error z value Pr(>|z|)    \n",
       "(Intercept)                    -0.53640    0.05116 -10.485   <2e-16 ***\n",
       "marchFactorMarch                1.62716    0.03414  47.667   <2e-16 ***\n",
       "set2020+2_rep                   0.02192    0.07524   0.291   0.7708    \n",
       "marchFactorMarch:set2020+2_rep  0.08528    0.04985   1.711   0.0871 .  \n",
       "---\n",
       "Signif. codes:  0 ‘***’ 0.001 ‘**’ 0.01 ‘*’ 0.05 ‘.’ 0.1 ‘ ’ 1\n",
       "\n",
       "Correlation of Fixed Effects:\n",
       "            (Intr) mrchFM s2020+\n",
       "mrchFctrMrc -0.211              \n",
       "st2020+2_rp -0.669  0.143       \n",
       "mFM:2020+2_  0.145 -0.685 -0.216"
      ]
     },
     "metadata": {},
     "output_type": "display_data"
    }
   ],
   "source": [
    "# check for interactions \n",
    "summary(mod<-glmer(eventCount~marchFactor*set+(1|subject),data=sd_2020_2021,family = poisson(link = \"log\"),glmerControl(\"bobyqa\")))\n",
    "summary(mod<-glmer(eventCount~marchFactor*set+(1|subject),data=sd_2020_p1_p2,family = poisson(link = \"log\"),glmerControl(\"bobyqa\")))\n",
    "summary(mod<-glmer(eventCount~marchFactor*set+(1|subject),data=sd_2020_orig_p2,family = poisson(link = \"log\"),glmerControl(\"bobyqa\")))\n",
    "summary(mod<-glmer(eventCount~marchFactor*set+(1|subject),data=sd_2020_sampleRep,family = poisson(link = \"log\"),glmerControl(\"bobyqa\")))"
   ]
  },
  {
   "cell_type": "code",
   "execution_count": 16,
   "metadata": {},
   "outputs": [
    {
     "name": "stderr",
     "output_type": "stream",
     "text": [
      "Compiling Stan program...\n",
      "\n",
      "recompiling to avoid crashing R session\n",
      "\n",
      "Start sampling\n",
      "\n"
     ]
    },
    {
     "data": {
      "text/plain": [
       " Family: poisson \n",
       "  Links: mu = log \n",
       "Formula: eventCount ~ 1 + marchFactor * set + (1 | subject) \n",
       "   Data: sd_2020_2021 (Number of observations: 17544) \n",
       "  Draws: 4 chains, each with iter = 3000; warmup = 1500; thin = 1;\n",
       "         total post-warmup draws = 6000\n",
       "\n",
       "Group-Level Effects: \n",
       "~subject (Number of levels: 939) \n",
       "              Estimate Est.Error l-95% CI u-95% CI Rhat Bulk_ESS Tail_ESS\n",
       "sd(Intercept)     0.79      0.02     0.75     0.84 1.00     1149     1991\n",
       "\n",
       "Population-Level Effects: \n",
       "                         Estimate Est.Error l-95% CI u-95% CI Rhat Bulk_ESS\n",
       "Intercept                   -0.28      0.03    -0.34    -0.22 1.01     1109\n",
       "marchFactorMarch             1.18      0.02     1.14     1.22 1.00    10951\n",
       "set2021                     -0.30      0.02    -0.33    -0.26 1.00    11193\n",
       "marchFactorMarch:set2021    -1.27      0.06    -1.38    -1.16 1.00    10946\n",
       "                         Tail_ESS\n",
       "Intercept                    2473\n",
       "marchFactorMarch             4233\n",
       "set2021                      5149\n",
       "marchFactorMarch:set2021     4636\n",
       "\n",
       "Draws were sampled using sampling(NUTS). For each parameter, Bulk_ESS\n",
       "and Tail_ESS are effective sample size measures, and Rhat is the potential\n",
       "scale reduction factor on split chains (at convergence, Rhat = 1)."
      ]
     },
     "metadata": {},
     "output_type": "display_data"
    },
    {
     "name": "stderr",
     "output_type": "stream",
     "text": [
      "Compiling Stan program...\n",
      "\n",
      "recompiling to avoid crashing R session\n",
      "\n",
      "Start sampling\n",
      "\n"
     ]
    },
    {
     "data": {
      "text/plain": [
       " Family: poisson \n",
       "  Links: mu = log \n",
       "Formula: eventCount ~ 1 + marchFactor * set + (1 | subject) \n",
       "   Data: sd_2020_p1_p2 (Number of observations: 9780) \n",
       "  Draws: 4 chains, each with iter = 3000; warmup = 1500; thin = 1;\n",
       "         total post-warmup draws = 6000\n",
       "\n",
       "Group-Level Effects: \n",
       "~subject (Number of levels: 512) \n",
       "              Estimate Est.Error l-95% CI u-95% CI Rhat Bulk_ESS Tail_ESS\n",
       "sd(Intercept)     0.77      0.03     0.72     0.84 1.00      872     1618\n",
       "\n",
       "Population-Level Effects: \n",
       "                           Estimate Est.Error l-95% CI u-95% CI Rhat Bulk_ESS\n",
       "Intercept                     -0.67      0.04    -0.75    -0.59 1.00      974\n",
       "marchFactorMarch               1.38      0.03     1.32     1.44 1.00     4679\n",
       "set2020P2                      0.10      0.03     0.05     0.16 1.00     4873\n",
       "marchFactorMarch:set2020P2     0.25      0.05     0.16     0.34 1.00     4578\n",
       "                           Tail_ESS\n",
       "Intercept                      1810\n",
       "marchFactorMarch               4601\n",
       "set2020P2                      4919\n",
       "marchFactorMarch:set2020P2     4630\n",
       "\n",
       "Draws were sampled using sampling(NUTS). For each parameter, Bulk_ESS\n",
       "and Tail_ESS are effective sample size measures, and Rhat is the potential\n",
       "scale reduction factor on split chains (at convergence, Rhat = 1)."
      ]
     },
     "metadata": {},
     "output_type": "display_data"
    },
    {
     "name": "stderr",
     "output_type": "stream",
     "text": [
      "Compiling Stan program...\n",
      "\n",
      "recompiling to avoid crashing R session\n",
      "\n",
      "Start sampling\n",
      "\n"
     ]
    },
    {
     "data": {
      "text/plain": [
       " Family: poisson \n",
       "  Links: mu = log \n",
       "Formula: eventCount ~ 1 + marchFactor * set + (1 | subject) \n",
       "   Data: sd_2020_orig_p2 (Number of observations: 14904) \n",
       "  Draws: 4 chains, each with iter = 2000; warmup = 1000; thin = 1;\n",
       "         total post-warmup draws = 4000\n",
       "\n",
       "Group-Level Effects: \n",
       "~subject (Number of levels: 939) \n",
       "              Estimate Est.Error l-95% CI u-95% CI Rhat Bulk_ESS Tail_ESS\n",
       "sd(Intercept)     0.80      0.02     0.76     0.84 1.00      661     1020\n",
       "\n",
       "Population-Level Effects: \n",
       "                           Estimate Est.Error l-95% CI u-95% CI Rhat Bulk_ESS\n",
       "Intercept                     -0.28      0.03    -0.33    -0.23 1.01      705\n",
       "marchFactorMarch               1.18      0.02     1.14     1.22 1.00     5214\n",
       "set2020P2                     -0.39      0.02    -0.44    -0.35 1.00     5298\n",
       "marchFactorMarch:set2020P2     0.45      0.04     0.37     0.53 1.00     4768\n",
       "                           Tail_ESS\n",
       "Intercept                      1614\n",
       "marchFactorMarch               3439\n",
       "set2020P2                      3415\n",
       "marchFactorMarch:set2020P2     3108\n",
       "\n",
       "Draws were sampled using sampling(NUTS). For each parameter, Bulk_ESS\n",
       "and Tail_ESS are effective sample size measures, and Rhat is the potential\n",
       "scale reduction factor on split chains (at convergence, Rhat = 1)."
      ]
     },
     "metadata": {},
     "output_type": "display_data"
    },
    {
     "name": "stderr",
     "output_type": "stream",
     "text": [
      "Compiling Stan program...\n",
      "\n",
      "recompiling to avoid crashing R session\n",
      "\n",
      "Start sampling\n",
      "\n"
     ]
    },
    {
     "data": {
      "text/plain": [
       " Family: poisson \n",
       "  Links: mu = log \n",
       "Formula: eventCount ~ 1 + marchFactor * set + (1 | subject) \n",
       "   Data: sd_2020_sampleRep (Number of observations: 6660) \n",
       "  Draws: 4 chains, each with iter = 3000; warmup = 1500; thin = 1;\n",
       "         total post-warmup draws = 6000\n",
       "\n",
       "Group-Level Effects: \n",
       "~subject (Number of levels: 555) \n",
       "              Estimate Est.Error l-95% CI u-95% CI Rhat Bulk_ESS Tail_ESS\n",
       "sd(Intercept)     0.80      0.03     0.74     0.87 1.00     1139     2024\n",
       "\n",
       "Population-Level Effects: \n",
       "                               Estimate Est.Error l-95% CI u-95% CI Rhat\n",
       "Intercept                         -0.54      0.05    -0.65    -0.43 1.01\n",
       "marchFactorMarch                   1.63      0.03     1.56     1.69 1.00\n",
       "set2020P2_rep                      0.02      0.08    -0.13     0.17 1.01\n",
       "marchFactorMarch:set2020P2_rep     0.09      0.05    -0.01     0.18 1.00\n",
       "                               Bulk_ESS Tail_ESS\n",
       "Intercept                           871     1738\n",
       "marchFactorMarch                   5525     4258\n",
       "set2020P2_rep                       804     1592\n",
       "marchFactorMarch:set2020P2_rep     5303     4088\n",
       "\n",
       "Draws were sampled using sampling(NUTS). For each parameter, Bulk_ESS\n",
       "and Tail_ESS are effective sample size measures, and Rhat is the potential\n",
       "scale reduction factor on split chains (at convergence, Rhat = 1)."
      ]
     },
     "metadata": {},
     "output_type": "display_data"
    }
   ],
   "source": [
    "# check interactions in bayesian regression model\n",
    "brm(eventCount~1+marchFactor*set+(1|subject),data=sd_2020_2021, family=poisson, init = \"random\", iter=3000, cores=10)\n",
    "brm(eventCount~1+marchFactor*set+(1|subject),data=sd_2020_p1_p2, family=poisson, init = \"random\", iter=3000, cores=10)\n",
    "brm(eventCount~1+marchFactor*set+(1|subject),data=sd_2020_orig_p2, family=poisson, init = \"random\", cores=10)\n",
    "brm(eventCount~1+marchFactor*set+(1|subject),data=sd_2020_sampleRep, family=poisson, init = \"random\", iter=3000, cores=10)"
   ]
  },
  {
   "cell_type": "markdown",
   "metadata": {},
   "source": [
    "# primacy and recency effects"
   ]
  },
  {
   "cell_type": "code",
   "execution_count": 17,
   "metadata": {},
   "outputs": [],
   "source": [
    "# primacy/recency\n",
    "sd_prim<-subset(sd_2020_2021, date==\"January\"|date==\"February\")\n",
    "sd_rec<-subset(sd_2020_2021, date==\"October\"|date==\"November\")"
   ]
  },
  {
   "cell_type": "code",
   "execution_count": 18,
   "metadata": {},
   "outputs": [
    {
     "data": {
      "text/plain": [
       "Generalized linear mixed model fit by maximum likelihood (Laplace\n",
       "  Approximation) [glmerMod]\n",
       " Family: poisson  ( log )\n",
       "Formula: memCount ~ date + (date | subject)\n",
       "   Data: sd_prim\n",
       "Control: glmerControl(\"bobyqa\")\n",
       "\n",
       "     AIC      BIC   logLik deviance df.resid \n",
       "  8613.8   8643.8  -4301.9   8603.8     2919 \n",
       "\n",
       "Scaled residuals: \n",
       "    Min      1Q  Median      3Q     Max \n",
       "-6.4049 -0.5238 -0.3724  0.3086  6.7101 \n",
       "\n",
       "Random effects:\n",
       " Groups  Name        Variance Std.Dev. Corr \n",
       " subject (Intercept) 2.836    1.684         \n",
       "         dateJanuary 2.840    1.685    -0.66\n",
       "Number of obs: 2924, groups:  subject, 939\n",
       "\n",
       "Fixed effects:\n",
       "            Estimate Std. Error z value Pr(>|z|)    \n",
       "(Intercept)  -1.3171     0.1004  -13.12  < 2e-16 ***\n",
       "dateJanuary   0.6889     0.1140    6.04 1.54e-09 ***\n",
       "---\n",
       "Signif. codes:  0 ‘***’ 0.001 ‘**’ 0.01 ‘*’ 0.05 ‘.’ 0.1 ‘ ’ 1\n",
       "\n",
       "Correlation of Fixed Effects:\n",
       "            (Intr)\n",
       "dateJanuary -0.784"
      ]
     },
     "metadata": {},
     "output_type": "display_data"
    },
    {
     "data": {
      "text/plain": [
       "Generalized linear mixed model fit by maximum likelihood (Laplace\n",
       "  Approximation) [glmerMod]\n",
       " Family: poisson  ( log )\n",
       "Formula: memCount ~ date + (date | subject)\n",
       "   Data: sd_rec\n",
       "Control: glmerControl(\"bobyqa\")\n",
       "\n",
       "     AIC      BIC   logLik deviance df.resid \n",
       "  7875.5   7905.4  -3932.7   7865.5     2919 \n",
       "\n",
       "Scaled residuals: \n",
       "    Min      1Q  Median      3Q     Max \n",
       "-3.6696 -0.4773 -0.3296  0.1967  4.0387 \n",
       "\n",
       "Random effects:\n",
       " Groups  Name         Variance Std.Dev. Corr \n",
       " subject (Intercept)  3.473    1.864         \n",
       "         dateNovember 3.968    1.992    -0.68\n",
       "Number of obs: 2924, groups:  subject, 939\n",
       "\n",
       "Fixed effects:\n",
       "             Estimate Std. Error z value Pr(>|z|)    \n",
       "(Intercept)   -1.8043     0.1269 -14.223  < 2e-16 ***\n",
       "dateNovember   0.9667     0.1438   6.722  1.8e-11 ***\n",
       "---\n",
       "Signif. codes:  0 ‘***’ 0.001 ‘**’ 0.01 ‘*’ 0.05 ‘.’ 0.1 ‘ ’ 1\n",
       "\n",
       "Correlation of Fixed Effects:\n",
       "            (Intr)\n",
       "dateNovembr -0.822"
      ]
     },
     "metadata": {},
     "output_type": "display_data"
    }
   ],
   "source": [
    "summary(glmer(memCount~date+(date|subject),data = sd_prim, family = poisson(link = \"log\"),glmerControl(\"bobyqa\")))\n",
    "sd_rec$date<-factor(sd_rec$date,levels=c('October','November')) # change factor order\n",
    "summary(glmer(memCount~date+(date|subject),data = sd_rec, family = poisson(link = \"log\"),glmerControl(\"bobyqa\")))"
   ]
  },
  {
   "cell_type": "code",
   "execution_count": 19,
   "metadata": {},
   "outputs": [
    {
     "name": "stderr",
     "output_type": "stream",
     "text": [
      "Compiling Stan program...\n",
      "\n",
      "Start sampling\n",
      "\n"
     ]
    },
    {
     "data": {
      "text/plain": [
       " Family: poisson \n",
       "  Links: mu = log \n",
       "Formula: memCount ~ 1 + date + (date | subject) \n",
       "   Data: sd_prim (Number of observations: 2924) \n",
       "  Draws: 4 chains, each with iter = 2000; warmup = 1000; thin = 1;\n",
       "         total post-warmup draws = 4000\n",
       "\n",
       "Group-Level Effects: \n",
       "~subject (Number of levels: 939) \n",
       "                           Estimate Est.Error l-95% CI u-95% CI Rhat Bulk_ESS\n",
       "sd(Intercept)                  1.68      0.08     1.53     1.86 1.00      768\n",
       "sd(dateJanuary)                1.64      0.09     1.48     1.82 1.01      685\n",
       "cor(Intercept,dateJanuary)    -0.63      0.04    -0.71    -0.54 1.00      857\n",
       "                           Tail_ESS\n",
       "sd(Intercept)                  1399\n",
       "sd(dateJanuary)                1573\n",
       "cor(Intercept,dateJanuary)     1677\n",
       "\n",
       "Population-Level Effects: \n",
       "            Estimate Est.Error l-95% CI u-95% CI Rhat Bulk_ESS Tail_ESS\n",
       "Intercept      -1.28      0.10    -1.48    -1.10 1.01     1116     1836\n",
       "dateJanuary     0.65      0.11     0.43     0.86 1.00     1470     2058\n",
       "\n",
       "Draws were sampled using sampling(NUTS). For each parameter, Bulk_ESS\n",
       "and Tail_ESS are effective sample size measures, and Rhat is the potential\n",
       "scale reduction factor on split chains (at convergence, Rhat = 1)."
      ]
     },
     "metadata": {},
     "output_type": "display_data"
    },
    {
     "name": "stderr",
     "output_type": "stream",
     "text": [
      "Compiling Stan program...\n",
      "\n",
      "Start sampling\n",
      "\n"
     ]
    },
    {
     "data": {
      "text/plain": [
       " Family: poisson \n",
       "  Links: mu = log \n",
       "Formula: memCount ~ 1 + date + (date | subject) \n",
       "   Data: sd_rec (Number of observations: 2924) \n",
       "  Draws: 4 chains, each with iter = 2000; warmup = 1000; thin = 1;\n",
       "         total post-warmup draws = 4000\n",
       "\n",
       "Group-Level Effects: \n",
       "~subject (Number of levels: 939) \n",
       "                            Estimate Est.Error l-95% CI u-95% CI Rhat Bulk_ESS\n",
       "sd(Intercept)                   1.82      0.10     1.63     2.02 1.01      513\n",
       "sd(dateNovember)                1.87      0.10     1.68     2.09 1.01      440\n",
       "cor(Intercept,dateNovember)    -0.63      0.05    -0.71    -0.53 1.01      424\n",
       "                            Tail_ESS\n",
       "sd(Intercept)                    898\n",
       "sd(dateNovember)                 800\n",
       "cor(Intercept,dateNovember)      898\n",
       "\n",
       "Population-Level Effects: \n",
       "             Estimate Est.Error l-95% CI u-95% CI Rhat Bulk_ESS Tail_ESS\n",
       "Intercept       -1.71      0.12    -1.95    -1.49 1.00      880     1185\n",
       "dateNovember     0.87      0.13     0.62     1.13 1.00      928     1378\n",
       "\n",
       "Draws were sampled using sampling(NUTS). For each parameter, Bulk_ESS\n",
       "and Tail_ESS are effective sample size measures, and Rhat is the potential\n",
       "scale reduction factor on split chains (at convergence, Rhat = 1)."
      ]
     },
     "metadata": {},
     "output_type": "display_data"
    }
   ],
   "source": [
    "# bayesian regression models (for confidence intervals)\n",
    "brm(memCount~1+date+(date|subject),data = sd_prim, family=poisson, init = \"random\", cores=10)\n",
    "brm(memCount~1+date+(date|subject),data = sd_rec, family=poisson, init = \"random\", cores=10)"
   ]
  },
  {
   "cell_type": "markdown",
   "metadata": {},
   "source": [
    "# earlier recall of march 2020 memory"
   ]
  },
  {
   "cell_type": "code",
   "execution_count": 20,
   "metadata": {},
   "outputs": [
    {
     "data": {
      "text/plain": [
       "Linear mixed model fit by REML. t-tests use Satterthwaite's method [\n",
       "lmerModLmerTest]\n",
       "Formula: order ~ marchFactor + (1 | subject)\n",
       "   Data: sd_2020\n",
       "Control: lmerControl(\"bobyqa\")\n",
       "\n",
       "REML criterion at convergence: 19265.8\n",
       "\n",
       "Scaled residuals: \n",
       "    Min      1Q  Median      3Q     Max \n",
       "-4.0137 -0.5807 -0.0958  0.4671  5.9457 \n",
       "\n",
       "Random effects:\n",
       " Groups   Name        Variance Std.Dev.\n",
       " subject  (Intercept) 3.403    1.845   \n",
       " Residual             8.549    2.924   \n",
       "Number of obs: 3702, groups:  subject, 907\n",
       "\n",
       "Fixed effects:\n",
       "                   Estimate Std. Error         df t value Pr(>|t|)    \n",
       "(Intercept)         4.01448    0.08592 1243.65075   46.72   <2e-16 ***\n",
       "marchFactorMarch   -1.99593    0.13008 3353.98757  -15.34   <2e-16 ***\n",
       "---\n",
       "Signif. codes:  0 ‘***’ 0.001 ‘**’ 0.01 ‘*’ 0.05 ‘.’ 0.1 ‘ ’ 1\n",
       "\n",
       "Correlation of Fixed Effects:\n",
       "            (Intr)\n",
       "mrchFctrMrc -0.313"
      ]
     },
     "metadata": {},
     "output_type": "display_data"
    },
    {
     "data": {
      "text/plain": [
       "Linear mixed model fit by REML. t-tests use Satterthwaite's method [\n",
       "lmerModLmerTest]\n",
       "Formula: order ~ marchFactor + (1 | subject)\n",
       "   Data: sd_2020_p1\n",
       "Control: lmerControl(\"bobyqa\")\n",
       "\n",
       "REML criterion at convergence: 6738.8\n",
       "\n",
       "Scaled residuals: \n",
       "    Min      1Q  Median      3Q     Max \n",
       "-3.6687 -0.5656 -0.1373  0.4128  4.9365 \n",
       "\n",
       "Random effects:\n",
       " Groups   Name        Variance Std.Dev.\n",
       " subject  (Intercept) 1.722    1.312   \n",
       " Residual             4.875    2.208   \n",
       "Number of obs: 1450, groups:  subject, 475\n",
       "\n",
       "Fixed effects:\n",
       "                   Estimate Std. Error         df t value Pr(>|t|)    \n",
       "(Intercept)         3.23873    0.09457  712.74678   34.25   <2e-16 ***\n",
       "marchFactorMarch   -1.69813    0.14939 1327.45211  -11.37   <2e-16 ***\n",
       "---\n",
       "Signif. codes:  0 ‘***’ 0.001 ‘**’ 0.01 ‘*’ 0.05 ‘.’ 0.1 ‘ ’ 1\n",
       "\n",
       "Correlation of Fixed Effects:\n",
       "            (Intr)\n",
       "mrchFctrMrc -0.374"
      ]
     },
     "metadata": {},
     "output_type": "display_data"
    },
    {
     "data": {
      "text/plain": [
       "Linear mixed model fit by REML. t-tests use Satterthwaite's method [\n",
       "lmerModLmerTest]\n",
       "Formula: order ~ marchFactor + (1 | subject)\n",
       "   Data: sd_2020_p2\n",
       "Control: lmerControl(\"bobyqa\")\n",
       "\n",
       "REML criterion at convergence: 5107.5\n",
       "\n",
       "Scaled residuals: \n",
       "    Min      1Q  Median      3Q     Max \n",
       "-2.8481 -0.5519 -0.1506  0.4730  4.4677 \n",
       "\n",
       "Random effects:\n",
       " Groups   Name        Variance Std.Dev.\n",
       " subject  (Intercept) 1.763    1.328   \n",
       " Residual             6.209    2.492   \n",
       "Number of obs: 1053, groups:  subject, 291\n",
       "\n",
       "Fixed effects:\n",
       "                 Estimate Std. Error       df t value Pr(>|t|)    \n",
       "(Intercept)        3.8310     0.1232 433.4734  31.083   <2e-16 ***\n",
       "marchFactorMarch  -1.8957     0.1901 947.1169  -9.972   <2e-16 ***\n",
       "---\n",
       "Signif. codes:  0 ‘***’ 0.001 ‘**’ 0.01 ‘*’ 0.05 ‘.’ 0.1 ‘ ’ 1\n",
       "\n",
       "Correlation of Fixed Effects:\n",
       "            (Intr)\n",
       "mrchFctrMrc -0.386"
      ]
     },
     "metadata": {},
     "output_type": "display_data"
    },
    {
     "data": {
      "text/plain": [
       "Linear mixed model fit by REML. t-tests use Satterthwaite's method [\n",
       "lmerModLmerTest]\n",
       "Formula: order ~ marchFactor + (1 | subject)\n",
       "   Data: sd_2020_p2_r\n",
       "Control: lmerControl(\"bobyqa\")\n",
       "\n",
       "REML criterion at convergence: 4399.3\n",
       "\n",
       "Scaled residuals: \n",
       "    Min      1Q  Median      3Q     Max \n",
       "-5.6043 -0.4682 -0.1063  0.3492  4.8793 \n",
       "\n",
       "Random effects:\n",
       " Groups   Name        Variance Std.Dev.\n",
       " subject  (Intercept) 3.629    1.905   \n",
       " Residual             7.652    2.766   \n",
       "Number of obs: 857, groups:  subject, 241\n",
       "\n",
       "Fixed effects:\n",
       "                 Estimate Std. Error       df t value Pr(>|t|)    \n",
       "(Intercept)        4.0470     0.1748 368.0809  23.155   <2e-16 ***\n",
       "marchFactorMarch  -2.2944     0.2321 770.7015  -9.885   <2e-16 ***\n",
       "---\n",
       "Signif. codes:  0 ‘***’ 0.001 ‘**’ 0.01 ‘*’ 0.05 ‘.’ 0.1 ‘ ’ 1\n",
       "\n",
       "Correlation of Fixed Effects:\n",
       "            (Intr)\n",
       "mrchFctrMrc -0.381"
      ]
     },
     "metadata": {},
     "output_type": "display_data"
    },
    {
     "data": {
      "text/plain": [
       "Linear mixed model fit by REML. t-tests use Satterthwaite's method [\n",
       "lmerModLmerTest]\n",
       "Formula: order ~ marchFactor + (1 | subject)\n",
       "   Data: sd_2021\n",
       "Control: lmerControl(\"bobyqa\")\n",
       "\n",
       "REML criterion at convergence: 8048.9\n",
       "\n",
       "Scaled residuals: \n",
       "    Min      1Q  Median      3Q     Max \n",
       "-3.8574 -0.5773 -0.1579  0.4210  4.4259 \n",
       "\n",
       "Random effects:\n",
       " Groups   Name        Variance Std.Dev.\n",
       " subject  (Intercept) 2.895    1.701   \n",
       " Residual             7.152    2.674   \n",
       "Number of obs: 1596, groups:  subject, 488\n",
       "\n",
       "Fixed effects:\n",
       "                  Estimate Std. Error        df t value Pr(>|t|)    \n",
       "(Intercept)         3.1689     0.1098  646.6640  28.866  < 2e-16 ***\n",
       "marchFactorMarch   -0.9728     0.2569 1450.8897  -3.787 0.000159 ***\n",
       "---\n",
       "Signif. codes:  0 ‘***’ 0.001 ‘**’ 0.01 ‘*’ 0.05 ‘.’ 0.1 ‘ ’ 1\n",
       "\n",
       "Correlation of Fixed Effects:\n",
       "            (Intr)\n",
       "mrchFctrMrc -0.186"
      ]
     },
     "metadata": {},
     "output_type": "display_data"
    }
   ],
   "source": [
    "summary(mod<-lmer(order~marchFactor+(1|subject),data=sd_2020,control=lmerControl(\"bobyqa\")))\n",
    "summary(mod<-lmer(order~marchFactor+(1|subject),data=sd_2020_p1,control=lmerControl(\"bobyqa\")))\n",
    "summary(mod<-lmer(order~marchFactor+(1|subject),data=sd_2020_p2,control=lmerControl(\"bobyqa\")))\n",
    "summary(mod<-lmer(order~marchFactor+(1|subject),data=sd_2020_p2_r,control=lmerControl(\"bobyqa\")))\n",
    "summary(mod<-lmer(order~marchFactor+(1|subject),data=sd_2021,control=lmerControl(\"bobyqa\")))"
   ]
  },
  {
   "cell_type": "code",
   "execution_count": 21,
   "metadata": {},
   "outputs": [
    {
     "name": "stderr",
     "output_type": "stream",
     "text": [
      "Warning message:\n",
      "“Rows containing NAs were excluded from the model.”\n",
      "Compiling Stan program...\n",
      "\n",
      "Start sampling\n",
      "\n"
     ]
    },
    {
     "data": {
      "text/plain": [
       " Family: gaussian \n",
       "  Links: mu = identity; sigma = identity \n",
       "Formula: order ~ 1 + marchFactor + (1 | subject) \n",
       "   Data: sd_2020 (Number of observations: 3702) \n",
       "  Draws: 4 chains, each with iter = 2000; warmup = 1000; thin = 1;\n",
       "         total post-warmup draws = 4000\n",
       "\n",
       "Group-Level Effects: \n",
       "~subject (Number of levels: 907) \n",
       "              Estimate Est.Error l-95% CI u-95% CI Rhat Bulk_ESS Tail_ESS\n",
       "sd(Intercept)     1.85      0.06     1.73     1.97 1.00     1550     2300\n",
       "\n",
       "Population-Level Effects: \n",
       "                 Estimate Est.Error l-95% CI u-95% CI Rhat Bulk_ESS Tail_ESS\n",
       "Intercept            4.01      0.09     3.84     4.19 1.00     1811     2548\n",
       "marchFactorMarch    -2.00      0.13    -2.26    -1.74 1.00     4828     2376\n",
       "\n",
       "Family Specific Parameters: \n",
       "      Estimate Est.Error l-95% CI u-95% CI Rhat Bulk_ESS Tail_ESS\n",
       "sigma     2.92      0.04     2.85     3.00 1.00     4402     2720\n",
       "\n",
       "Draws were sampled using sampling(NUTS). For each parameter, Bulk_ESS\n",
       "and Tail_ESS are effective sample size measures, and Rhat is the potential\n",
       "scale reduction factor on split chains (at convergence, Rhat = 1)."
      ]
     },
     "metadata": {},
     "output_type": "display_data"
    },
    {
     "name": "stderr",
     "output_type": "stream",
     "text": [
      "Warning message:\n",
      "“Rows containing NAs were excluded from the model.”\n",
      "Compiling Stan program...\n",
      "\n",
      "Start sampling\n",
      "\n"
     ]
    },
    {
     "data": {
      "text/plain": [
       " Family: gaussian \n",
       "  Links: mu = identity; sigma = identity \n",
       "Formula: order ~ 1 + marchFactor + (1 | subject) \n",
       "   Data: sd_2020_p1 (Number of observations: 1450) \n",
       "  Draws: 4 chains, each with iter = 2000; warmup = 1000; thin = 1;\n",
       "         total post-warmup draws = 4000\n",
       "\n",
       "Group-Level Effects: \n",
       "~subject (Number of levels: 475) \n",
       "              Estimate Est.Error l-95% CI u-95% CI Rhat Bulk_ESS Tail_ESS\n",
       "sd(Intercept)     1.32      0.07     1.18     1.46 1.00     2018     2937\n",
       "\n",
       "Population-Level Effects: \n",
       "                 Estimate Est.Error l-95% CI u-95% CI Rhat Bulk_ESS Tail_ESS\n",
       "Intercept            3.24      0.10     3.05     3.43 1.00     2780     3361\n",
       "marchFactorMarch    -1.70      0.15    -2.00    -1.41 1.00     6946     3002\n",
       "\n",
       "Family Specific Parameters: \n",
       "      Estimate Est.Error l-95% CI u-95% CI Rhat Bulk_ESS Tail_ESS\n",
       "sigma     2.21      0.05     2.12     2.30 1.00     5006     2457\n",
       "\n",
       "Draws were sampled using sampling(NUTS). For each parameter, Bulk_ESS\n",
       "and Tail_ESS are effective sample size measures, and Rhat is the potential\n",
       "scale reduction factor on split chains (at convergence, Rhat = 1)."
      ]
     },
     "metadata": {},
     "output_type": "display_data"
    },
    {
     "name": "stderr",
     "output_type": "stream",
     "text": [
      "Warning message:\n",
      "“Rows containing NAs were excluded from the model.”\n",
      "Compiling Stan program...\n",
      "\n",
      "Start sampling\n",
      "\n"
     ]
    },
    {
     "data": {
      "text/plain": [
       " Family: gaussian \n",
       "  Links: mu = identity; sigma = identity \n",
       "Formula: order ~ 1 + marchFactor + (1 | subject) \n",
       "   Data: sd_2020_p2 (Number of observations: 1053) \n",
       "  Draws: 4 chains, each with iter = 2000; warmup = 1000; thin = 1;\n",
       "         total post-warmup draws = 4000\n",
       "\n",
       "Group-Level Effects: \n",
       "~subject (Number of levels: 291) \n",
       "              Estimate Est.Error l-95% CI u-95% CI Rhat Bulk_ESS Tail_ESS\n",
       "sd(Intercept)     1.33      0.10     1.15     1.53 1.00     2460     2630\n",
       "\n",
       "Population-Level Effects: \n",
       "                 Estimate Est.Error l-95% CI u-95% CI Rhat Bulk_ESS Tail_ESS\n",
       "Intercept            3.83      0.13     3.59     4.08 1.00     3546     3102\n",
       "marchFactorMarch    -1.90      0.19    -2.28    -1.52 1.00     8181     3174\n",
       "\n",
       "Family Specific Parameters: \n",
       "      Estimate Est.Error l-95% CI u-95% CI Rhat Bulk_ESS Tail_ESS\n",
       "sigma     2.50      0.06     2.38     2.61 1.00     4916     3162\n",
       "\n",
       "Draws were sampled using sampling(NUTS). For each parameter, Bulk_ESS\n",
       "and Tail_ESS are effective sample size measures, and Rhat is the potential\n",
       "scale reduction factor on split chains (at convergence, Rhat = 1)."
      ]
     },
     "metadata": {},
     "output_type": "display_data"
    },
    {
     "name": "stderr",
     "output_type": "stream",
     "text": [
      "Warning message:\n",
      "“Rows containing NAs were excluded from the model.”\n",
      "Compiling Stan program...\n",
      "\n",
      "Start sampling\n",
      "\n"
     ]
    },
    {
     "data": {
      "text/plain": [
       " Family: gaussian \n",
       "  Links: mu = identity; sigma = identity \n",
       "Formula: order ~ 1 + marchFactor + (1 | subject) \n",
       "   Data: sd_2020_p2_r (Number of observations: 857) \n",
       "  Draws: 4 chains, each with iter = 2000; warmup = 1000; thin = 1;\n",
       "         total post-warmup draws = 4000\n",
       "\n",
       "Group-Level Effects: \n",
       "~subject (Number of levels: 241) \n",
       "              Estimate Est.Error l-95% CI u-95% CI Rhat Bulk_ESS Tail_ESS\n",
       "sd(Intercept)     1.91      0.12     1.68     2.15 1.00     1891     2694\n",
       "\n",
       "Population-Level Effects: \n",
       "                 Estimate Est.Error l-95% CI u-95% CI Rhat Bulk_ESS Tail_ESS\n",
       "Intercept            4.05      0.18     3.71     4.40 1.00     3066     3082\n",
       "marchFactorMarch    -2.29      0.24    -2.75    -1.81 1.00     7194     2958\n",
       "\n",
       "Family Specific Parameters: \n",
       "      Estimate Est.Error l-95% CI u-95% CI Rhat Bulk_ESS Tail_ESS\n",
       "sigma     2.77      0.07     2.63     2.92 1.00     5175     3324\n",
       "\n",
       "Draws were sampled using sampling(NUTS). For each parameter, Bulk_ESS\n",
       "and Tail_ESS are effective sample size measures, and Rhat is the potential\n",
       "scale reduction factor on split chains (at convergence, Rhat = 1)."
      ]
     },
     "metadata": {},
     "output_type": "display_data"
    },
    {
     "name": "stderr",
     "output_type": "stream",
     "text": [
      "Warning message:\n",
      "“Rows containing NAs were excluded from the model.”\n",
      "Compiling Stan program...\n",
      "\n",
      "Start sampling\n",
      "\n"
     ]
    },
    {
     "data": {
      "text/plain": [
       " Family: gaussian \n",
       "  Links: mu = identity; sigma = identity \n",
       "Formula: order ~ 1 + marchFactor + (1 | subject) \n",
       "   Data: sd_2021 (Number of observations: 1596) \n",
       "  Draws: 4 chains, each with iter = 2000; warmup = 1000; thin = 1;\n",
       "         total post-warmup draws = 4000\n",
       "\n",
       "Group-Level Effects: \n",
       "~subject (Number of levels: 488) \n",
       "              Estimate Est.Error l-95% CI u-95% CI Rhat Bulk_ESS Tail_ESS\n",
       "sd(Intercept)     1.71      0.09     1.54     1.88 1.00     1946     2285\n",
       "\n",
       "Population-Level Effects: \n",
       "                 Estimate Est.Error l-95% CI u-95% CI Rhat Bulk_ESS Tail_ESS\n",
       "Intercept            3.17      0.11     2.95     3.39 1.00     2480     2674\n",
       "marchFactorMarch    -0.97      0.27    -1.48    -0.46 1.00     6402     3023\n",
       "\n",
       "Family Specific Parameters: \n",
       "      Estimate Est.Error l-95% CI u-95% CI Rhat Bulk_ESS Tail_ESS\n",
       "sigma     2.68      0.05     2.57     2.78 1.00     4930     2836\n",
       "\n",
       "Draws were sampled using sampling(NUTS). For each parameter, Bulk_ESS\n",
       "and Tail_ESS are effective sample size measures, and Rhat is the potential\n",
       "scale reduction factor on split chains (at convergence, Rhat = 1)."
      ]
     },
     "metadata": {},
     "output_type": "display_data"
    }
   ],
   "source": [
    "# bayesian regression models (for confidence intervals)\n",
    "brm(order~1+marchFactor+(1|subject),data=sd_2020, init = \"random\", cores=10)\n",
    "brm(order~1+marchFactor+(1|subject),data=sd_2020_p1, init = \"random\", cores=10)\n",
    "brm(order~1+marchFactor+(1|subject),data=sd_2020_p2, init = \"random\", cores=10)\n",
    "brm(order~1+marchFactor+(1|subject),data=sd_2020_p2_r, init = \"random\", cores=10)\n",
    "brm(order~1+marchFactor+(1|subject),data=sd_2021, init = \"random\", cores=10)"
   ]
  },
  {
   "cell_type": "code",
   "execution_count": 22,
   "metadata": {},
   "outputs": [
    {
     "data": {
      "text/plain": [
       "Linear mixed model fit by REML. t-tests use Satterthwaite's method [\n",
       "lmerModLmerTest]\n",
       "Formula: order ~ marchFactor * set + (1 | subject)\n",
       "   Data: sd_2020_2021\n",
       "Control: lmerControl(\"bobyqa\")\n",
       "\n",
       "REML criterion at convergence: 27370.1\n",
       "\n",
       "Scaled residuals: \n",
       "    Min      1Q  Median      3Q     Max \n",
       "-3.9506 -0.5620 -0.1082  0.4475  5.9889 \n",
       "\n",
       "Random effects:\n",
       " Groups   Name        Variance Std.Dev.\n",
       " subject  (Intercept) 3.074    1.753   \n",
       " Residual             8.575    2.928   \n",
       "Number of obs: 5298, groups:  subject, 917\n",
       "\n",
       "Fixed effects:\n",
       "                           Estimate Std. Error         df t value Pr(>|t|)    \n",
       "(Intercept)                 4.04873    0.08266 1532.89156  48.981  < 2e-16 ***\n",
       "marchFactorMarch           -2.01891    0.12922 4912.02289 -15.624  < 2e-16 ***\n",
       "set2021                    -0.87614    0.10344 5202.10079  -8.470  < 2e-16 ***\n",
       "marchFactorMarch:set2021    1.02840    0.30355 4847.62722   3.388  0.00071 ***\n",
       "---\n",
       "Signif. codes:  0 ‘***’ 0.001 ‘**’ 0.01 ‘*’ 0.05 ‘.’ 0.1 ‘ ’ 1\n",
       "\n",
       "Correlation of Fixed Effects:\n",
       "            (Intr) mrchFM st2021\n",
       "mrchFctrMrc -0.314              \n",
       "set2021     -0.370  0.236       \n",
       "mrchFM:2021  0.135 -0.425 -0.296"
      ]
     },
     "metadata": {},
     "output_type": "display_data"
    },
    {
     "data": {
      "text/plain": [
       "Linear mixed model fit by REML. t-tests use Satterthwaite's method [\n",
       "lmerModLmerTest]\n",
       "Formula: order ~ marchFactor * set + (1 | subject)\n",
       "   Data: sd_2020_sampleRep\n",
       "Control: lmerControl(\"bobyqa\")\n",
       "\n",
       "REML criterion at convergence: 9531.8\n",
       "\n",
       "Scaled residuals: \n",
       "    Min      1Q  Median      3Q     Max \n",
       "-5.7438 -0.5309 -0.1083  0.4145  5.3376 \n",
       "\n",
       "Random effects:\n",
       " Groups   Name        Variance Std.Dev.\n",
       " subject  (Intercept) 2.636    1.623   \n",
       " Residual             6.849    2.617   \n",
       "Number of obs: 1910, groups:  subject, 532\n",
       "\n",
       "Fixed effects:\n",
       "                                Estimate Std. Error        df t value Pr(>|t|)\n",
       "(Intercept)                       3.7737     0.1394  799.6565  27.066   <2e-16\n",
       "marchFactorMarch                 -1.8603     0.2009 1707.3665  -9.262   <2e-16\n",
       "set2020+2_rep                     0.3225     0.2095  808.0777   1.539    0.124\n",
       "marchFactorMarch:set2020+2_rep   -0.4705     0.2968 1718.8687  -1.585    0.113\n",
       "                                  \n",
       "(Intercept)                    ***\n",
       "marchFactorMarch               ***\n",
       "set2020+2_rep                     \n",
       "marchFactorMarch:set2020+2_rep    \n",
       "---\n",
       "Signif. codes:  0 ‘***’ 0.001 ‘**’ 0.01 ‘*’ 0.05 ‘.’ 0.1 ‘ ’ 1\n",
       "\n",
       "Correlation of Fixed Effects:\n",
       "            (Intr) mrchFM s2020+\n",
       "mrchFctrMrc -0.367              \n",
       "st2020+2_rp -0.665  0.244       \n",
       "mFM:2020+2_  0.248 -0.677 -0.382"
      ]
     },
     "metadata": {},
     "output_type": "display_data"
    }
   ],
   "source": [
    "# check for interaction \n",
    "summary(mod<-lmer(order~marchFactor*set+(1|subject),data=sd_2020_2021,control=lmerControl(\"bobyqa\")))\n",
    "summary(mod<-lmer(order~marchFactor*set+(1|subject),data=sd_2020_sampleRep,control=lmerControl(\"bobyqa\")))"
   ]
  },
  {
   "cell_type": "code",
   "execution_count": 23,
   "metadata": {},
   "outputs": [
    {
     "name": "stderr",
     "output_type": "stream",
     "text": [
      "Warning message:\n",
      "“Rows containing NAs were excluded from the model.”\n",
      "Compiling Stan program...\n",
      "\n",
      "Start sampling\n",
      "\n"
     ]
    },
    {
     "data": {
      "text/plain": [
       " Family: gaussian \n",
       "  Links: mu = identity; sigma = identity \n",
       "Formula: order ~ 1 + marchFactor * set + (1 | subject) \n",
       "   Data: sd_2020_2021 (Number of observations: 5298) \n",
       "  Draws: 4 chains, each with iter = 2000; warmup = 1000; thin = 1;\n",
       "         total post-warmup draws = 4000\n",
       "\n",
       "Group-Level Effects: \n",
       "~subject (Number of levels: 917) \n",
       "              Estimate Est.Error l-95% CI u-95% CI Rhat Bulk_ESS Tail_ESS\n",
       "sd(Intercept)     1.76      0.06     1.65     1.87 1.00     1316     1864\n",
       "\n",
       "Population-Level Effects: \n",
       "                         Estimate Est.Error l-95% CI u-95% CI Rhat Bulk_ESS\n",
       "Intercept                    4.05      0.08     3.89     4.22 1.00     1670\n",
       "marchFactorMarch            -2.02      0.13    -2.27    -1.76 1.00     3453\n",
       "set2021                     -0.88      0.10    -1.08    -0.66 1.00     3397\n",
       "marchFactorMarch:set2021     1.02      0.30     0.43     1.60 1.00     3148\n",
       "                         Tail_ESS\n",
       "Intercept                    2494\n",
       "marchFactorMarch             2740\n",
       "set2021                      2919\n",
       "marchFactorMarch:set2021     3008\n",
       "\n",
       "Family Specific Parameters: \n",
       "      Estimate Est.Error l-95% CI u-95% CI Rhat Bulk_ESS Tail_ESS\n",
       "sigma     2.93      0.03     2.87     2.99 1.00     4532     2862\n",
       "\n",
       "Draws were sampled using sampling(NUTS). For each parameter, Bulk_ESS\n",
       "and Tail_ESS are effective sample size measures, and Rhat is the potential\n",
       "scale reduction factor on split chains (at convergence, Rhat = 1)."
      ]
     },
     "metadata": {},
     "output_type": "display_data"
    },
    {
     "name": "stderr",
     "output_type": "stream",
     "text": [
      "Warning message:\n",
      "“Rows containing NAs were excluded from the model.”\n",
      "Compiling Stan program...\n",
      "\n",
      "Start sampling\n",
      "\n"
     ]
    },
    {
     "data": {
      "text/plain": [
       " Family: gaussian \n",
       "  Links: mu = identity; sigma = identity \n",
       "Formula: order ~ 1 + marchFactor * set + (1 | subject) \n",
       "   Data: sd_2020_sampleRep (Number of observations: 1910) \n",
       "  Draws: 4 chains, each with iter = 2000; warmup = 1000; thin = 1;\n",
       "         total post-warmup draws = 4000\n",
       "\n",
       "Group-Level Effects: \n",
       "~subject (Number of levels: 532) \n",
       "              Estimate Est.Error l-95% CI u-95% CI Rhat Bulk_ESS Tail_ESS\n",
       "sd(Intercept)     1.63      0.08     1.48     1.78 1.00     2164     2358\n",
       "\n",
       "Population-Level Effects: \n",
       "                               Estimate Est.Error l-95% CI u-95% CI Rhat\n",
       "Intercept                          3.77      0.14     3.49     4.03 1.00\n",
       "marchFactorMarch                  -1.86      0.19    -2.25    -1.47 1.00\n",
       "set2020P2_rep                      0.33      0.21    -0.07     0.74 1.00\n",
       "marchFactorMarch:set2020P2_rep    -0.47      0.29    -1.03     0.11 1.00\n",
       "                               Bulk_ESS Tail_ESS\n",
       "Intercept                          1803     3057\n",
       "marchFactorMarch                   3428     3164\n",
       "set2020P2_rep                      2380     2849\n",
       "marchFactorMarch:set2020P2_rep     3720     3187\n",
       "\n",
       "Family Specific Parameters: \n",
       "      Estimate Est.Error l-95% CI u-95% CI Rhat Bulk_ESS Tail_ESS\n",
       "sigma     2.62      0.05     2.53     2.71 1.00     4801     2623\n",
       "\n",
       "Draws were sampled using sampling(NUTS). For each parameter, Bulk_ESS\n",
       "and Tail_ESS are effective sample size measures, and Rhat is the potential\n",
       "scale reduction factor on split chains (at convergence, Rhat = 1)."
      ]
     },
     "metadata": {},
     "output_type": "display_data"
    }
   ],
   "source": [
    "brm(order~1+marchFactor*set+(1|subject),data=sd_2020_2021, init = \"random\", cores=10)\n",
    "brm(order~1+marchFactor*set+(1|subject),data=sd_2020_sampleRep, init = \"random\", cores=10)"
   ]
  },
  {
   "cell_type": "markdown",
   "metadata": {},
   "source": [
    "# march 2020 memory reflected episodic content"
   ]
  },
  {
   "cell_type": "code",
   "execution_count": 24,
   "metadata": {},
   "outputs": [
    {
     "data": {
      "text/plain": [
       "Linear mixed model fit by REML. t-tests use Satterthwaite's method [\n",
       "lmerModLmerTest]\n",
       "Formula: intDetails ~ marchFactor + (1 | subject)\n",
       "   Data: sd_2020\n",
       "Control: lmerControl(\"bobyqa\")\n",
       "\n",
       "REML criterion at convergence: 39236.8\n",
       "\n",
       "Scaled residuals: \n",
       "    Min      1Q  Median      3Q     Max \n",
       "-9.6594 -0.3144 -0.1118  0.1795 26.2520 \n",
       "\n",
       "Random effects:\n",
       " Groups   Name        Variance Std.Dev.\n",
       " subject  (Intercept) 1078     32.84   \n",
       " Residual             1772     42.10   \n",
       "Number of obs: 3702, groups:  subject, 907\n",
       "\n",
       "Fixed effects:\n",
       "                 Estimate Std. Error       df t value Pr(>|t|)    \n",
       "(Intercept)        28.041      1.406 1025.873  19.939  < 2e-16 ***\n",
       "marchFactorMarch   14.124      1.890 3202.930   7.474 9.95e-14 ***\n",
       "---\n",
       "Signif. codes:  0 ‘***’ 0.001 ‘**’ 0.01 ‘*’ 0.05 ‘.’ 0.1 ‘ ’ 1\n",
       "\n",
       "Correlation of Fixed Effects:\n",
       "            (Intr)\n",
       "mrchFctrMrc -0.285"
      ]
     },
     "metadata": {},
     "output_type": "display_data"
    },
    {
     "data": {
      "text/plain": [
       "Linear mixed model fit by REML. t-tests use Satterthwaite's method [\n",
       "lmerModLmerTest]\n",
       "Formula: intDetails ~ marchFactor + (1 | subject)\n",
       "   Data: sd_2020_p1\n",
       "Control: lmerControl(\"bobyqa\")\n",
       "\n",
       "REML criterion at convergence: 14392.6\n",
       "\n",
       "Scaled residuals: \n",
       "    Min      1Q  Median      3Q     Max \n",
       "-3.7656 -0.4186 -0.1414  0.2157 11.0694 \n",
       "\n",
       "Random effects:\n",
       " Groups   Name        Variance Std.Dev.\n",
       " subject  (Intercept) 650.6    25.51   \n",
       " Residual             832.3    28.85   \n",
       "Number of obs: 1450, groups:  subject, 475\n",
       "\n",
       "Fixed effects:\n",
       "                 Estimate Std. Error       df t value Pr(>|t|)    \n",
       "(Intercept)        26.077      1.536  541.703  16.980  < 2e-16 ***\n",
       "marchFactorMarch   11.222      2.003 1198.538   5.603 2.61e-08 ***\n",
       "---\n",
       "Signif. codes:  0 ‘***’ 0.001 ‘**’ 0.01 ‘*’ 0.05 ‘.’ 0.1 ‘ ’ 1\n",
       "\n",
       "Correlation of Fixed Effects:\n",
       "            (Intr)\n",
       "mrchFctrMrc -0.321"
      ]
     },
     "metadata": {},
     "output_type": "display_data"
    },
    {
     "data": {
      "text/plain": [
       "Linear mixed model fit by REML. t-tests use Satterthwaite's method [\n",
       "lmerModLmerTest]\n",
       "Formula: intDetails ~ marchFactor + (1 | subject)\n",
       "   Data: sd_2020_p2\n",
       "Control: lmerControl(\"bobyqa\")\n",
       "\n",
       "REML criterion at convergence: 10309.5\n",
       "\n",
       "Scaled residuals: \n",
       "    Min      1Q  Median      3Q     Max \n",
       "-2.9919 -0.4368 -0.1270  0.2879 13.2698 \n",
       "\n",
       "Random effects:\n",
       " Groups   Name        Variance Std.Dev.\n",
       " subject  (Intercept) 345.4    18.59   \n",
       " Residual             830.0    28.81   \n",
       "Number of obs: 1053, groups:  subject, 291\n",
       "\n",
       "Fixed effects:\n",
       "                 Estimate Std. Error      df t value Pr(>|t|)    \n",
       "(Intercept)        23.233      1.567 312.961   14.83   <2e-16 ***\n",
       "marchFactorMarch   21.507      2.215 874.109    9.71   <2e-16 ***\n",
       "---\n",
       "Signif. codes:  0 ‘***’ 0.001 ‘**’ 0.01 ‘*’ 0.05 ‘.’ 0.1 ‘ ’ 1\n",
       "\n",
       "Correlation of Fixed Effects:\n",
       "            (Intr)\n",
       "mrchFctrMrc -0.361"
      ]
     },
     "metadata": {},
     "output_type": "display_data"
    },
    {
     "data": {
      "text/plain": [
       "Linear mixed model fit by REML. t-tests use Satterthwaite's method [\n",
       "lmerModLmerTest]\n",
       "Formula: intDetails ~ marchFactor + (1 | subject)\n",
       "   Data: sd_2020_p2_r\n",
       "Control: lmerControl(\"bobyqa\")\n",
       "\n",
       "REML criterion at convergence: 8546.2\n",
       "\n",
       "Scaled residuals: \n",
       "    Min      1Q  Median      3Q     Max \n",
       "-2.2306 -0.4781 -0.1351  0.3186  8.7291 \n",
       "\n",
       "Random effects:\n",
       " Groups   Name        Variance Std.Dev.\n",
       " subject  (Intercept) 474.9    21.79   \n",
       " Residual             973.1    31.19   \n",
       "Number of obs: 857, groups:  subject, 241\n",
       "\n",
       "Fixed effects:\n",
       "                 Estimate Std. Error      df t value Pr(>|t|)    \n",
       "(Intercept)        26.752      1.987 258.383  13.465   <2e-16 ***\n",
       "marchFactorMarch   25.115      2.619 716.798   9.588   <2e-16 ***\n",
       "---\n",
       "Signif. codes:  0 ‘***’ 0.001 ‘**’ 0.01 ‘*’ 0.05 ‘.’ 0.1 ‘ ’ 1\n",
       "\n",
       "Correlation of Fixed Effects:\n",
       "            (Intr)\n",
       "mrchFctrMrc -0.379"
      ]
     },
     "metadata": {},
     "output_type": "display_data"
    },
    {
     "data": {
      "text/plain": [
       "Linear mixed model fit by REML. t-tests use Satterthwaite's method [\n",
       "lmerModLmerTest]\n",
       "Formula: intDetails ~ marchFactor + (1 | subject)\n",
       "   Data: sd_2021\n",
       "Control: lmerControl(\"bobyqa\")\n",
       "\n",
       "REML criterion at convergence: 15201.4\n",
       "\n",
       "Scaled residuals: \n",
       "    Min      1Q  Median      3Q     Max \n",
       "-4.8499 -0.4403 -0.1524  0.2540 10.2440 \n",
       "\n",
       "Random effects:\n",
       " Groups   Name        Variance Std.Dev.\n",
       " subject  (Intercept) 466.3    21.59   \n",
       " Residual             557.8    23.62   \n",
       "Number of obs: 1596, groups:  subject, 488\n",
       "\n",
       "Fixed effects:\n",
       "                 Estimate Std. Error       df t value Pr(>|t|)    \n",
       "(Intercept)        26.078      1.212  497.201  21.520   <2e-16 ***\n",
       "marchFactorMarch   -3.623      2.314 1310.423  -1.566    0.118    \n",
       "---\n",
       "Signif. codes:  0 ‘***’ 0.001 ‘**’ 0.01 ‘*’ 0.05 ‘.’ 0.1 ‘ ’ 1\n",
       "\n",
       "Correlation of Fixed Effects:\n",
       "            (Intr)\n",
       "mrchFctrMrc -0.150"
      ]
     },
     "metadata": {},
     "output_type": "display_data"
    }
   ],
   "source": [
    "summary(mod<-lmer(intDetails~marchFactor+(1|subject),data=sd_2020,control=lmerControl(\"bobyqa\")))\n",
    "summary(mod<-lmer(intDetails~marchFactor+(1|subject),data=sd_2020_p1,control=lmerControl(\"bobyqa\")))\n",
    "summary(mod<-lmer(intDetails~marchFactor+(1|subject),data=sd_2020_p2,control=lmerControl(\"bobyqa\")))\n",
    "summary(mod<-lmer(intDetails~marchFactor+(1|subject),data=sd_2020_p2_r,control=lmerControl(\"bobyqa\")))\n",
    "summary(mod<-lmer(intDetails~marchFactor+(1|subject),data=sd_2021,control=lmerControl(\"bobyqa\")))"
   ]
  },
  {
   "cell_type": "code",
   "execution_count": 25,
   "metadata": {},
   "outputs": [
    {
     "name": "stderr",
     "output_type": "stream",
     "text": [
      "Warning message:\n",
      "“Rows containing NAs were excluded from the model.”\n",
      "Compiling Stan program...\n",
      "\n",
      "Start sampling\n",
      "\n"
     ]
    },
    {
     "data": {
      "text/plain": [
       " Family: gaussian \n",
       "  Links: mu = identity; sigma = identity \n",
       "Formula: intDetails ~ 1 + marchFactor + (1 | subject) \n",
       "   Data: sd_2020 (Number of observations: 3702) \n",
       "  Draws: 4 chains, each with iter = 2000; warmup = 1000; thin = 1;\n",
       "         total post-warmup draws = 4000\n",
       "\n",
       "Group-Level Effects: \n",
       "~subject (Number of levels: 907) \n",
       "              Estimate Est.Error l-95% CI u-95% CI Rhat Bulk_ESS Tail_ESS\n",
       "sd(Intercept)    32.84      1.14    30.67    35.16 1.00     1386     1928\n",
       "\n",
       "Population-Level Effects: \n",
       "                 Estimate Est.Error l-95% CI u-95% CI Rhat Bulk_ESS Tail_ESS\n",
       "Intercept           28.01      1.44    25.31    30.91 1.01     1203     2007\n",
       "marchFactorMarch    14.19      1.89    10.40    17.83 1.00     4178     2993\n",
       "\n",
       "Family Specific Parameters: \n",
       "      Estimate Est.Error l-95% CI u-95% CI Rhat Bulk_ESS Tail_ESS\n",
       "sigma    42.10      0.55    41.03    43.18 1.00     3499     3047\n",
       "\n",
       "Draws were sampled using sampling(NUTS). For each parameter, Bulk_ESS\n",
       "and Tail_ESS are effective sample size measures, and Rhat is the potential\n",
       "scale reduction factor on split chains (at convergence, Rhat = 1)."
      ]
     },
     "metadata": {},
     "output_type": "display_data"
    },
    {
     "name": "stderr",
     "output_type": "stream",
     "text": [
      "Warning message:\n",
      "“Rows containing NAs were excluded from the model.”\n",
      "Compiling Stan program...\n",
      "\n",
      "Start sampling\n",
      "\n"
     ]
    },
    {
     "data": {
      "text/plain": [
       " Family: gaussian \n",
       "  Links: mu = identity; sigma = identity \n",
       "Formula: intDetails ~ 1 + marchFactor + (1 | subject) \n",
       "   Data: sd_2020_p1 (Number of observations: 1450) \n",
       "  Draws: 4 chains, each with iter = 2000; warmup = 1000; thin = 1;\n",
       "         total post-warmup draws = 4000\n",
       "\n",
       "Group-Level Effects: \n",
       "~subject (Number of levels: 475) \n",
       "              Estimate Est.Error l-95% CI u-95% CI Rhat Bulk_ESS Tail_ESS\n",
       "sd(Intercept)    25.56      1.29    23.11    28.19 1.01     1321     1623\n",
       "\n",
       "Population-Level Effects: \n",
       "                 Estimate Est.Error l-95% CI u-95% CI Rhat Bulk_ESS Tail_ESS\n",
       "Intercept           25.97      1.52    23.11    28.93 1.00     1663     2468\n",
       "marchFactorMarch    11.22      2.03     7.17    15.16 1.00     6389     3173\n",
       "\n",
       "Family Specific Parameters: \n",
       "      Estimate Est.Error l-95% CI u-95% CI Rhat Bulk_ESS Tail_ESS\n",
       "sigma    28.87      0.63    27.67    30.12 1.00     2760     2775\n",
       "\n",
       "Draws were sampled using sampling(NUTS). For each parameter, Bulk_ESS\n",
       "and Tail_ESS are effective sample size measures, and Rhat is the potential\n",
       "scale reduction factor on split chains (at convergence, Rhat = 1)."
      ]
     },
     "metadata": {},
     "output_type": "display_data"
    },
    {
     "name": "stderr",
     "output_type": "stream",
     "text": [
      "Warning message:\n",
      "“Rows containing NAs were excluded from the model.”\n",
      "Compiling Stan program...\n",
      "\n",
      "Start sampling\n",
      "\n"
     ]
    },
    {
     "data": {
      "text/plain": [
       " Family: gaussian \n",
       "  Links: mu = identity; sigma = identity \n",
       "Formula: intDetails ~ 1 + marchFactor + (1 | subject) \n",
       "   Data: sd_2020_p2 (Number of observations: 1053) \n",
       "  Draws: 4 chains, each with iter = 2000; warmup = 1000; thin = 1;\n",
       "         total post-warmup draws = 4000\n",
       "\n",
       "Group-Level Effects: \n",
       "~subject (Number of levels: 291) \n",
       "              Estimate Est.Error l-95% CI u-95% CI Rhat Bulk_ESS Tail_ESS\n",
       "sd(Intercept)    18.64      1.44    15.91    21.49 1.01     1281     2431\n",
       "\n",
       "Population-Level Effects: \n",
       "                 Estimate Est.Error l-95% CI u-95% CI Rhat Bulk_ESS Tail_ESS\n",
       "Intercept           23.19      1.55    20.09    26.19 1.00     2147     2619\n",
       "marchFactorMarch    21.56      2.19    17.20    25.87 1.00     6250     2782\n",
       "\n",
       "Family Specific Parameters: \n",
       "      Estimate Est.Error l-95% CI u-95% CI Rhat Bulk_ESS Tail_ESS\n",
       "sigma    28.82      0.73    27.41    30.27 1.00     3239     2660\n",
       "\n",
       "Draws were sampled using sampling(NUTS). For each parameter, Bulk_ESS\n",
       "and Tail_ESS are effective sample size measures, and Rhat is the potential\n",
       "scale reduction factor on split chains (at convergence, Rhat = 1)."
      ]
     },
     "metadata": {},
     "output_type": "display_data"
    },
    {
     "name": "stderr",
     "output_type": "stream",
     "text": [
      "Warning message:\n",
      "“Rows containing NAs were excluded from the model.”\n",
      "Compiling Stan program...\n",
      "\n",
      "Start sampling\n",
      "\n"
     ]
    },
    {
     "data": {
      "text/plain": [
       " Family: gaussian \n",
       "  Links: mu = identity; sigma = identity \n",
       "Formula: intDetails ~ 1 + marchFactor + (1 | subject) \n",
       "   Data: sd_2020_p2_r (Number of observations: 857) \n",
       "  Draws: 4 chains, each with iter = 2000; warmup = 1000; thin = 1;\n",
       "         total post-warmup draws = 4000\n",
       "\n",
       "Group-Level Effects: \n",
       "~subject (Number of levels: 241) \n",
       "              Estimate Est.Error l-95% CI u-95% CI Rhat Bulk_ESS Tail_ESS\n",
       "sd(Intercept)    21.87      1.76    18.54    25.48 1.00     1450     2274\n",
       "\n",
       "Population-Level Effects: \n",
       "                 Estimate Est.Error l-95% CI u-95% CI Rhat Bulk_ESS Tail_ESS\n",
       "Intercept           26.72      2.00    22.83    30.80 1.00     2618     2814\n",
       "marchFactorMarch    25.12      2.57    20.25    30.14 1.00     6320     3050\n",
       "\n",
       "Family Specific Parameters: \n",
       "      Estimate Est.Error l-95% CI u-95% CI Rhat Bulk_ESS Tail_ESS\n",
       "sigma    31.24      0.88    29.59    33.02 1.00     3110     3388\n",
       "\n",
       "Draws were sampled using sampling(NUTS). For each parameter, Bulk_ESS\n",
       "and Tail_ESS are effective sample size measures, and Rhat is the potential\n",
       "scale reduction factor on split chains (at convergence, Rhat = 1)."
      ]
     },
     "metadata": {},
     "output_type": "display_data"
    },
    {
     "name": "stderr",
     "output_type": "stream",
     "text": [
      "Warning message:\n",
      "“Rows containing NAs were excluded from the model.”\n",
      "Compiling Stan program...\n",
      "\n",
      "Start sampling\n",
      "\n"
     ]
    },
    {
     "data": {
      "text/plain": [
       " Family: gaussian \n",
       "  Links: mu = identity; sigma = identity \n",
       "Formula: intDetails ~ 1 + marchFactor + (1 | subject) \n",
       "   Data: sd_2021 (Number of observations: 1596) \n",
       "  Draws: 4 chains, each with iter = 2000; warmup = 1000; thin = 1;\n",
       "         total post-warmup draws = 4000\n",
       "\n",
       "Group-Level Effects: \n",
       "~subject (Number of levels: 488) \n",
       "              Estimate Est.Error l-95% CI u-95% CI Rhat Bulk_ESS Tail_ESS\n",
       "sd(Intercept)    21.59      1.02    19.71    23.66 1.00     1215     2153\n",
       "\n",
       "Population-Level Effects: \n",
       "                 Estimate Est.Error l-95% CI u-95% CI Rhat Bulk_ESS Tail_ESS\n",
       "Intercept           26.03      1.21    23.73    28.43 1.00     1422     2393\n",
       "marchFactorMarch    -3.64      2.31    -8.22     0.89 1.00     5814     2654\n",
       "\n",
       "Family Specific Parameters: \n",
       "      Estimate Est.Error l-95% CI u-95% CI Rhat Bulk_ESS Tail_ESS\n",
       "sigma    23.63      0.50    22.66    24.62 1.00     3548     2863\n",
       "\n",
       "Draws were sampled using sampling(NUTS). For each parameter, Bulk_ESS\n",
       "and Tail_ESS are effective sample size measures, and Rhat is the potential\n",
       "scale reduction factor on split chains (at convergence, Rhat = 1)."
      ]
     },
     "metadata": {},
     "output_type": "display_data"
    }
   ],
   "source": [
    "# bayesian regression models (for confidence intervals)\n",
    "brm(intDetails~1+marchFactor+(1|subject),data=sd_2020, init = \"random\", cores=10)\n",
    "brm(intDetails~1+marchFactor+(1|subject),data=sd_2020_p1, init = \"random\", cores=10)\n",
    "brm(intDetails~1+marchFactor+(1|subject),data=sd_2020_p2, init = \"random\", cores=10)\n",
    "brm(intDetails~1+marchFactor+(1|subject),data=sd_2020_p2_r, init = \"random\", cores=10)\n",
    "brm(intDetails~1+marchFactor+(1|subject),data=sd_2021, init = \"random\", cores=10)"
   ]
  },
  {
   "cell_type": "code",
   "execution_count": 26,
   "metadata": {},
   "outputs": [
    {
     "data": {
      "text/plain": [
       "Linear mixed model fit by REML. t-tests use Satterthwaite's method [\n",
       "lmerModLmerTest]\n",
       "Formula: intDetails ~ marchFactor * set + (1 | subject)\n",
       "   Data: sd_2020_2021\n",
       "Control: lmerControl(\"bobyqa\")\n",
       "\n",
       "REML criterion at convergence: 55353\n",
       "\n",
       "Scaled residuals: \n",
       "   Min     1Q Median     3Q    Max \n",
       "-6.171 -0.353 -0.132  0.185 33.182 \n",
       "\n",
       "Random effects:\n",
       " Groups   Name        Variance Std.Dev.\n",
       " subject  (Intercept)  503.3   22.43   \n",
       " Residual             1730.1   41.59   \n",
       "Number of obs: 5298, groups:  subject, 917\n",
       "\n",
       "Fixed effects:\n",
       "                         Estimate Std. Error       df t value Pr(>|t|)    \n",
       "(Intercept)                27.917      1.113 1481.376  25.086  < 2e-16 ***\n",
       "marchFactorMarch           14.021      1.830 4902.994   7.663 2.18e-14 ***\n",
       "set2021                    -5.520      1.458 5238.208  -3.785 0.000155 ***\n",
       "marchFactorMarch:set2021  -18.096      4.301 4843.865  -4.207 2.63e-05 ***\n",
       "---\n",
       "Signif. codes:  0 ‘***’ 0.001 ‘**’ 0.01 ‘*’ 0.05 ‘.’ 0.1 ‘ ’ 1\n",
       "\n",
       "Correlation of Fixed Effects:\n",
       "            (Intr) mrchFM st2021\n",
       "mrchFctrMrc -0.328              \n",
       "set2021     -0.390  0.237       \n",
       "mrchFM:2021  0.140 -0.425 -0.298"
      ]
     },
     "metadata": {},
     "output_type": "display_data"
    },
    {
     "data": {
      "text/plain": [
       "Linear mixed model fit by REML. t-tests use Satterthwaite's method [\n",
       "lmerModLmerTest]\n",
       "Formula: intDetails ~ marchFactor * set + (1 | subject)\n",
       "   Data: sd_2020_sampleRep\n",
       "Control: lmerControl(\"bobyqa\")\n",
       "\n",
       "REML criterion at convergence: 18864.1\n",
       "\n",
       "Scaled residuals: \n",
       "    Min      1Q  Median      3Q     Max \n",
       "-2.9142 -0.4555 -0.1340  0.2953 12.7521 \n",
       "\n",
       "Random effects:\n",
       " Groups   Name        Variance Std.Dev.\n",
       " subject  (Intercept) 403.3    20.08   \n",
       " Residual             894.3    29.90   \n",
       "Number of obs: 1910, groups:  subject, 532\n",
       "\n",
       "Fixed effects:\n",
       "                               Estimate Std. Error       df t value Pr(>|t|)\n",
       "(Intercept)                      23.216      1.662  563.399  13.966   <2e-16\n",
       "marchFactorMarch                 21.507      2.303 1575.890   9.339   <2e-16\n",
       "set2020+2_rep                     3.532      2.497  571.748   1.414    0.158\n",
       "marchFactorMarch:set2020+2_rep    3.621      3.404 1592.944   1.064    0.288\n",
       "                                  \n",
       "(Intercept)                    ***\n",
       "marchFactorMarch               ***\n",
       "set2020+2_rep                     \n",
       "marchFactorMarch:set2020+2_rep    \n",
       "---\n",
       "Signif. codes:  0 ‘***’ 0.001 ‘**’ 0.01 ‘*’ 0.05 ‘.’ 0.1 ‘ ’ 1\n",
       "\n",
       "Correlation of Fixed Effects:\n",
       "            (Intr) mrchFM s2020+\n",
       "mrchFctrMrc -0.356              \n",
       "st2020+2_rp -0.666  0.237       \n",
       "mFM:2020+2_  0.241 -0.677 -0.371"
      ]
     },
     "metadata": {},
     "output_type": "display_data"
    }
   ],
   "source": [
    "# check for interaction \n",
    "summary(mod<-lmer(intDetails~marchFactor*set+(1|subject),data=sd_2020_2021,control=lmerControl(\"bobyqa\")))\n",
    "summary(mod<-lmer(intDetails~marchFactor*set+(1|subject),data=sd_2020_sampleRep,control=lmerControl(\"bobyqa\")))"
   ]
  },
  {
   "cell_type": "code",
   "execution_count": 27,
   "metadata": {},
   "outputs": [
    {
     "name": "stderr",
     "output_type": "stream",
     "text": [
      "Warning message:\n",
      "“Rows containing NAs were excluded from the model.”\n",
      "Compiling Stan program...\n",
      "\n",
      "Start sampling\n",
      "\n"
     ]
    },
    {
     "data": {
      "text/plain": [
       " Family: gaussian \n",
       "  Links: mu = identity; sigma = identity \n",
       "Formula: intDetails ~ 1 + marchFactor * set + (1 | subject) \n",
       "   Data: sd_2020_2021 (Number of observations: 5298) \n",
       "  Draws: 4 chains, each with iter = 2000; warmup = 1000; thin = 1;\n",
       "         total post-warmup draws = 4000\n",
       "\n",
       "Group-Level Effects: \n",
       "~subject (Number of levels: 917) \n",
       "              Estimate Est.Error l-95% CI u-95% CI Rhat Bulk_ESS Tail_ESS\n",
       "sd(Intercept)    22.43      0.84    20.82    24.14 1.00     1182     1748\n",
       "\n",
       "Population-Level Effects: \n",
       "                         Estimate Est.Error l-95% CI u-95% CI Rhat Bulk_ESS\n",
       "Intercept                   27.93      1.13    25.71    30.14 1.00     1464\n",
       "marchFactorMarch            13.99      1.82    10.44    17.55 1.00     3826\n",
       "set2021                     -5.53      1.46    -8.40    -2.75 1.00     3249\n",
       "marchFactorMarch:set2021   -18.01      4.32   -26.39    -9.57 1.00     3969\n",
       "                         Tail_ESS\n",
       "Intercept                    2227\n",
       "marchFactorMarch             2784\n",
       "set2021                      2860\n",
       "marchFactorMarch:set2021     3135\n",
       "\n",
       "Family Specific Parameters: \n",
       "      Estimate Est.Error l-95% CI u-95% CI Rhat Bulk_ESS Tail_ESS\n",
       "sigma    41.61      0.44    40.75    42.49 1.00     4477     2881\n",
       "\n",
       "Draws were sampled using sampling(NUTS). For each parameter, Bulk_ESS\n",
       "and Tail_ESS are effective sample size measures, and Rhat is the potential\n",
       "scale reduction factor on split chains (at convergence, Rhat = 1)."
      ]
     },
     "metadata": {},
     "output_type": "display_data"
    },
    {
     "name": "stderr",
     "output_type": "stream",
     "text": [
      "Warning message:\n",
      "“Rows containing NAs were excluded from the model.”\n",
      "Compiling Stan program...\n",
      "\n",
      "Start sampling\n",
      "\n"
     ]
    },
    {
     "data": {
      "text/plain": [
       " Family: gaussian \n",
       "  Links: mu = identity; sigma = identity \n",
       "Formula: intDetails ~ 1 + marchFactor * set + (1 | subject) \n",
       "   Data: sd_2020_sampleRep (Number of observations: 1910) \n",
       "  Draws: 4 chains, each with iter = 2000; warmup = 1000; thin = 1;\n",
       "         total post-warmup draws = 4000\n",
       "\n",
       "Group-Level Effects: \n",
       "~subject (Number of levels: 532) \n",
       "              Estimate Est.Error l-95% CI u-95% CI Rhat Bulk_ESS Tail_ESS\n",
       "sd(Intercept)    20.09      1.14    17.92    22.39 1.00     1476     2209\n",
       "\n",
       "Population-Level Effects: \n",
       "                               Estimate Est.Error l-95% CI u-95% CI Rhat\n",
       "Intercept                         23.23      1.63    20.10    26.41 1.00\n",
       "marchFactorMarch                  21.54      2.31    16.98    26.04 1.00\n",
       "set2020P2_rep                      3.55      2.44    -1.13     8.42 1.00\n",
       "marchFactorMarch:set2020P2_rep     3.53      3.42    -3.13    10.26 1.00\n",
       "                               Bulk_ESS Tail_ESS\n",
       "Intercept                          1957     2748\n",
       "marchFactorMarch                   3286     3030\n",
       "set2020P2_rep                      1780     2655\n",
       "marchFactorMarch:set2020P2_rep     3376     3059\n",
       "\n",
       "Family Specific Parameters: \n",
       "      Estimate Est.Error l-95% CI u-95% CI Rhat Bulk_ESS Tail_ESS\n",
       "sigma    29.92      0.58    28.79    31.05 1.00     3040     2798\n",
       "\n",
       "Draws were sampled using sampling(NUTS). For each parameter, Bulk_ESS\n",
       "and Tail_ESS are effective sample size measures, and Rhat is the potential\n",
       "scale reduction factor on split chains (at convergence, Rhat = 1)."
      ]
     },
     "metadata": {},
     "output_type": "display_data"
    }
   ],
   "source": [
    "# bayesian regression model (for confidence intervals)\n",
    "brm(intDetails~1+marchFactor*set+(1|subject), data = sd_2020_2021, init = \"random\", cores=10)\n",
    "brm(intDetails~1+marchFactor*set+(1|subject), data = sd_2020_sampleRep, init = \"random\", cores=10)"
   ]
  },
  {
   "cell_type": "markdown",
   "metadata": {},
   "source": [
    "# march 2020 memory contained more negative content that predicted greater recall"
   ]
  },
  {
   "cell_type": "code",
   "execution_count": 28,
   "metadata": {},
   "outputs": [
    {
     "data": {
      "text/plain": [
       "Linear mixed model fit by REML. t-tests use Satterthwaite's method [\n",
       "lmerModLmerTest]\n",
       "Formula: compound ~ marchFactor + (1 | subject)\n",
       "   Data: sd_2020\n",
       "Control: lmerControl(\"bobyqa\")\n",
       "\n",
       "REML criterion at convergence: 1668.7\n",
       "\n",
       "Scaled residuals: \n",
       "    Min      1Q  Median      3Q     Max \n",
       "-3.2663 -0.5299 -0.0317  0.5730  3.0145 \n",
       "\n",
       "Random effects:\n",
       " Groups   Name        Variance Std.Dev.\n",
       " subject  (Intercept) 0.008798 0.0938  \n",
       " Residual             0.084262 0.2903  \n",
       "Number of obs: 3702, groups:  subject, 907\n",
       "\n",
       "Fixed effects:\n",
       "                   Estimate Std. Error         df t value Pr(>|t|)    \n",
       "(Intercept)       4.326e-02  6.398e-03  8.717e+02   6.762 2.49e-11 ***\n",
       "marchFactorMarch -7.097e-02  1.263e-02  3.333e+03  -5.621 2.06e-08 ***\n",
       "---\n",
       "Signif. codes:  0 ‘***’ 0.001 ‘**’ 0.01 ‘*’ 0.05 ‘.’ 0.1 ‘ ’ 1\n",
       "\n",
       "Correlation of Fixed Effects:\n",
       "            (Intr)\n",
       "mrchFctrMrc -0.380"
      ]
     },
     "metadata": {},
     "output_type": "display_data"
    },
    {
     "data": {
      "text/plain": [
       "Linear mixed model fit by REML. t-tests use Satterthwaite's method [\n",
       "lmerModLmerTest]\n",
       "Formula: compound ~ marchFactor + (1 | subject)\n",
       "   Data: sd_2020_p1\n",
       "Control: lmerControl(\"bobyqa\")\n",
       "\n",
       "REML criterion at convergence: 572\n",
       "\n",
       "Scaled residuals: \n",
       "     Min       1Q   Median       3Q      Max \n",
       "-3.05890 -0.54369  0.01155  0.48534  3.02905 \n",
       "\n",
       "Random effects:\n",
       " Groups   Name        Variance Std.Dev.\n",
       " subject  (Intercept) 0.006089 0.07803 \n",
       " Residual             0.080681 0.28404 \n",
       "Number of obs: 1450, groups:  subject, 475\n",
       "\n",
       "Fixed effects:\n",
       "                   Estimate Std. Error         df t value Pr(>|t|)    \n",
       "(Intercept)      -4.270e-03  9.461e-03  4.336e+02  -0.451    0.652    \n",
       "marchFactorMarch -8.148e-02  1.857e-02  1.310e+03  -4.389 1.23e-05 ***\n",
       "---\n",
       "Signif. codes:  0 ‘***’ 0.001 ‘**’ 0.01 ‘*’ 0.05 ‘.’ 0.1 ‘ ’ 1\n",
       "\n",
       "Correlation of Fixed Effects:\n",
       "            (Intr)\n",
       "mrchFctrMrc -0.434"
      ]
     },
     "metadata": {},
     "output_type": "display_data"
    },
    {
     "data": {
      "text/plain": [
       "Linear mixed model fit by REML. t-tests use Satterthwaite's method [\n",
       "lmerModLmerTest]\n",
       "Formula: compound ~ marchFactor + (1 | subject)\n",
       "   Data: sd_2020_p2\n",
       "Control: lmerControl(\"bobyqa\")\n",
       "\n",
       "REML criterion at convergence: 450.2\n",
       "\n",
       "Scaled residuals: \n",
       "    Min      1Q  Median      3Q     Max \n",
       "-3.2123 -0.5243 -0.0017  0.4602  3.2267 \n",
       "\n",
       "Random effects:\n",
       " Groups   Name        Variance Std.Dev.\n",
       " subject  (Intercept) 0.005573 0.07465 \n",
       " Residual             0.083829 0.28953 \n",
       "Number of obs: 1053, groups:  subject, 291\n",
       "\n",
       "Fixed effects:\n",
       "                   Estimate Std. Error         df t value Pr(>|t|)  \n",
       "(Intercept)       -0.001947   0.011368 299.806262  -0.171   0.8641  \n",
       "marchFactorMarch  -0.041448   0.021635 932.780526  -1.916   0.0557 .\n",
       "---\n",
       "Signif. codes:  0 ‘***’ 0.001 ‘**’ 0.01 ‘*’ 0.05 ‘.’ 0.1 ‘ ’ 1\n",
       "\n",
       "Correlation of Fixed Effects:\n",
       "            (Intr)\n",
       "mrchFctrMrc -0.445"
      ]
     },
     "metadata": {},
     "output_type": "display_data"
    },
    {
     "data": {
      "text/plain": [
       "Linear mixed model fit by REML. t-tests use Satterthwaite's method [\n",
       "lmerModLmerTest]\n",
       "Formula: compound ~ marchFactor + (1 | subject)\n",
       "   Data: sd_2020_p2_r\n",
       "Control: lmerControl(\"bobyqa\")\n",
       "\n",
       "REML criterion at convergence: 223.7\n",
       "\n",
       "Scaled residuals: \n",
       "    Min      1Q  Median      3Q     Max \n",
       "-3.1587 -0.4547 -0.0471  0.4956  3.0798 \n",
       "\n",
       "Random effects:\n",
       " Groups   Name        Variance Std.Dev.\n",
       " subject  (Intercept) 0.005359 0.0732  \n",
       " Residual             0.070286 0.2651  \n",
       "Number of obs: 857, groups:  subject, 241\n",
       "\n",
       "Fixed effects:\n",
       "                  Estimate Std. Error        df t value Pr(>|t|)  \n",
       "(Intercept)        0.02570    0.01185 255.74926   2.169   0.0310 *\n",
       "marchFactorMarch  -0.05490    0.02150 776.85321  -2.554   0.0108 *\n",
       "---\n",
       "Signif. codes:  0 ‘***’ 0.001 ‘**’ 0.01 ‘*’ 0.05 ‘.’ 0.1 ‘ ’ 1\n",
       "\n",
       "Correlation of Fixed Effects:\n",
       "            (Intr)\n",
       "mrchFctrMrc -0.463"
      ]
     },
     "metadata": {},
     "output_type": "display_data"
    },
    {
     "data": {
      "text/plain": [
       "Linear mixed model fit by REML. t-tests use Satterthwaite's method [\n",
       "lmerModLmerTest]\n",
       "Formula: compound ~ marchFactor + (1 | subject)\n",
       "   Data: sd_2021\n",
       "Control: lmerControl(\"bobyqa\")\n",
       "\n",
       "REML criterion at convergence: 823.4\n",
       "\n",
       "Scaled residuals: \n",
       "     Min       1Q   Median       3Q      Max \n",
       "-2.94870 -0.47140 -0.07026  0.57197  2.53718 \n",
       "\n",
       "Random effects:\n",
       " Groups   Name        Variance Std.Dev.\n",
       " subject  (Intercept) 0.01199  0.1095  \n",
       " Residual             0.08754  0.2959  \n",
       "Number of obs: 1596, groups:  subject, 488\n",
       "\n",
       "Fixed effects:\n",
       "                   Estimate Std. Error         df t value Pr(>|t|)    \n",
       "(Intercept)         0.07644    0.00960  411.96035   7.963 1.66e-14 ***\n",
       "marchFactorMarch   -0.03130    0.02767 1446.98077  -1.131    0.258    \n",
       "---\n",
       "Signif. codes:  0 ‘***’ 0.001 ‘**’ 0.01 ‘*’ 0.05 ‘.’ 0.1 ‘ ’ 1\n",
       "\n",
       "Correlation of Fixed Effects:\n",
       "            (Intr)\n",
       "mrchFctrMrc -0.233"
      ]
     },
     "metadata": {},
     "output_type": "display_data"
    }
   ],
   "source": [
    "summary(mod<-lmer(compound~marchFactor+(1|subject),data=sd_2020,control=lmerControl(\"bobyqa\")))\n",
    "summary(mod<-lmer(compound~marchFactor+(1|subject),data=sd_2020_p1,control=lmerControl(\"bobyqa\")))\n",
    "summary(mod<-lmer(compound~marchFactor+(1|subject),data=sd_2020_p2,control=lmerControl(\"bobyqa\")))\n",
    "summary(mod<-lmer(compound~marchFactor+(1|subject),data=sd_2020_p2_r,control=lmerControl(\"bobyqa\")))\n",
    "summary(mod<-lmer(compound~marchFactor+(1|subject),data=sd_2021,control=lmerControl(\"bobyqa\")))"
   ]
  },
  {
   "cell_type": "code",
   "execution_count": 29,
   "metadata": {},
   "outputs": [
    {
     "name": "stderr",
     "output_type": "stream",
     "text": [
      "Warning message:\n",
      "“Rows containing NAs were excluded from the model.”\n",
      "Compiling Stan program...\n",
      "\n",
      "Start sampling\n",
      "\n"
     ]
    },
    {
     "data": {
      "text/plain": [
       " Family: gaussian \n",
       "  Links: mu = identity; sigma = identity \n",
       "Formula: compound ~ 1 + marchFactor + (marchFactor | subject) \n",
       "   Data: sd_2020 (Number of observations: 3702) \n",
       "  Draws: 4 chains, each with iter = 2000; warmup = 1000; thin = 1;\n",
       "         total post-warmup draws = 4000\n",
       "\n",
       "Group-Level Effects: \n",
       "~subject (Number of levels: 907) \n",
       "                                Estimate Est.Error l-95% CI u-95% CI Rhat\n",
       "sd(Intercept)                       0.12      0.01     0.10     0.13 1.00\n",
       "sd(marchFactorMarch)                0.09      0.02     0.06     0.13 1.00\n",
       "cor(Intercept,marchFactorMarch)    -0.96      0.04    -1.00    -0.87 1.00\n",
       "                                Bulk_ESS Tail_ESS\n",
       "sd(Intercept)                        911     2001\n",
       "sd(marchFactorMarch)                1857     2343\n",
       "cor(Intercept,marchFactorMarch)     2455     2226\n",
       "\n",
       "Population-Level Effects: \n",
       "                 Estimate Est.Error l-95% CI u-95% CI Rhat Bulk_ESS Tail_ESS\n",
       "Intercept            0.04      0.01     0.03     0.06 1.00     2722     2627\n",
       "marchFactorMarch    -0.07      0.01    -0.10    -0.05 1.00     4909     2786\n",
       "\n",
       "Family Specific Parameters: \n",
       "      Estimate Est.Error l-95% CI u-95% CI Rhat Bulk_ESS Tail_ESS\n",
       "sigma     0.29      0.00     0.28     0.29 1.00     2207     2511\n",
       "\n",
       "Draws were sampled using sampling(NUTS). For each parameter, Bulk_ESS\n",
       "and Tail_ESS are effective sample size measures, and Rhat is the potential\n",
       "scale reduction factor on split chains (at convergence, Rhat = 1)."
      ]
     },
     "metadata": {},
     "output_type": "display_data"
    },
    {
     "name": "stderr",
     "output_type": "stream",
     "text": [
      "Warning message:\n",
      "“Rows containing NAs were excluded from the model.”\n",
      "Compiling Stan program...\n",
      "\n",
      "recompiling to avoid crashing R session\n",
      "\n",
      "Start sampling\n",
      "\n"
     ]
    },
    {
     "data": {
      "text/plain": [
       " Family: gaussian \n",
       "  Links: mu = identity; sigma = identity \n",
       "Formula: compound ~ 1 + marchFactor + (marchFactor | subject) \n",
       "   Data: sd_2020_p1 (Number of observations: 1450) \n",
       "  Draws: 4 chains, each with iter = 2000; warmup = 1000; thin = 1;\n",
       "         total post-warmup draws = 4000\n",
       "\n",
       "Group-Level Effects: \n",
       "~subject (Number of levels: 475) \n",
       "                                Estimate Est.Error l-95% CI u-95% CI Rhat\n",
       "sd(Intercept)                       0.10      0.02     0.07     0.13 1.00\n",
       "sd(marchFactorMarch)                0.08      0.03     0.02     0.14 1.00\n",
       "cor(Intercept,marchFactorMarch)    -0.87      0.19    -1.00    -0.35 1.00\n",
       "                                Bulk_ESS Tail_ESS\n",
       "sd(Intercept)                        706      879\n",
       "sd(marchFactorMarch)                1066     1138\n",
       "cor(Intercept,marchFactorMarch)     2030     1927\n",
       "\n",
       "Population-Level Effects: \n",
       "                 Estimate Est.Error l-95% CI u-95% CI Rhat Bulk_ESS Tail_ESS\n",
       "Intercept           -0.01      0.01    -0.02     0.01 1.00     3936     3032\n",
       "marchFactorMarch    -0.08      0.02    -0.12    -0.05 1.00     5136     2993\n",
       "\n",
       "Family Specific Parameters: \n",
       "      Estimate Est.Error l-95% CI u-95% CI Rhat Bulk_ESS Tail_ESS\n",
       "sigma     0.28      0.01     0.27     0.29 1.00     1565     2392\n",
       "\n",
       "Draws were sampled using sampling(NUTS). For each parameter, Bulk_ESS\n",
       "and Tail_ESS are effective sample size measures, and Rhat is the potential\n",
       "scale reduction factor on split chains (at convergence, Rhat = 1)."
      ]
     },
     "metadata": {},
     "output_type": "display_data"
    },
    {
     "name": "stderr",
     "output_type": "stream",
     "text": [
      "Warning message:\n",
      "“Rows containing NAs were excluded from the model.”\n",
      "Compiling Stan program...\n",
      "\n",
      "recompiling to avoid crashing R session\n",
      "\n",
      "Start sampling\n",
      "\n"
     ]
    },
    {
     "data": {
      "text/plain": [
       " Family: gaussian \n",
       "  Links: mu = identity; sigma = identity \n",
       "Formula: compound ~ 1 + marchFactor + (marchFactor | subject) \n",
       "   Data: sd_2020_p2 (Number of observations: 1053) \n",
       "  Draws: 4 chains, each with iter = 2000; warmup = 1000; thin = 1;\n",
       "         total post-warmup draws = 4000\n",
       "\n",
       "Group-Level Effects: \n",
       "~subject (Number of levels: 291) \n",
       "                                Estimate Est.Error l-95% CI u-95% CI Rhat\n",
       "sd(Intercept)                       0.13      0.02     0.10     0.17 1.00\n",
       "sd(marchFactorMarch)                0.14      0.03     0.09     0.20 1.00\n",
       "cor(Intercept,marchFactorMarch)    -0.97      0.04    -1.00    -0.86 1.00\n",
       "                                Bulk_ESS Tail_ESS\n",
       "sd(Intercept)                       1128     1949\n",
       "sd(marchFactorMarch)                1810     2257\n",
       "cor(Intercept,marchFactorMarch)     2974     2429\n",
       "\n",
       "Population-Level Effects: \n",
       "                 Estimate Est.Error l-95% CI u-95% CI Rhat Bulk_ESS Tail_ESS\n",
       "Intercept           -0.00      0.01    -0.03     0.02 1.00     2842     2716\n",
       "marchFactorMarch    -0.04      0.02    -0.09     0.00 1.00     4761     2813\n",
       "\n",
       "Family Specific Parameters: \n",
       "      Estimate Est.Error l-95% CI u-95% CI Rhat Bulk_ESS Tail_ESS\n",
       "sigma     0.28      0.01     0.26     0.29 1.00     2635     2629\n",
       "\n",
       "Draws were sampled using sampling(NUTS). For each parameter, Bulk_ESS\n",
       "and Tail_ESS are effective sample size measures, and Rhat is the potential\n",
       "scale reduction factor on split chains (at convergence, Rhat = 1)."
      ]
     },
     "metadata": {},
     "output_type": "display_data"
    },
    {
     "name": "stderr",
     "output_type": "stream",
     "text": [
      "Warning message:\n",
      "“Rows containing NAs were excluded from the model.”\n",
      "Compiling Stan program...\n",
      "\n",
      "recompiling to avoid crashing R session\n",
      "\n",
      "Start sampling\n",
      "\n"
     ]
    },
    {
     "data": {
      "text/plain": [
       " Family: gaussian \n",
       "  Links: mu = identity; sigma = identity \n",
       "Formula: compound ~ 1 + marchFactor + (marchFactor | subject) \n",
       "   Data: sd_2020_p2_r (Number of observations: 857) \n",
       "  Draws: 4 chains, each with iter = 2000; warmup = 1000; thin = 1;\n",
       "         total post-warmup draws = 4000\n",
       "\n",
       "Group-Level Effects: \n",
       "~subject (Number of levels: 241) \n",
       "                                Estimate Est.Error l-95% CI u-95% CI Rhat\n",
       "sd(Intercept)                       0.09      0.02     0.04     0.12 1.00\n",
       "sd(marchFactorMarch)                0.05      0.03     0.00     0.12 1.00\n",
       "cor(Intercept,marchFactorMarch)    -0.67      0.39    -0.99     0.53 1.00\n",
       "                                Bulk_ESS Tail_ESS\n",
       "sd(Intercept)                        815     1022\n",
       "sd(marchFactorMarch)                1090     1262\n",
       "cor(Intercept,marchFactorMarch)     1742     1880\n",
       "\n",
       "Population-Level Effects: \n",
       "                 Estimate Est.Error l-95% CI u-95% CI Rhat Bulk_ESS Tail_ESS\n",
       "Intercept            0.03      0.01     0.00     0.05 1.00     2746     2632\n",
       "marchFactorMarch    -0.06      0.02    -0.10    -0.01 1.00     3894     2243\n",
       "\n",
       "Family Specific Parameters: \n",
       "      Estimate Est.Error l-95% CI u-95% CI Rhat Bulk_ESS Tail_ESS\n",
       "sigma     0.26      0.01     0.25     0.28 1.00     1953     2444\n",
       "\n",
       "Draws were sampled using sampling(NUTS). For each parameter, Bulk_ESS\n",
       "and Tail_ESS are effective sample size measures, and Rhat is the potential\n",
       "scale reduction factor on split chains (at convergence, Rhat = 1)."
      ]
     },
     "metadata": {},
     "output_type": "display_data"
    },
    {
     "name": "stderr",
     "output_type": "stream",
     "text": [
      "Warning message:\n",
      "“Rows containing NAs were excluded from the model.”\n",
      "Compiling Stan program...\n",
      "\n",
      "Start sampling\n",
      "\n"
     ]
    },
    {
     "data": {
      "text/plain": [
       " Family: gaussian \n",
       "  Links: mu = identity; sigma = identity \n",
       "Formula: compound ~ 1 + marchFactor + (1 | subject) \n",
       "   Data: sd_2021 (Number of observations: 1596) \n",
       "  Draws: 4 chains, each with iter = 2000; warmup = 1000; thin = 1;\n",
       "         total post-warmup draws = 4000\n",
       "\n",
       "Group-Level Effects: \n",
       "~subject (Number of levels: 488) \n",
       "              Estimate Est.Error l-95% CI u-95% CI Rhat Bulk_ESS Tail_ESS\n",
       "sd(Intercept)     0.11      0.01     0.08     0.13 1.00     1201     2200\n",
       "\n",
       "Population-Level Effects: \n",
       "                 Estimate Est.Error l-95% CI u-95% CI Rhat Bulk_ESS Tail_ESS\n",
       "Intercept            0.08      0.01     0.06     0.10 1.00     4590     3356\n",
       "marchFactorMarch    -0.03      0.03    -0.09     0.02 1.00     7912     2780\n",
       "\n",
       "Family Specific Parameters: \n",
       "      Estimate Est.Error l-95% CI u-95% CI Rhat Bulk_ESS Tail_ESS\n",
       "sigma     0.30      0.01     0.29     0.31 1.00     2635     2509\n",
       "\n",
       "Draws were sampled using sampling(NUTS). For each parameter, Bulk_ESS\n",
       "and Tail_ESS are effective sample size measures, and Rhat is the potential\n",
       "scale reduction factor on split chains (at convergence, Rhat = 1)."
      ]
     },
     "metadata": {},
     "output_type": "display_data"
    }
   ],
   "source": [
    "# bayesian regression models (for confidence intervals)\n",
    "brm(compound~1+marchFactor+(marchFactor|subject), data = sd_2020, init = \"random\", cores=10)\n",
    "brm(compound~1+marchFactor+(marchFactor|subject), data = sd_2020_p1, init = \"random\", cores=10)\n",
    "brm(compound~1+marchFactor+(marchFactor|subject), data = sd_2020_p2, init = \"random\", cores=10)\n",
    "brm(compound~1+marchFactor+(marchFactor|subject), data = sd_2020_p2_r, init = \"random\", cores=10)\n",
    "brm(compound~1+marchFactor+(1|subject), data = sd_2021, init = \"random\", cores=10)"
   ]
  },
  {
   "cell_type": "code",
   "execution_count": 30,
   "metadata": {},
   "outputs": [
    {
     "data": {
      "text/plain": [
       "Linear mixed model fit by REML. t-tests use Satterthwaite's method [\n",
       "lmerModLmerTest]\n",
       "Formula: compound ~ marchFactor * set + (1 | subject)\n",
       "   Data: sd_2020_2021\n",
       "Control: lmerControl(\"bobyqa\")\n",
       "\n",
       "REML criterion at convergence: 2458.2\n",
       "\n",
       "Scaled residuals: \n",
       "    Min      1Q  Median      3Q     Max \n",
       "-3.2627 -0.5127 -0.0364  0.5876  2.9914 \n",
       "\n",
       "Random effects:\n",
       " Groups   Name        Variance Std.Dev.\n",
       " subject  (Intercept) 0.009726 0.09862 \n",
       " Residual             0.085380 0.29220 \n",
       "Number of obs: 5298, groups:  subject, 917\n",
       "\n",
       "Fixed effects:\n",
       "                           Estimate Std. Error         df t value Pr(>|t|)    \n",
       "(Intercept)               4.333e-02  6.493e-03  1.372e+03   6.673 3.63e-11 ***\n",
       "marchFactorMarch         -7.109e-02  1.270e-02  4.905e+03  -5.597 2.29e-08 ***\n",
       "set2021                   3.447e-02  9.894e-03  5.270e+03   3.484 0.000497 ***\n",
       "marchFactorMarch:set2021  4.276e-02  2.989e-02  4.902e+03   1.430 0.152691    \n",
       "---\n",
       "Signif. codes:  0 ‘***’ 0.001 ‘**’ 0.01 ‘*’ 0.05 ‘.’ 0.1 ‘ ’ 1\n",
       "\n",
       "Correlation of Fixed Effects:\n",
       "            (Intr) mrchFM st2021\n",
       "mrchFctrMrc -0.375              \n",
       "set2021     -0.468  0.238       \n",
       "mrchFM:2021  0.160 -0.425 -0.304"
      ]
     },
     "metadata": {},
     "output_type": "display_data"
    },
    {
     "data": {
      "text/plain": [
       "Linear mixed model fit by REML. t-tests use Satterthwaite's method [\n",
       "lmerModLmerTest]\n",
       "Formula: compound ~ marchFactor * set + (1 | subject)\n",
       "   Data: sd_2020_sampleRep\n",
       "Control: lmerControl(\"bobyqa\")\n",
       "\n",
       "REML criterion at convergence: 680.5\n",
       "\n",
       "Scaled residuals: \n",
       "    Min      1Q  Median      3Q     Max \n",
       "-3.3393 -0.4836 -0.0116  0.4774  3.3513 \n",
       "\n",
       "Random effects:\n",
       " Groups   Name        Variance Std.Dev.\n",
       " subject  (Intercept) 0.005493 0.07411 \n",
       " Residual             0.077741 0.27882 \n",
       "Number of obs: 1910, groups:  subject, 532\n",
       "\n",
       "Fixed effects:\n",
       "                                 Estimate Std. Error         df t value\n",
       "(Intercept)                    -1.966e-03  1.101e-02  5.600e+02  -0.179\n",
       "marchFactorMarch               -4.136e-02  2.085e-02  1.697e+03  -1.984\n",
       "set2020+2_rep                   2.781e-02  1.656e-02  5.541e+02   1.679\n",
       "marchFactorMarch:set2020+2_rep -1.368e-02  3.074e-02  1.713e+03  -0.445\n",
       "                               Pr(>|t|)  \n",
       "(Intercept)                      0.8584  \n",
       "marchFactorMarch                 0.0474 *\n",
       "set2020+2_rep                    0.0936 .\n",
       "marchFactorMarch:set2020+2_rep   0.6563  \n",
       "---\n",
       "Signif. codes:  0 ‘***’ 0.001 ‘**’ 0.01 ‘*’ 0.05 ‘.’ 0.1 ‘ ’ 1\n",
       "\n",
       "Correlation of Fixed Effects:\n",
       "            (Intr) mrchFM s2020+\n",
       "mrchFctrMrc -0.444              \n",
       "st2020+2_rp -0.665  0.295       \n",
       "mFM:2020+2_  0.301 -0.678 -0.455"
      ]
     },
     "metadata": {},
     "output_type": "display_data"
    }
   ],
   "source": [
    "# check for interaction \n",
    "summary(mod<-lmer(compound~marchFactor*set+(1|subject),data=sd_2020_2021,control=lmerControl(\"bobyqa\")))\n",
    "summary(mod<-lmer(compound~marchFactor*set+(1|subject),data=sd_2020_sampleRep,control=lmerControl(\"bobyqa\")))"
   ]
  },
  {
   "cell_type": "code",
   "execution_count": 31,
   "metadata": {},
   "outputs": [
    {
     "name": "stderr",
     "output_type": "stream",
     "text": [
      "Warning message:\n",
      "“Rows containing NAs were excluded from the model.”\n",
      "Compiling Stan program...\n",
      "\n",
      "recompiling to avoid crashing R session\n",
      "\n",
      "Start sampling\n",
      "\n"
     ]
    },
    {
     "data": {
      "text/plain": [
       " Family: gaussian \n",
       "  Links: mu = identity; sigma = identity \n",
       "Formula: compound ~ marchFactor * set + (1 | subject) \n",
       "   Data: sd_2020_2021 (Number of observations: 5298) \n",
       "  Draws: 4 chains, each with iter = 2000; warmup = 1000; thin = 1;\n",
       "         total post-warmup draws = 4000\n",
       "\n",
       "Group-Level Effects: \n",
       "~subject (Number of levels: 917) \n",
       "              Estimate Est.Error l-95% CI u-95% CI Rhat Bulk_ESS Tail_ESS\n",
       "sd(Intercept)     0.10      0.01     0.09     0.11 1.00     1231     2040\n",
       "\n",
       "Population-Level Effects: \n",
       "                         Estimate Est.Error l-95% CI u-95% CI Rhat Bulk_ESS\n",
       "Intercept                    0.04      0.01     0.03     0.06 1.00     2802\n",
       "marchFactorMarch            -0.07      0.01    -0.10    -0.05 1.00     3807\n",
       "set2021                      0.03      0.01     0.02     0.05 1.00     4276\n",
       "marchFactorMarch:set2021     0.04      0.03    -0.01     0.10 1.00     3802\n",
       "                         Tail_ESS\n",
       "Intercept                    3116\n",
       "marchFactorMarch             3070\n",
       "set2021                      3248\n",
       "marchFactorMarch:set2021     3016\n",
       "\n",
       "Family Specific Parameters: \n",
       "      Estimate Est.Error l-95% CI u-95% CI Rhat Bulk_ESS Tail_ESS\n",
       "sigma     0.29      0.00     0.29     0.30 1.00     3738     2837\n",
       "\n",
       "Draws were sampled using sampling(NUTS). For each parameter, Bulk_ESS\n",
       "and Tail_ESS are effective sample size measures, and Rhat is the potential\n",
       "scale reduction factor on split chains (at convergence, Rhat = 1)."
      ]
     },
     "metadata": {},
     "output_type": "display_data"
    },
    {
     "name": "stderr",
     "output_type": "stream",
     "text": [
      "Warning message:\n",
      "“Rows containing NAs were excluded from the model.”\n",
      "Compiling Stan program...\n",
      "\n",
      "recompiling to avoid crashing R session\n",
      "\n",
      "Start sampling\n",
      "\n"
     ]
    },
    {
     "data": {
      "text/plain": [
       " Family: gaussian \n",
       "  Links: mu = identity; sigma = identity \n",
       "Formula: compound ~ marchFactor * set + (1 | subject) \n",
       "   Data: sd_2020_sampleRep (Number of observations: 1910) \n",
       "  Draws: 4 chains, each with iter = 2000; warmup = 1000; thin = 1;\n",
       "         total post-warmup draws = 4000\n",
       "\n",
       "Group-Level Effects: \n",
       "~subject (Number of levels: 532) \n",
       "              Estimate Est.Error l-95% CI u-95% CI Rhat Bulk_ESS Tail_ESS\n",
       "sd(Intercept)     0.07      0.01     0.05     0.09 1.00      883      950\n",
       "\n",
       "Population-Level Effects: \n",
       "                               Estimate Est.Error l-95% CI u-95% CI Rhat\n",
       "Intercept                         -0.00      0.01    -0.02     0.02 1.00\n",
       "marchFactorMarch                  -0.04      0.02    -0.08    -0.00 1.00\n",
       "set2020P2_rep                      0.03      0.02    -0.01     0.06 1.00\n",
       "marchFactorMarch:set2020P2_rep    -0.01      0.03    -0.07     0.05 1.00\n",
       "                               Bulk_ESS Tail_ESS\n",
       "Intercept                          4049     3239\n",
       "marchFactorMarch                   3688     3212\n",
       "set2020P2_rep                      3890     2930\n",
       "marchFactorMarch:set2020P2_rep     3706     3388\n",
       "\n",
       "Family Specific Parameters: \n",
       "      Estimate Est.Error l-95% CI u-95% CI Rhat Bulk_ESS Tail_ESS\n",
       "sigma     0.28      0.01     0.27     0.29 1.00     2383     2458\n",
       "\n",
       "Draws were sampled using sampling(NUTS). For each parameter, Bulk_ESS\n",
       "and Tail_ESS are effective sample size measures, and Rhat is the potential\n",
       "scale reduction factor on split chains (at convergence, Rhat = 1)."
      ]
     },
     "metadata": {},
     "output_type": "display_data"
    }
   ],
   "source": [
    "brm(compound~marchFactor*set+(1|subject),data=sd_2020_2021,init = \"random\", cores=10)\n",
    "brm(compound~marchFactor*set+(1|subject),data=sd_2020_sampleRep,init = \"random\", cores=10)"
   ]
  },
  {
   "cell_type": "markdown",
   "metadata": {},
   "source": [
    "### test relationship between sentiment and memory count across memory collections"
   ]
  },
  {
   "cell_type": "code",
   "execution_count": 9,
   "metadata": {},
   "outputs": [
    {
     "data": {
      "text/plain": [
       "Generalized linear mixed model fit by maximum likelihood (Laplace\n",
       "  Approximation) [glmerMod]\n",
       " Family: poisson  ( log )\n",
       "Formula: memCount ~ compound + (1 | set) + (compound | subject)\n",
       "   Data: subDate\n",
       "Control: glmerControl(\"bobyqa\")\n",
       "\n",
       "     AIC      BIC   logLik deviance df.resid \n",
       " 37671.4  37713.8 -18829.7  37659.4     8652 \n",
       "\n",
       "Scaled residuals: \n",
       "    Min      1Q  Median      3Q     Max \n",
       "-4.7287 -0.6987 -0.2935  0.3630 17.2999 \n",
       "\n",
       "Random effects:\n",
       " Groups  Name        Variance Std.Dev. Corr \n",
       " subject (Intercept) 0.26423  0.5140        \n",
       "         compound    0.06123  0.2474   -0.28\n",
       " set     (Intercept) 0.01243  0.1115        \n",
       "Number of obs: 8658, groups:  subject, 1159; set, 5\n",
       "\n",
       "Fixed effects:\n",
       "            Estimate Std. Error z value Pr(>|z|)    \n",
       "(Intercept)  1.06343    0.05295  20.084  < 2e-16 ***\n",
       "compound    -0.07904    0.02523  -3.133  0.00173 ** \n",
       "---\n",
       "Signif. codes:  0 ‘***’ 0.001 ‘**’ 0.01 ‘*’ 0.05 ‘.’ 0.1 ‘ ’ 1\n",
       "\n",
       "Correlation of Fixed Effects:\n",
       "         (Intr)\n",
       "compound -0.033"
      ]
     },
     "metadata": {},
     "output_type": "display_data"
    }
   ],
   "source": [
    "summary(glmer(memCount~compound+(1|set)+(compound|subject),data = subDate, family = poisson(link = \"log\"),glmerControl(\"bobyqa\")))"
   ]
  },
  {
   "cell_type": "markdown",
   "metadata": {},
   "source": [
    "# negative affect increased likelihood of later retrieving that month"
   ]
  },
  {
   "cell_type": "code",
   "execution_count": 33,
   "metadata": {},
   "outputs": [
    {
     "data": {
      "text/plain": [
       "Generalized linear mixed model fit by maximum likelihood (Laplace\n",
       "  Approximation) [glmerMod]\n",
       " Family: binomial  ( logit )\n",
       "Formula: lik_2020 ~ scale(monthly_PANAS_pos) + (1 | subject)\n",
       "   Data: sd_cd\n",
       "Control: glmerControl(\"bobyqa\")\n",
       "\n",
       "     AIC      BIC   logLik deviance df.resid \n",
       "  8396.8   8417.6  -4195.4   8390.8     7417 \n",
       "\n",
       "Scaled residuals: \n",
       "    Min      1Q  Median      3Q     Max \n",
       "-1.4388 -0.5572 -0.4441  0.8243  2.3301 \n",
       "\n",
       "Random effects:\n",
       " Groups  Name        Variance Std.Dev.\n",
       " subject (Intercept) 0.944    0.9716  \n",
       "Number of obs: 7420, groups:  subject, 939\n",
       "\n",
       "Fixed effects:\n",
       "                         Estimate Std. Error z value Pr(>|z|)    \n",
       "(Intercept)              -1.13963    0.04477 -25.456   <2e-16 ***\n",
       "scale(monthly_PANAS_pos) -0.05315    0.03950  -1.345    0.179    \n",
       "---\n",
       "Signif. codes:  0 ‘***’ 0.001 ‘**’ 0.01 ‘*’ 0.05 ‘.’ 0.1 ‘ ’ 1\n",
       "\n",
       "Correlation of Fixed Effects:\n",
       "            (Intr)\n",
       "sc(_PANAS_) 0.017 "
      ]
     },
     "metadata": {},
     "output_type": "display_data"
    },
    {
     "data": {
      "text/plain": [
       "Generalized linear mixed model fit by maximum likelihood (Laplace\n",
       "  Approximation) [glmerMod]\n",
       " Family: binomial  ( logit )\n",
       "Formula: lik_2020 ~ scale(monthly_PANAS_neg) + (1 | subject)\n",
       "   Data: sd_cd\n",
       "Control: glmerControl(\"bobyqa\")\n",
       "\n",
       "     AIC      BIC   logLik deviance df.resid \n",
       "  8393.3   8414.0  -4193.6   8387.3     7417 \n",
       "\n",
       "Scaled residuals: \n",
       "    Min      1Q  Median      3Q     Max \n",
       "-1.4386 -0.5617 -0.4395  0.8296  2.3573 \n",
       "\n",
       "Random effects:\n",
       " Groups  Name        Variance Std.Dev.\n",
       " subject (Intercept) 0.9512   0.9753  \n",
       "Number of obs: 7420, groups:  subject, 939\n",
       "\n",
       "Fixed effects:\n",
       "                         Estimate Std. Error z value Pr(>|z|)    \n",
       "(Intercept)              -1.14161    0.04490 -25.427   <2e-16 ***\n",
       "scale(monthly_PANAS_neg)  0.08476    0.03632   2.333   0.0196 *  \n",
       "---\n",
       "Signif. codes:  0 ‘***’ 0.001 ‘**’ 0.01 ‘*’ 0.05 ‘.’ 0.1 ‘ ’ 1\n",
       "\n",
       "Correlation of Fixed Effects:\n",
       "            (Intr)\n",
       "sc(_PANAS_) -0.038"
      ]
     },
     "metadata": {},
     "output_type": "display_data"
    },
    {
     "data": {
      "text/plain": [
       "Generalized linear mixed model fit by maximum likelihood (Laplace\n",
       "  Approximation) [glmerMod]\n",
       " Family: binomial  ( logit )\n",
       "Formula: lik_2020 ~ scale(monthly_STAI_state) + (1 | subject)\n",
       "   Data: sd_cd\n",
       "Control: glmerControl(\"bobyqa\")\n",
       "\n",
       "     AIC      BIC   logLik deviance df.resid \n",
       "  8390.6   8411.3  -4192.3   8384.6     7417 \n",
       "\n",
       "Scaled residuals: \n",
       "    Min      1Q  Median      3Q     Max \n",
       "-1.4327 -0.5631 -0.4378  0.8345  2.3744 \n",
       "\n",
       "Random effects:\n",
       " Groups  Name        Variance Std.Dev.\n",
       " subject (Intercept) 0.9505   0.9749  \n",
       "Number of obs: 7420, groups:  subject, 939\n",
       "\n",
       "Fixed effects:\n",
       "                          Estimate Std. Error z value Pr(>|z|)    \n",
       "(Intercept)                -1.1424     0.0449 -25.440  < 2e-16 ***\n",
       "scale(monthly_STAI_state)   0.1070     0.0376   2.847  0.00442 ** \n",
       "---\n",
       "Signif. codes:  0 ‘***’ 0.001 ‘**’ 0.01 ‘*’ 0.05 ‘.’ 0.1 ‘ ’ 1\n",
       "\n",
       "Correlation of Fixed Effects:\n",
       "            (Intr)\n",
       "scl(_STAI_) -0.044"
      ]
     },
     "metadata": {},
     "output_type": "display_data"
    },
    {
     "data": {
      "text/plain": [
       "Generalized linear mixed model fit by maximum likelihood (Laplace\n",
       "  Approximation) [glmerMod]\n",
       " Family: binomial  ( logit )\n",
       "Formula: lik_2020 ~ scale(monthly_STAI_trait) + (1 | subject)\n",
       "   Data: sd_cd\n",
       "Control: glmerControl(\"bobyqa\")\n",
       "\n",
       "     AIC      BIC   logLik deviance df.resid \n",
       "  4824.3   4843.2  -2409.1   4818.3     4062 \n",
       "\n",
       "Scaled residuals: \n",
       "    Min      1Q  Median      3Q     Max \n",
       "-1.1702 -0.5800 -0.4627  0.9664  1.9568 \n",
       "\n",
       "Random effects:\n",
       " Groups  Name        Variance Std.Dev.\n",
       " subject (Intercept) 0.7903   0.889   \n",
       "Number of obs: 4065, groups:  subject, 939\n",
       "\n",
       "Fixed effects:\n",
       "                          Estimate Std. Error z value Pr(>|z|)    \n",
       "(Intercept)               -1.01851    0.05067  -20.10  < 2e-16 ***\n",
       "scale(monthly_STAI_trait)  0.15470    0.04660    3.32 0.000901 ***\n",
       "---\n",
       "Signif. codes:  0 ‘***’ 0.001 ‘**’ 0.01 ‘*’ 0.05 ‘.’ 0.1 ‘ ’ 1\n",
       "\n",
       "Correlation of Fixed Effects:\n",
       "            (Intr)\n",
       "scl(_STAI_) -0.058"
      ]
     },
     "metadata": {},
     "output_type": "display_data"
    },
    {
     "data": {
      "text/plain": [
       "Generalized linear mixed model fit by maximum likelihood (Laplace\n",
       "  Approximation) [glmerMod]\n",
       " Family: binomial  ( logit )\n",
       "Formula: lik_2020 ~ scale(monthly_PSS) + (1 | subject)\n",
       "   Data: sd_cd\n",
       "Control: glmerControl(\"bobyqa\")\n",
       "\n",
       "     AIC      BIC   logLik deviance df.resid \n",
       "  8355.7   8376.5  -4174.9   8349.7     7398 \n",
       "\n",
       "Scaled residuals: \n",
       "    Min      1Q  Median      3Q     Max \n",
       "-1.4953 -0.5685 -0.4355  0.8327  2.4547 \n",
       "\n",
       "Random effects:\n",
       " Groups  Name        Variance Std.Dev.\n",
       " subject (Intercept) 0.9508   0.9751  \n",
       "Number of obs: 7401, groups:  subject, 935\n",
       "\n",
       "Fixed effects:\n",
       "                   Estimate Std. Error z value Pr(>|z|)    \n",
       "(Intercept)        -1.14696    0.04506 -25.454  < 2e-16 ***\n",
       "scale(monthly_PSS)  0.15922    0.04002   3.979 6.93e-05 ***\n",
       "---\n",
       "Signif. codes:  0 ‘***’ 0.001 ‘**’ 0.01 ‘*’ 0.05 ‘.’ 0.1 ‘ ’ 1\n",
       "\n",
       "Correlation of Fixed Effects:\n",
       "            (Intr)\n",
       "scl(mn_PSS) -0.058"
      ]
     },
     "metadata": {},
     "output_type": "display_data"
    },
    {
     "data": {
      "text/plain": [
       "Generalized linear mixed model fit by maximum likelihood (Laplace\n",
       "  Approximation) [glmerMod]\n",
       " Family: binomial  ( logit )\n",
       "Formula: lik_2020 ~ scale(monthly_RISC) + (1 | subject)\n",
       "   Data: sd_cd\n",
       "Control: glmerControl(\"bobyqa\")\n",
       "\n",
       "     AIC      BIC   logLik deviance df.resid \n",
       "  4628.6   4647.5  -2311.3   4622.6     3985 \n",
       "\n",
       "Scaled residuals: \n",
       "    Min      1Q  Median      3Q     Max \n",
       "-1.1156 -0.5483 -0.4189  0.9210  1.9406 \n",
       "\n",
       "Random effects:\n",
       " Groups  Name        Variance Std.Dev.\n",
       " subject (Intercept) 0.9531   0.9763  \n",
       "Number of obs: 3988, groups:  subject, 912\n",
       "\n",
       "Fixed effects:\n",
       "                    Estimate Std. Error z value Pr(>|z|)    \n",
       "(Intercept)         -1.11431    0.05533 -20.139   <2e-16 ***\n",
       "scale(monthly_RISC) -0.06244    0.04925  -1.268    0.205    \n",
       "---\n",
       "Signif. codes:  0 ‘***’ 0.001 ‘**’ 0.01 ‘*’ 0.05 ‘.’ 0.1 ‘ ’ 1\n",
       "\n",
       "Correlation of Fixed Effects:\n",
       "            (Intr)\n",
       "scl(m_RISC) 0.029 "
      ]
     },
     "metadata": {},
     "output_type": "display_data"
    },
    {
     "data": {
      "text/plain": [
       "Generalized linear mixed model fit by maximum likelihood (Laplace\n",
       "  Approximation) [glmerMod]\n",
       " Family: binomial  ( logit )\n",
       "Formula: lik_2020 ~ scale(monthly_faceMood) + (1 | subject)\n",
       "   Data: sd_cd\n",
       "Control: glmerControl(\"bobyqa\")\n",
       "\n",
       "     AIC      BIC   logLik deviance df.resid \n",
       "  8397.5   8418.2  -4195.7   8391.5     7417 \n",
       "\n",
       "Scaled residuals: \n",
       "    Min      1Q  Median      3Q     Max \n",
       "-1.4425 -0.5541 -0.4451  0.8223  2.3219 \n",
       "\n",
       "Random effects:\n",
       " Groups  Name        Variance Std.Dev.\n",
       " subject (Intercept) 0.9512   0.9753  \n",
       "Number of obs: 7420, groups:  subject, 939\n",
       "\n",
       "Fixed effects:\n",
       "                        Estimate Std. Error z value Pr(>|z|)    \n",
       "(Intercept)             -1.13960    0.04485 -25.407   <2e-16 ***\n",
       "scale(monthly_faceMood) -0.03812    0.03522  -1.083    0.279    \n",
       "---\n",
       "Signif. codes:  0 ‘***’ 0.001 ‘**’ 0.01 ‘*’ 0.05 ‘.’ 0.1 ‘ ’ 1\n",
       "\n",
       "Correlation of Fixed Effects:\n",
       "            (Intr)\n",
       "scl(mnth_M) 0.014 "
      ]
     },
     "metadata": {},
     "output_type": "display_data"
    },
    {
     "data": {
      "text/plain": [
       "Generalized linear mixed model fit by maximum likelihood (Laplace\n",
       "  Approximation) [glmerMod]\n",
       " Family: binomial  ( logit )\n",
       "Formula: lik_2020 ~ scale(monthly_BDI) + (1 | subject)\n",
       "   Data: sd_cd\n",
       "Control: glmerControl(\"bobyqa\")\n",
       "\n",
       "     AIC      BIC   logLik deviance df.resid \n",
       "  5678.1   5697.5  -2836.0   5672.1     4831 \n",
       "\n",
       "Scaled residuals: \n",
       "    Min      1Q  Median      3Q     Max \n",
       "-1.3210 -0.5685 -0.4300  0.8655  1.9951 \n",
       "\n",
       "Random effects:\n",
       " Groups  Name        Variance Std.Dev.\n",
       " subject (Intercept) 0.9311   0.9649  \n",
       "Number of obs: 4834, groups:  subject, 928\n",
       "\n",
       "Fixed effects:\n",
       "                   Estimate Std. Error z value Pr(>|z|)    \n",
       "(Intercept)        -1.04380    0.04983 -20.948   <2e-16 ***\n",
       "scale(monthly_BDI)  0.09861    0.04494   2.194   0.0282 *  \n",
       "---\n",
       "Signif. codes:  0 ‘***’ 0.001 ‘**’ 0.01 ‘*’ 0.05 ‘.’ 0.1 ‘ ’ 1\n",
       "\n",
       "Correlation of Fixed Effects:\n",
       "            (Intr)\n",
       "scl(mn_BDI) -0.032"
      ]
     },
     "metadata": {},
     "output_type": "display_data"
    }
   ],
   "source": [
    "summary(glmer(lik_2020~scale(monthly_PANAS_pos)+(1|subject),data = sd_cd, family = binomial,control=glmerControl(\"bobyqa\")))\n",
    "summary(glmer(lik_2020~scale(monthly_PANAS_neg)+(1|subject),data = sd_cd, family = binomial,control=glmerControl(\"bobyqa\")))\n",
    "summary(glmer(lik_2020~scale(monthly_STAI_state)+(1|subject),data = sd_cd, family = binomial,control=glmerControl(\"bobyqa\")))\n",
    "summary(glmer(lik_2020~scale(monthly_STAI_trait)+(1|subject),data = sd_cd, family = binomial,control=glmerControl(\"bobyqa\")))\n",
    "summary(glmer(lik_2020~scale(monthly_PSS)+(1|subject),data = sd_cd, family = binomial,control=glmerControl(\"bobyqa\")))\n",
    "summary(glmer(lik_2020~scale(monthly_RISC)+(1|subject),data = sd_cd, family = binomial,control=glmerControl(\"bobyqa\")))\n",
    "summary(glmer(lik_2020~scale(monthly_faceMood)+(1|subject),data = sd_cd, family = binomial,control=glmerControl(\"bobyqa\")))\n",
    "summary(glmer(lik_2020~scale(monthly_BDI)+(1|subject),data = sd_cd, family = binomial,control=glmerControl(\"bobyqa\")))"
   ]
  },
  {
   "cell_type": "code",
   "execution_count": 34,
   "metadata": {},
   "outputs": [
    {
     "name": "stderr",
     "output_type": "stream",
     "text": [
      "Warning message:\n",
      "“Rows containing NAs were excluded from the model.”\n",
      "Compiling Stan program...\n",
      "\n",
      "Start sampling\n",
      "\n"
     ]
    },
    {
     "data": {
      "text/plain": [
       " Family: bernoulli \n",
       "  Links: mu = logit \n",
       "Formula: lik_2020 ~ scale(monthly_PANAS_pos) + (1 | subject) \n",
       "   Data: sd_cd (Number of observations: 7420) \n",
       "  Draws: 4 chains, each with iter = 2000; warmup = 1000; thin = 1;\n",
       "         total post-warmup draws = 4000\n",
       "\n",
       "Group-Level Effects: \n",
       "~subject (Number of levels: 939) \n",
       "              Estimate Est.Error l-95% CI u-95% CI Rhat Bulk_ESS Tail_ESS\n",
       "sd(Intercept)     1.01      0.05     0.92     1.11 1.00     1630     2664\n",
       "\n",
       "Population-Level Effects: \n",
       "                       Estimate Est.Error l-95% CI u-95% CI Rhat Bulk_ESS\n",
       "Intercept                 -1.15      0.05    -1.24    -1.06 1.00     2001\n",
       "scalemonthly_PANAS_pos    -0.05      0.04    -0.13     0.03 1.00     2426\n",
       "                       Tail_ESS\n",
       "Intercept                  2356\n",
       "scalemonthly_PANAS_pos     3064\n",
       "\n",
       "Draws were sampled using sampling(NUTS). For each parameter, Bulk_ESS\n",
       "and Tail_ESS are effective sample size measures, and Rhat is the potential\n",
       "scale reduction factor on split chains (at convergence, Rhat = 1)."
      ]
     },
     "metadata": {},
     "output_type": "display_data"
    },
    {
     "name": "stderr",
     "output_type": "stream",
     "text": [
      "Warning message:\n",
      "“Rows containing NAs were excluded from the model.”\n",
      "Compiling Stan program...\n",
      "\n",
      "recompiling to avoid crashing R session\n",
      "\n",
      "Start sampling\n",
      "\n"
     ]
    },
    {
     "data": {
      "text/plain": [
       " Family: bernoulli \n",
       "  Links: mu = logit \n",
       "Formula: lik_2020 ~ scale(monthly_PANAS_neg) + (1 | subject) \n",
       "   Data: sd_cd (Number of observations: 7420) \n",
       "  Draws: 4 chains, each with iter = 2000; warmup = 1000; thin = 1;\n",
       "         total post-warmup draws = 4000\n",
       "\n",
       "Group-Level Effects: \n",
       "~subject (Number of levels: 939) \n",
       "              Estimate Est.Error l-95% CI u-95% CI Rhat Bulk_ESS Tail_ESS\n",
       "sd(Intercept)     1.02      0.05     0.93     1.12 1.00     1467     2354\n",
       "\n",
       "Population-Level Effects: \n",
       "                       Estimate Est.Error l-95% CI u-95% CI Rhat Bulk_ESS\n",
       "Intercept                 -1.15      0.05    -1.24    -1.06 1.00     1349\n",
       "scalemonthly_PANAS_neg     0.09      0.04     0.01     0.16 1.00     2559\n",
       "                       Tail_ESS\n",
       "Intercept                  1964\n",
       "scalemonthly_PANAS_neg     2721\n",
       "\n",
       "Draws were sampled using sampling(NUTS). For each parameter, Bulk_ESS\n",
       "and Tail_ESS are effective sample size measures, and Rhat is the potential\n",
       "scale reduction factor on split chains (at convergence, Rhat = 1)."
      ]
     },
     "metadata": {},
     "output_type": "display_data"
    },
    {
     "name": "stderr",
     "output_type": "stream",
     "text": [
      "Warning message:\n",
      "“Rows containing NAs were excluded from the model.”\n",
      "Compiling Stan program...\n",
      "\n",
      "recompiling to avoid crashing R session\n",
      "\n",
      "Start sampling\n",
      "\n"
     ]
    },
    {
     "data": {
      "text/plain": [
       " Family: bernoulli \n",
       "  Links: mu = logit \n",
       "Formula: lik_2020 ~ scale(monthly_STAI_state) + (1 | subject) \n",
       "   Data: sd_cd (Number of observations: 7420) \n",
       "  Draws: 4 chains, each with iter = 2000; warmup = 1000; thin = 1;\n",
       "         total post-warmup draws = 4000\n",
       "\n",
       "Group-Level Effects: \n",
       "~subject (Number of levels: 939) \n",
       "              Estimate Est.Error l-95% CI u-95% CI Rhat Bulk_ESS Tail_ESS\n",
       "sd(Intercept)     1.02      0.05     0.92     1.12 1.00     1502     2201\n",
       "\n",
       "Population-Level Effects: \n",
       "                        Estimate Est.Error l-95% CI u-95% CI Rhat Bulk_ESS\n",
       "Intercept                  -1.15      0.05    -1.25    -1.06 1.00     1570\n",
       "scalemonthly_STAI_state     0.11      0.04     0.03     0.18 1.00     2136\n",
       "                        Tail_ESS\n",
       "Intercept                   2312\n",
       "scalemonthly_STAI_state     2707\n",
       "\n",
       "Draws were sampled using sampling(NUTS). For each parameter, Bulk_ESS\n",
       "and Tail_ESS are effective sample size measures, and Rhat is the potential\n",
       "scale reduction factor on split chains (at convergence, Rhat = 1)."
      ]
     },
     "metadata": {},
     "output_type": "display_data"
    },
    {
     "name": "stderr",
     "output_type": "stream",
     "text": [
      "Warning message:\n",
      "“Rows containing NAs were excluded from the model.”\n",
      "Compiling Stan program...\n",
      "\n",
      "recompiling to avoid crashing R session\n",
      "\n",
      "Start sampling\n",
      "\n"
     ]
    },
    {
     "data": {
      "text/plain": [
       " Family: bernoulli \n",
       "  Links: mu = logit \n",
       "Formula: lik_2020 ~ scale(monthly_STAI_trait) + (1 | subject) \n",
       "   Data: sd_cd (Number of observations: 4065) \n",
       "  Draws: 4 chains, each with iter = 2000; warmup = 1000; thin = 1;\n",
       "         total post-warmup draws = 4000\n",
       "\n",
       "Group-Level Effects: \n",
       "~subject (Number of levels: 939) \n",
       "              Estimate Est.Error l-95% CI u-95% CI Rhat Bulk_ESS Tail_ESS\n",
       "sd(Intercept)     0.97      0.07     0.84     1.10 1.00     1370     2126\n",
       "\n",
       "Population-Level Effects: \n",
       "                        Estimate Est.Error l-95% CI u-95% CI Rhat Bulk_ESS\n",
       "Intercept                  -1.03      0.05    -1.14    -0.93 1.00     2134\n",
       "scalemonthly_STAI_trait     0.16      0.05     0.06     0.26 1.00     2508\n",
       "                        Tail_ESS\n",
       "Intercept                   2808\n",
       "scalemonthly_STAI_trait     2843\n",
       "\n",
       "Draws were sampled using sampling(NUTS). For each parameter, Bulk_ESS\n",
       "and Tail_ESS are effective sample size measures, and Rhat is the potential\n",
       "scale reduction factor on split chains (at convergence, Rhat = 1)."
      ]
     },
     "metadata": {},
     "output_type": "display_data"
    },
    {
     "name": "stderr",
     "output_type": "stream",
     "text": [
      "Warning message:\n",
      "“Rows containing NAs were excluded from the model.”\n",
      "Compiling Stan program...\n",
      "\n",
      "recompiling to avoid crashing R session\n",
      "\n",
      "Start sampling\n",
      "\n"
     ]
    },
    {
     "data": {
      "text/plain": [
       " Family: bernoulli \n",
       "  Links: mu = logit \n",
       "Formula: lik_2020 ~ scale(monthly_PSS) + (1 | subject) \n",
       "   Data: sd_cd (Number of observations: 7401) \n",
       "  Draws: 4 chains, each with iter = 2000; warmup = 1000; thin = 1;\n",
       "         total post-warmup draws = 4000\n",
       "\n",
       "Group-Level Effects: \n",
       "~subject (Number of levels: 935) \n",
       "              Estimate Est.Error l-95% CI u-95% CI Rhat Bulk_ESS Tail_ESS\n",
       "sd(Intercept)     1.02      0.05     0.92     1.11 1.00     1286     1951\n",
       "\n",
       "Population-Level Effects: \n",
       "                 Estimate Est.Error l-95% CI u-95% CI Rhat Bulk_ESS Tail_ESS\n",
       "Intercept           -1.15      0.05    -1.25    -1.06 1.00     1757     2526\n",
       "scalemonthly_PSS     0.16      0.04     0.08     0.24 1.00     2370     2890\n",
       "\n",
       "Draws were sampled using sampling(NUTS). For each parameter, Bulk_ESS\n",
       "and Tail_ESS are effective sample size measures, and Rhat is the potential\n",
       "scale reduction factor on split chains (at convergence, Rhat = 1)."
      ]
     },
     "metadata": {},
     "output_type": "display_data"
    },
    {
     "name": "stderr",
     "output_type": "stream",
     "text": [
      "Warning message:\n",
      "“Rows containing NAs were excluded from the model.”\n",
      "Compiling Stan program...\n",
      "\n",
      "recompiling to avoid crashing R session\n",
      "\n",
      "Start sampling\n",
      "\n"
     ]
    },
    {
     "data": {
      "text/plain": [
       " Family: bernoulli \n",
       "  Links: mu = logit \n",
       "Formula: lik_2020 ~ scale(monthly_RISC) + (1 | subject) \n",
       "   Data: sd_cd (Number of observations: 3988) \n",
       "  Draws: 4 chains, each with iter = 2000; warmup = 1000; thin = 1;\n",
       "         total post-warmup draws = 4000\n",
       "\n",
       "Group-Level Effects: \n",
       "~subject (Number of levels: 912) \n",
       "              Estimate Est.Error l-95% CI u-95% CI Rhat Bulk_ESS Tail_ESS\n",
       "sd(Intercept)     1.06      0.07     0.92     1.21 1.01     1195     1944\n",
       "\n",
       "Population-Level Effects: \n",
       "                  Estimate Est.Error l-95% CI u-95% CI Rhat Bulk_ESS Tail_ESS\n",
       "Intercept            -1.13      0.06    -1.25    -1.02 1.00     1853     2080\n",
       "scalemonthly_RISC    -0.06      0.05    -0.16     0.04 1.00     2425     2720\n",
       "\n",
       "Draws were sampled using sampling(NUTS). For each parameter, Bulk_ESS\n",
       "and Tail_ESS are effective sample size measures, and Rhat is the potential\n",
       "scale reduction factor on split chains (at convergence, Rhat = 1)."
      ]
     },
     "metadata": {},
     "output_type": "display_data"
    },
    {
     "name": "stderr",
     "output_type": "stream",
     "text": [
      "Warning message:\n",
      "“Rows containing NAs were excluded from the model.”\n",
      "Compiling Stan program...\n",
      "\n",
      "recompiling to avoid crashing R session\n",
      "\n",
      "Start sampling\n",
      "\n"
     ]
    },
    {
     "data": {
      "text/plain": [
       " Family: bernoulli \n",
       "  Links: mu = logit \n",
       "Formula: lik_2020 ~ scale(monthly_faceMood) + (1 | subject) \n",
       "   Data: sd_cd (Number of observations: 7420) \n",
       "  Draws: 4 chains, each with iter = 2000; warmup = 1000; thin = 1;\n",
       "         total post-warmup draws = 4000\n",
       "\n",
       "Group-Level Effects: \n",
       "~subject (Number of levels: 939) \n",
       "              Estimate Est.Error l-95% CI u-95% CI Rhat Bulk_ESS Tail_ESS\n",
       "sd(Intercept)     1.02      0.05     0.92     1.11 1.00     1254     2041\n",
       "\n",
       "Population-Level Effects: \n",
       "                      Estimate Est.Error l-95% CI u-95% CI Rhat Bulk_ESS\n",
       "Intercept                -1.14      0.05    -1.24    -1.06 1.00     1863\n",
       "scalemonthly_faceMood    -0.04      0.04    -0.11     0.03 1.00     3126\n",
       "                      Tail_ESS\n",
       "Intercept                 3033\n",
       "scalemonthly_faceMood     2846\n",
       "\n",
       "Draws were sampled using sampling(NUTS). For each parameter, Bulk_ESS\n",
       "and Tail_ESS are effective sample size measures, and Rhat is the potential\n",
       "scale reduction factor on split chains (at convergence, Rhat = 1)."
      ]
     },
     "metadata": {},
     "output_type": "display_data"
    },
    {
     "name": "stderr",
     "output_type": "stream",
     "text": [
      "Warning message:\n",
      "“Rows containing NAs were excluded from the model.”\n",
      "Compiling Stan program...\n",
      "\n",
      "recompiling to avoid crashing R session\n",
      "\n",
      "Start sampling\n",
      "\n"
     ]
    },
    {
     "data": {
      "text/plain": [
       " Family: bernoulli \n",
       "  Links: mu = logit \n",
       "Formula: lik_2020 ~ scale(monthly_BDI) + (1 | subject) \n",
       "   Data: sd_cd (Number of observations: 4834) \n",
       "  Draws: 4 chains, each with iter = 2000; warmup = 1000; thin = 1;\n",
       "         total post-warmup draws = 4000\n",
       "\n",
       "Group-Level Effects: \n",
       "~subject (Number of levels: 928) \n",
       "              Estimate Est.Error l-95% CI u-95% CI Rhat Bulk_ESS Tail_ESS\n",
       "sd(Intercept)     1.03      0.06     0.91     1.16 1.00     1114     1656\n",
       "\n",
       "Population-Level Effects: \n",
       "                 Estimate Est.Error l-95% CI u-95% CI Rhat Bulk_ESS Tail_ESS\n",
       "Intercept           -1.06      0.05    -1.16    -0.95 1.00     1909     2562\n",
       "scalemonthly_BDI     0.10      0.04     0.01     0.19 1.00     2281     2589\n",
       "\n",
       "Draws were sampled using sampling(NUTS). For each parameter, Bulk_ESS\n",
       "and Tail_ESS are effective sample size measures, and Rhat is the potential\n",
       "scale reduction factor on split chains (at convergence, Rhat = 1)."
      ]
     },
     "metadata": {},
     "output_type": "display_data"
    }
   ],
   "source": [
    "summary(brm(lik_2020~scale(monthly_PANAS_pos)+(1|subject),data = sd_cd, family=bernoulli, init = \"random\", cores=10))\n",
    "summary(brm(lik_2020~scale(monthly_PANAS_neg)+(1|subject),data = sd_cd, family=bernoulli, init = \"random\", cores=10))\n",
    "summary(brm(lik_2020~scale(monthly_STAI_state)+(1|subject),data = sd_cd, family=bernoulli, init = \"random\", cores=10))\n",
    "summary(brm(lik_2020~scale(monthly_STAI_trait)+(1|subject),data = sd_cd, family=bernoulli, init = \"random\", cores=10))\n",
    "summary(brm(lik_2020~scale(monthly_PSS)+(1|subject),data = sd_cd, family=bernoulli, init = \"random\", cores=10))\n",
    "summary(brm(lik_2020~scale(monthly_RISC)+(1|subject),data = sd_cd, family=bernoulli, init = \"random\", cores=10))\n",
    "summary(brm(lik_2020~scale(monthly_faceMood)+(1|subject),data = sd_cd, family=bernoulli, init = \"random\", cores=10))\n",
    "summary(brm(lik_2020~scale(monthly_BDI)+(1|subject),data = sd_cd, family=bernoulli, init = \"random\", cores=10))"
   ]
  },
  {
   "cell_type": "code",
   "execution_count": 35,
   "metadata": {},
   "outputs": [
    {
     "data": {
      "text/plain": [
       "Generalized linear mixed model fit by maximum likelihood (Laplace\n",
       "  Approximation) [glmerMod]\n",
       " Family: binomial  ( logit )\n",
       "Formula: lik_2020 ~ variable * scale(value) + (1 | subject)\n",
       "   Data: lik_panas_melt\n",
       "Control: glmerControl(\"bobyqa\")\n",
       "\n",
       "     AIC      BIC   logLik deviance df.resid \n",
       " 15699.3  15737.3  -7844.6  15689.3    14835 \n",
       "\n",
       "Scaled residuals: \n",
       "    Min      1Q  Median      3Q     Max \n",
       "-2.0449 -0.5462 -0.3846  0.6460  2.7070 \n",
       "\n",
       "Random effects:\n",
       " Groups  Name        Variance Std.Dev.\n",
       " subject (Intercept) 1.71     1.308   \n",
       "Number of obs: 14840, groups:  subject, 939\n",
       "\n",
       "Fixed effects:\n",
       "                                       Estimate Std. Error z value Pr(>|z|)    \n",
       "(Intercept)                            -1.20227    0.06212 -19.355   <2e-16 ***\n",
       "variablemonthly_PANAS_pos              -0.04354    0.05454  -0.798   0.4247    \n",
       "scale(value)                            0.10304    0.05366   1.920   0.0548 .  \n",
       "variablemonthly_PANAS_pos:scale(value) -0.13206    0.06989  -1.890   0.0588 .  \n",
       "---\n",
       "Signif. codes:  0 ‘***’ 0.001 ‘**’ 0.01 ‘*’ 0.05 ‘.’ 0.1 ‘ ’ 1\n",
       "\n",
       "Correlation of Fixed Effects:\n",
       "            (Intr) vr_PANAS_ scl(v)\n",
       "vrbl_PANAS_ -0.506                 \n",
       "scale(valu)  0.500 -0.526          \n",
       "v_PANAS_:() -0.419  0.213    -0.834"
      ]
     },
     "metadata": {},
     "output_type": "display_data"
    }
   ],
   "source": [
    "# test PANAS interaction \n",
    "lik_panas<-sd_cd[,c(\"subject\",\"lik_2020\",\"monthly_PANAS_neg\",\"monthly_PANAS_pos\")]\n",
    "lik_panas_melt<-melt(lik_panas,id.vars=c(\"subject\",\"lik_2020\"))\n",
    "\n",
    "summary(mod<-glmer(lik_2020~variable*scale(value)+(1|subject),data=lik_panas_melt,family = binomial,control=glmerControl(\"bobyqa\")))"
   ]
  },
  {
   "cell_type": "code",
   "execution_count": 36,
   "metadata": {},
   "outputs": [
    {
     "name": "stderr",
     "output_type": "stream",
     "text": [
      "Warning message:\n",
      "“Rows containing NAs were excluded from the model.”\n",
      "Compiling Stan program...\n",
      "\n",
      "recompiling to avoid crashing R session\n",
      "\n",
      "Start sampling\n",
      "\n"
     ]
    },
    {
     "data": {
      "text/plain": [
       " Family: bernoulli \n",
       "  Links: mu = logit \n",
       "Formula: lik_2020 ~ variable * scale(value) + (1 | subject) \n",
       "   Data: lik_panas_melt (Number of observations: 14840) \n",
       "  Draws: 4 chains, each with iter = 2000; warmup = 1000; thin = 1;\n",
       "         total post-warmup draws = 4000\n",
       "\n",
       "Group-Level Effects: \n",
       "~subject (Number of levels: 939) \n",
       "              Estimate Est.Error l-95% CI u-95% CI Rhat Bulk_ESS Tail_ESS\n",
       "sd(Intercept)     1.33      0.05     1.24     1.43 1.01      891     1839\n",
       "\n",
       "Population-Level Effects: \n",
       "                                     Estimate Est.Error l-95% CI u-95% CI Rhat\n",
       "Intercept                               -1.21      0.06    -1.33    -1.09 1.00\n",
       "variablemonthly_PANAS_pos               -0.04      0.06    -0.15     0.07 1.00\n",
       "scalevalue                               0.10      0.06    -0.00     0.21 1.00\n",
       "variablemonthly_PANAS_pos:scalevalue    -0.13      0.07    -0.27     0.00 1.00\n",
       "                                     Bulk_ESS Tail_ESS\n",
       "Intercept                                1004     2208\n",
       "variablemonthly_PANAS_pos                2516     2628\n",
       "scalevalue                               1725     2453\n",
       "variablemonthly_PANAS_pos:scalevalue     1795     2665\n",
       "\n",
       "Draws were sampled using sampling(NUTS). For each parameter, Bulk_ESS\n",
       "and Tail_ESS are effective sample size measures, and Rhat is the potential\n",
       "scale reduction factor on split chains (at convergence, Rhat = 1)."
      ]
     },
     "metadata": {},
     "output_type": "display_data"
    }
   ],
   "source": [
    "summary(brm(lik_2020~variable*scale(value)+(1|subject),data = lik_panas_melt, family=bernoulli, init = \"random\", cores=10))"
   ]
  },
  {
   "cell_type": "markdown",
   "metadata": {},
   "source": [
    "## test whether affect predicts the amount of recall and internal/external details"
   ]
  },
  {
   "cell_type": "code",
   "execution_count": 37,
   "metadata": {},
   "outputs": [
    {
     "data": {
      "text/plain": [
       "Generalized linear mixed model fit by maximum likelihood (Laplace\n",
       "  Approximation) [glmerMod]\n",
       " Family: poisson  ( log )\n",
       "Formula: \n",
       "remCount_2020 ~ scale(monthly_PANAS_pos) + (scale(monthly_PANAS_pos) |  \n",
       "    subject)\n",
       "   Data: sd_cd\n",
       "Control: glmerControl(\"bobyqa\")\n",
       "\n",
       "     AIC      BIC   logLik deviance df.resid \n",
       "  8613.9   8642.1  -4302.0   8603.9     2064 \n",
       "\n",
       "Scaled residuals: \n",
       "    Min      1Q  Median      3Q     Max \n",
       "-5.0083 -0.5554 -0.2102  0.3364  9.3647 \n",
       "\n",
       "Random effects:\n",
       " Groups  Name                     Variance Std.Dev. Corr\n",
       " subject (Intercept)              0.29241  0.5408       \n",
       "         scale(monthly_PANAS_pos) 0.03296  0.1816   0.05\n",
       "Number of obs: 2069, groups:  subject, 743\n",
       "\n",
       "Fixed effects:\n",
       "                         Estimate Std. Error z value Pr(>|z|)    \n",
       "(Intercept)              1.031956   0.025920  39.813   <2e-16 ***\n",
       "scale(monthly_PANAS_pos) 0.001977   0.024267   0.081    0.935    \n",
       "---\n",
       "Signif. codes:  0 ‘***’ 0.001 ‘**’ 0.01 ‘*’ 0.05 ‘.’ 0.1 ‘ ’ 1\n",
       "\n",
       "Correlation of Fixed Effects:\n",
       "            (Intr)\n",
       "sc(_PANAS_) 0.067 "
      ]
     },
     "metadata": {},
     "output_type": "display_data"
    },
    {
     "data": {
      "text/plain": [
       "Generalized linear mixed model fit by maximum likelihood (Laplace\n",
       "  Approximation) [glmerMod]\n",
       " Family: poisson  ( log )\n",
       "Formula: \n",
       "remCount_2020 ~ scale(monthly_PANAS_neg) + (scale(monthly_PANAS_neg) |  \n",
       "    subject)\n",
       "   Data: sd_cd\n",
       "Control: glmerControl(\"bobyqa\")\n",
       "\n",
       "     AIC      BIC   logLik deviance df.resid \n",
       "  8581.8   8610.0  -4285.9   8571.8     2064 \n",
       "\n",
       "Scaled residuals: \n",
       "    Min      1Q  Median      3Q     Max \n",
       "-5.4539 -0.5414 -0.2038  0.3301  5.7589 \n",
       "\n",
       "Random effects:\n",
       " Groups  Name                     Variance Std.Dev. Corr \n",
       " subject (Intercept)              0.29343  0.5417        \n",
       "         scale(monthly_PANAS_neg) 0.05014  0.2239   -0.16\n",
       "Number of obs: 2069, groups:  subject, 743\n",
       "\n",
       "Fixed effects:\n",
       "                         Estimate Std. Error z value Pr(>|z|)    \n",
       "(Intercept)               1.03001    0.02606  39.526   <2e-16 ***\n",
       "scale(monthly_PANAS_neg)  0.04049    0.02365   1.712   0.0869 .  \n",
       "---\n",
       "Signif. codes:  0 ‘***’ 0.001 ‘**’ 0.01 ‘*’ 0.05 ‘.’ 0.1 ‘ ’ 1\n",
       "\n",
       "Correlation of Fixed Effects:\n",
       "            (Intr)\n",
       "sc(_PANAS_) -0.026"
      ]
     },
     "metadata": {},
     "output_type": "display_data"
    },
    {
     "data": {
      "text/plain": [
       "Generalized linear mixed model fit by maximum likelihood (Laplace\n",
       "  Approximation) [glmerMod]\n",
       " Family: poisson  ( log )\n",
       "Formula: \n",
       "remCount_2020 ~ scale(monthly_STAI_state) + (scale(monthly_STAI_state) |  \n",
       "    subject)\n",
       "   Data: sd_cd\n",
       "Control: glmerControl(\"bobyqa\")\n",
       "\n",
       "     AIC      BIC   logLik deviance df.resid \n",
       "  8585.2   8613.4  -4287.6   8575.2     2064 \n",
       "\n",
       "Scaled residuals: \n",
       "    Min      1Q  Median      3Q     Max \n",
       "-4.9119 -0.5594 -0.2125  0.3174 10.4119 \n",
       "\n",
       "Random effects:\n",
       " Groups  Name                      Variance Std.Dev. Corr\n",
       " subject (Intercept)               0.28181  0.5309       \n",
       "         scale(monthly_STAI_state) 0.02894  0.1701   0.27\n",
       "Number of obs: 2069, groups:  subject, 743\n",
       "\n",
       "Fixed effects:\n",
       "                          Estimate Std. Error z value Pr(>|z|)    \n",
       "(Intercept)                1.03169    0.02544  40.546   <2e-16 ***\n",
       "scale(monthly_STAI_state)  0.04909    0.02237   2.195   0.0282 *  \n",
       "---\n",
       "Signif. codes:  0 ‘***’ 0.001 ‘**’ 0.01 ‘*’ 0.05 ‘.’ 0.1 ‘ ’ 1\n",
       "\n",
       "Correlation of Fixed Effects:\n",
       "            (Intr)\n",
       "scl(_STAI_) 0.035 "
      ]
     },
     "metadata": {},
     "output_type": "display_data"
    },
    {
     "data": {
      "text/plain": [
       "Generalized linear mixed model fit by maximum likelihood (Laplace\n",
       "  Approximation) [glmerMod]\n",
       " Family: poisson  ( log )\n",
       "Formula: remCount_2020 ~ scale(monthly_STAI_trait) + (1 | subject)\n",
       "   Data: sd_cd\n",
       "Control: glmerControl(\"bobyqa\")\n",
       "\n",
       "     AIC      BIC   logLik deviance df.resid \n",
       "  5151.7   5167.0  -2572.9   5145.7     1205 \n",
       "\n",
       "Scaled residuals: \n",
       "    Min      1Q  Median      3Q     Max \n",
       "-2.5708 -0.6141 -0.2273  0.3360  5.0064 \n",
       "\n",
       "Random effects:\n",
       " Groups  Name        Variance Std.Dev.\n",
       " subject (Intercept) 0.2724   0.5219  \n",
       "Number of obs: 1208, groups:  subject, 638\n",
       "\n",
       "Fixed effects:\n",
       "                          Estimate Std. Error z value Pr(>|z|)    \n",
       "(Intercept)                1.06225    0.02853  37.228   <2e-16 ***\n",
       "scale(monthly_STAI_trait)  0.03803    0.02631   1.445    0.148    \n",
       "---\n",
       "Signif. codes:  0 ‘***’ 0.001 ‘**’ 0.01 ‘*’ 0.05 ‘.’ 0.1 ‘ ’ 1\n",
       "\n",
       "Correlation of Fixed Effects:\n",
       "            (Intr)\n",
       "scl(_STAI_) -0.094"
      ]
     },
     "metadata": {},
     "output_type": "display_data"
    },
    {
     "data": {
      "text/plain": [
       "Generalized linear mixed model fit by maximum likelihood (Laplace\n",
       "  Approximation) [glmerMod]\n",
       " Family: poisson  ( log )\n",
       "Formula: remCount_2020 ~ scale(monthly_PSS) + (scale(monthly_PSS) | subject)\n",
       "   Data: sd_cd\n",
       "Control: glmerControl(\"bobyqa\")\n",
       "\n",
       "     AIC      BIC   logLik deviance df.resid \n",
       "  8572.6   8600.8  -4281.3   8562.6     2057 \n",
       "\n",
       "Scaled residuals: \n",
       "    Min      1Q  Median      3Q     Max \n",
       "-4.6071 -0.5527 -0.2069  0.3324  7.0421 \n",
       "\n",
       "Random effects:\n",
       " Groups  Name               Variance Std.Dev. Corr \n",
       " subject (Intercept)        0.25249  0.5025        \n",
       "         scale(monthly_PSS) 0.08655  0.2942   -0.11\n",
       "Number of obs: 2062, groups:  subject, 739\n",
       "\n",
       "Fixed effects:\n",
       "                   Estimate Std. Error z value Pr(>|z|)    \n",
       "(Intercept)         1.03452    0.02587  39.988   <2e-16 ***\n",
       "scale(monthly_PSS)  0.03216    0.02620   1.227     0.22    \n",
       "---\n",
       "Signif. codes:  0 ‘***’ 0.001 ‘**’ 0.01 ‘*’ 0.05 ‘.’ 0.1 ‘ ’ 1\n",
       "\n",
       "Correlation of Fixed Effects:\n",
       "            (Intr)\n",
       "scl(mn_PSS) -0.125"
      ]
     },
     "metadata": {},
     "output_type": "display_data"
    },
    {
     "data": {
      "text/plain": [
       "Generalized linear mixed model fit by maximum likelihood (Laplace\n",
       "  Approximation) [glmerMod]\n",
       " Family: poisson  ( log )\n",
       "Formula: remCount_2020 ~ scale(monthly_RISC) + (1 | subject)\n",
       "   Data: sd_cd\n",
       "Control: glmerControl(\"bobyqa\")\n",
       "\n",
       "     AIC      BIC   logLik deviance df.resid \n",
       "  4838.7   4853.8  -2416.4   4832.7     1132 \n",
       "\n",
       "Scaled residuals: \n",
       "    Min      1Q  Median      3Q     Max \n",
       "-4.8557 -0.5768 -0.2019  0.3352  6.2158 \n",
       "\n",
       "Random effects:\n",
       " Groups  Name        Variance Std.Dev.\n",
       " subject (Intercept) 0.2981   0.546   \n",
       "Number of obs: 1135, groups:  subject, 601\n",
       "\n",
       "Fixed effects:\n",
       "                    Estimate Std. Error z value Pr(>|z|)    \n",
       "(Intercept)          1.02667    0.03036   33.81   <2e-16 ***\n",
       "scale(monthly_RISC) -0.02552    0.02774   -0.92    0.358    \n",
       "---\n",
       "Signif. codes:  0 ‘***’ 0.001 ‘**’ 0.01 ‘*’ 0.05 ‘.’ 0.1 ‘ ’ 1\n",
       "\n",
       "Correlation of Fixed Effects:\n",
       "            (Intr)\n",
       "scl(m_RISC) 0.051 "
      ]
     },
     "metadata": {},
     "output_type": "display_data"
    },
    {
     "data": {
      "text/plain": [
       "Generalized linear mixed model fit by maximum likelihood (Laplace\n",
       "  Approximation) [glmerMod]\n",
       " Family: poisson  ( log )\n",
       "Formula: remCount_2020 ~ scale(monthly_faceMood) + (scale(monthly_faceMood) |  \n",
       "    subject)\n",
       "   Data: sd_cd\n",
       "Control: glmerControl(\"bobyqa\")\n",
       "\n",
       "     AIC      BIC   logLik deviance df.resid \n",
       "  8605.9   8634.0  -4297.9   8595.9     2064 \n",
       "\n",
       "Scaled residuals: \n",
       "    Min      1Q  Median      3Q     Max \n",
       "-5.6553 -0.5523 -0.2114  0.3256 10.3916 \n",
       "\n",
       "Random effects:\n",
       " Groups  Name                    Variance Std.Dev. Corr\n",
       " subject (Intercept)             0.28868  0.5373       \n",
       "         scale(monthly_faceMood) 0.02441  0.1562   0.13\n",
       "Number of obs: 2069, groups:  subject, 743\n",
       "\n",
       "Fixed effects:\n",
       "                        Estimate Std. Error z value Pr(>|z|)    \n",
       "(Intercept)              1.03384    0.02542  40.669   <2e-16 ***\n",
       "scale(monthly_faceMood)  0.04120    0.02149   1.917   0.0552 .  \n",
       "---\n",
       "Signif. codes:  0 ‘***’ 0.001 ‘**’ 0.01 ‘*’ 0.05 ‘.’ 0.1 ‘ ’ 1\n",
       "\n",
       "Correlation of Fixed Effects:\n",
       "            (Intr)\n",
       "scl(mnth_M) 0.000 "
      ]
     },
     "metadata": {},
     "output_type": "display_data"
    },
    {
     "data": {
      "text/plain": [
       "Generalized linear mixed model fit by maximum likelihood (Laplace\n",
       "  Approximation) [glmerMod]\n",
       " Family: poisson  ( log )\n",
       "Formula: remCount_2020 ~ scale(monthly_BDI) + (1 | subject)\n",
       "   Data: sd_cd\n",
       "Control: glmerControl(\"bobyqa\")\n",
       "\n",
       "     AIC      BIC   logLik deviance df.resid \n",
       "  6091.8   6107.6  -3042.9   6085.8     1428 \n",
       "\n",
       "Scaled residuals: \n",
       "    Min      1Q  Median      3Q     Max \n",
       "-4.7674 -0.5871 -0.1932  0.3170  6.0603 \n",
       "\n",
       "Random effects:\n",
       " Groups  Name        Variance Std.Dev.\n",
       " subject (Intercept) 0.2931   0.5414  \n",
       "Number of obs: 1431, groups:  subject, 661\n",
       "\n",
       "Fixed effects:\n",
       "                   Estimate Std. Error z value Pr(>|z|)    \n",
       "(Intercept)         1.04456    0.02774  37.650  < 2e-16 ***\n",
       "scale(monthly_BDI)  0.06281    0.02438   2.577  0.00997 ** \n",
       "---\n",
       "Signif. codes:  0 ‘***’ 0.001 ‘**’ 0.01 ‘*’ 0.05 ‘.’ 0.1 ‘ ’ 1\n",
       "\n",
       "Correlation of Fixed Effects:\n",
       "            (Intr)\n",
       "scl(mn_BDI) -0.077"
      ]
     },
     "metadata": {},
     "output_type": "display_data"
    }
   ],
   "source": [
    "# without zeros\n",
    "summary(glmer(remCount_2020~scale(monthly_PANAS_pos)+(scale(monthly_PANAS_pos)|subject),data = sd_cd, family = poisson(link = \"log\"),control=glmerControl(\"bobyqa\")))\n",
    "summary(glmer(remCount_2020~scale(monthly_PANAS_neg)+(scale(monthly_PANAS_neg)|subject),data = sd_cd, family = poisson(link = \"log\"),control=glmerControl(\"bobyqa\")))\n",
    "summary(glmer(remCount_2020~scale(monthly_STAI_state)+(scale(monthly_STAI_state)|subject),data = sd_cd, family = poisson(link = \"log\"),control=glmerControl(\"bobyqa\")))\n",
    "summary(glmer(remCount_2020~scale(monthly_STAI_trait)+(1|subject),data = sd_cd, family = poisson(link = \"log\"),control=glmerControl(\"bobyqa\")))\n",
    "summary(glmer(remCount_2020~scale(monthly_PSS)+(scale(monthly_PSS)|subject),data = sd_cd, family = poisson(link = \"log\"),control=glmerControl(\"bobyqa\")))\n",
    "summary(glmer(remCount_2020~scale(monthly_RISC)+(1|subject),data = sd_cd, family = poisson(link = \"log\"),control=glmerControl(\"bobyqa\")))\n",
    "summary(glmer(remCount_2020~scale(monthly_faceMood)+(scale(monthly_faceMood)|subject),data = sd_cd, family = poisson(link = \"log\"),control=glmerControl(\"bobyqa\")))\n",
    "summary(glmer(remCount_2020~scale(monthly_BDI)+(1|subject),data = sd_cd, family = poisson(link = \"log\"),control=glmerControl(\"bobyqa\")))"
   ]
  },
  {
   "cell_type": "code",
   "execution_count": 38,
   "metadata": {},
   "outputs": [
    {
     "name": "stderr",
     "output_type": "stream",
     "text": [
      "Warning message:\n",
      "“Rows containing NAs were excluded from the model.”\n",
      "Compiling Stan program...\n",
      "\n",
      "Start sampling\n",
      "\n"
     ]
    },
    {
     "data": {
      "text/plain": [
       " Family: poisson \n",
       "  Links: mu = log \n",
       "Formula: remCount_2020 ~ 1 + scale(monthly_STAI_state) + (scale(monthly_STAI_state) | subject) \n",
       "   Data: sd_cd (Number of observations: 2069) \n",
       "  Draws: 4 chains, each with iter = 3000; warmup = 1500; thin = 1;\n",
       "         total post-warmup draws = 6000\n",
       "\n",
       "Group-Level Effects: \n",
       "~subject (Number of levels: 743) \n",
       "                                       Estimate Est.Error l-95% CI u-95% CI\n",
       "sd(Intercept)                              0.54      0.02     0.49     0.58\n",
       "sd(scalemonthly_STAI_state)                0.17      0.03     0.10     0.23\n",
       "cor(Intercept,scalemonthly_STAI_state)     0.30      0.14     0.04     0.62\n",
       "                                       Rhat Bulk_ESS Tail_ESS\n",
       "sd(Intercept)                          1.00     2022     3659\n",
       "sd(scalemonthly_STAI_state)            1.00      822     1138\n",
       "cor(Intercept,scalemonthly_STAI_state) 1.00     1524     1207\n",
       "\n",
       "Population-Level Effects: \n",
       "                        Estimate Est.Error l-95% CI u-95% CI Rhat Bulk_ESS\n",
       "Intercept                   1.03      0.03     0.98     1.08 1.00     4607\n",
       "scalemonthly_STAI_state     0.05      0.02     0.00     0.09 1.00     6399\n",
       "                        Tail_ESS\n",
       "Intercept                   4920\n",
       "scalemonthly_STAI_state     4854\n",
       "\n",
       "Draws were sampled using sampling(NUTS). For each parameter, Bulk_ESS\n",
       "and Tail_ESS are effective sample size measures, and Rhat is the potential\n",
       "scale reduction factor on split chains (at convergence, Rhat = 1)."
      ]
     },
     "metadata": {},
     "output_type": "display_data"
    },
    {
     "name": "stderr",
     "output_type": "stream",
     "text": [
      "Warning message:\n",
      "“Rows containing NAs were excluded from the model.”\n",
      "Compiling Stan program...\n",
      "\n",
      "Start sampling\n",
      "\n"
     ]
    },
    {
     "data": {
      "text/plain": [
       " Family: poisson \n",
       "  Links: mu = log \n",
       "Formula: remCount_2020 ~ 1 + scale(monthly_BDI) + (1 | subject) \n",
       "   Data: sd_cd (Number of observations: 1431) \n",
       "  Draws: 4 chains, each with iter = 2000; warmup = 1000; thin = 1;\n",
       "         total post-warmup draws = 4000\n",
       "\n",
       "Group-Level Effects: \n",
       "~subject (Number of levels: 661) \n",
       "              Estimate Est.Error l-95% CI u-95% CI Rhat Bulk_ESS Tail_ESS\n",
       "sd(Intercept)     0.55      0.02     0.50     0.59 1.00     1205     1853\n",
       "\n",
       "Population-Level Effects: \n",
       "                 Estimate Est.Error l-95% CI u-95% CI Rhat Bulk_ESS Tail_ESS\n",
       "Intercept            1.04      0.03     0.99     1.10 1.00     1735     2628\n",
       "scalemonthly_BDI     0.06      0.02     0.02     0.11 1.00     1765     2411\n",
       "\n",
       "Draws were sampled using sampling(NUTS). For each parameter, Bulk_ESS\n",
       "and Tail_ESS are effective sample size measures, and Rhat is the potential\n",
       "scale reduction factor on split chains (at convergence, Rhat = 1)."
      ]
     },
     "metadata": {},
     "output_type": "display_data"
    }
   ],
   "source": [
    "summary(brm(remCount_2020~1+scale(monthly_STAI_state)+(scale(monthly_STAI_state)|subject),iter=3000,data = sd_cd, family=poisson, init = \"random\", cores=10))\n",
    "summary(brm(remCount_2020~1+scale(monthly_BDI)+(1|subject),data = sd_cd, family=poisson, init = \"random\", cores=10))"
   ]
  },
  {
   "cell_type": "code",
   "execution_count": 39,
   "metadata": {},
   "outputs": [
    {
     "data": {
      "text/plain": [
       "Linear mixed model fit by REML. t-tests use Satterthwaite's method [\n",
       "lmerModLmerTest]\n",
       "Formula: intDetails ~ scale(monthly_PANAS_pos) + (1 | subject)\n",
       "   Data: sd_cd\n",
       "Control: lmerControl(\"bobyqa\")\n",
       "\n",
       "REML criterion at convergence: 20942.7\n",
       "\n",
       "Scaled residuals: \n",
       "    Min      1Q  Median      3Q     Max \n",
       "-6.7795 -0.3976 -0.1596  0.2207 21.8875 \n",
       "\n",
       "Random effects:\n",
       " Groups   Name        Variance Std.Dev.\n",
       " subject  (Intercept)  544.7   23.34   \n",
       " Residual             1093.2   33.06   \n",
       "Number of obs: 2069, groups:  subject, 743\n",
       "\n",
       "Fixed effects:\n",
       "                         Estimate Std. Error       df t value Pr(>|t|)    \n",
       "(Intercept)                27.528      1.178  692.716  23.368   <2e-16 ***\n",
       "scale(monthly_PANAS_pos)   -1.379      1.090 1220.250  -1.265    0.206    \n",
       "---\n",
       "Signif. codes:  0 ‘***’ 0.001 ‘**’ 0.01 ‘*’ 0.05 ‘.’ 0.1 ‘ ’ 1\n",
       "\n",
       "Correlation of Fixed Effects:\n",
       "            (Intr)\n",
       "sc(_PANAS_) 0.038 "
      ]
     },
     "metadata": {},
     "output_type": "display_data"
    },
    {
     "data": {
      "text/plain": [
       "Linear mixed model fit by REML. t-tests use Satterthwaite's method [\n",
       "lmerModLmerTest]\n",
       "Formula: intDetails ~ scale(monthly_PANAS_neg) + (1 | subject)\n",
       "   Data: sd_cd\n",
       "Control: lmerControl(\"bobyqa\")\n",
       "\n",
       "REML criterion at convergence: 20943.2\n",
       "\n",
       "Scaled residuals: \n",
       "    Min      1Q  Median      3Q     Max \n",
       "-6.7785 -0.3950 -0.1598  0.2188 21.9022 \n",
       "\n",
       "Random effects:\n",
       " Groups   Name        Variance Std.Dev.\n",
       " subject  (Intercept)  549.7   23.45   \n",
       " Residual             1091.0   33.03   \n",
       "Number of obs: 2069, groups:  subject, 743\n",
       "\n",
       "Fixed effects:\n",
       "                          Estimate Std. Error        df t value Pr(>|t|)    \n",
       "(Intercept)                27.5237     1.1810  696.1591  23.305   <2e-16 ***\n",
       "scale(monthly_PANAS_neg)    1.1585     0.9955 1566.1991   1.164    0.245    \n",
       "---\n",
       "Signif. codes:  0 ‘***’ 0.001 ‘**’ 0.01 ‘*’ 0.05 ‘.’ 0.1 ‘ ’ 1\n",
       "\n",
       "Correlation of Fixed Effects:\n",
       "            (Intr)\n",
       "sc(_PANAS_) -0.046"
      ]
     },
     "metadata": {},
     "output_type": "display_data"
    },
    {
     "data": {
      "text/plain": [
       "Linear mixed model fit by REML. t-tests use Satterthwaite's method [\n",
       "lmerModLmerTest]\n",
       "Formula: intDetails ~ scale(monthly_STAI_state) + (1 | subject)\n",
       "   Data: sd_cd\n",
       "Control: lmerControl(\"bobyqa\")\n",
       "\n",
       "REML criterion at convergence: 20939\n",
       "\n",
       "Scaled residuals: \n",
       "    Min      1Q  Median      3Q     Max \n",
       "-6.7429 -0.3923 -0.1578  0.2168 21.9077 \n",
       "\n",
       "Random effects:\n",
       " Groups   Name        Variance Std.Dev.\n",
       " subject  (Intercept)  551.7   23.49   \n",
       " Residual             1087.4   32.98   \n",
       "Number of obs: 2069, groups:  subject, 743\n",
       "\n",
       "Fixed effects:\n",
       "                          Estimate Std. Error       df t value Pr(>|t|)    \n",
       "(Intercept)                 27.419      1.182  694.515  23.189   <2e-16 ***\n",
       "scale(monthly_STAI_state)    2.377      1.020 1417.581   2.331   0.0199 *  \n",
       "---\n",
       "Signif. codes:  0 ‘***’ 0.001 ‘**’ 0.01 ‘*’ 0.05 ‘.’ 0.1 ‘ ’ 1\n",
       "\n",
       "Correlation of Fixed Effects:\n",
       "            (Intr)\n",
       "scl(_STAI_) -0.061"
      ]
     },
     "metadata": {},
     "output_type": "display_data"
    },
    {
     "data": {
      "text/plain": [
       "Linear mixed model fit by REML. t-tests use Satterthwaite's method [\n",
       "lmerModLmerTest]\n",
       "Formula: intDetails ~ scale(monthly_STAI_trait) + (1 | subject)\n",
       "   Data: sd_cd\n",
       "Control: lmerControl(\"bobyqa\")\n",
       "\n",
       "REML criterion at convergence: 11920.7\n",
       "\n",
       "Scaled residuals: \n",
       "    Min      1Q  Median      3Q     Max \n",
       "-2.3550 -0.4685 -0.1832  0.2386  9.0895 \n",
       "\n",
       "Random effects:\n",
       " Groups   Name        Variance Std.Dev.\n",
       " subject  (Intercept) 434.2    20.84   \n",
       " Residual             796.3    28.22   \n",
       "Number of obs: 1208, groups:  subject, 638\n",
       "\n",
       "Fixed effects:\n",
       "                          Estimate Std. Error      df t value Pr(>|t|)    \n",
       "(Intercept)                 27.997      1.204 600.161  23.261   <2e-16 ***\n",
       "scale(monthly_STAI_trait)    2.293      1.167 715.008   1.965   0.0498 *  \n",
       "---\n",
       "Signif. codes:  0 ‘***’ 0.001 ‘**’ 0.01 ‘*’ 0.05 ‘.’ 0.1 ‘ ’ 1\n",
       "\n",
       "Correlation of Fixed Effects:\n",
       "            (Intr)\n",
       "scl(_STAI_) -0.087"
      ]
     },
     "metadata": {},
     "output_type": "display_data"
    },
    {
     "data": {
      "text/plain": [
       "Linear mixed model fit by REML. t-tests use Satterthwaite's method [\n",
       "lmerModLmerTest]\n",
       "Formula: intDetails ~ scale(monthly_PSS) + (1 | subject)\n",
       "   Data: sd_cd\n",
       "Control: lmerControl(\"bobyqa\")\n",
       "\n",
       "REML criterion at convergence: 20876.3\n",
       "\n",
       "Scaled residuals: \n",
       "    Min      1Q  Median      3Q     Max \n",
       "-6.7776 -0.3880 -0.1581  0.2154 21.8808 \n",
       "\n",
       "Random effects:\n",
       " Groups   Name        Variance Std.Dev.\n",
       " subject  (Intercept)  552.2   23.50   \n",
       " Residual             1092.8   33.06   \n",
       "Number of obs: 2062, groups:  subject, 739\n",
       "\n",
       "Fixed effects:\n",
       "                   Estimate Std. Error       df t value Pr(>|t|)    \n",
       "(Intercept)          27.489      1.189  691.629  23.128   <2e-16 ***\n",
       "scale(monthly_PSS)    1.461      1.105 1079.783   1.323    0.186    \n",
       "---\n",
       "Signif. codes:  0 ‘***’ 0.001 ‘**’ 0.01 ‘*’ 0.05 ‘.’ 0.1 ‘ ’ 1\n",
       "\n",
       "Correlation of Fixed Effects:\n",
       "            (Intr)\n",
       "scl(mn_PSS) -0.084"
      ]
     },
     "metadata": {},
     "output_type": "display_data"
    },
    {
     "data": {
      "text/plain": [
       "Linear mixed model fit by REML. t-tests use Satterthwaite's method [\n",
       "lmerModLmerTest]\n",
       "Formula: intDetails ~ scale(monthly_RISC) + (1 | subject)\n",
       "   Data: sd_cd\n",
       "Control: lmerControl(\"bobyqa\")\n",
       "\n",
       "REML criterion at convergence: 11746.8\n",
       "\n",
       "Scaled residuals: \n",
       "    Min      1Q  Median      3Q     Max \n",
       "-3.5899 -0.3867 -0.1762  0.1662 18.5922 \n",
       "\n",
       "Random effects:\n",
       " Groups   Name        Variance Std.Dev.\n",
       " subject  (Intercept)  596     24.41   \n",
       " Residual             1358     36.85   \n",
       "Number of obs: 1135, groups:  subject, 601\n",
       "\n",
       "Fixed effects:\n",
       "                    Estimate Std. Error      df t value Pr(>|t|)    \n",
       "(Intercept)           27.660      1.534 581.528  18.032   <2e-16 ***\n",
       "scale(monthly_RISC)   -1.505      1.499 752.358  -1.004    0.315    \n",
       "---\n",
       "Signif. codes:  0 ‘***’ 0.001 ‘**’ 0.01 ‘*’ 0.05 ‘.’ 0.1 ‘ ’ 1\n",
       "\n",
       "Correlation of Fixed Effects:\n",
       "            (Intr)\n",
       "scl(m_RISC) 0.043 "
      ]
     },
     "metadata": {},
     "output_type": "display_data"
    },
    {
     "data": {
      "text/plain": [
       "Linear mixed model fit by REML. t-tests use Satterthwaite's method [\n",
       "lmerModLmerTest]\n",
       "Formula: intDetails ~ scale(monthly_faceMood) + (1 | subject)\n",
       "   Data: sd_cd\n",
       "Control: lmerControl(\"bobyqa\")\n",
       "\n",
       "REML criterion at convergence: 20943.6\n",
       "\n",
       "Scaled residuals: \n",
       "    Min      1Q  Median      3Q     Max \n",
       "-6.7452 -0.3940 -0.1589  0.2185 21.8886 \n",
       "\n",
       "Random effects:\n",
       " Groups   Name        Variance Std.Dev.\n",
       " subject  (Intercept)  547.4   23.40   \n",
       " Residual             1092.3   33.05   \n",
       "Number of obs: 2069, groups:  subject, 743\n",
       "\n",
       "Fixed effects:\n",
       "                         Estimate Std. Error        df t value Pr(>|t|)    \n",
       "(Intercept)               27.5830     1.1787  694.9337    23.4   <2e-16 ***\n",
       "scale(monthly_faceMood)    0.9624     0.9625 1891.0509     1.0    0.318    \n",
       "---\n",
       "Signif. codes:  0 ‘***’ 0.001 ‘**’ 0.01 ‘*’ 0.05 ‘.’ 0.1 ‘ ’ 1\n",
       "\n",
       "Correlation of Fixed Effects:\n",
       "            (Intr)\n",
       "scl(mnth_M) -0.002"
      ]
     },
     "metadata": {},
     "output_type": "display_data"
    },
    {
     "data": {
      "text/plain": [
       "Linear mixed model fit by REML. t-tests use Satterthwaite's method [\n",
       "lmerModLmerTest]\n",
       "Formula: intDetails ~ scale(monthly_BDI) + (1 | subject)\n",
       "   Data: sd_cd\n",
       "Control: lmerControl(\"bobyqa\")\n",
       "\n",
       "REML criterion at convergence: 14653.3\n",
       "\n",
       "Scaled residuals: \n",
       "    Min      1Q  Median      3Q     Max \n",
       "-5.0046 -0.3792 -0.1641  0.1915 19.0476 \n",
       "\n",
       "Random effects:\n",
       " Groups   Name        Variance Std.Dev.\n",
       " subject  (Intercept)  678.1   26.04   \n",
       " Residual             1151.8   33.94   \n",
       "Number of obs: 1431, groups:  subject, 661\n",
       "\n",
       "Fixed effects:\n",
       "                   Estimate Std. Error      df t value Pr(>|t|)    \n",
       "(Intercept)          28.132      1.408 638.995  19.975   <2e-16 ***\n",
       "scale(monthly_BDI)    2.289      1.327 879.554   1.725    0.085 .  \n",
       "---\n",
       "Signif. codes:  0 ‘***’ 0.001 ‘**’ 0.01 ‘*’ 0.05 ‘.’ 0.1 ‘ ’ 1\n",
       "\n",
       "Correlation of Fixed Effects:\n",
       "            (Intr)\n",
       "scl(mn_BDI) -0.058"
      ]
     },
     "metadata": {},
     "output_type": "display_data"
    }
   ],
   "source": [
    "summary(mod<-lmer(intDetails~scale(monthly_PANAS_pos)+(1|subject),data=sd_cd,control=lmerControl(\"bobyqa\")))\n",
    "summary(mod<-lmer(intDetails~scale(monthly_PANAS_neg)+(1|subject),data=sd_cd,control=lmerControl(\"bobyqa\")))\n",
    "summary(mod<-lmer(intDetails~scale(monthly_STAI_state)+(1|subject),data=sd_cd,control=lmerControl(\"bobyqa\")))\n",
    "summary(mod<-lmer(intDetails~scale(monthly_STAI_trait)+(1|subject),data=sd_cd,control=lmerControl(\"bobyqa\")))\n",
    "summary(mod<-lmer(intDetails~scale(monthly_PSS)+(1|subject),data=sd_cd,control=lmerControl(\"bobyqa\")))\n",
    "summary(mod<-lmer(intDetails~scale(monthly_RISC)+(1|subject),data=sd_cd,control=lmerControl(\"bobyqa\")))\n",
    "summary(mod<-lmer(intDetails~scale(monthly_faceMood)+(1|subject),data=sd_cd,control=lmerControl(\"bobyqa\")))\n",
    "summary(mod<-lmer(intDetails~scale(monthly_BDI)+(1|subject),data=sd_cd,control=lmerControl(\"bobyqa\")))"
   ]
  },
  {
   "cell_type": "code",
   "execution_count": 40,
   "metadata": {},
   "outputs": [
    {
     "name": "stderr",
     "output_type": "stream",
     "text": [
      "Warning message:\n",
      "“Rows containing NAs were excluded from the model.”\n",
      "Compiling Stan program...\n",
      "\n",
      "Start sampling\n",
      "\n"
     ]
    },
    {
     "data": {
      "text/plain": [
       " Family: gaussian \n",
       "  Links: mu = identity; sigma = identity \n",
       "Formula: intDetails ~ 1 + scale(monthly_STAI_state) + (1 | subject) \n",
       "   Data: sd_cd (Number of observations: 2069) \n",
       "  Draws: 4 chains, each with iter = 2000; warmup = 1000; thin = 1;\n",
       "         total post-warmup draws = 4000\n",
       "\n",
       "Group-Level Effects: \n",
       "~subject (Number of levels: 743) \n",
       "              Estimate Est.Error l-95% CI u-95% CI Rhat Bulk_ESS Tail_ESS\n",
       "sd(Intercept)    23.51      1.15    21.34    25.85 1.00     1353     1691\n",
       "\n",
       "Population-Level Effects: \n",
       "                        Estimate Est.Error l-95% CI u-95% CI Rhat Bulk_ESS\n",
       "Intercept                  27.38      1.18    24.96    29.60 1.00     1881\n",
       "scalemonthly_STAI_state     2.38      1.02     0.38     4.44 1.00     2390\n",
       "                        Tail_ESS\n",
       "Intercept                   2257\n",
       "scalemonthly_STAI_state     2382\n",
       "\n",
       "Family Specific Parameters: \n",
       "      Estimate Est.Error l-95% CI u-95% CI Rhat Bulk_ESS Tail_ESS\n",
       "sigma    32.98      0.63    31.79    34.27 1.00     2290     2009\n",
       "\n",
       "Draws were sampled using sampling(NUTS). For each parameter, Bulk_ESS\n",
       "and Tail_ESS are effective sample size measures, and Rhat is the potential\n",
       "scale reduction factor on split chains (at convergence, Rhat = 1)."
      ]
     },
     "metadata": {},
     "output_type": "display_data"
    },
    {
     "name": "stderr",
     "output_type": "stream",
     "text": [
      "Warning message:\n",
      "“Rows containing NAs were excluded from the model.”\n",
      "Compiling Stan program...\n",
      "\n",
      "Start sampling\n",
      "\n"
     ]
    },
    {
     "data": {
      "text/plain": [
       " Family: gaussian \n",
       "  Links: mu = identity; sigma = identity \n",
       "Formula: intDetails ~ 1 + scale(monthly_STAI_trait) + (1 | subject) \n",
       "   Data: sd_cd (Number of observations: 1208) \n",
       "  Draws: 4 chains, each with iter = 2000; warmup = 1000; thin = 1;\n",
       "         total post-warmup draws = 4000\n",
       "\n",
       "Group-Level Effects: \n",
       "~subject (Number of levels: 638) \n",
       "              Estimate Est.Error l-95% CI u-95% CI Rhat Bulk_ESS Tail_ESS\n",
       "sd(Intercept)    20.67      1.35    18.07    23.37 1.01     1103     2098\n",
       "\n",
       "Population-Level Effects: \n",
       "                        Estimate Est.Error l-95% CI u-95% CI Rhat Bulk_ESS\n",
       "Intercept                  27.99      1.19    25.59    30.28 1.00     2146\n",
       "scalemonthly_STAI_trait     2.26      1.18    -0.07     4.57 1.00     2232\n",
       "                        Tail_ESS\n",
       "Intercept                   2911\n",
       "scalemonthly_STAI_trait     2450\n",
       "\n",
       "Family Specific Parameters: \n",
       "      Estimate Est.Error l-95% CI u-95% CI Rhat Bulk_ESS Tail_ESS\n",
       "sigma    28.34      0.84    26.79    30.06 1.00     1620     2203\n",
       "\n",
       "Draws were sampled using sampling(NUTS). For each parameter, Bulk_ESS\n",
       "and Tail_ESS are effective sample size measures, and Rhat is the potential\n",
       "scale reduction factor on split chains (at convergence, Rhat = 1)."
      ]
     },
     "metadata": {},
     "output_type": "display_data"
    }
   ],
   "source": [
    "summary(brm(intDetails~1+scale(monthly_STAI_state)+(1|subject), data = sd_cd, init = \"random\", cores=10))\n",
    "summary(brm(intDetails~1+scale(monthly_STAI_trait)+(1|subject), data = sd_cd, init = \"random\", cores=10))"
   ]
  },
  {
   "cell_type": "code",
   "execution_count": 41,
   "metadata": {},
   "outputs": [
    {
     "data": {
      "text/plain": [
       "Linear mixed model fit by REML. t-tests use Satterthwaite's method [\n",
       "lmerModLmerTest]\n",
       "Formula: extDetails ~ scale(monthly_PANAS_pos) + (1 | subject)\n",
       "   Data: sd_cd\n",
       "Control: lmerControl(\"bobyqa\")\n",
       "\n",
       "REML criterion at convergence: 19870.3\n",
       "\n",
       "Scaled residuals: \n",
       "    Min      1Q  Median      3Q     Max \n",
       "-4.9458 -0.4783 -0.1797  0.2699 12.6247 \n",
       "\n",
       "Random effects:\n",
       " Groups   Name        Variance Std.Dev.\n",
       " subject  (Intercept) 360.7    18.99   \n",
       " Residual             634.1    25.18   \n",
       "Number of obs: 2069, groups:  subject, 743\n",
       "\n",
       "Fixed effects:\n",
       "                          Estimate Std. Error        df t value Pr(>|t|)    \n",
       "(Intercept)                25.9621     0.9327  655.9527  27.837   <2e-16 ***\n",
       "scale(monthly_PANAS_pos)   -1.0922     0.8538 1215.3262  -1.279    0.201    \n",
       "---\n",
       "Signif. codes:  0 ‘***’ 0.001 ‘**’ 0.01 ‘*’ 0.05 ‘.’ 0.1 ‘ ’ 1\n",
       "\n",
       "Correlation of Fixed Effects:\n",
       "            (Intr)\n",
       "sc(_PANAS_) 0.038 "
      ]
     },
     "metadata": {},
     "output_type": "display_data"
    },
    {
     "data": {
      "text/plain": [
       "Linear mixed model fit by REML. t-tests use Satterthwaite's method [\n",
       "lmerModLmerTest]\n",
       "Formula: extDetails ~ scale(monthly_PANAS_neg) + (1 | subject)\n",
       "   Data: sd_cd\n",
       "Control: lmerControl(\"bobyqa\")\n",
       "\n",
       "REML criterion at convergence: 19871.6\n",
       "\n",
       "Scaled residuals: \n",
       "    Min      1Q  Median      3Q     Max \n",
       "-4.9331 -0.4772 -0.1813  0.2645 12.6339 \n",
       "\n",
       "Random effects:\n",
       " Groups   Name        Variance Std.Dev.\n",
       " subject  (Intercept) 363.0    19.05   \n",
       " Residual             633.5    25.17   \n",
       "Number of obs: 2069, groups:  subject, 743\n",
       "\n",
       "Fixed effects:\n",
       "                          Estimate Std. Error        df t value Pr(>|t|)    \n",
       "(Intercept)                25.9816     0.9345  654.7694  27.803   <2e-16 ***\n",
       "scale(monthly_PANAS_neg)    0.5334     0.7757 1585.0565   0.688    0.492    \n",
       "---\n",
       "Signif. codes:  0 ‘***’ 0.001 ‘**’ 0.01 ‘*’ 0.05 ‘.’ 0.1 ‘ ’ 1\n",
       "\n",
       "Correlation of Fixed Effects:\n",
       "            (Intr)\n",
       "sc(_PANAS_) -0.045"
      ]
     },
     "metadata": {},
     "output_type": "display_data"
    },
    {
     "data": {
      "text/plain": [
       "Linear mixed model fit by REML. t-tests use Satterthwaite's method [\n",
       "lmerModLmerTest]\n",
       "Formula: extDetails ~ scale(monthly_STAI_state) + (1 | subject)\n",
       "   Data: sd_cd\n",
       "Control: lmerControl(\"bobyqa\")\n",
       "\n",
       "REML criterion at convergence: 19867.9\n",
       "\n",
       "Scaled residuals: \n",
       "    Min      1Q  Median      3Q     Max \n",
       "-4.9239 -0.4790 -0.1786  0.2704 12.6330 \n",
       "\n",
       "Random effects:\n",
       " Groups   Name        Variance Std.Dev.\n",
       " subject  (Intercept) 364.8    19.10   \n",
       " Residual             631.3    25.13   \n",
       "Number of obs: 2069, groups:  subject, 743\n",
       "\n",
       "Fixed effects:\n",
       "                           Estimate Std. Error        df t value Pr(>|t|)    \n",
       "(Intercept)                 25.8975     0.9360  654.3531  27.668   <2e-16 ***\n",
       "scale(monthly_STAI_state)    1.6315     0.7964 1430.3716   2.049   0.0407 *  \n",
       "---\n",
       "Signif. codes:  0 ‘***’ 0.001 ‘**’ 0.01 ‘*’ 0.05 ‘.’ 0.1 ‘ ’ 1\n",
       "\n",
       "Correlation of Fixed Effects:\n",
       "            (Intr)\n",
       "scl(_STAI_) -0.061"
      ]
     },
     "metadata": {},
     "output_type": "display_data"
    },
    {
     "data": {
      "text/plain": [
       "Linear mixed model fit by REML. t-tests use Satterthwaite's method [\n",
       "lmerModLmerTest]\n",
       "Formula: extDetails ~ scale(monthly_STAI_trait) + (1 | subject)\n",
       "   Data: sd_cd\n",
       "Control: lmerControl(\"bobyqa\")\n",
       "\n",
       "REML criterion at convergence: 11632.8\n",
       "\n",
       "Scaled residuals: \n",
       "    Min      1Q  Median      3Q     Max \n",
       "-3.9351 -0.4944 -0.2032  0.2392 11.7239 \n",
       "\n",
       "Random effects:\n",
       " Groups   Name        Variance Std.Dev.\n",
       " subject  (Intercept) 292.5    17.10   \n",
       " Residual             658.4    25.66   \n",
       "Number of obs: 1208, groups:  subject, 638\n",
       "\n",
       "Fixed effects:\n",
       "                           Estimate Std. Error        df t value Pr(>|t|)    \n",
       "(Intercept)                25.42318    1.04150 576.94873  24.410   <2e-16 ***\n",
       "scale(monthly_STAI_trait)   0.08376    1.01407 683.64562   0.083    0.934    \n",
       "---\n",
       "Signif. codes:  0 ‘***’ 0.001 ‘**’ 0.01 ‘*’ 0.05 ‘.’ 0.1 ‘ ’ 1\n",
       "\n",
       "Correlation of Fixed Effects:\n",
       "            (Intr)\n",
       "scl(_STAI_) -0.087"
      ]
     },
     "metadata": {},
     "output_type": "display_data"
    },
    {
     "data": {
      "text/plain": [
       "Linear mixed model fit by REML. t-tests use Satterthwaite's method [\n",
       "lmerModLmerTest]\n",
       "Formula: extDetails ~ scale(monthly_PSS) + (1 | subject)\n",
       "   Data: sd_cd\n",
       "Control: lmerControl(\"bobyqa\")\n",
       "\n",
       "REML criterion at convergence: 19800.1\n",
       "\n",
       "Scaled residuals: \n",
       "    Min      1Q  Median      3Q     Max \n",
       "-4.9294 -0.4819 -0.1773  0.2683 12.6477 \n",
       "\n",
       "Random effects:\n",
       " Groups   Name        Variance Std.Dev.\n",
       " subject  (Intercept) 359.9    18.97   \n",
       " Residual             633.5    25.17   \n",
       "Number of obs: 2062, groups:  subject, 739\n",
       "\n",
       "Fixed effects:\n",
       "                    Estimate Std. Error        df t value Pr(>|t|)    \n",
       "(Intercept)          25.9074     0.9365  656.0808  27.663   <2e-16 ***\n",
       "scale(monthly_PSS)    0.4274     0.8640 1066.2602   0.495    0.621    \n",
       "---\n",
       "Signif. codes:  0 ‘***’ 0.001 ‘**’ 0.01 ‘*’ 0.05 ‘.’ 0.1 ‘ ’ 1\n",
       "\n",
       "Correlation of Fixed Effects:\n",
       "            (Intr)\n",
       "scl(mn_PSS) -0.083"
      ]
     },
     "metadata": {},
     "output_type": "display_data"
    },
    {
     "data": {
      "text/plain": [
       "Linear mixed model fit by REML. t-tests use Satterthwaite's method [\n",
       "lmerModLmerTest]\n",
       "Formula: extDetails ~ scale(monthly_RISC) + (1 | subject)\n",
       "   Data: sd_cd\n",
       "Control: lmerControl(\"bobyqa\")\n",
       "\n",
       "REML criterion at convergence: 11122.8\n",
       "\n",
       "Scaled residuals: \n",
       "    Min      1Q  Median      3Q     Max \n",
       "-4.5485 -0.4325 -0.1631  0.2223 10.8921 \n",
       "\n",
       "Random effects:\n",
       " Groups   Name        Variance Std.Dev.\n",
       " subject  (Intercept) 526.8    22.95   \n",
       " Residual             674.6    25.97   \n",
       "Number of obs: 1135, groups:  subject, 601\n",
       "\n",
       "Fixed effects:\n",
       "                    Estimate Std. Error       df t value Pr(>|t|)    \n",
       "(Intercept)          26.0906     1.2564 545.7325  20.766   <2e-16 ***\n",
       "scale(monthly_RISC)  -0.9662     1.1998 767.4345  -0.805    0.421    \n",
       "---\n",
       "Signif. codes:  0 ‘***’ 0.001 ‘**’ 0.01 ‘*’ 0.05 ‘.’ 0.1 ‘ ’ 1\n",
       "\n",
       "Correlation of Fixed Effects:\n",
       "            (Intr)\n",
       "scl(m_RISC) 0.045 "
      ]
     },
     "metadata": {},
     "output_type": "display_data"
    },
    {
     "data": {
      "text/plain": [
       "Linear mixed model fit by REML. t-tests use Satterthwaite's method [\n",
       "lmerModLmerTest]\n",
       "Formula: extDetails ~ scale(monthly_faceMood) + (1 | subject)\n",
       "   Data: sd_cd\n",
       "Control: lmerControl(\"bobyqa\")\n",
       "\n",
       "REML criterion at convergence: 19867.3\n",
       "\n",
       "Scaled residuals: \n",
       "    Min      1Q  Median      3Q     Max \n",
       "-4.8591 -0.4798 -0.1870  0.2799 12.6359 \n",
       "\n",
       "Random effects:\n",
       " Groups   Name        Variance Std.Dev.\n",
       " subject  (Intercept) 361.7    19.02   \n",
       " Residual             632.4    25.15   \n",
       "Number of obs: 2069, groups:  subject, 743\n",
       "\n",
       "Fixed effects:\n",
       "                         Estimate Std. Error        df t value Pr(>|t|)    \n",
       "(Intercept)               26.0045     0.9322  655.5477   27.89   <2e-16 ***\n",
       "scale(monthly_faceMood)    1.6407     0.7458 1923.5517    2.20   0.0279 *  \n",
       "---\n",
       "Signif. codes:  0 ‘***’ 0.001 ‘**’ 0.01 ‘*’ 0.05 ‘.’ 0.1 ‘ ’ 1\n",
       "\n",
       "Correlation of Fixed Effects:\n",
       "            (Intr)\n",
       "scl(mnth_M) -0.003"
      ]
     },
     "metadata": {},
     "output_type": "display_data"
    },
    {
     "data": {
      "text/plain": [
       "Linear mixed model fit by REML. t-tests use Satterthwaite's method [\n",
       "lmerModLmerTest]\n",
       "Formula: extDetails ~ scale(monthly_BDI) + (1 | subject)\n",
       "   Data: sd_cd\n",
       "Control: lmerControl(\"bobyqa\")\n",
       "\n",
       "REML criterion at convergence: 13856.4\n",
       "\n",
       "Scaled residuals: \n",
       "    Min      1Q  Median      3Q     Max \n",
       "-4.2780 -0.4560 -0.1701  0.2421 11.4231 \n",
       "\n",
       "Random effects:\n",
       " Groups   Name        Variance Std.Dev.\n",
       " subject  (Intercept) 396.4    19.91   \n",
       " Residual             655.2    25.60   \n",
       "Number of obs: 1431, groups:  subject, 661\n",
       "\n",
       "Fixed effects:\n",
       "                   Estimate Std. Error      df t value Pr(>|t|)    \n",
       "(Intercept)          25.888      1.070 612.400  24.189   <2e-16 ***\n",
       "scale(monthly_BDI)    1.682      1.007 856.867   1.669   0.0954 .  \n",
       "---\n",
       "Signif. codes:  0 ‘***’ 0.001 ‘**’ 0.01 ‘*’ 0.05 ‘.’ 0.1 ‘ ’ 1\n",
       "\n",
       "Correlation of Fixed Effects:\n",
       "            (Intr)\n",
       "scl(mn_BDI) -0.058"
      ]
     },
     "metadata": {},
     "output_type": "display_data"
    }
   ],
   "source": [
    "summary(mod<-lmer(extDetails~scale(monthly_PANAS_pos)+(1|subject),data=sd_cd,control=lmerControl(\"bobyqa\")))\n",
    "summary(mod<-lmer(extDetails~scale(monthly_PANAS_neg)+(1|subject),data=sd_cd,control=lmerControl(\"bobyqa\")))\n",
    "summary(mod<-lmer(extDetails~scale(monthly_STAI_state)+(1|subject),data=sd_cd,control=lmerControl(\"bobyqa\")))\n",
    "summary(mod<-lmer(extDetails~scale(monthly_STAI_trait)+(1|subject),data=sd_cd,control=lmerControl(\"bobyqa\")))\n",
    "summary(mod<-lmer(extDetails~scale(monthly_PSS)+(1|subject),data=sd_cd,control=lmerControl(\"bobyqa\")))\n",
    "summary(mod<-lmer(extDetails~scale(monthly_RISC)+(1|subject),data=sd_cd,control=lmerControl(\"bobyqa\")))\n",
    "summary(mod<-lmer(extDetails~scale(monthly_faceMood)+(1|subject),data=sd_cd,control=lmerControl(\"bobyqa\")))\n",
    "summary(mod<-lmer(extDetails~scale(monthly_BDI)+(1|subject),data=sd_cd,control=lmerControl(\"bobyqa\")))"
   ]
  },
  {
   "cell_type": "code",
   "execution_count": 6,
   "metadata": {},
   "outputs": [
    {
     "name": "stderr",
     "output_type": "stream",
     "text": [
      "Warning message:\n",
      "“Rows containing NAs were excluded from the model.”\n",
      "Compiling Stan program...\n",
      "\n",
      "Start sampling\n",
      "\n"
     ]
    },
    {
     "data": {
      "text/plain": [
       " Family: gaussian \n",
       "  Links: mu = identity; sigma = identity \n",
       "Formula: extDetails ~ 1 + scale(monthly_STAI_state) + (1 | subject) \n",
       "   Data: sd_cd (Number of observations: 2069) \n",
       "  Draws: 4 chains, each with iter = 2000; warmup = 1000; thin = 1;\n",
       "         total post-warmup draws = 4000\n",
       "\n",
       "Group-Level Effects: \n",
       "~subject (Number of levels: 743) \n",
       "              Estimate Est.Error l-95% CI u-95% CI Rhat Bulk_ESS Tail_ESS\n",
       "sd(Intercept)    19.05      0.91    17.31    20.90 1.00     1148     1952\n",
       "\n",
       "Population-Level Effects: \n",
       "                        Estimate Est.Error l-95% CI u-95% CI Rhat Bulk_ESS\n",
       "Intercept                  25.88      0.94    24.00    27.70 1.00     1611\n",
       "scalemonthly_STAI_state     1.62      0.79     0.06     3.16 1.00     1937\n",
       "                        Tail_ESS\n",
       "Intercept                   2302\n",
       "scalemonthly_STAI_state     2553\n",
       "\n",
       "Family Specific Parameters: \n",
       "      Estimate Est.Error l-95% CI u-95% CI Rhat Bulk_ESS Tail_ESS\n",
       "sigma    25.16      0.49    24.23    26.13 1.00     2149     2456\n",
       "\n",
       "Draws were sampled using sampling(NUTS). For each parameter, Bulk_ESS\n",
       "and Tail_ESS are effective sample size measures, and Rhat is the potential\n",
       "scale reduction factor on split chains (at convergence, Rhat = 1)."
      ]
     },
     "metadata": {},
     "output_type": "display_data"
    }
   ],
   "source": [
    "summary(brm(extDetails~1+scale(monthly_STAI_state)+(1|subject), data = sd_cd, init = \"random\", cores=10))"
   ]
  },
  {
   "cell_type": "markdown",
   "metadata": {},
   "source": [
    "# affect influenced sentiment of retrieved memory"
   ]
  },
  {
   "cell_type": "code",
   "execution_count": 43,
   "metadata": {},
   "outputs": [
    {
     "data": {
      "text/plain": [
       "Linear mixed model fit by REML. t-tests use Satterthwaite's method [\n",
       "lmerModLmerTest]\n",
       "Formula: compound ~ scale(monthly_PANAS_pos) + (1 | subject)\n",
       "   Data: sd_cd\n",
       "Control: lmerControl(\"bobyqa\")\n",
       "\n",
       "REML criterion at convergence: 1150.4\n",
       "\n",
       "Scaled residuals: \n",
       "     Min       1Q   Median       3Q      Max \n",
       "-2.91627 -0.53918 -0.03568  0.59643  2.79064 \n",
       "\n",
       "Random effects:\n",
       " Groups   Name        Variance Std.Dev.\n",
       " subject  (Intercept) 0.01094  0.1046  \n",
       " Residual             0.09189  0.3031  \n",
       "Number of obs: 2069, groups:  subject, 743\n",
       "\n",
       "Fixed effects:\n",
       "                          Estimate Std. Error        df t value Pr(>|t|)    \n",
       "(Intercept)              3.203e-02  7.973e-03 5.353e+02   4.017 6.74e-05 ***\n",
       "scale(monthly_PANAS_pos) 2.264e-02  7.918e-03 8.355e+02   2.859  0.00435 ** \n",
       "---\n",
       "Signif. codes:  0 ‘***’ 0.001 ‘**’ 0.01 ‘*’ 0.05 ‘.’ 0.1 ‘ ’ 1\n",
       "\n",
       "Correlation of Fixed Effects:\n",
       "            (Intr)\n",
       "sc(_PANAS_) 0.039 "
      ]
     },
     "metadata": {},
     "output_type": "display_data"
    },
    {
     "data": {
      "text/plain": [
       "Linear mixed model fit by REML. t-tests use Satterthwaite's method [\n",
       "lmerModLmerTest]\n",
       "Formula: compound ~ scale(monthly_PANAS_neg) + (1 | subject)\n",
       "   Data: sd_cd\n",
       "Control: lmerControl(\"bobyqa\")\n",
       "\n",
       "REML criterion at convergence: 1144.1\n",
       "\n",
       "Scaled residuals: \n",
       "     Min       1Q   Median       3Q      Max \n",
       "-2.94223 -0.54594 -0.04409  0.58680  2.73947 \n",
       "\n",
       "Random effects:\n",
       " Groups   Name        Variance Std.Dev.\n",
       " subject  (Intercept) 0.01115  0.1056  \n",
       " Residual             0.09142  0.3024  \n",
       "Number of obs: 2069, groups:  subject, 743\n",
       "\n",
       "Fixed effects:\n",
       "                           Estimate Std. Error         df t value Pr(>|t|)    \n",
       "(Intercept)               3.250e-02  7.982e-03  5.408e+02   4.072 5.36e-05 ***\n",
       "scale(monthly_PANAS_neg) -2.855e-02  7.457e-03  1.037e+03  -3.828 0.000137 ***\n",
       "---\n",
       "Signif. codes:  0 ‘***’ 0.001 ‘**’ 0.01 ‘*’ 0.05 ‘.’ 0.1 ‘ ’ 1\n",
       "\n",
       "Correlation of Fixed Effects:\n",
       "            (Intr)\n",
       "sc(_PANAS_) -0.045"
      ]
     },
     "metadata": {},
     "output_type": "display_data"
    },
    {
     "data": {
      "text/plain": [
       "Linear mixed model fit by REML. t-tests use Satterthwaite's method [\n",
       "lmerModLmerTest]\n",
       "Formula: compound ~ scale(monthly_STAI_state) + (1 | subject)\n",
       "   Data: sd_cd\n",
       "Control: lmerControl(\"bobyqa\")\n",
       "\n",
       "REML criterion at convergence: 1137.6\n",
       "\n",
       "Scaled residuals: \n",
       "     Min       1Q   Median       3Q      Max \n",
       "-2.92045 -0.53944 -0.04237  0.59468  2.66021 \n",
       "\n",
       "Random effects:\n",
       " Groups   Name        Variance Std.Dev.\n",
       " subject  (Intercept) 0.01101  0.1049  \n",
       " Residual             0.09122  0.3020  \n",
       "Number of obs: 2069, groups:  subject, 743\n",
       "\n",
       "Fixed effects:\n",
       "                            Estimate Std. Error         df t value Pr(>|t|)    \n",
       "(Intercept)                 0.033278   0.007967 543.221062   4.177 3.44e-05 ***\n",
       "scale(monthly_STAI_state)  -0.034556   0.007502 917.534584  -4.606 4.68e-06 ***\n",
       "---\n",
       "Signif. codes:  0 ‘***’ 0.001 ‘**’ 0.01 ‘*’ 0.05 ‘.’ 0.1 ‘ ’ 1\n",
       "\n",
       "Correlation of Fixed Effects:\n",
       "            (Intr)\n",
       "scl(_STAI_) -0.058"
      ]
     },
     "metadata": {},
     "output_type": "display_data"
    },
    {
     "data": {
      "text/plain": [
       "Linear mixed model fit by REML. t-tests use Satterthwaite's method [\n",
       "lmerModLmerTest]\n",
       "Formula: compound ~ scale(monthly_STAI_trait) + (1 | subject)\n",
       "   Data: sd_cd\n",
       "Control: lmerControl(\"bobyqa\")\n",
       "\n",
       "REML criterion at convergence: 532.2\n",
       "\n",
       "Scaled residuals: \n",
       "     Min       1Q   Median       3Q      Max \n",
       "-2.90628 -0.52253 -0.04879  0.57719  2.71331 \n",
       "\n",
       "Random effects:\n",
       " Groups   Name        Variance Std.Dev.\n",
       " subject  (Intercept) 0.006344 0.07965 \n",
       " Residual             0.083949 0.28974 \n",
       "Number of obs: 1208, groups:  subject, 638\n",
       "\n",
       "Fixed effects:\n",
       "                            Estimate Std. Error         df t value Pr(>|t|)    \n",
       "(Intercept)                 0.024881   0.009097 510.829140   2.735  0.00645 ** \n",
       "scale(monthly_STAI_trait)  -0.044704   0.009033 595.950018  -4.949 9.72e-07 ***\n",
       "---\n",
       "Signif. codes:  0 ‘***’ 0.001 ‘**’ 0.01 ‘*’ 0.05 ‘.’ 0.1 ‘ ’ 1\n",
       "\n",
       "Correlation of Fixed Effects:\n",
       "            (Intr)\n",
       "scl(_STAI_) -0.090"
      ]
     },
     "metadata": {},
     "output_type": "display_data"
    },
    {
     "data": {
      "text/plain": [
       "Linear mixed model fit by REML. t-tests use Satterthwaite's method [\n",
       "lmerModLmerTest]\n",
       "Formula: compound ~ scale(monthly_BDI) + (1 | subject)\n",
       "   Data: sd_cd\n",
       "Control: lmerControl(\"bobyqa\")\n",
       "\n",
       "REML criterion at convergence: 702.9\n",
       "\n",
       "Scaled residuals: \n",
       "     Min       1Q   Median       3Q      Max \n",
       "-2.77234 -0.52336 -0.04168  0.60569  2.99786 \n",
       "\n",
       "Random effects:\n",
       " Groups   Name        Variance Std.Dev.\n",
       " subject  (Intercept) 0.009914 0.09957 \n",
       " Residual             0.085757 0.29284 \n",
       "Number of obs: 1431, groups:  subject, 661\n",
       "\n",
       "Fixed effects:\n",
       "                     Estimate Std. Error         df t value Pr(>|t|)    \n",
       "(Intercept)          0.020782   0.008893 539.945545   2.337   0.0198 *  \n",
       "scale(monthly_BDI)  -0.043287   0.008752 690.800824  -4.946 9.53e-07 ***\n",
       "---\n",
       "Signif. codes:  0 ‘***’ 0.001 ‘**’ 0.01 ‘*’ 0.05 ‘.’ 0.1 ‘ ’ 1\n",
       "\n",
       "Correlation of Fixed Effects:\n",
       "            (Intr)\n",
       "scl(mn_BDI) -0.060"
      ]
     },
     "metadata": {},
     "output_type": "display_data"
    },
    {
     "data": {
      "text/plain": [
       "Linear mixed model fit by REML. t-tests use Satterthwaite's method [\n",
       "lmerModLmerTest]\n",
       "Formula: compound ~ scale(monthly_PSS) + (1 | subject)\n",
       "   Data: sd_cd\n",
       "Control: lmerControl(\"bobyqa\")\n",
       "\n",
       "REML criterion at convergence: 1129.5\n",
       "\n",
       "Scaled residuals: \n",
       "     Min       1Q   Median       3Q      Max \n",
       "-2.88346 -0.52764 -0.03304  0.59311  2.72602 \n",
       "\n",
       "Random effects:\n",
       " Groups   Name        Variance Std.Dev.\n",
       " subject  (Intercept) 0.01051  0.1025  \n",
       " Residual             0.09140  0.3023  \n",
       "Number of obs: 2062, groups:  subject, 739\n",
       "\n",
       "Fixed effects:\n",
       "                     Estimate Std. Error         df t value Pr(>|t|)    \n",
       "(Intercept)          0.035323   0.007951 534.865246   4.443 1.08e-05 ***\n",
       "scale(monthly_PSS)  -0.034639   0.007808 732.257399  -4.437 1.05e-05 ***\n",
       "---\n",
       "Signif. codes:  0 ‘***’ 0.001 ‘**’ 0.01 ‘*’ 0.05 ‘.’ 0.1 ‘ ’ 1\n",
       "\n",
       "Correlation of Fixed Effects:\n",
       "            (Intr)\n",
       "scl(mn_PSS) -0.084"
      ]
     },
     "metadata": {},
     "output_type": "display_data"
    },
    {
     "data": {
      "text/plain": [
       "Linear mixed model fit by REML. t-tests use Satterthwaite's method [\n",
       "lmerModLmerTest]\n",
       "Formula: compound ~ scale(monthly_RISC) + (1 | subject)\n",
       "   Data: sd_cd\n",
       "Control: lmerControl(\"bobyqa\")\n",
       "\n",
       "REML criterion at convergence: 649.3\n",
       "\n",
       "Scaled residuals: \n",
       "     Min       1Q   Median       3Q      Max \n",
       "-2.69806 -0.56136 -0.02187  0.62233  2.47178 \n",
       "\n",
       "Random effects:\n",
       " Groups   Name        Variance Std.Dev.\n",
       " subject  (Intercept) 0.01167  0.108   \n",
       " Residual             0.09183  0.303   \n",
       "Number of obs: 1135, groups:  subject, 601\n",
       "\n",
       "Fixed effects:\n",
       "                     Estimate Std. Error        df t value Pr(>|t|)    \n",
       "(Intercept)           0.02766    0.01026 461.79203   2.697  0.00726 ** \n",
       "scale(monthly_RISC)   0.04143    0.01029 595.34793   4.028 6.36e-05 ***\n",
       "---\n",
       "Signif. codes:  0 ‘***’ 0.001 ‘**’ 0.01 ‘*’ 0.05 ‘.’ 0.1 ‘ ’ 1\n",
       "\n",
       "Correlation of Fixed Effects:\n",
       "            (Intr)\n",
       "scl(m_RISC) 0.039 "
      ]
     },
     "metadata": {},
     "output_type": "display_data"
    },
    {
     "data": {
      "text/plain": [
       "Linear mixed model fit by REML. t-tests use Satterthwaite's method [\n",
       "lmerModLmerTest]\n",
       "Formula: compound ~ scale(monthly_faceMood) + (1 | subject)\n",
       "   Data: sd_cd\n",
       "Control: lmerControl(\"bobyqa\")\n",
       "\n",
       "REML criterion at convergence: 1138.4\n",
       "\n",
       "Scaled residuals: \n",
       "     Min       1Q   Median       3Q      Max \n",
       "-2.92329 -0.53236 -0.03997  0.59313  2.76109 \n",
       "\n",
       "Random effects:\n",
       " Groups   Name        Variance Std.Dev.\n",
       " subject  (Intercept) 0.009747 0.09873 \n",
       " Residual             0.092228 0.30369 \n",
       "Number of obs: 2069, groups:  subject, 743\n",
       "\n",
       "Fixed effects:\n",
       "                          Estimate Std. Error         df t value Pr(>|t|)    \n",
       "(Intercept)              3.098e-02  7.853e-03  5.307e+02   3.945 9.04e-05 ***\n",
       "scale(monthly_faceMood) -3.369e-02  7.408e-03  1.264e+03  -4.548 5.92e-06 ***\n",
       "---\n",
       "Signif. codes:  0 ‘***’ 0.001 ‘**’ 0.01 ‘*’ 0.05 ‘.’ 0.1 ‘ ’ 1\n",
       "\n",
       "Correlation of Fixed Effects:\n",
       "            (Intr)\n",
       "scl(mnth_M) 0.004 "
      ]
     },
     "metadata": {},
     "output_type": "display_data"
    }
   ],
   "source": [
    "summary(mod<-lmer(compound~scale(monthly_PANAS_pos)+(1|subject),data=sd_cd,control=lmerControl(\"bobyqa\")))\n",
    "summary(mod<-lmer(compound~scale(monthly_PANAS_neg)+(1|subject),data=sd_cd,control=lmerControl(\"bobyqa\")))\n",
    "summary(mod<-lmer(compound~scale(monthly_STAI_state)+(1|subject),data=sd_cd,control=lmerControl(\"bobyqa\")))\n",
    "summary(mod<-lmer(compound~scale(monthly_STAI_trait)+(1|subject),data=sd_cd,control=lmerControl(\"bobyqa\")))\n",
    "summary(mod<-lmer(compound~scale(monthly_BDI)+(1|subject),data=sd_cd,control=lmerControl(\"bobyqa\")))\n",
    "summary(mod<-lmer(compound~scale(monthly_PSS)+(1|subject),data=sd_cd,control=lmerControl(\"bobyqa\")))\n",
    "summary(mod<-lmer(compound~scale(monthly_RISC)+(1|subject),data=sd_cd,control=lmerControl(\"bobyqa\")))\n",
    "summary(mod<-lmer(compound~scale(monthly_faceMood)+(1|subject),data=sd_cd,control=lmerControl(\"bobyqa\")))"
   ]
  },
  {
   "cell_type": "code",
   "execution_count": 48,
   "metadata": {},
   "outputs": [
    {
     "name": "stderr",
     "output_type": "stream",
     "text": [
      "Warning message:\n",
      "“Rows containing NAs were excluded from the model.”\n",
      "Compiling Stan program...\n",
      "\n",
      "Start sampling\n",
      "\n"
     ]
    },
    {
     "data": {
      "text/plain": [
       " Family: gaussian \n",
       "  Links: mu = identity; sigma = identity \n",
       "Formula: compound ~ 1 + scale(monthly_PANAS_pos) + (1 | subject) \n",
       "   Data: sd_cd (Number of observations: 2069) \n",
       "  Draws: 4 chains, each with iter = 2000; warmup = 1000; thin = 1;\n",
       "         total post-warmup draws = 4000\n",
       "\n",
       "Group-Level Effects: \n",
       "~subject (Number of levels: 743) \n",
       "              Estimate Est.Error l-95% CI u-95% CI Rhat Bulk_ESS Tail_ESS\n",
       "sd(Intercept)     0.10      0.01     0.08     0.13 1.00      914     1556\n",
       "\n",
       "Population-Level Effects: \n",
       "                       Estimate Est.Error l-95% CI u-95% CI Rhat Bulk_ESS\n",
       "Intercept                  0.03      0.01     0.02     0.05 1.00     4429\n",
       "scalemonthly_PANAS_pos     0.02      0.01     0.01     0.04 1.00     5290\n",
       "                       Tail_ESS\n",
       "Intercept                  3303\n",
       "scalemonthly_PANAS_pos     2848\n",
       "\n",
       "Family Specific Parameters: \n",
       "      Estimate Est.Error l-95% CI u-95% CI Rhat Bulk_ESS Tail_ESS\n",
       "sigma     0.30      0.01     0.29     0.32 1.00     1734     2443\n",
       "\n",
       "Draws were sampled using sampling(NUTS). For each parameter, Bulk_ESS\n",
       "and Tail_ESS are effective sample size measures, and Rhat is the potential\n",
       "scale reduction factor on split chains (at convergence, Rhat = 1)."
      ]
     },
     "metadata": {},
     "output_type": "display_data"
    },
    {
     "name": "stderr",
     "output_type": "stream",
     "text": [
      "Warning message:\n",
      "“Rows containing NAs were excluded from the model.”\n",
      "Compiling Stan program...\n",
      "\n",
      "Start sampling\n",
      "\n"
     ]
    },
    {
     "data": {
      "text/plain": [
       " Family: gaussian \n",
       "  Links: mu = identity; sigma = identity \n",
       "Formula: compound ~ 1 + scale(monthly_PANAS_neg) + (1 | subject) \n",
       "   Data: sd_cd (Number of observations: 2069) \n",
       "  Draws: 4 chains, each with iter = 2000; warmup = 1000; thin = 1;\n",
       "         total post-warmup draws = 4000\n",
       "\n",
       "Group-Level Effects: \n",
       "~subject (Number of levels: 743) \n",
       "              Estimate Est.Error l-95% CI u-95% CI Rhat Bulk_ESS Tail_ESS\n",
       "sd(Intercept)     0.10      0.01     0.08     0.13 1.00      902     1726\n",
       "\n",
       "Population-Level Effects: \n",
       "                       Estimate Est.Error l-95% CI u-95% CI Rhat Bulk_ESS\n",
       "Intercept                  0.03      0.01     0.02     0.05 1.00     4293\n",
       "scalemonthly_PANAS_neg    -0.03      0.01    -0.04    -0.01 1.00     4510\n",
       "                       Tail_ESS\n",
       "Intercept                  3071\n",
       "scalemonthly_PANAS_neg     3054\n",
       "\n",
       "Family Specific Parameters: \n",
       "      Estimate Est.Error l-95% CI u-95% CI Rhat Bulk_ESS Tail_ESS\n",
       "sigma     0.30      0.01     0.29     0.31 1.00     2030     2347\n",
       "\n",
       "Draws were sampled using sampling(NUTS). For each parameter, Bulk_ESS\n",
       "and Tail_ESS are effective sample size measures, and Rhat is the potential\n",
       "scale reduction factor on split chains (at convergence, Rhat = 1)."
      ]
     },
     "metadata": {},
     "output_type": "display_data"
    },
    {
     "name": "stderr",
     "output_type": "stream",
     "text": [
      "Warning message:\n",
      "“Rows containing NAs were excluded from the model.”\n",
      "Compiling Stan program...\n",
      "\n",
      "Start sampling\n",
      "\n"
     ]
    },
    {
     "data": {
      "text/plain": [
       " Family: gaussian \n",
       "  Links: mu = identity; sigma = identity \n",
       "Formula: compound ~ 1 + scale(monthly_STAI_state) + (1 | subject) \n",
       "   Data: sd_cd (Number of observations: 2069) \n",
       "  Draws: 4 chains, each with iter = 3000; warmup = 1500; thin = 1;\n",
       "         total post-warmup draws = 6000\n",
       "\n",
       "Group-Level Effects: \n",
       "~subject (Number of levels: 743) \n",
       "              Estimate Est.Error l-95% CI u-95% CI Rhat Bulk_ESS Tail_ESS\n",
       "sd(Intercept)     0.10      0.01     0.08     0.13 1.00     1374     2612\n",
       "\n",
       "Population-Level Effects: \n",
       "                        Estimate Est.Error l-95% CI u-95% CI Rhat Bulk_ESS\n",
       "Intercept                   0.03      0.01     0.02     0.05 1.00     5131\n",
       "scalemonthly_STAI_state    -0.03      0.01    -0.05    -0.02 1.00     6287\n",
       "                        Tail_ESS\n",
       "Intercept                   4215\n",
       "scalemonthly_STAI_state     4366\n",
       "\n",
       "Family Specific Parameters: \n",
       "      Estimate Est.Error l-95% CI u-95% CI Rhat Bulk_ESS Tail_ESS\n",
       "sigma     0.30      0.01     0.29     0.31 1.00     2744     4135\n",
       "\n",
       "Draws were sampled using sampling(NUTS). For each parameter, Bulk_ESS\n",
       "and Tail_ESS are effective sample size measures, and Rhat is the potential\n",
       "scale reduction factor on split chains (at convergence, Rhat = 1)."
      ]
     },
     "metadata": {},
     "output_type": "display_data"
    },
    {
     "name": "stderr",
     "output_type": "stream",
     "text": [
      "Warning message:\n",
      "“Rows containing NAs were excluded from the model.”\n",
      "Compiling Stan program...\n",
      "\n",
      "Start sampling\n",
      "\n"
     ]
    },
    {
     "data": {
      "text/plain": [
       " Family: gaussian \n",
       "  Links: mu = identity; sigma = identity \n",
       "Formula: compound ~ 1 + scale(monthly_STAI_trait) + (1 | subject) \n",
       "   Data: sd_cd (Number of observations: 1208) \n",
       "  Draws: 4 chains, each with iter = 3000; warmup = 1500; thin = 1;\n",
       "         total post-warmup draws = 6000\n",
       "\n",
       "Group-Level Effects: \n",
       "~subject (Number of levels: 638) \n",
       "              Estimate Est.Error l-95% CI u-95% CI Rhat Bulk_ESS Tail_ESS\n",
       "sd(Intercept)     0.07      0.03     0.01     0.11 1.00      583      569\n",
       "\n",
       "Population-Level Effects: \n",
       "                        Estimate Est.Error l-95% CI u-95% CI Rhat Bulk_ESS\n",
       "Intercept                   0.02      0.01     0.01     0.04 1.00    11026\n",
       "scalemonthly_STAI_trait    -0.04      0.01    -0.06    -0.03 1.00    10822\n",
       "                        Tail_ESS\n",
       "Intercept                   4791\n",
       "scalemonthly_STAI_trait     4282\n",
       "\n",
       "Family Specific Parameters: \n",
       "      Estimate Est.Error l-95% CI u-95% CI Rhat Bulk_ESS Tail_ESS\n",
       "sigma     0.29      0.01     0.28     0.31 1.00     1266     2747\n",
       "\n",
       "Draws were sampled using sampling(NUTS). For each parameter, Bulk_ESS\n",
       "and Tail_ESS are effective sample size measures, and Rhat is the potential\n",
       "scale reduction factor on split chains (at convergence, Rhat = 1)."
      ]
     },
     "metadata": {},
     "output_type": "display_data"
    },
    {
     "name": "stderr",
     "output_type": "stream",
     "text": [
      "Warning message:\n",
      "“Rows containing NAs were excluded from the model.”\n",
      "Compiling Stan program...\n",
      "\n",
      "Start sampling\n",
      "\n"
     ]
    },
    {
     "data": {
      "text/plain": [
       " Family: gaussian \n",
       "  Links: mu = identity; sigma = identity \n",
       "Formula: compound ~ 1 + scale(monthly_BDI) + (1 | subject) \n",
       "   Data: sd_cd (Number of observations: 1431) \n",
       "  Draws: 4 chains, each with iter = 2000; warmup = 1000; thin = 1;\n",
       "         total post-warmup draws = 4000\n",
       "\n",
       "Group-Level Effects: \n",
       "~subject (Number of levels: 661) \n",
       "              Estimate Est.Error l-95% CI u-95% CI Rhat Bulk_ESS Tail_ESS\n",
       "sd(Intercept)     0.10      0.02     0.06     0.13 1.00      659      728\n",
       "\n",
       "Population-Level Effects: \n",
       "                 Estimate Est.Error l-95% CI u-95% CI Rhat Bulk_ESS Tail_ESS\n",
       "Intercept            0.02      0.01     0.00     0.04 1.00     3956     3251\n",
       "scalemonthly_BDI    -0.04      0.01    -0.06    -0.03 1.00     3946     2616\n",
       "\n",
       "Family Specific Parameters: \n",
       "      Estimate Est.Error l-95% CI u-95% CI Rhat Bulk_ESS Tail_ESS\n",
       "sigma     0.29      0.01     0.28     0.31 1.00     1082     1454\n",
       "\n",
       "Draws were sampled using sampling(NUTS). For each parameter, Bulk_ESS\n",
       "and Tail_ESS are effective sample size measures, and Rhat is the potential\n",
       "scale reduction factor on split chains (at convergence, Rhat = 1)."
      ]
     },
     "metadata": {},
     "output_type": "display_data"
    },
    {
     "name": "stderr",
     "output_type": "stream",
     "text": [
      "Warning message:\n",
      "“Rows containing NAs were excluded from the model.”\n",
      "Compiling Stan program...\n",
      "\n",
      "Start sampling\n",
      "\n"
     ]
    },
    {
     "data": {
      "text/plain": [
       " Family: gaussian \n",
       "  Links: mu = identity; sigma = identity \n",
       "Formula: compound ~ 1 + scale(monthly_PSS) + (1 | subject) \n",
       "   Data: sd_cd (Number of observations: 2062) \n",
       "  Draws: 4 chains, each with iter = 2000; warmup = 1000; thin = 1;\n",
       "         total post-warmup draws = 4000\n",
       "\n",
       "Group-Level Effects: \n",
       "~subject (Number of levels: 739) \n",
       "              Estimate Est.Error l-95% CI u-95% CI Rhat Bulk_ESS Tail_ESS\n",
       "sd(Intercept)     0.10      0.01     0.07     0.13 1.01      846      935\n",
       "\n",
       "Population-Level Effects: \n",
       "                 Estimate Est.Error l-95% CI u-95% CI Rhat Bulk_ESS Tail_ESS\n",
       "Intercept            0.04      0.01     0.02     0.05 1.00     4230     3082\n",
       "scalemonthly_PSS    -0.03      0.01    -0.05    -0.02 1.00     4165     3706\n",
       "\n",
       "Family Specific Parameters: \n",
       "      Estimate Est.Error l-95% CI u-95% CI Rhat Bulk_ESS Tail_ESS\n",
       "sigma     0.30      0.01     0.29     0.31 1.00     1821     2126\n",
       "\n",
       "Draws were sampled using sampling(NUTS). For each parameter, Bulk_ESS\n",
       "and Tail_ESS are effective sample size measures, and Rhat is the potential\n",
       "scale reduction factor on split chains (at convergence, Rhat = 1)."
      ]
     },
     "metadata": {},
     "output_type": "display_data"
    },
    {
     "name": "stderr",
     "output_type": "stream",
     "text": [
      "Warning message:\n",
      "“Rows containing NAs were excluded from the model.”\n",
      "Compiling Stan program...\n",
      "\n",
      "Start sampling\n",
      "\n"
     ]
    },
    {
     "data": {
      "text/plain": [
       " Family: gaussian \n",
       "  Links: mu = identity; sigma = identity \n",
       "Formula: compound ~ 1 + scale(monthly_RISC) + (1 | subject) \n",
       "   Data: sd_cd (Number of observations: 1135) \n",
       "  Draws: 4 chains, each with iter = 3000; warmup = 1500; thin = 1;\n",
       "         total post-warmup draws = 6000\n",
       "\n",
       "Group-Level Effects: \n",
       "~subject (Number of levels: 601) \n",
       "              Estimate Est.Error l-95% CI u-95% CI Rhat Bulk_ESS Tail_ESS\n",
       "sd(Intercept)     0.10      0.02     0.05     0.14 1.00      714      741\n",
       "\n",
       "Population-Level Effects: \n",
       "                  Estimate Est.Error l-95% CI u-95% CI Rhat Bulk_ESS Tail_ESS\n",
       "Intercept             0.03      0.01     0.01     0.05 1.00     7187     4573\n",
       "scalemonthly_RISC     0.04      0.01     0.02     0.06 1.00     7520     4782\n",
       "\n",
       "Family Specific Parameters: \n",
       "      Estimate Est.Error l-95% CI u-95% CI Rhat Bulk_ESS Tail_ESS\n",
       "sigma     0.30      0.01     0.29     0.32 1.00     1316     1790\n",
       "\n",
       "Draws were sampled using sampling(NUTS). For each parameter, Bulk_ESS\n",
       "and Tail_ESS are effective sample size measures, and Rhat is the potential\n",
       "scale reduction factor on split chains (at convergence, Rhat = 1)."
      ]
     },
     "metadata": {},
     "output_type": "display_data"
    },
    {
     "name": "stderr",
     "output_type": "stream",
     "text": [
      "Warning message:\n",
      "“Rows containing NAs were excluded from the model.”\n",
      "Compiling Stan program...\n",
      "\n",
      "Start sampling\n",
      "\n"
     ]
    },
    {
     "data": {
      "text/plain": [
       " Family: gaussian \n",
       "  Links: mu = identity; sigma = identity \n",
       "Formula: compound ~ 1 + scale(monthly_faceMood) + (1 | subject) \n",
       "   Data: sd_cd (Number of observations: 2069) \n",
       "  Draws: 4 chains, each with iter = 2000; warmup = 1000; thin = 1;\n",
       "         total post-warmup draws = 4000\n",
       "\n",
       "Group-Level Effects: \n",
       "~subject (Number of levels: 743) \n",
       "              Estimate Est.Error l-95% CI u-95% CI Rhat Bulk_ESS Tail_ESS\n",
       "sd(Intercept)     0.10      0.01     0.07     0.12 1.01      619     1121\n",
       "\n",
       "Population-Level Effects: \n",
       "                      Estimate Est.Error l-95% CI u-95% CI Rhat Bulk_ESS\n",
       "Intercept                 0.03      0.01     0.02     0.05 1.00     4213\n",
       "scalemonthly_faceMood    -0.03      0.01    -0.05    -0.02 1.00     4995\n",
       "                      Tail_ESS\n",
       "Intercept                 3025\n",
       "scalemonthly_faceMood     2965\n",
       "\n",
       "Family Specific Parameters: \n",
       "      Estimate Est.Error l-95% CI u-95% CI Rhat Bulk_ESS Tail_ESS\n",
       "sigma     0.30      0.01     0.29     0.32 1.00     1347     2223\n",
       "\n",
       "Draws were sampled using sampling(NUTS). For each parameter, Bulk_ESS\n",
       "and Tail_ESS are effective sample size measures, and Rhat is the potential\n",
       "scale reduction factor on split chains (at convergence, Rhat = 1)."
      ]
     },
     "metadata": {},
     "output_type": "display_data"
    }
   ],
   "source": [
    "summary(brm(compound~1+scale(monthly_PANAS_pos)+(1|subject), data = sd_cd, init = \"random\", cores=10))\n",
    "summary(brm(compound~1+scale(monthly_PANAS_neg)+(1|subject), data = sd_cd, init = \"random\", cores=10))\n",
    "summary(brm(compound~1+scale(monthly_STAI_state)+(1|subject), data = sd_cd, iter = 3000, init = \"random\", cores=10))\n",
    "summary(brm(compound~1+scale(monthly_STAI_trait)+(1|subject), iter = 3000, data = sd_cd, control=list(adapt_delta=0.9),init = \"random\", cores=10))\n",
    "summary(brm(compound~1+scale(monthly_BDI)+(1|subject), data = sd_cd, init = \"random\", cores=10))\n",
    "summary(brm(compound~1+scale(monthly_PSS)+(1|subject), data = sd_cd, init = \"random\", cores=10))\n",
    "summary(brm(compound~1+scale(monthly_RISC)+(1|subject), iter = 3000, data = sd_cd, init = \"random\", cores=10))\n",
    "summary(brm(compound~1+scale(monthly_faceMood)+(1|subject), data = sd_cd, init = \"random\", cores=10))"
   ]
  },
  {
   "cell_type": "code",
   "execution_count": 45,
   "metadata": {},
   "outputs": [
    {
     "data": {
      "text/plain": [
       "Linear mixed model fit by REML. t-tests use Satterthwaite's method [\n",
       "lmerModLmerTest]\n",
       "Formula: compound ~ variable * scale(value) + (1 | subject)\n",
       "   Data: panas_sent_melt\n",
       "Control: lmerControl(\"bobyqa\")\n",
       "\n",
       "REML criterion at convergence: 1768.9\n",
       "\n",
       "Scaled residuals: \n",
       "    Min      1Q  Median      3Q     Max \n",
       "-3.9284 -0.5458 -0.0150  0.5635  3.2358 \n",
       "\n",
       "Random effects:\n",
       " Groups   Name        Variance Std.Dev.\n",
       " subject  (Intercept) 0.03702  0.1924  \n",
       " Residual             0.07117  0.2668  \n",
       "Number of obs: 4138, groups:  subject, 743\n",
       "\n",
       "Fixed effects:\n",
       "                                         Estimate Std. Error         df t value\n",
       "(Intercept)                             2.247e-02  1.046e-02  1.300e+03   2.149\n",
       "variablemonthly_PANAS_neg              -9.732e-03  1.100e-02  3.634e+03  -0.885\n",
       "scale(value)                            1.423e-02  7.928e-03  4.133e+03   1.795\n",
       "variablemonthly_PANAS_neg:scale(value) -4.510e-02  1.431e-02  4.081e+03  -3.153\n",
       "                                       Pr(>|t|)   \n",
       "(Intercept)                             0.03185 * \n",
       "variablemonthly_PANAS_neg               0.37636   \n",
       "scale(value)                            0.07266 . \n",
       "variablemonthly_PANAS_neg:scale(value)  0.00163 **\n",
       "---\n",
       "Signif. codes:  0 ‘***’ 0.001 ‘**’ 0.01 ‘*’ 0.05 ‘.’ 0.1 ‘ ’ 1\n",
       "\n",
       "Correlation of Fixed Effects:\n",
       "            (Intr) vr_PANAS_ scl(v)\n",
       "vrbl_PANAS_ -0.443                 \n",
       "scale(valu) -0.425  0.332          \n",
       "v_PANAS_:()  0.273  0.213    -0.652"
      ]
     },
     "metadata": {},
     "output_type": "display_data"
    }
   ],
   "source": [
    "# test PANAS interaction \n",
    "panas_sent<-sd_cd[,c(\"subject\",\"compound\",\"monthly_PANAS_pos\",\"monthly_PANAS_neg\")]\n",
    "panas_sent_melt<-melt(panas_sent,id.vars=c(\"subject\",\"compound\"))\n",
    "summary(mod<-lmer(compound~variable*scale(value)+(1|subject),data=panas_sent_melt,control=lmerControl(\"bobyqa\")))"
   ]
  },
  {
   "cell_type": "code",
   "execution_count": 46,
   "metadata": {},
   "outputs": [
    {
     "name": "stderr",
     "output_type": "stream",
     "text": [
      "Warning message:\n",
      "“Rows containing NAs were excluded from the model.”\n",
      "Compiling Stan program...\n",
      "\n",
      "Start sampling\n",
      "\n"
     ]
    },
    {
     "data": {
      "text/plain": [
       " Family: gaussian \n",
       "  Links: mu = identity; sigma = identity \n",
       "Formula: compound ~ 1 + variable * scale(value) + (1 | subject) \n",
       "   Data: panas_sent_melt (Number of observations: 4138) \n",
       "  Draws: 4 chains, each with iter = 2000; warmup = 1000; thin = 1;\n",
       "         total post-warmup draws = 4000\n",
       "\n",
       "Group-Level Effects: \n",
       "~subject (Number of levels: 743) \n",
       "              Estimate Est.Error l-95% CI u-95% CI Rhat Bulk_ESS Tail_ESS\n",
       "sd(Intercept)     0.19      0.01     0.18     0.21 1.00      996     2081\n",
       "\n",
       "Population-Level Effects: \n",
       "                                     Estimate Est.Error l-95% CI u-95% CI Rhat\n",
       "Intercept                                0.02      0.01     0.00     0.04 1.00\n",
       "variablemonthly_PANAS_neg               -0.01      0.01    -0.03     0.01 1.00\n",
       "scalevalue                               0.01      0.01    -0.00     0.03 1.00\n",
       "variablemonthly_PANAS_neg:scalevalue    -0.04      0.01    -0.07    -0.02 1.00\n",
       "                                     Bulk_ESS Tail_ESS\n",
       "Intercept                                1558     2560\n",
       "variablemonthly_PANAS_neg                4846     2953\n",
       "scalevalue                               2506     2822\n",
       "variablemonthly_PANAS_neg:scalevalue     2353     2892\n",
       "\n",
       "Family Specific Parameters: \n",
       "      Estimate Est.Error l-95% CI u-95% CI Rhat Bulk_ESS Tail_ESS\n",
       "sigma     0.27      0.00     0.26     0.27 1.00     3761     2572\n",
       "\n",
       "Draws were sampled using sampling(NUTS). For each parameter, Bulk_ESS\n",
       "and Tail_ESS are effective sample size measures, and Rhat is the potential\n",
       "scale reduction factor on split chains (at convergence, Rhat = 1)."
      ]
     },
     "metadata": {},
     "output_type": "display_data"
    }
   ],
   "source": [
    "summary(brm(compound~1+variable*scale(value)+(1|subject), data = panas_sent_melt, init = \"random\", cores=10))"
   ]
  }
 ],
 "metadata": {
  "kernelspec": {
   "display_name": "R",
   "language": "R",
   "name": "ir"
  },
  "language_info": {
   "codemirror_mode": "r",
   "file_extension": ".r",
   "mimetype": "text/x-r-source",
   "name": "R",
   "pygments_lexer": "r",
   "version": "4.1.3"
  }
 },
 "nbformat": 4,
 "nbformat_minor": 4
}
