{
 "cells": [
  {
   "cell_type": "code",
   "execution_count": 97,
   "metadata": {},
   "outputs": [],
   "source": [
    "# load packages \n",
    "library(reshape2)\n",
    "library(lme4)\n",
    "library(lmerTest)\n",
    "library(brms)"
   ]
  },
  {
   "cell_type": "code",
   "execution_count": 5,
   "metadata": {},
   "outputs": [],
   "source": [
    "# set working directory to dataFiles and read in files\n",
    "setwd('../dataFiles')\n",
    "subDate<-read.csv('autobioMem_subDate.csv')"
   ]
  },
  {
   "cell_type": "code",
   "execution_count": 12,
   "metadata": {},
   "outputs": [],
   "source": [
    "# subset for memory/emotion collections\n",
    "\n",
    "# change factor orders\n",
    "subDate$marchFactor<-factor(subDate$marchFactor,levels=c('Other','March'))\n",
    "\n",
    "# subset for 2021 memory collections\n",
    "sd_2020_2021 = subset(subDate, set_2020_2021==1) # 2020 in 2021\n",
    "sd_2021 = subset(subDate, set_2021==1) # 2021 in 2021\n",
    "\n",
    "# subset for covid-dynamic study emotion collection months (April-December 2020) \n",
    "sentMonths = c(\"April\",\"May\",\"June\",\"July\",\"August\",\"September\",\"October\",\"November\",\"December\")\n",
    "sd_cd = subset(subDate, date %in% sentMonths)\n",
    "sd_cd_2020_2021 = subset(sd_cd, set_2020_2021==1) # 2020 in 2021\n",
    "sd_cd_2021 = subset(sd_cd, set_2021==1) # 2021 in 2021"
   ]
  },
  {
   "cell_type": "markdown",
   "metadata": {},
   "source": [
    "## greater autobiographical memory for march 2020 (pandemic onset) across two years"
   ]
  },
  {
   "cell_type": "code",
   "execution_count": 13,
   "metadata": {},
   "outputs": [
    {
     "data": {
      "text/plain": [
       "Generalized linear mixed model fit by maximum likelihood (Laplace\n",
       "  Approximation) [glmerMod]\n",
       " Family: poisson  ( log )\n",
       "Formula: memCount_2020 ~ marchFactor + (marchFactor | subject)\n",
       "   Data: subDate\n",
       "Control: glmerControl(\"bobyqa\")\n",
       "\n",
       "     AIC      BIC   logLik deviance df.resid \n",
       " 37160.3  37197.0 -18575.2  37150.3    11263 \n",
       "\n",
       "Scaled residuals: \n",
       "    Min      1Q  Median      3Q     Max \n",
       "-3.2503 -0.8434 -0.5564  0.2256 27.2118 \n",
       "\n",
       "Random effects:\n",
       " Groups  Name             Variance Std.Dev. Corr \n",
       " subject (Intercept)      0.9667   0.9832        \n",
       "         marchFactorMarch 1.3376   1.1566   -0.51\n",
       "Number of obs: 11268, groups:  subject, 939\n",
       "\n",
       "Fixed effects:\n",
       "                 Estimate Std. Error z value Pr(>|z|)    \n",
       "(Intercept)      -0.49992    0.03555  -14.06   <2e-16 ***\n",
       "marchFactorMarch  1.16972    0.04974   23.52   <2e-16 ***\n",
       "---\n",
       "Signif. codes:  0 ‘***’ 0.001 ‘**’ 0.01 ‘*’ 0.05 ‘.’ 0.1 ‘ ’ 1\n",
       "\n",
       "Correlation of Fixed Effects:\n",
       "            (Intr)\n",
       "mrchFctrMrc -0.482"
      ]
     },
     "metadata": {},
     "output_type": "display_data"
    },
    {
     "data": {
      "text/plain": [
       "Generalized linear mixed model fit by maximum likelihood (Laplace\n",
       "  Approximation) [glmerMod]\n",
       " Family: poisson  ( log )\n",
       "Formula: memCount_2020_2021 ~ marchFactor + (marchFactor | subject)\n",
       "   Data: sd_2020_2021\n",
       "Control: glmerControl(\"bobyqa\")\n",
       "\n",
       "     AIC      BIC   logLik deviance df.resid \n",
       " 16413.9  16447.5  -8201.9  16403.9     6139 \n",
       "\n",
       "Scaled residuals: \n",
       "    Min      1Q  Median      3Q     Max \n",
       "-2.9288 -0.7322 -0.4841 -0.3117 15.7791 \n",
       "\n",
       "Random effects:\n",
       " Groups  Name             Variance Std.Dev. Corr \n",
       " subject (Intercept)      1.117    1.057         \n",
       "         marchFactorMarch 2.013    1.419    -0.52\n",
       "Number of obs: 6144, groups:  subject, 512\n",
       "\n",
       "Fixed effects:\n",
       "                 Estimate Std. Error z value Pr(>|z|)    \n",
       "(Intercept)      -0.98933    0.05485  -18.04   <2e-16 ***\n",
       "marchFactorMarch  1.22518    0.08950   13.69   <2e-16 ***\n",
       "---\n",
       "Signif. codes:  0 ‘***’ 0.001 ‘**’ 0.01 ‘*’ 0.05 ‘.’ 0.1 ‘ ’ 1\n",
       "\n",
       "Correlation of Fixed Effects:\n",
       "            (Intr)\n",
       "mrchFctrMrc -0.478"
      ]
     },
     "metadata": {},
     "output_type": "display_data"
    },
    {
     "data": {
      "text/plain": [
       "Generalized linear mixed model fit by maximum likelihood (Laplace\n",
       "  Approximation) [glmerMod]\n",
       " Family: poisson  ( log )\n",
       "Formula: memCount_2021 ~ marchFactor + (marchFactor | subject)\n",
       "   Data: sd_2021\n",
       "Control: glmerControl(\"bobyqa\")\n",
       "\n",
       "     AIC      BIC   logLik deviance df.resid \n",
       " 16828.2  16861.9  -8409.1  16818.2     6271 \n",
       "\n",
       "Scaled residuals: \n",
       "    Min      1Q  Median      3Q     Max \n",
       "-2.5613 -0.7786 -0.5029 -0.2082 13.0235 \n",
       "\n",
       "Random effects:\n",
       " Groups  Name             Variance Std.Dev. Corr \n",
       " subject (Intercept)      0.8127   0.9015        \n",
       "         marchFactorMarch 3.6977   1.9229   -0.06\n",
       "Number of obs: 6276, groups:  subject, 523\n",
       "\n",
       "Fixed effects:\n",
       "                 Estimate Std. Error z value Pr(>|z|)    \n",
       "(Intercept)      -0.70242    0.04565 -15.388  < 2e-16 ***\n",
       "marchFactorMarch -1.45918    0.22498  -6.486 8.83e-11 ***\n",
       "---\n",
       "Signif. codes:  0 ‘***’ 0.001 ‘**’ 0.01 ‘*’ 0.05 ‘.’ 0.1 ‘ ’ 1\n",
       "\n",
       "Correlation of Fixed Effects:\n",
       "            (Intr)\n",
       "mrchFctrMrc -0.069"
      ]
     },
     "metadata": {},
     "output_type": "display_data"
    }
   ],
   "source": [
    "summary(glmer(memCount_2020~marchFactor+(marchFactor|subject),data = subDate, family = poisson(link = \"log\"),glmerControl(\"bobyqa\")))\n",
    "summary(glmer(memCount_2020_2021~marchFactor+(marchFactor|subject),data = sd_2020_2021, family = poisson(link = \"log\"),glmerControl(\"bobyqa\")))\n",
    "summary(glmer(memCount_2021~marchFactor+(marchFactor|subject),data = sd_2021, family = poisson(link = \"log\"),glmerControl(\"bobyqa\")))"
   ]
  },
  {
   "cell_type": "code",
   "execution_count": 15,
   "metadata": {},
   "outputs": [
    {
     "name": "stderr",
     "output_type": "stream",
     "text": [
      "Compiling Stan program...\n",
      "\n",
      "Start sampling\n",
      "\n"
     ]
    },
    {
     "data": {
      "text/plain": [
       " Family: poisson \n",
       "  Links: mu = log \n",
       "Formula: memCount_2020 ~ 1 + marchFactor + (marchFactor | subject) \n",
       "   Data: subDate (Number of observations: 11268) \n",
       "  Draws: 4 chains, each with iter = 2000; warmup = 1000; thin = 1;\n",
       "         total post-warmup draws = 4000\n",
       "\n",
       "Group-Level Effects: \n",
       "~subject (Number of levels: 939) \n",
       "                                Estimate Est.Error l-95% CI u-95% CI Rhat\n",
       "sd(Intercept)                       0.99      0.03     0.94     1.05 1.01\n",
       "sd(marchFactorMarch)                1.18      0.04     1.09     1.27 1.00\n",
       "cor(Intercept,marchFactorMarch)    -0.50      0.04    -0.57    -0.43 1.01\n",
       "                                Bulk_ESS Tail_ESS\n",
       "sd(Intercept)                        585     1183\n",
       "sd(marchFactorMarch)                 948     1718\n",
       "cor(Intercept,marchFactorMarch)      853     1779\n",
       "\n",
       "Population-Level Effects: \n",
       "                 Estimate Est.Error l-95% CI u-95% CI Rhat Bulk_ESS Tail_ESS\n",
       "Intercept           -0.50      0.04    -0.57    -0.43 1.01      823     1285\n",
       "marchFactorMarch     1.16      0.05     1.06     1.26 1.00     1433     2564\n",
       "\n",
       "Draws were sampled using sampling(NUTS). For each parameter, Bulk_ESS\n",
       "and Tail_ESS are effective sample size measures, and Rhat is the potential\n",
       "scale reduction factor on split chains (at convergence, Rhat = 1)."
      ]
     },
     "metadata": {},
     "output_type": "display_data"
    },
    {
     "name": "stderr",
     "output_type": "stream",
     "text": [
      "Compiling Stan program...\n",
      "\n",
      "recompiling to avoid crashing R session\n",
      "\n",
      "Start sampling\n",
      "\n"
     ]
    },
    {
     "data": {
      "text/plain": [
       " Family: poisson \n",
       "  Links: mu = log \n",
       "Formula: memCount_2020_2021 ~ 1 + marchFactor + (marchFactor | subject) \n",
       "   Data: sd_2020_2021 (Number of observations: 6144) \n",
       "  Draws: 4 chains, each with iter = 2000; warmup = 1000; thin = 1;\n",
       "         total post-warmup draws = 4000\n",
       "\n",
       "Group-Level Effects: \n",
       "~subject (Number of levels: 512) \n",
       "                                Estimate Est.Error l-95% CI u-95% CI Rhat\n",
       "sd(Intercept)                       1.08      0.05     0.98     1.17 1.00\n",
       "sd(marchFactorMarch)                1.45      0.08     1.30     1.61 1.00\n",
       "cor(Intercept,marchFactorMarch)    -0.51      0.05    -0.60    -0.41 1.00\n",
       "                                Bulk_ESS Tail_ESS\n",
       "sd(Intercept)                        736     1416\n",
       "sd(marchFactorMarch)                1037     2033\n",
       "cor(Intercept,marchFactorMarch)      900     1396\n",
       "\n",
       "Population-Level Effects: \n",
       "                 Estimate Est.Error l-95% CI u-95% CI Rhat Bulk_ESS Tail_ESS\n",
       "Intercept           -0.99      0.05    -1.10    -0.89 1.00     1099     1305\n",
       "marchFactorMarch     1.22      0.09     1.04     1.40 1.00     1729     2443\n",
       "\n",
       "Draws were sampled using sampling(NUTS). For each parameter, Bulk_ESS\n",
       "and Tail_ESS are effective sample size measures, and Rhat is the potential\n",
       "scale reduction factor on split chains (at convergence, Rhat = 1)."
      ]
     },
     "metadata": {},
     "output_type": "display_data"
    },
    {
     "name": "stderr",
     "output_type": "stream",
     "text": [
      "Compiling Stan program...\n",
      "\n",
      "recompiling to avoid crashing R session\n",
      "\n",
      "Start sampling\n",
      "\n"
     ]
    },
    {
     "data": {
      "text/plain": [
       " Family: poisson \n",
       "  Links: mu = log \n",
       "Formula: memCount_2021 ~ 1 + marchFactor + (marchFactor | subject) \n",
       "   Data: sd_2021 (Number of observations: 6276) \n",
       "  Draws: 4 chains, each with iter = 2000; warmup = 1000; thin = 1;\n",
       "         total post-warmup draws = 4000\n",
       "\n",
       "Group-Level Effects: \n",
       "~subject (Number of levels: 523) \n",
       "                                Estimate Est.Error l-95% CI u-95% CI Rhat\n",
       "sd(Intercept)                       0.92      0.04     0.84     0.99 1.01\n",
       "sd(marchFactorMarch)                1.73      0.15     1.46     2.03 1.00\n",
       "cor(Intercept,marchFactorMarch)    -0.05      0.08    -0.21     0.12 1.00\n",
       "                                Bulk_ESS Tail_ESS\n",
       "sd(Intercept)                        874     1915\n",
       "sd(marchFactorMarch)                1329     2406\n",
       "cor(Intercept,marchFactorMarch)     1297     2229\n",
       "\n",
       "Population-Level Effects: \n",
       "                 Estimate Est.Error l-95% CI u-95% CI Rhat Bulk_ESS Tail_ESS\n",
       "Intercept           -0.71      0.05    -0.79    -0.62 1.00     1016     1791\n",
       "marchFactorMarch    -1.27      0.19    -1.68    -0.92 1.00     2192     2512\n",
       "\n",
       "Draws were sampled using sampling(NUTS). For each parameter, Bulk_ESS\n",
       "and Tail_ESS are effective sample size measures, and Rhat is the potential\n",
       "scale reduction factor on split chains (at convergence, Rhat = 1)."
      ]
     },
     "metadata": {},
     "output_type": "display_data"
    }
   ],
   "source": [
    "# bayesian regression models (for confidence intervals)\n",
    "brm(memCount_2020~1+marchFactor+(marchFactor|subject),data = subDate, family = poisson, init = \"random\", cores=10)\n",
    "brm(memCount_2020_2021~1+marchFactor+(marchFactor|subject),data = sd_2020_2021, family = poisson, init = \"random\", cores=10)\n",
    "brm(memCount_2021~1+marchFactor+(marchFactor|subject),data = sd_2021, family = poisson, init = \"random\", cores=10)"
   ]
  },
  {
   "cell_type": "code",
   "execution_count": 17,
   "metadata": {},
   "outputs": [
    {
     "data": {
      "text/plain": [
       "Generalized linear mixed model fit by maximum likelihood (Laplace\n",
       "  Approximation) [glmerMod]\n",
       " Family: poisson  ( log )\n",
       "Formula: value ~ marchFactor * variable + (marchFactor * variable | subject)\n",
       "   Data: int_sd_melt[int_sd_melt$variable != \"memCount_2021\", ]\n",
       "Control: glmerControl(\"bobyqa\")\n",
       "\n",
       "     AIC      BIC   logLik deviance df.resid \n",
       " 38140.6  38244.4 -19056.3  38112.6    12274 \n",
       "\n",
       "Scaled residuals: \n",
       "    Min      1Q  Median      3Q     Max \n",
       "-3.2603 -0.7891 -0.5283 -0.0114 27.2292 \n",
       "\n",
       "Random effects:\n",
       " Groups  Name                                        Variance Std.Dev. Corr \n",
       " subject (Intercept)                                 0.9434   0.9713        \n",
       "         marchFactorMarch                            1.4002   1.1833   -0.50\n",
       "         variablememCount_2020_2021                  0.9147   0.9564   -0.42\n",
       "         marchFactorMarch:variablememCount_2020_2021 2.1766   1.4753    0.27\n",
       "            \n",
       "            \n",
       "            \n",
       "  0.33      \n",
       " -0.47 -0.66\n",
       "Number of obs: 12288, groups:  subject, 512\n",
       "\n",
       "Fixed effects:\n",
       "                                            Estimate Std. Error z value\n",
       "(Intercept)                                 -0.39544    0.04717  -8.384\n",
       "marchFactorMarch                             1.17428    0.06675  17.593\n",
       "variablememCount_2020_2021                  -0.58059    0.05352 -10.849\n",
       "marchFactorMarch:variablememCount_2020_2021  0.06756    0.09518   0.710\n",
       "                                            Pr(>|z|)    \n",
       "(Intercept)                                   <2e-16 ***\n",
       "marchFactorMarch                              <2e-16 ***\n",
       "variablememCount_2020_2021                    <2e-16 ***\n",
       "marchFactorMarch:variablememCount_2020_2021    0.478    \n",
       "---\n",
       "Signif. codes:  0 ‘***’ 0.001 ‘**’ 0.01 ‘*’ 0.05 ‘.’ 0.1 ‘ ’ 1\n",
       "\n",
       "Correlation of Fixed Effects:\n",
       "            (Intr) mrchFM vC_202\n",
       "mrchFctrMrc -0.480              \n",
       "vC_2020_202 -0.455  0.311       \n",
       "mFM:C_2020_  0.252 -0.520 -0.570"
      ]
     },
     "metadata": {},
     "output_type": "display_data"
    },
    {
     "data": {
      "text/plain": [
       "Generalized linear mixed model fit by maximum likelihood (Laplace\n",
       "  Approximation) [glmerMod]\n",
       " Family: poisson  ( log )\n",
       "Formula: value ~ marchFactor * variable + (marchFactor * variable | subject)\n",
       "   Data: int_sd_melt[int_sd_melt$variable != \"memCount_2020\", ]\n",
       "Control: glmerControl(\"bobyqa\")\n",
       "\n",
       "     AIC      BIC   logLik deviance df.resid \n",
       " 32379.5  32483.3 -16175.8  32351.5    12274 \n",
       "\n",
       "Scaled residuals: \n",
       "    Min      1Q  Median      3Q     Max \n",
       "-2.8808 -0.7546 -0.5140 -0.2598 16.0339 \n",
       "\n",
       "Random effects:\n",
       " Groups  Name                                   Variance Std.Dev. Corr       \n",
       " subject (Intercept)                            1.1170   1.0569              \n",
       "         marchFactorMarch                       1.9567   1.3988   -0.51      \n",
       "         variablememCount_2021                  0.5689   0.7543   -0.56  0.60\n",
       "         marchFactorMarch:variablememCount_2021 4.9139   2.2167    0.35 -0.55\n",
       "      \n",
       "      \n",
       "      \n",
       "      \n",
       " -0.47\n",
       "Number of obs: 12288, groups:  subject, 512\n",
       "\n",
       "Fixed effects:\n",
       "                                       Estimate Std. Error z value Pr(>|z|)    \n",
       "(Intercept)                            -0.98897    0.05456 -18.126  < 2e-16 ***\n",
       "marchFactorMarch                        1.22373    0.08852  13.825  < 2e-16 ***\n",
       "variablememCount_2021                   0.26846    0.04918   5.458 4.81e-08 ***\n",
       "marchFactorMarch:variablememCount_2021 -2.65990    0.23872 -11.142  < 2e-16 ***\n",
       "---\n",
       "Signif. codes:  0 ‘***’ 0.001 ‘**’ 0.01 ‘*’ 0.05 ‘.’ 0.1 ‘ ’ 1\n",
       "\n",
       "Correlation of Fixed Effects:\n",
       "            (Intr) mrchFM vC_202\n",
       "mrchFctrMrc -0.466              \n",
       "vrblmC_2021 -0.616  0.464       \n",
       "mrFM:C_2021  0.181 -0.345 -0.240"
      ]
     },
     "metadata": {},
     "output_type": "display_data"
    }
   ],
   "source": [
    "# check for interactions \n",
    "int_sd<-sd_2020_2021[,c(\"subject\",\"marchFactor\",\"memCount_2020\",\"memCount_2020_2021\",\"memCount_2021\")]\n",
    "int_sd_melt<-melt(int_sd,id.vars=c(\"subject\",\"marchFactor\"))\n",
    "\n",
    "summary(mod<-glmer(value~marchFactor*variable+(marchFactor*variable|subject),data=int_sd_melt[int_sd_melt$variable!=\"memCount_2021\",],family = poisson(link = \"log\"),glmerControl(\"bobyqa\")))\n",
    "summary(mod<-glmer(value~marchFactor*variable+(marchFactor*variable|subject),data=int_sd_melt[int_sd_melt$variable!=\"memCount_2020\",],family = poisson(link = \"log\"),glmerControl(\"bobyqa\")))"
   ]
  },
  {
   "cell_type": "code",
   "execution_count": 18,
   "metadata": {},
   "outputs": [
    {
     "name": "stderr",
     "output_type": "stream",
     "text": [
      "Compiling Stan program...\n",
      "\n",
      "Start sampling\n",
      "\n"
     ]
    },
    {
     "data": {
      "text/plain": [
       " Family: poisson \n",
       "  Links: mu = log \n",
       "Formula: value ~ 1 + marchFactor * variable + (marchFactor * variable | subject) \n",
       "   Data: int_sd_melt[int_sd_melt$variable != \"memCount_2021 (Number of observations: 12288) \n",
       "  Draws: 4 chains, each with iter = 2000; warmup = 1000; thin = 1;\n",
       "         total post-warmup draws = 4000\n",
       "\n",
       "Group-Level Effects: \n",
       "~subject (Number of levels: 512) \n",
       "                                                                            Estimate\n",
       "sd(Intercept)                                                                   0.98\n",
       "sd(marchFactorMarch)                                                            1.21\n",
       "sd(variablememCount_2020_2021)                                                  0.97\n",
       "sd(marchFactorMarch:variablememCount_2020_2021)                                 1.50\n",
       "cor(Intercept,marchFactorMarch)                                                -0.49\n",
       "cor(Intercept,variablememCount_2020_2021)                                      -0.42\n",
       "cor(marchFactorMarch,variablememCount_2020_2021)                                0.31\n",
       "cor(Intercept,marchFactorMarch:variablememCount_2020_2021)                      0.26\n",
       "cor(marchFactorMarch,marchFactorMarch:variablememCount_2020_2021)              -0.46\n",
       "cor(variablememCount_2020_2021,marchFactorMarch:variablememCount_2020_2021)    -0.65\n",
       "                                                                            Est.Error\n",
       "sd(Intercept)                                                                    0.04\n",
       "sd(marchFactorMarch)                                                             0.06\n",
       "sd(variablememCount_2020_2021)                                                   0.05\n",
       "sd(marchFactorMarch:variablememCount_2020_2021)                                  0.09\n",
       "cor(Intercept,marchFactorMarch)                                                  0.05\n",
       "cor(Intercept,variablememCount_2020_2021)                                        0.05\n",
       "cor(marchFactorMarch,variablememCount_2020_2021)                                 0.06\n",
       "cor(Intercept,marchFactorMarch:variablememCount_2020_2021)                       0.06\n",
       "cor(marchFactorMarch,marchFactorMarch:variablememCount_2020_2021)                0.06\n",
       "cor(variablememCount_2020_2021,marchFactorMarch:variablememCount_2020_2021)      0.04\n",
       "                                                                            l-95% CI\n",
       "sd(Intercept)                                                                   0.91\n",
       "sd(marchFactorMarch)                                                            1.09\n",
       "sd(variablememCount_2020_2021)                                                  0.89\n",
       "sd(marchFactorMarch:variablememCount_2020_2021)                                 1.34\n",
       "cor(Intercept,marchFactorMarch)                                                -0.57\n",
       "cor(Intercept,variablememCount_2020_2021)                                      -0.51\n",
       "cor(marchFactorMarch,variablememCount_2020_2021)                                0.20\n",
       "cor(Intercept,marchFactorMarch:variablememCount_2020_2021)                      0.14\n",
       "cor(marchFactorMarch,marchFactorMarch:variablememCount_2020_2021)              -0.57\n",
       "cor(variablememCount_2020_2021,marchFactorMarch:variablememCount_2020_2021)    -0.73\n",
       "                                                                            u-95% CI\n",
       "sd(Intercept)                                                                   1.06\n",
       "sd(marchFactorMarch)                                                            1.32\n",
       "sd(variablememCount_2020_2021)                                                  1.07\n",
       "sd(marchFactorMarch:variablememCount_2020_2021)                                 1.68\n",
       "cor(Intercept,marchFactorMarch)                                                -0.39\n",
       "cor(Intercept,variablememCount_2020_2021)                                      -0.31\n",
       "cor(marchFactorMarch,variablememCount_2020_2021)                                0.43\n",
       "cor(Intercept,marchFactorMarch:variablememCount_2020_2021)                      0.37\n",
       "cor(marchFactorMarch,marchFactorMarch:variablememCount_2020_2021)              -0.34\n",
       "cor(variablememCount_2020_2021,marchFactorMarch:variablememCount_2020_2021)    -0.55\n",
       "                                                                            Rhat\n",
       "sd(Intercept)                                                               1.01\n",
       "sd(marchFactorMarch)                                                        1.01\n",
       "sd(variablememCount_2020_2021)                                              1.00\n",
       "sd(marchFactorMarch:variablememCount_2020_2021)                             1.01\n",
       "cor(Intercept,marchFactorMarch)                                             1.01\n",
       "cor(Intercept,variablememCount_2020_2021)                                   1.01\n",
       "cor(marchFactorMarch,variablememCount_2020_2021)                            1.01\n",
       "cor(Intercept,marchFactorMarch:variablememCount_2020_2021)                  1.00\n",
       "cor(marchFactorMarch,marchFactorMarch:variablememCount_2020_2021)           1.00\n",
       "cor(variablememCount_2020_2021,marchFactorMarch:variablememCount_2020_2021) 1.01\n",
       "                                                                            Bulk_ESS\n",
       "sd(Intercept)                                                                    516\n",
       "sd(marchFactorMarch)                                                             728\n",
       "sd(variablememCount_2020_2021)                                                   763\n",
       "sd(marchFactorMarch:variablememCount_2020_2021)                                  686\n",
       "cor(Intercept,marchFactorMarch)                                                  614\n",
       "cor(Intercept,variablememCount_2020_2021)                                        554\n",
       "cor(marchFactorMarch,variablememCount_2020_2021)                                 634\n",
       "cor(Intercept,marchFactorMarch:variablememCount_2020_2021)                       658\n",
       "cor(marchFactorMarch,marchFactorMarch:variablememCount_2020_2021)                743\n",
       "cor(variablememCount_2020_2021,marchFactorMarch:variablememCount_2020_2021)      748\n",
       "                                                                            Tail_ESS\n",
       "sd(Intercept)                                                                   1194\n",
       "sd(marchFactorMarch)                                                            1670\n",
       "sd(variablememCount_2020_2021)                                                  1603\n",
       "sd(marchFactorMarch:variablememCount_2020_2021)                                 1315\n",
       "cor(Intercept,marchFactorMarch)                                                 1185\n",
       "cor(Intercept,variablememCount_2020_2021)                                       1188\n",
       "cor(marchFactorMarch,variablememCount_2020_2021)                                1346\n",
       "cor(Intercept,marchFactorMarch:variablememCount_2020_2021)                      1121\n",
       "cor(marchFactorMarch,marchFactorMarch:variablememCount_2020_2021)               1289\n",
       "cor(variablememCount_2020_2021,marchFactorMarch:variablememCount_2020_2021)     1488\n",
       "\n",
       "Population-Level Effects: \n",
       "                                            Estimate Est.Error l-95% CI\n",
       "Intercept                                      -0.40      0.05    -0.49\n",
       "marchFactorMarch                                1.16      0.07     1.02\n",
       "variablememCount_2020_2021                     -0.59      0.05    -0.69\n",
       "marchFactorMarch:variablememCount_2020_2021     0.06      0.10    -0.15\n",
       "                                            u-95% CI Rhat Bulk_ESS Tail_ESS\n",
       "Intercept                                      -0.30 1.01      499      820\n",
       "marchFactorMarch                                1.31 1.00      817     1564\n",
       "variablememCount_2020_2021                     -0.48 1.01      912     1933\n",
       "marchFactorMarch:variablememCount_2020_2021     0.26 1.00     1133     2259\n",
       "\n",
       "Draws were sampled using sampling(NUTS). For each parameter, Bulk_ESS\n",
       "and Tail_ESS are effective sample size measures, and Rhat is the potential\n",
       "scale reduction factor on split chains (at convergence, Rhat = 1)."
      ]
     },
     "metadata": {},
     "output_type": "display_data"
    },
    {
     "name": "stderr",
     "output_type": "stream",
     "text": [
      "Compiling Stan program...\n",
      "\n",
      "recompiling to avoid crashing R session\n",
      "\n",
      "Start sampling\n",
      "\n"
     ]
    },
    {
     "data": {
      "text/plain": [
       " Family: poisson \n",
       "  Links: mu = log \n",
       "Formula: value ~ 1 + marchFactor * variable + (marchFactor * variable | subject) \n",
       "   Data: int_sd_melt[int_sd_melt$variable != \"memCount_2020 (Number of observations: 12288) \n",
       "  Draws: 4 chains, each with iter = 2000; warmup = 1000; thin = 1;\n",
       "         total post-warmup draws = 4000\n",
       "\n",
       "Group-Level Effects: \n",
       "~subject (Number of levels: 512) \n",
       "                                                                  Estimate\n",
       "sd(Intercept)                                                         1.07\n",
       "sd(marchFactorMarch)                                                  1.42\n",
       "sd(variablememCount_2021)                                             0.76\n",
       "sd(marchFactorMarch:variablememCount_2021)                            2.06\n",
       "cor(Intercept,marchFactorMarch)                                      -0.48\n",
       "cor(Intercept,variablememCount_2021)                                 -0.54\n",
       "cor(marchFactorMarch,variablememCount_2021)                           0.58\n",
       "cor(Intercept,marchFactorMarch:variablememCount_2021)                 0.37\n",
       "cor(marchFactorMarch,marchFactorMarch:variablememCount_2021)         -0.55\n",
       "cor(variablememCount_2021,marchFactorMarch:variablememCount_2021)    -0.49\n",
       "                                                                  Est.Error\n",
       "sd(Intercept)                                                          0.04\n",
       "sd(marchFactorMarch)                                                   0.07\n",
       "sd(variablememCount_2021)                                              0.04\n",
       "sd(marchFactorMarch:variablememCount_2021)                             0.16\n",
       "cor(Intercept,marchFactorMarch)                                        0.05\n",
       "cor(Intercept,variablememCount_2021)                                   0.05\n",
       "cor(marchFactorMarch,variablememCount_2021)                            0.05\n",
       "cor(Intercept,marchFactorMarch:variablememCount_2021)                  0.07\n",
       "cor(marchFactorMarch,marchFactorMarch:variablememCount_2021)           0.06\n",
       "cor(variablememCount_2021,marchFactorMarch:variablememCount_2021)      0.07\n",
       "                                                                  l-95% CI\n",
       "sd(Intercept)                                                         0.98\n",
       "sd(marchFactorMarch)                                                  1.28\n",
       "sd(variablememCount_2021)                                             0.68\n",
       "sd(marchFactorMarch:variablememCount_2021)                            1.77\n",
       "cor(Intercept,marchFactorMarch)                                      -0.58\n",
       "cor(Intercept,variablememCount_2021)                                 -0.64\n",
       "cor(marchFactorMarch,variablememCount_2021)                           0.47\n",
       "cor(Intercept,marchFactorMarch:variablememCount_2021)                 0.23\n",
       "cor(marchFactorMarch,marchFactorMarch:variablememCount_2021)         -0.67\n",
       "cor(variablememCount_2021,marchFactorMarch:variablememCount_2021)    -0.62\n",
       "                                                                  u-95% CI Rhat\n",
       "sd(Intercept)                                                         1.16 1.00\n",
       "sd(marchFactorMarch)                                                  1.57 1.00\n",
       "sd(variablememCount_2021)                                             0.85 1.01\n",
       "sd(marchFactorMarch:variablememCount_2021)                            2.37 1.00\n",
       "cor(Intercept,marchFactorMarch)                                      -0.38 1.00\n",
       "cor(Intercept,variablememCount_2021)                                 -0.44 1.00\n",
       "cor(marchFactorMarch,variablememCount_2021)                           0.68 1.01\n",
       "cor(Intercept,marchFactorMarch:variablememCount_2021)                 0.50 1.00\n",
       "cor(marchFactorMarch,marchFactorMarch:variablememCount_2021)         -0.42 1.00\n",
       "cor(variablememCount_2021,marchFactorMarch:variablememCount_2021)    -0.34 1.00\n",
       "                                                                  Bulk_ESS\n",
       "sd(Intercept)                                                          650\n",
       "sd(marchFactorMarch)                                                   773\n",
       "sd(variablememCount_2021)                                              876\n",
       "sd(marchFactorMarch:variablememCount_2021)                            1114\n",
       "cor(Intercept,marchFactorMarch)                                        632\n",
       "cor(Intercept,variablememCount_2021)                                   926\n",
       "cor(marchFactorMarch,variablememCount_2021)                            676\n",
       "cor(Intercept,marchFactorMarch:variablememCount_2021)                  913\n",
       "cor(marchFactorMarch,marchFactorMarch:variablememCount_2021)          1185\n",
       "cor(variablememCount_2021,marchFactorMarch:variablememCount_2021)      803\n",
       "                                                                  Tail_ESS\n",
       "sd(Intercept)                                                         1322\n",
       "sd(marchFactorMarch)                                                  1740\n",
       "sd(variablememCount_2021)                                             1790\n",
       "sd(marchFactorMarch:variablememCount_2021)                            1935\n",
       "cor(Intercept,marchFactorMarch)                                        855\n",
       "cor(Intercept,variablememCount_2021)                                  1614\n",
       "cor(marchFactorMarch,variablememCount_2021)                           1276\n",
       "cor(Intercept,marchFactorMarch:variablememCount_2021)                 1882\n",
       "cor(marchFactorMarch,marchFactorMarch:variablememCount_2021)          2007\n",
       "cor(variablememCount_2021,marchFactorMarch:variablememCount_2021)     1323\n",
       "\n",
       "Population-Level Effects: \n",
       "                                       Estimate Est.Error l-95% CI u-95% CI\n",
       "Intercept                                 -0.99      0.06    -1.10    -0.88\n",
       "marchFactorMarch                           1.21      0.09     1.04     1.38\n",
       "variablememCount_2021                      0.26      0.05     0.17     0.36\n",
       "marchFactorMarch:variablememCount_2021    -2.50      0.21    -2.94    -2.10\n",
       "                                       Rhat Bulk_ESS Tail_ESS\n",
       "Intercept                              1.00      664     1331\n",
       "marchFactorMarch                       1.00     1083     1958\n",
       "variablememCount_2021                  1.00     1400     2113\n",
       "marchFactorMarch:variablememCount_2021 1.00     1609     2622\n",
       "\n",
       "Draws were sampled using sampling(NUTS). For each parameter, Bulk_ESS\n",
       "and Tail_ESS are effective sample size measures, and Rhat is the potential\n",
       "scale reduction factor on split chains (at convergence, Rhat = 1)."
      ]
     },
     "metadata": {},
     "output_type": "display_data"
    }
   ],
   "source": [
    "# check interactions in bayesian regression model\n",
    "brm(value~1+marchFactor*variable+(marchFactor*variable|subject),data=int_sd_melt[int_sd_melt$variable!=\"memCount_2021\",], family=poisson, init = \"random\", cores=10)\n",
    "brm(value~1+marchFactor*variable+(marchFactor*variable|subject),data=int_sd_melt[int_sd_melt$variable!=\"memCount_2020\",], family=poisson, init = \"random\", cores=10)"
   ]
  },
  {
   "cell_type": "markdown",
   "metadata": {},
   "source": [
    "## primacy and recency effects"
   ]
  },
  {
   "cell_type": "code",
   "execution_count": 23,
   "metadata": {},
   "outputs": [],
   "source": [
    "# primacy/recency\n",
    "sd_pr<-subDate[,c('subject','memCount_2020','memCount_2021','date')]\n",
    "sd_pr_melt<-melt(sd_pr, id.vars=c(\"subject\",'date'))\n",
    "sd_prim<-subset(sd_pr_melt, date==\"January\"|date==\"February\")\n",
    "sd_rec<-subset(sd_pr_melt, date==\"October\"|date==\"November\")"
   ]
  },
  {
   "cell_type": "code",
   "execution_count": 24,
   "metadata": {},
   "outputs": [
    {
     "data": {
      "text/plain": [
       "Generalized linear mixed model fit by maximum likelihood (Laplace\n",
       "  Approximation) [glmerMod]\n",
       " Family: poisson  ( log )\n",
       "Formula: value ~ date + (date | subject)\n",
       "   Data: sd_prim\n",
       "Control: glmerControl(\"bobyqa\")\n",
       "\n",
       "     AIC      BIC   logLik deviance df.resid \n",
       "  9971.3  10002.5  -4980.7   9961.3     3751 \n",
       "\n",
       "Scaled residuals: \n",
       "    Min      1Q  Median      3Q     Max \n",
       "-6.4027 -0.5079 -0.4031 -0.2912  6.7167 \n",
       "\n",
       "Random effects:\n",
       " Groups  Name        Variance Std.Dev. Corr \n",
       " subject (Intercept) 2.916    1.708         \n",
       "         dateJanuary 2.838    1.685    -0.64\n",
       "Number of obs: 3756, groups:  subject, 939\n",
       "\n",
       "Fixed effects:\n",
       "            Estimate Std. Error z value Pr(>|z|)    \n",
       "(Intercept)  -1.6187     0.1018 -15.898  < 2e-16 ***\n",
       "dateJanuary   0.6715     0.1159   5.795 6.82e-09 ***\n",
       "---\n",
       "Signif. codes:  0 ‘***’ 0.001 ‘**’ 0.01 ‘*’ 0.05 ‘.’ 0.1 ‘ ’ 1\n",
       "\n",
       "Correlation of Fixed Effects:\n",
       "            (Intr)\n",
       "dateJanuary -0.777"
      ]
     },
     "metadata": {},
     "output_type": "display_data"
    },
    {
     "data": {
      "text/plain": [
       "Generalized linear mixed model fit by maximum likelihood (Laplace\n",
       "  Approximation) [glmerMod]\n",
       " Family: poisson  ( log )\n",
       "Formula: value ~ date + (date | subject)\n",
       "   Data: sd_rec\n",
       "Control: glmerControl(\"bobyqa\")\n",
       "\n",
       "     AIC      BIC   logLik deviance df.resid \n",
       "  9096.5   9127.6  -4543.2   9086.5     3751 \n",
       "\n",
       "Scaled residuals: \n",
       "    Min      1Q  Median      3Q     Max \n",
       "-3.6708 -0.3721 -0.3247 -0.2339  4.0355 \n",
       "\n",
       "Random effects:\n",
       " Groups  Name         Variance Std.Dev. Corr \n",
       " subject (Intercept)  3.831    1.957         \n",
       "         dateNovember 4.045    2.011    -0.67\n",
       "Number of obs: 3756, groups:  subject, 939\n",
       "\n",
       "Fixed effects:\n",
       "             Estimate Std. Error z value Pr(>|z|)    \n",
       "(Intercept)   -2.1635     0.1333 -16.230  < 2e-16 ***\n",
       "dateNovember   1.0127     0.1494   6.776 1.23e-11 ***\n",
       "---\n",
       "Signif. codes:  0 ‘***’ 0.001 ‘**’ 0.01 ‘*’ 0.05 ‘.’ 0.1 ‘ ’ 1\n",
       "\n",
       "Correlation of Fixed Effects:\n",
       "            (Intr)\n",
       "dateNovembr -0.827"
      ]
     },
     "metadata": {},
     "output_type": "display_data"
    }
   ],
   "source": [
    "summary(glmer(value~date+(date|subject),data = sd_prim, family = poisson(link = \"log\"),glmerControl(\"bobyqa\")))\n",
    "sd_rec$date<-factor(sd_rec$date,levels=c('October','November')) # change factor order\n",
    "summary(glmer(value~date+(date|subject),data = sd_rec, family = poisson(link = \"log\"),glmerControl(\"bobyqa\")))"
   ]
  },
  {
   "cell_type": "code",
   "execution_count": 25,
   "metadata": {},
   "outputs": [
    {
     "name": "stderr",
     "output_type": "stream",
     "text": [
      "Compiling Stan program...\n",
      "\n",
      "Start sampling\n",
      "\n"
     ]
    },
    {
     "data": {
      "text/plain": [
       " Family: poisson \n",
       "  Links: mu = log \n",
       "Formula: value ~ 1 + date + (date | subject) \n",
       "   Data: sd_prim (Number of observations: 3756) \n",
       "  Draws: 4 chains, each with iter = 2000; warmup = 1000; thin = 1;\n",
       "         total post-warmup draws = 4000\n",
       "\n",
       "Group-Level Effects: \n",
       "~subject (Number of levels: 939) \n",
       "                           Estimate Est.Error l-95% CI u-95% CI Rhat Bulk_ESS\n",
       "sd(Intercept)                  1.72      0.09     1.55     1.89 1.01      587\n",
       "sd(dateJanuary)                1.65      0.09     1.48     1.83 1.01      574\n",
       "cor(Intercept,dateJanuary)    -0.60      0.05    -0.69    -0.51 1.01      457\n",
       "                           Tail_ESS\n",
       "sd(Intercept)                  1166\n",
       "sd(dateJanuary)                1178\n",
       "cor(Intercept,dateJanuary)     1110\n",
       "\n",
       "Population-Level Effects: \n",
       "            Estimate Est.Error l-95% CI u-95% CI Rhat Bulk_ESS Tail_ESS\n",
       "Intercept      -1.59      0.10    -1.78    -1.41 1.00     1062     1792\n",
       "dateJanuary     0.63      0.11     0.41     0.84 1.00     1226     2094\n",
       "\n",
       "Draws were sampled using sampling(NUTS). For each parameter, Bulk_ESS\n",
       "and Tail_ESS are effective sample size measures, and Rhat is the potential\n",
       "scale reduction factor on split chains (at convergence, Rhat = 1)."
      ]
     },
     "metadata": {},
     "output_type": "display_data"
    },
    {
     "name": "stderr",
     "output_type": "stream",
     "text": [
      "Compiling Stan program...\n",
      "\n",
      "Start sampling\n",
      "\n"
     ]
    },
    {
     "data": {
      "text/plain": [
       " Family: poisson \n",
       "  Links: mu = log \n",
       "Formula: value ~ 1 + date + (date | subject) \n",
       "   Data: sd_rec (Number of observations: 3756) \n",
       "  Draws: 4 chains, each with iter = 2000; warmup = 1000; thin = 1;\n",
       "         total post-warmup draws = 4000\n",
       "\n",
       "Group-Level Effects: \n",
       "~subject (Number of levels: 939) \n",
       "                            Estimate Est.Error l-95% CI u-95% CI Rhat Bulk_ESS\n",
       "sd(Intercept)                   1.90      0.10     1.71     2.11 1.00      555\n",
       "sd(dateNovember)                1.89      0.10     1.69     2.10 1.00      690\n",
       "cor(Intercept,dateNovember)    -0.62      0.04    -0.70    -0.53 1.00      700\n",
       "                            Tail_ESS\n",
       "sd(Intercept)                   1024\n",
       "sd(dateNovember)                1501\n",
       "cor(Intercept,dateNovember)     1432\n",
       "\n",
       "Population-Level Effects: \n",
       "             Estimate Est.Error l-95% CI u-95% CI Rhat Bulk_ESS Tail_ESS\n",
       "Intercept       -2.05      0.12    -2.29    -1.83 1.00     1073     2207\n",
       "dateNovember     0.91      0.13     0.65     1.18 1.00     1500     2572\n",
       "\n",
       "Draws were sampled using sampling(NUTS). For each parameter, Bulk_ESS\n",
       "and Tail_ESS are effective sample size measures, and Rhat is the potential\n",
       "scale reduction factor on split chains (at convergence, Rhat = 1)."
      ]
     },
     "metadata": {},
     "output_type": "display_data"
    }
   ],
   "source": [
    "# bayesian regression models (for confidence intervals)\n",
    "brm(value~1+date+(date|subject),data = sd_prim, family=poisson, init = \"random\", cores=10)\n",
    "brm(value~1+date+(date|subject),data = sd_rec, family=poisson, init = \"random\", cores=10)"
   ]
  },
  {
   "cell_type": "markdown",
   "metadata": {},
   "source": [
    "## earlier recall of march 2020 memory"
   ]
  },
  {
   "cell_type": "code",
   "execution_count": 26,
   "metadata": {},
   "outputs": [
    {
     "data": {
      "text/plain": [
       "Linear mixed model fit by REML. t-tests use Satterthwaite's method [\n",
       "lmerModLmerTest]\n",
       "Formula: order_2020 ~ marchFactor + (1 | subject)\n",
       "   Data: subDate\n",
       "Control: lmerControl(\"bobyqa\")\n",
       "\n",
       "REML criterion at convergence: 19265.8\n",
       "\n",
       "Scaled residuals: \n",
       "    Min      1Q  Median      3Q     Max \n",
       "-4.0137 -0.5807 -0.0958  0.4671  5.9457 \n",
       "\n",
       "Random effects:\n",
       " Groups   Name        Variance Std.Dev.\n",
       " subject  (Intercept) 3.403    1.845   \n",
       " Residual             8.549    2.924   \n",
       "Number of obs: 3702, groups:  subject, 907\n",
       "\n",
       "Fixed effects:\n",
       "                   Estimate Std. Error         df t value Pr(>|t|)    \n",
       "(Intercept)         4.01448    0.08592 1243.65072   46.72   <2e-16 ***\n",
       "marchFactorMarch   -1.99593    0.13008 3353.98758  -15.34   <2e-16 ***\n",
       "---\n",
       "Signif. codes:  0 ‘***’ 0.001 ‘**’ 0.01 ‘*’ 0.05 ‘.’ 0.1 ‘ ’ 1\n",
       "\n",
       "Correlation of Fixed Effects:\n",
       "            (Intr)\n",
       "mrchFctrMrc -0.313"
      ]
     },
     "metadata": {},
     "output_type": "display_data"
    },
    {
     "data": {
      "text/plain": [
       "Linear mixed model fit by REML. t-tests use Satterthwaite's method [\n",
       "lmerModLmerTest]\n",
       "Formula: order_2020_2021 ~ marchFactor + (1 | subject)\n",
       "   Data: sd_2020_2021\n",
       "Control: lmerControl(\"bobyqa\")\n",
       "\n",
       "REML criterion at convergence: 6738.8\n",
       "\n",
       "Scaled residuals: \n",
       "    Min      1Q  Median      3Q     Max \n",
       "-3.6687 -0.5656 -0.1373  0.4128  4.9365 \n",
       "\n",
       "Random effects:\n",
       " Groups   Name        Variance Std.Dev.\n",
       " subject  (Intercept) 1.722    1.312   \n",
       " Residual             4.875    2.208   \n",
       "Number of obs: 1450, groups:  subject, 475\n",
       "\n",
       "Fixed effects:\n",
       "                   Estimate Std. Error         df t value Pr(>|t|)    \n",
       "(Intercept)         3.23873    0.09457  712.74677   34.25   <2e-16 ***\n",
       "marchFactorMarch   -1.69813    0.14939 1327.45211  -11.37   <2e-16 ***\n",
       "---\n",
       "Signif. codes:  0 ‘***’ 0.001 ‘**’ 0.01 ‘*’ 0.05 ‘.’ 0.1 ‘ ’ 1\n",
       "\n",
       "Correlation of Fixed Effects:\n",
       "            (Intr)\n",
       "mrchFctrMrc -0.374"
      ]
     },
     "metadata": {},
     "output_type": "display_data"
    },
    {
     "data": {
      "text/plain": [
       "Linear mixed model fit by REML. t-tests use Satterthwaite's method [\n",
       "lmerModLmerTest]\n",
       "Formula: order_2021 ~ marchFactor + (1 | subject)\n",
       "   Data: sd_2021\n",
       "Control: lmerControl(\"bobyqa\")\n",
       "\n",
       "REML criterion at convergence: 8048.9\n",
       "\n",
       "Scaled residuals: \n",
       "    Min      1Q  Median      3Q     Max \n",
       "-3.8574 -0.5773 -0.1579  0.4210  4.4259 \n",
       "\n",
       "Random effects:\n",
       " Groups   Name        Variance Std.Dev.\n",
       " subject  (Intercept) 2.895    1.701   \n",
       " Residual             7.152    2.674   \n",
       "Number of obs: 1596, groups:  subject, 488\n",
       "\n",
       "Fixed effects:\n",
       "                  Estimate Std. Error        df t value Pr(>|t|)    \n",
       "(Intercept)         3.1689     0.1098  646.6640  28.866  < 2e-16 ***\n",
       "marchFactorMarch   -0.9728     0.2569 1450.8897  -3.787 0.000159 ***\n",
       "---\n",
       "Signif. codes:  0 ‘***’ 0.001 ‘**’ 0.01 ‘*’ 0.05 ‘.’ 0.1 ‘ ’ 1\n",
       "\n",
       "Correlation of Fixed Effects:\n",
       "            (Intr)\n",
       "mrchFctrMrc -0.186"
      ]
     },
     "metadata": {},
     "output_type": "display_data"
    }
   ],
   "source": [
    "summary(mod<-lmer(order_2020~marchFactor+(1|subject),data=subDate,control=lmerControl(\"bobyqa\")))\n",
    "summary(mod<-lmer(order_2020_2021~marchFactor+(1|subject),data=sd_2020_2021,control=lmerControl(\"bobyqa\")))\n",
    "summary(mod<-lmer(order_2021~marchFactor+(1|subject),data=sd_2021,control=lmerControl(\"bobyqa\")))"
   ]
  },
  {
   "cell_type": "code",
   "execution_count": 30,
   "metadata": {},
   "outputs": [
    {
     "data": {
      "text/plain": [
       "Linear mixed model fit by REML. t-tests use Satterthwaite's method [\n",
       "lmerModLmerTest]\n",
       "Formula: value ~ marchFactor * variable + (1 | subject)\n",
       "   Data: sd_int_order_melt\n",
       "Control: lmerControl(\"bobyqa\")\n",
       "\n",
       "REML criterion at convergence: 14291.9\n",
       "\n",
       "Scaled residuals: \n",
       "    Min      1Q  Median      3Q     Max \n",
       "-3.7271 -0.5454 -0.1232  0.4213  5.5068 \n",
       "\n",
       "Random effects:\n",
       " Groups   Name        Variance Std.Dev.\n",
       " subject  (Intercept) 2.085    1.444   \n",
       " Residual             5.840    2.417   \n",
       "Number of obs: 2990, groups:  subject, 498\n",
       "\n",
       "Fixed effects:\n",
       "                                      Estimate Std. Error         df t value\n",
       "(Intercept)                          3.085e+00  1.012e-01  1.187e+03  30.483\n",
       "marchFactorMarch                    -1.614e+00  1.609e-01  2.793e+03 -10.033\n",
       "variableorder_2021                  -5.345e-03  9.910e-02  2.749e+03  -0.054\n",
       "marchFactorMarch:variableorder_2021  6.934e-01  2.824e-01  2.773e+03   2.455\n",
       "                                    Pr(>|t|)    \n",
       "(Intercept)                           <2e-16 ***\n",
       "marchFactorMarch                      <2e-16 ***\n",
       "variableorder_2021                    0.9570    \n",
       "marchFactorMarch:variableorder_2021   0.0142 *  \n",
       "---\n",
       "Signif. codes:  0 ‘***’ 0.001 ‘**’ 0.01 ‘*’ 0.05 ‘.’ 0.1 ‘ ’ 1\n",
       "\n",
       "Correlation of Fixed Effects:\n",
       "            (Intr) mrchFM v_2021\n",
       "mrchFctrMrc -0.362              \n",
       "vrblrd_2021 -0.547  0.352       \n",
       "mrcFM:_2021  0.205 -0.565 -0.354"
      ]
     },
     "metadata": {},
     "output_type": "display_data"
    }
   ],
   "source": [
    "# check for interaction \n",
    "sd_int_order<-sd_2020_2021[,c(\"subject\",\"order_2020_2021\",\"order_2021\",\"marchFactor\")]\n",
    "sd_int_order_melt<-melt(sd_int_order,id.vars=c(\"subject\",\"marchFactor\"))\n",
    "\n",
    "summary(mod<-lmer(value~marchFactor*variable+(1|subject),data=sd_int_order_melt,control=lmerControl(\"bobyqa\")))"
   ]
  },
  {
   "cell_type": "code",
   "execution_count": 33,
   "metadata": {},
   "outputs": [
    {
     "name": "stderr",
     "output_type": "stream",
     "text": [
      "Warning message:\n",
      "“Rows containing NAs were excluded from the model.”\n",
      "Compiling Stan program...\n",
      "\n",
      "recompiling to avoid crashing R session\n",
      "\n",
      "Start sampling\n",
      "\n"
     ]
    },
    {
     "data": {
      "text/plain": [
       " Family: gaussian \n",
       "  Links: mu = identity; sigma = identity \n",
       "Formula: order_2020 ~ 1 + marchFactor + (1 | subject) \n",
       "   Data: subDate (Number of observations: 3702) \n",
       "  Draws: 4 chains, each with iter = 2000; warmup = 1000; thin = 1;\n",
       "         total post-warmup draws = 4000\n",
       "\n",
       "Group-Level Effects: \n",
       "~subject (Number of levels: 907) \n",
       "              Estimate Est.Error l-95% CI u-95% CI Rhat Bulk_ESS Tail_ESS\n",
       "sd(Intercept)     1.85      0.06     1.72     1.98 1.00     1521     2274\n",
       "\n",
       "Population-Level Effects: \n",
       "                 Estimate Est.Error l-95% CI u-95% CI Rhat Bulk_ESS Tail_ESS\n",
       "Intercept            4.01      0.09     3.85     4.18 1.00     1923     2608\n",
       "marchFactorMarch    -2.00      0.13    -2.25    -1.75 1.00     4959     2635\n",
       "\n",
       "Family Specific Parameters: \n",
       "      Estimate Est.Error l-95% CI u-95% CI Rhat Bulk_ESS Tail_ESS\n",
       "sigma     2.92      0.04     2.85     3.00 1.00     3971     2696\n",
       "\n",
       "Draws were sampled using sampling(NUTS). For each parameter, Bulk_ESS\n",
       "and Tail_ESS are effective sample size measures, and Rhat is the potential\n",
       "scale reduction factor on split chains (at convergence, Rhat = 1)."
      ]
     },
     "metadata": {},
     "output_type": "display_data"
    },
    {
     "name": "stderr",
     "output_type": "stream",
     "text": [
      "Warning message:\n",
      "“Rows containing NAs were excluded from the model.”\n",
      "Compiling Stan program...\n",
      "\n",
      "Start sampling\n",
      "\n"
     ]
    },
    {
     "data": {
      "text/plain": [
       " Family: gaussian \n",
       "  Links: mu = identity; sigma = identity \n",
       "Formula: order_2020_2021 ~ 1 + marchFactor + (1 | subject) \n",
       "   Data: sd_2020_2021 (Number of observations: 1450) \n",
       "  Draws: 4 chains, each with iter = 2000; warmup = 1000; thin = 1;\n",
       "         total post-warmup draws = 4000\n",
       "\n",
       "Group-Level Effects: \n",
       "~subject (Number of levels: 475) \n",
       "              Estimate Est.Error l-95% CI u-95% CI Rhat Bulk_ESS Tail_ESS\n",
       "sd(Intercept)     1.32      0.07     1.18     1.45 1.00     2063     3082\n",
       "\n",
       "Population-Level Effects: \n",
       "                 Estimate Est.Error l-95% CI u-95% CI Rhat Bulk_ESS Tail_ESS\n",
       "Intercept            3.24      0.10     3.04     3.42 1.00     2638     2618\n",
       "marchFactorMarch    -1.70      0.15    -2.00    -1.40 1.00     7002     3212\n",
       "\n",
       "Family Specific Parameters: \n",
       "      Estimate Est.Error l-95% CI u-95% CI Rhat Bulk_ESS Tail_ESS\n",
       "sigma     2.21      0.05     2.12     2.30 1.00     5281     3049\n",
       "\n",
       "Draws were sampled using sampling(NUTS). For each parameter, Bulk_ESS\n",
       "and Tail_ESS are effective sample size measures, and Rhat is the potential\n",
       "scale reduction factor on split chains (at convergence, Rhat = 1)."
      ]
     },
     "metadata": {},
     "output_type": "display_data"
    },
    {
     "name": "stderr",
     "output_type": "stream",
     "text": [
      "Warning message:\n",
      "“Rows containing NAs were excluded from the model.”\n",
      "Compiling Stan program...\n",
      "\n",
      "Start sampling\n",
      "\n"
     ]
    },
    {
     "data": {
      "text/plain": [
       " Family: gaussian \n",
       "  Links: mu = identity; sigma = identity \n",
       "Formula: order_2021 ~ 1 + marchFactor + (1 | subject) \n",
       "   Data: sd_2021 (Number of observations: 1596) \n",
       "  Draws: 4 chains, each with iter = 2000; warmup = 1000; thin = 1;\n",
       "         total post-warmup draws = 4000\n",
       "\n",
       "Group-Level Effects: \n",
       "~subject (Number of levels: 488) \n",
       "              Estimate Est.Error l-95% CI u-95% CI Rhat Bulk_ESS Tail_ESS\n",
       "sd(Intercept)     1.71      0.08     1.55     1.88 1.00     1750     1922\n",
       "\n",
       "Population-Level Effects: \n",
       "                 Estimate Est.Error l-95% CI u-95% CI Rhat Bulk_ESS Tail_ESS\n",
       "Intercept            3.17      0.11     2.95     3.39 1.00     2264     2445\n",
       "marchFactorMarch    -0.97      0.25    -1.47    -0.49 1.00     6497     3209\n",
       "\n",
       "Family Specific Parameters: \n",
       "      Estimate Est.Error l-95% CI u-95% CI Rhat Bulk_ESS Tail_ESS\n",
       "sigma     2.68      0.05     2.58     2.78 1.00     5369     3010\n",
       "\n",
       "Draws were sampled using sampling(NUTS). For each parameter, Bulk_ESS\n",
       "and Tail_ESS are effective sample size measures, and Rhat is the potential\n",
       "scale reduction factor on split chains (at convergence, Rhat = 1)."
      ]
     },
     "metadata": {},
     "output_type": "display_data"
    },
    {
     "name": "stderr",
     "output_type": "stream",
     "text": [
      "Warning message:\n",
      "“Rows containing NAs were excluded from the model.”\n",
      "Compiling Stan program...\n",
      "\n",
      "Start sampling\n",
      "\n"
     ]
    },
    {
     "data": {
      "text/plain": [
       " Family: gaussian \n",
       "  Links: mu = identity; sigma = identity \n",
       "Formula: value ~ 1 + marchFactor * variable + (1 | subject) \n",
       "   Data: sd_int_order_melt (Number of observations: 2990) \n",
       "  Draws: 4 chains, each with iter = 2000; warmup = 1000; thin = 1;\n",
       "         total post-warmup draws = 4000\n",
       "\n",
       "Group-Level Effects: \n",
       "~subject (Number of levels: 498) \n",
       "              Estimate Est.Error l-95% CI u-95% CI Rhat Bulk_ESS Tail_ESS\n",
       "sd(Intercept)     1.44      0.06     1.32     1.57 1.00     1628     2659\n",
       "\n",
       "Population-Level Effects: \n",
       "                                    Estimate Est.Error l-95% CI u-95% CI Rhat\n",
       "Intercept                               3.09      0.10     2.89     3.28 1.00\n",
       "marchFactorMarch                       -1.62      0.16    -1.92    -1.29 1.00\n",
       "variableorder_2021                     -0.01      0.10    -0.20     0.18 1.00\n",
       "marchFactorMarch:variableorder_2021     0.69      0.28     0.15     1.23 1.00\n",
       "                                    Bulk_ESS Tail_ESS\n",
       "Intercept                               2235     2909\n",
       "marchFactorMarch                        4771     3452\n",
       "variableorder_2021                      6237     3148\n",
       "marchFactorMarch:variableorder_2021     4489     3274\n",
       "\n",
       "Family Specific Parameters: \n",
       "      Estimate Est.Error l-95% CI u-95% CI Rhat Bulk_ESS Tail_ESS\n",
       "sigma     2.42      0.03     2.35     2.48 1.00     6140     2866\n",
       "\n",
       "Draws were sampled using sampling(NUTS). For each parameter, Bulk_ESS\n",
       "and Tail_ESS are effective sample size measures, and Rhat is the potential\n",
       "scale reduction factor on split chains (at convergence, Rhat = 1)."
      ]
     },
     "metadata": {},
     "output_type": "display_data"
    }
   ],
   "source": [
    "# bayesian regression models (for confidence intervals)\n",
    "brm(order_2020~1+marchFactor+(1|subject),data=subDate, init = \"random\", cores=10)\n",
    "brm(order_2020_2021~1+marchFactor+(1|subject),data=sd_2020_2021, init = \"random\", cores=10)\n",
    "brm(order_2021~1+marchFactor+(1|subject),data=sd_2021, init = \"random\", cores=10)\n",
    "brm(value~1+marchFactor*variable+(1|subject), data = sd_int_order_melt, init = \"random\", cores=10)"
   ]
  },
  {
   "cell_type": "markdown",
   "metadata": {},
   "source": [
    "## march 2020 memory reflected episodic content"
   ]
  },
  {
   "cell_type": "code",
   "execution_count": 36,
   "metadata": {},
   "outputs": [
    {
     "data": {
      "text/plain": [
       "Linear mixed model fit by REML. t-tests use Satterthwaite's method [\n",
       "lmerModLmerTest]\n",
       "Formula: intDetails_2020 ~ marchFactor + (1 | subject)\n",
       "   Data: subDate\n",
       "Control: lmerControl(\"bobyqa\")\n",
       "\n",
       "REML criterion at convergence: 39236.8\n",
       "\n",
       "Scaled residuals: \n",
       "    Min      1Q  Median      3Q     Max \n",
       "-9.6594 -0.3144 -0.1118  0.1795 26.2520 \n",
       "\n",
       "Random effects:\n",
       " Groups   Name        Variance Std.Dev.\n",
       " subject  (Intercept) 1078     32.84   \n",
       " Residual             1772     42.10   \n",
       "Number of obs: 3702, groups:  subject, 907\n",
       "\n",
       "Fixed effects:\n",
       "                 Estimate Std. Error       df t value Pr(>|t|)    \n",
       "(Intercept)        28.041      1.406 1025.873  19.939  < 2e-16 ***\n",
       "marchFactorMarch   14.124      1.890 3202.930   7.474 9.95e-14 ***\n",
       "---\n",
       "Signif. codes:  0 ‘***’ 0.001 ‘**’ 0.01 ‘*’ 0.05 ‘.’ 0.1 ‘ ’ 1\n",
       "\n",
       "Correlation of Fixed Effects:\n",
       "            (Intr)\n",
       "mrchFctrMrc -0.285"
      ]
     },
     "metadata": {},
     "output_type": "display_data"
    },
    {
     "data": {
      "text/plain": [
       "Linear mixed model fit by REML. t-tests use Satterthwaite's method [\n",
       "lmerModLmerTest]\n",
       "Formula: intDetails_2020_2021 ~ marchFactor + (1 | subject)\n",
       "   Data: sd_2020_2021\n",
       "Control: lmerControl(\"bobyqa\")\n",
       "\n",
       "REML criterion at convergence: 14392.6\n",
       "\n",
       "Scaled residuals: \n",
       "    Min      1Q  Median      3Q     Max \n",
       "-3.7656 -0.4186 -0.1414  0.2157 11.0694 \n",
       "\n",
       "Random effects:\n",
       " Groups   Name        Variance Std.Dev.\n",
       " subject  (Intercept) 650.6    25.51   \n",
       " Residual             832.3    28.85   \n",
       "Number of obs: 1450, groups:  subject, 475\n",
       "\n",
       "Fixed effects:\n",
       "                 Estimate Std. Error       df t value Pr(>|t|)    \n",
       "(Intercept)        26.077      1.536  541.703  16.980  < 2e-16 ***\n",
       "marchFactorMarch   11.222      2.003 1198.538   5.603 2.61e-08 ***\n",
       "---\n",
       "Signif. codes:  0 ‘***’ 0.001 ‘**’ 0.01 ‘*’ 0.05 ‘.’ 0.1 ‘ ’ 1\n",
       "\n",
       "Correlation of Fixed Effects:\n",
       "            (Intr)\n",
       "mrchFctrMrc -0.321"
      ]
     },
     "metadata": {},
     "output_type": "display_data"
    },
    {
     "data": {
      "text/plain": [
       "Linear mixed model fit by REML. t-tests use Satterthwaite's method [\n",
       "lmerModLmerTest]\n",
       "Formula: intDetails_2021 ~ marchFactor + (1 | subject)\n",
       "   Data: sd_2021\n",
       "Control: lmerControl(\"bobyqa\")\n",
       "\n",
       "REML criterion at convergence: 15201.4\n",
       "\n",
       "Scaled residuals: \n",
       "    Min      1Q  Median      3Q     Max \n",
       "-4.8499 -0.4403 -0.1524  0.2540 10.2440 \n",
       "\n",
       "Random effects:\n",
       " Groups   Name        Variance Std.Dev.\n",
       " subject  (Intercept) 466.3    21.59   \n",
       " Residual             557.8    23.62   \n",
       "Number of obs: 1596, groups:  subject, 488\n",
       "\n",
       "Fixed effects:\n",
       "                 Estimate Std. Error       df t value Pr(>|t|)    \n",
       "(Intercept)        26.078      1.212  497.201  21.520   <2e-16 ***\n",
       "marchFactorMarch   -3.623      2.314 1310.423  -1.566    0.118    \n",
       "---\n",
       "Signif. codes:  0 ‘***’ 0.001 ‘**’ 0.01 ‘*’ 0.05 ‘.’ 0.1 ‘ ’ 1\n",
       "\n",
       "Correlation of Fixed Effects:\n",
       "            (Intr)\n",
       "mrchFctrMrc -0.150"
      ]
     },
     "metadata": {},
     "output_type": "display_data"
    }
   ],
   "source": [
    "summary(mod<-lmer(intDetails_2020~marchFactor+(1|subject),data=subDate,control=lmerControl(\"bobyqa\")))\n",
    "summary(mod<-lmer(intDetails_2020_2021~marchFactor+(1|subject),data=sd_2020_2021,control=lmerControl(\"bobyqa\")))\n",
    "summary(mod<-lmer(intDetails_2021~marchFactor+(1|subject),data=sd_2021,control=lmerControl(\"bobyqa\")))"
   ]
  },
  {
   "cell_type": "code",
   "execution_count": 37,
   "metadata": {},
   "outputs": [
    {
     "name": "stderr",
     "output_type": "stream",
     "text": [
      "Warning message:\n",
      "“Rows containing NAs were excluded from the model.”\n",
      "Compiling Stan program...\n",
      "\n",
      "Start sampling\n",
      "\n"
     ]
    },
    {
     "data": {
      "text/plain": [
       " Family: gaussian \n",
       "  Links: mu = identity; sigma = identity \n",
       "Formula: intDetails_2020 ~ 1 + marchFactor + (1 | subject) \n",
       "   Data: subDate (Number of observations: 3702) \n",
       "  Draws: 4 chains, each with iter = 2000; warmup = 1000; thin = 1;\n",
       "         total post-warmup draws = 4000\n",
       "\n",
       "Group-Level Effects: \n",
       "~subject (Number of levels: 907) \n",
       "              Estimate Est.Error l-95% CI u-95% CI Rhat Bulk_ESS Tail_ESS\n",
       "sd(Intercept)    32.83      1.12    30.63    35.04 1.00     1329     1909\n",
       "\n",
       "Population-Level Effects: \n",
       "                 Estimate Est.Error l-95% CI u-95% CI Rhat Bulk_ESS Tail_ESS\n",
       "Intercept           28.00      1.43    25.24    30.92 1.00     1126     2204\n",
       "marchFactorMarch    14.13      1.88    10.34    17.67 1.00     4905     2602\n",
       "\n",
       "Family Specific Parameters: \n",
       "      Estimate Est.Error l-95% CI u-95% CI Rhat Bulk_ESS Tail_ESS\n",
       "sigma    42.11      0.56    41.03    43.23 1.00     3345     2441\n",
       "\n",
       "Draws were sampled using sampling(NUTS). For each parameter, Bulk_ESS\n",
       "and Tail_ESS are effective sample size measures, and Rhat is the potential\n",
       "scale reduction factor on split chains (at convergence, Rhat = 1)."
      ]
     },
     "metadata": {},
     "output_type": "display_data"
    },
    {
     "name": "stderr",
     "output_type": "stream",
     "text": [
      "Warning message:\n",
      "“Rows containing NAs were excluded from the model.”\n",
      "Compiling Stan program...\n",
      "\n",
      "Start sampling\n",
      "\n"
     ]
    },
    {
     "data": {
      "text/plain": [
       " Family: gaussian \n",
       "  Links: mu = identity; sigma = identity \n",
       "Formula: intDetails_2020_2021 ~ 1 + marchFactor + (1 | subject) \n",
       "   Data: sd_2020_2021 (Number of observations: 1450) \n",
       "  Draws: 4 chains, each with iter = 2000; warmup = 1000; thin = 1;\n",
       "         total post-warmup draws = 4000\n",
       "\n",
       "Group-Level Effects: \n",
       "~subject (Number of levels: 475) \n",
       "              Estimate Est.Error l-95% CI u-95% CI Rhat Bulk_ESS Tail_ESS\n",
       "sd(Intercept)    25.45      1.29    23.03    28.06 1.00     1507     2280\n",
       "\n",
       "Population-Level Effects: \n",
       "                 Estimate Est.Error l-95% CI u-95% CI Rhat Bulk_ESS Tail_ESS\n",
       "Intercept           25.97      1.53    22.98    28.92 1.00     1470     2314\n",
       "marchFactorMarch    11.23      2.03     7.28    15.20 1.00     5779     3385\n",
       "\n",
       "Family Specific Parameters: \n",
       "      Estimate Est.Error l-95% CI u-95% CI Rhat Bulk_ESS Tail_ESS\n",
       "sigma    28.88      0.65    27.66    30.27 1.00     2962     2553\n",
       "\n",
       "Draws were sampled using sampling(NUTS). For each parameter, Bulk_ESS\n",
       "and Tail_ESS are effective sample size measures, and Rhat is the potential\n",
       "scale reduction factor on split chains (at convergence, Rhat = 1)."
      ]
     },
     "metadata": {},
     "output_type": "display_data"
    },
    {
     "name": "stderr",
     "output_type": "stream",
     "text": [
      "Warning message:\n",
      "“Rows containing NAs were excluded from the model.”\n",
      "Compiling Stan program...\n",
      "\n",
      "Start sampling\n",
      "\n"
     ]
    },
    {
     "data": {
      "text/plain": [
       " Family: gaussian \n",
       "  Links: mu = identity; sigma = identity \n",
       "Formula: intDetails_2021 ~ 1 + marchFactor + (1 | subject) \n",
       "   Data: sd_2021 (Number of observations: 1596) \n",
       "  Draws: 4 chains, each with iter = 2000; warmup = 1000; thin = 1;\n",
       "         total post-warmup draws = 4000\n",
       "\n",
       "Group-Level Effects: \n",
       "~subject (Number of levels: 488) \n",
       "              Estimate Est.Error l-95% CI u-95% CI Rhat Bulk_ESS Tail_ESS\n",
       "sd(Intercept)    21.59      1.02    19.68    23.60 1.00     1192     2140\n",
       "\n",
       "Population-Level Effects: \n",
       "                 Estimate Est.Error l-95% CI u-95% CI Rhat Bulk_ESS Tail_ESS\n",
       "Intercept           25.98      1.18    23.66    28.27 1.00     1514     2326\n",
       "marchFactorMarch    -3.67      2.30    -8.29     0.90 1.00     5685     3044\n",
       "\n",
       "Family Specific Parameters: \n",
       "      Estimate Est.Error l-95% CI u-95% CI Rhat Bulk_ESS Tail_ESS\n",
       "sigma    23.63      0.49    22.70    24.63 1.00     3200     3067\n",
       "\n",
       "Draws were sampled using sampling(NUTS). For each parameter, Bulk_ESS\n",
       "and Tail_ESS are effective sample size measures, and Rhat is the potential\n",
       "scale reduction factor on split chains (at convergence, Rhat = 1)."
      ]
     },
     "metadata": {},
     "output_type": "display_data"
    }
   ],
   "source": [
    "# bayesian regression models (for confidence intervals)\n",
    "brm(intDetails_2020~1+marchFactor+(1|subject),data=subDate, init = \"random\", cores=10)\n",
    "brm(intDetails_2020_2021~1+marchFactor+(1|subject),data=sd_2020_2021, init = \"random\", cores=10)\n",
    "brm(intDetails_2021~1+marchFactor+(1|subject),data=sd_2021, init = \"random\", cores=10)"
   ]
  },
  {
   "cell_type": "code",
   "execution_count": 38,
   "metadata": {},
   "outputs": [
    {
     "data": {
      "text/plain": [
       "Linear mixed model fit by REML. t-tests use Satterthwaite's method [\n",
       "lmerModLmerTest]\n",
       "Formula: value ~ marchFactor * variable + (1 | subject)\n",
       "   Data: sd_int_ec_melt\n",
       "Control: lmerControl(\"bobyqa\")\n",
       "\n",
       "REML criterion at convergence: 29015.5\n",
       "\n",
       "Scaled residuals: \n",
       "    Min      1Q  Median      3Q     Max \n",
       "-4.6434 -0.4312 -0.1333  0.2600 16.3409 \n",
       "\n",
       "Random effects:\n",
       " Groups   Name        Variance Std.Dev.\n",
       " subject  (Intercept) 438.4    20.94   \n",
       " Residual             767.8    27.71   \n",
       "Number of obs: 2990, groups:  subject, 498\n",
       "\n",
       "Fixed effects:\n",
       "                                          Estimate Std. Error        df t value\n",
       "(Intercept)                                25.7557     1.3036  898.7273  19.757\n",
       "marchFactorMarch                           11.3024     1.8571 2704.5535   6.086\n",
       "variableintDetails_2021                     0.2231     1.1415 2648.3946   0.195\n",
       "marchFactorMarch:variableintDetails_2021  -16.2876     3.2574 2677.3855  -5.000\n",
       "                                         Pr(>|t|)    \n",
       "(Intercept)                               < 2e-16 ***\n",
       "marchFactorMarch                         1.32e-09 ***\n",
       "variableintDetails_2021                     0.845    \n",
       "marchFactorMarch:variableintDetails_2021 6.10e-07 ***\n",
       "---\n",
       "Signif. codes:  0 ‘***’ 0.001 ‘**’ 0.01 ‘*’ 0.05 ‘.’ 0.1 ‘ ’ 1\n",
       "\n",
       "Correlation of Fixed Effects:\n",
       "            (Intr) mrchFM vD_202\n",
       "mrchFctrMrc -0.327              \n",
       "vrblnD_2021 -0.490  0.353       \n",
       "mrFM:D_2021  0.186 -0.565 -0.354"
      ]
     },
     "metadata": {},
     "output_type": "display_data"
    }
   ],
   "source": [
    "# check for interaction \n",
    "sd_int_ec<-sd_2020_2021[,c(\"subject\",\"marchFactor\",\"intDetails_2020_2021\",\"intDetails_2021\")]\n",
    "sd_int_ec_melt<-melt(sd_int_ec,id.vars=c(\"subject\",\"marchFactor\"))\n",
    "\n",
    "summary(mod<-lmer(value~marchFactor*variable+(1|subject),data=sd_int_ec_melt,control=lmerControl(\"bobyqa\")))"
   ]
  },
  {
   "cell_type": "code",
   "execution_count": 39,
   "metadata": {},
   "outputs": [
    {
     "name": "stderr",
     "output_type": "stream",
     "text": [
      "Warning message:\n",
      "“Rows containing NAs were excluded from the model.”\n",
      "Compiling Stan program...\n",
      "\n",
      "Start sampling\n",
      "\n"
     ]
    },
    {
     "data": {
      "text/plain": [
       " Family: gaussian \n",
       "  Links: mu = identity; sigma = identity \n",
       "Formula: value ~ 1 + marchFactor * variable + (1 | subject) \n",
       "   Data: sd_int_ec_melt (Number of observations: 2990) \n",
       "  Draws: 4 chains, each with iter = 2000; warmup = 1000; thin = 1;\n",
       "         total post-warmup draws = 4000\n",
       "\n",
       "Group-Level Effects: \n",
       "~subject (Number of levels: 498) \n",
       "              Estimate Est.Error l-95% CI u-95% CI Rhat Bulk_ESS Tail_ESS\n",
       "sd(Intercept)    20.94      0.88    19.26    22.72 1.00     1410     2183\n",
       "\n",
       "Population-Level Effects: \n",
       "                                         Estimate Est.Error l-95% CI u-95% CI\n",
       "Intercept                                   25.70      1.30    23.18    28.20\n",
       "marchFactorMarch                            11.32      1.88     7.63    15.04\n",
       "variableintDetails_2021                      0.24      1.15    -2.00     2.54\n",
       "marchFactorMarch:variableintDetails_2021   -16.31      3.37   -23.02    -9.83\n",
       "                                         Rhat Bulk_ESS Tail_ESS\n",
       "Intercept                                1.00     1405     2371\n",
       "marchFactorMarch                         1.00     3617     2727\n",
       "variableintDetails_2021                  1.00     4692     3020\n",
       "marchFactorMarch:variableintDetails_2021 1.00     3841     3076\n",
       "\n",
       "Family Specific Parameters: \n",
       "      Estimate Est.Error l-95% CI u-95% CI Rhat Bulk_ESS Tail_ESS\n",
       "sigma    27.73      0.38    26.99    28.48 1.00     4957     2993\n",
       "\n",
       "Draws were sampled using sampling(NUTS). For each parameter, Bulk_ESS\n",
       "and Tail_ESS are effective sample size measures, and Rhat is the potential\n",
       "scale reduction factor on split chains (at convergence, Rhat = 1)."
      ]
     },
     "metadata": {},
     "output_type": "display_data"
    }
   ],
   "source": [
    "# bayesian regression model (for confidence intervals)\n",
    "brm(value~1+marchFactor*variable+(1|subject), data = sd_int_ec_melt, init = \"random\", cores=10)"
   ]
  },
  {
   "cell_type": "markdown",
   "metadata": {},
   "source": [
    "## march 2020 memory contained more negative content that predicted greater recall"
   ]
  },
  {
   "cell_type": "code",
   "execution_count": 40,
   "metadata": {},
   "outputs": [
    {
     "data": {
      "text/plain": [
       "Linear mixed model fit by REML. t-tests use Satterthwaite's method [\n",
       "lmerModLmerTest]\n",
       "Formula: compound_2020 ~ marchFactor + (1 | subject)\n",
       "   Data: subDate\n",
       "Control: lmerControl(\"bobyqa\")\n",
       "\n",
       "REML criterion at convergence: 1668.7\n",
       "\n",
       "Scaled residuals: \n",
       "    Min      1Q  Median      3Q     Max \n",
       "-3.2663 -0.5299 -0.0317  0.5730  3.0145 \n",
       "\n",
       "Random effects:\n",
       " Groups   Name        Variance Std.Dev.\n",
       " subject  (Intercept) 0.008798 0.0938  \n",
       " Residual             0.084262 0.2903  \n",
       "Number of obs: 3702, groups:  subject, 907\n",
       "\n",
       "Fixed effects:\n",
       "                   Estimate Std. Error         df t value Pr(>|t|)    \n",
       "(Intercept)       4.326e-02  6.398e-03  8.717e+02   6.762 2.49e-11 ***\n",
       "marchFactorMarch -7.097e-02  1.263e-02  3.333e+03  -5.621 2.06e-08 ***\n",
       "---\n",
       "Signif. codes:  0 ‘***’ 0.001 ‘**’ 0.01 ‘*’ 0.05 ‘.’ 0.1 ‘ ’ 1\n",
       "\n",
       "Correlation of Fixed Effects:\n",
       "            (Intr)\n",
       "mrchFctrMrc -0.380"
      ]
     },
     "metadata": {},
     "output_type": "display_data"
    },
    {
     "data": {
      "text/plain": [
       "Linear mixed model fit by REML. t-tests use Satterthwaite's method [\n",
       "lmerModLmerTest]\n",
       "Formula: compound_2020_2021 ~ marchFactor + (1 | subject)\n",
       "   Data: sd_2020_2021\n",
       "Control: lmerControl(\"bobyqa\")\n",
       "\n",
       "REML criterion at convergence: 572\n",
       "\n",
       "Scaled residuals: \n",
       "     Min       1Q   Median       3Q      Max \n",
       "-3.05890 -0.54369  0.01155  0.48534  3.02905 \n",
       "\n",
       "Random effects:\n",
       " Groups   Name        Variance Std.Dev.\n",
       " subject  (Intercept) 0.006089 0.07803 \n",
       " Residual             0.080681 0.28404 \n",
       "Number of obs: 1450, groups:  subject, 475\n",
       "\n",
       "Fixed effects:\n",
       "                   Estimate Std. Error         df t value Pr(>|t|)    \n",
       "(Intercept)      -4.270e-03  9.461e-03  4.336e+02  -0.451    0.652    \n",
       "marchFactorMarch -8.148e-02  1.857e-02  1.310e+03  -4.389 1.23e-05 ***\n",
       "---\n",
       "Signif. codes:  0 ‘***’ 0.001 ‘**’ 0.01 ‘*’ 0.05 ‘.’ 0.1 ‘ ’ 1\n",
       "\n",
       "Correlation of Fixed Effects:\n",
       "            (Intr)\n",
       "mrchFctrMrc -0.434"
      ]
     },
     "metadata": {},
     "output_type": "display_data"
    },
    {
     "data": {
      "text/plain": [
       "Linear mixed model fit by REML. t-tests use Satterthwaite's method [\n",
       "lmerModLmerTest]\n",
       "Formula: compound_2021 ~ marchFactor + (1 | subject)\n",
       "   Data: sd_2021\n",
       "Control: lmerControl(\"bobyqa\")\n",
       "\n",
       "REML criterion at convergence: 823.4\n",
       "\n",
       "Scaled residuals: \n",
       "     Min       1Q   Median       3Q      Max \n",
       "-2.94870 -0.47140 -0.07026  0.57197  2.53718 \n",
       "\n",
       "Random effects:\n",
       " Groups   Name        Variance Std.Dev.\n",
       " subject  (Intercept) 0.01199  0.1095  \n",
       " Residual             0.08754  0.2959  \n",
       "Number of obs: 1596, groups:  subject, 488\n",
       "\n",
       "Fixed effects:\n",
       "                   Estimate Std. Error         df t value Pr(>|t|)    \n",
       "(Intercept)         0.07644    0.00960  411.96035   7.963 1.66e-14 ***\n",
       "marchFactorMarch   -0.03130    0.02767 1446.98077  -1.131    0.258    \n",
       "---\n",
       "Signif. codes:  0 ‘***’ 0.001 ‘**’ 0.01 ‘*’ 0.05 ‘.’ 0.1 ‘ ’ 1\n",
       "\n",
       "Correlation of Fixed Effects:\n",
       "            (Intr)\n",
       "mrchFctrMrc -0.233"
      ]
     },
     "metadata": {},
     "output_type": "display_data"
    }
   ],
   "source": [
    "summary(mod<-lmer(compound_2020~marchFactor+(1|subject),data=subDate,control=lmerControl(\"bobyqa\")))\n",
    "summary(mod<-lmer(compound_2020_2021~marchFactor+(1|subject),data=sd_2020_2021,control=lmerControl(\"bobyqa\")))\n",
    "summary(mod<-lmer(compound_2021~marchFactor+(1|subject),data=sd_2021,control=lmerControl(\"bobyqa\")))"
   ]
  },
  {
   "cell_type": "code",
   "execution_count": 41,
   "metadata": {},
   "outputs": [
    {
     "data": {
      "text/plain": [
       "Linear mixed model fit by REML. t-tests use Satterthwaite's method [\n",
       "lmerModLmerTest]\n",
       "Formula: value ~ marchFactor * variable + (1 | subject)\n",
       "   Data: sd_int_s_melt\n",
       "Control: lmerControl(\"bobyqa\")\n",
       "\n",
       "REML criterion at convergence: 1363.2\n",
       "\n",
       "Scaled residuals: \n",
       "     Min       1Q   Median       3Q      Max \n",
       "-3.15376 -0.50496 -0.02024  0.53534  3.05893 \n",
       "\n",
       "Random effects:\n",
       " Groups   Name        Variance Std.Dev.\n",
       " subject  (Intercept) 0.009197 0.0959  \n",
       " Residual             0.084745 0.2911  \n",
       "Number of obs: 2990, groups:  subject, 498\n",
       "\n",
       "Fixed effects:\n",
       "                                         Estimate Std. Error         df t value\n",
       "(Intercept)                            -7.845e-03  9.999e-03  1.179e+03  -0.785\n",
       "marchFactorMarch                       -7.748e-02  1.906e-02  2.801e+03  -4.066\n",
       "variablecompound_2021                   8.019e-02  1.178e-02  2.767e+03   6.806\n",
       "marchFactorMarch:variablecompound_2021  5.192e-02  3.351e-02  2.791e+03   1.550\n",
       "                                       Pr(>|t|)    \n",
       "(Intercept)                               0.433    \n",
       "marchFactorMarch                       4.92e-05 ***\n",
       "variablecompound_2021                  1.23e-11 ***\n",
       "marchFactorMarch:variablecompound_2021    0.121    \n",
       "---\n",
       "Signif. codes:  0 ‘***’ 0.001 ‘**’ 0.01 ‘*’ 0.05 ‘.’ 0.1 ‘ ’ 1\n",
       "\n",
       "Correlation of Fixed Effects:\n",
       "            (Intr) mrchFM v_2021\n",
       "mrchFctrMrc -0.422              \n",
       "vrblcm_2021 -0.656  0.348       \n",
       "mrcFM:_2021  0.239 -0.566 -0.353"
      ]
     },
     "metadata": {},
     "output_type": "display_data"
    }
   ],
   "source": [
    "# check for interaction \n",
    "sd_int_s<-sd_2020_2021[,c(\"subject\",\"marchFactor\",\"compound_2020_2021\",\"compound_2021\")]\n",
    "sd_int_s_melt<-melt(sd_int_s,id.vars=c(\"subject\",\"marchFactor\"))\n",
    "\n",
    "summary(mod<-lmer(value~marchFactor*variable+(1|subject),data=sd_int_s_melt,control=lmerControl(\"bobyqa\")))"
   ]
  },
  {
   "cell_type": "code",
   "execution_count": 42,
   "metadata": {},
   "outputs": [
    {
     "name": "stderr",
     "output_type": "stream",
     "text": [
      "Warning message:\n",
      "“Rows containing NAs were excluded from the model.”\n",
      "Compiling Stan program...\n",
      "\n",
      "Start sampling\n",
      "\n"
     ]
    },
    {
     "data": {
      "text/plain": [
       " Family: gaussian \n",
       "  Links: mu = identity; sigma = identity \n",
       "Formula: compound_2020 ~ 1 + marchFactor + (marchFactor | subject) \n",
       "   Data: subDate (Number of observations: 3702) \n",
       "  Draws: 4 chains, each with iter = 2000; warmup = 1000; thin = 1;\n",
       "         total post-warmup draws = 4000\n",
       "\n",
       "Group-Level Effects: \n",
       "~subject (Number of levels: 907) \n",
       "                                Estimate Est.Error l-95% CI u-95% CI Rhat\n",
       "sd(Intercept)                       0.12      0.01     0.10     0.13 1.00\n",
       "sd(marchFactorMarch)                0.10      0.02     0.06     0.13 1.00\n",
       "cor(Intercept,marchFactorMarch)    -0.96      0.04    -1.00    -0.86 1.00\n",
       "                                Bulk_ESS Tail_ESS\n",
       "sd(Intercept)                       1257     2090\n",
       "sd(marchFactorMarch)                2405     2689\n",
       "cor(Intercept,marchFactorMarch)     2567     2241\n",
       "\n",
       "Population-Level Effects: \n",
       "                 Estimate Est.Error l-95% CI u-95% CI Rhat Bulk_ESS Tail_ESS\n",
       "Intercept            0.04      0.01     0.03     0.06 1.00     2875     2903\n",
       "marchFactorMarch    -0.07      0.01    -0.10    -0.05 1.00     4984     2386\n",
       "\n",
       "Family Specific Parameters: \n",
       "      Estimate Est.Error l-95% CI u-95% CI Rhat Bulk_ESS Tail_ESS\n",
       "sigma     0.29      0.00     0.28     0.29 1.00     2803     2883\n",
       "\n",
       "Draws were sampled using sampling(NUTS). For each parameter, Bulk_ESS\n",
       "and Tail_ESS are effective sample size measures, and Rhat is the potential\n",
       "scale reduction factor on split chains (at convergence, Rhat = 1)."
      ]
     },
     "metadata": {},
     "output_type": "display_data"
    },
    {
     "name": "stderr",
     "output_type": "stream",
     "text": [
      "Warning message:\n",
      "“Rows containing NAs were excluded from the model.”\n",
      "Compiling Stan program...\n",
      "\n",
      "recompiling to avoid crashing R session\n",
      "\n",
      "Start sampling\n",
      "\n"
     ]
    },
    {
     "data": {
      "text/plain": [
       " Family: gaussian \n",
       "  Links: mu = identity; sigma = identity \n",
       "Formula: compound_2020_2021 ~ 1 + marchFactor + (marchFactor | subject) \n",
       "   Data: sd_2020_2021 (Number of observations: 1450) \n",
       "  Draws: 4 chains, each with iter = 2000; warmup = 1000; thin = 1;\n",
       "         total post-warmup draws = 4000\n",
       "\n",
       "Group-Level Effects: \n",
       "~subject (Number of levels: 475) \n",
       "                                Estimate Est.Error l-95% CI u-95% CI Rhat\n",
       "sd(Intercept)                       0.10      0.02     0.06     0.13 1.01\n",
       "sd(marchFactorMarch)                0.08      0.03     0.01     0.14 1.01\n",
       "cor(Intercept,marchFactorMarch)    -0.86      0.21    -1.00    -0.30 1.00\n",
       "                                Bulk_ESS Tail_ESS\n",
       "sd(Intercept)                        679      887\n",
       "sd(marchFactorMarch)                 928     1285\n",
       "cor(Intercept,marchFactorMarch)     2017     2139\n",
       "\n",
       "Population-Level Effects: \n",
       "                 Estimate Est.Error l-95% CI u-95% CI Rhat Bulk_ESS Tail_ESS\n",
       "Intercept           -0.01      0.01    -0.02     0.01 1.00     4245     2999\n",
       "marchFactorMarch    -0.08      0.02    -0.12    -0.04 1.00     6043     3297\n",
       "\n",
       "Family Specific Parameters: \n",
       "      Estimate Est.Error l-95% CI u-95% CI Rhat Bulk_ESS Tail_ESS\n",
       "sigma     0.28      0.01     0.27     0.29 1.01     1340     2263\n",
       "\n",
       "Draws were sampled using sampling(NUTS). For each parameter, Bulk_ESS\n",
       "and Tail_ESS are effective sample size measures, and Rhat is the potential\n",
       "scale reduction factor on split chains (at convergence, Rhat = 1)."
      ]
     },
     "metadata": {},
     "output_type": "display_data"
    },
    {
     "name": "stderr",
     "output_type": "stream",
     "text": [
      "Warning message:\n",
      "“Rows containing NAs were excluded from the model.”\n",
      "Compiling Stan program...\n",
      "\n",
      "Start sampling\n",
      "\n"
     ]
    },
    {
     "data": {
      "text/plain": [
       " Family: gaussian \n",
       "  Links: mu = identity; sigma = identity \n",
       "Formula: compound_2021 ~ 1 + marchFactor + (1 | subject) \n",
       "   Data: sd_2021 (Number of observations: 1596) \n",
       "  Draws: 4 chains, each with iter = 2000; warmup = 1000; thin = 1;\n",
       "         total post-warmup draws = 4000\n",
       "\n",
       "Group-Level Effects: \n",
       "~subject (Number of levels: 488) \n",
       "              Estimate Est.Error l-95% CI u-95% CI Rhat Bulk_ESS Tail_ESS\n",
       "sd(Intercept)     0.11      0.01     0.08     0.14 1.00      852     1500\n",
       "\n",
       "Population-Level Effects: \n",
       "                 Estimate Est.Error l-95% CI u-95% CI Rhat Bulk_ESS Tail_ESS\n",
       "Intercept            0.08      0.01     0.06     0.10 1.00     4413     3252\n",
       "marchFactorMarch    -0.03      0.03    -0.09     0.02 1.00     6268     2897\n",
       "\n",
       "Family Specific Parameters: \n",
       "      Estimate Est.Error l-95% CI u-95% CI Rhat Bulk_ESS Tail_ESS\n",
       "sigma     0.30      0.01     0.28     0.31 1.00     2376     2783\n",
       "\n",
       "Draws were sampled using sampling(NUTS). For each parameter, Bulk_ESS\n",
       "and Tail_ESS are effective sample size measures, and Rhat is the potential\n",
       "scale reduction factor on split chains (at convergence, Rhat = 1)."
      ]
     },
     "metadata": {},
     "output_type": "display_data"
    },
    {
     "name": "stderr",
     "output_type": "stream",
     "text": [
      "Warning message:\n",
      "“Rows containing NAs were excluded from the model.”\n",
      "Compiling Stan program...\n",
      "\n",
      "recompiling to avoid crashing R session\n",
      "\n",
      "Start sampling\n",
      "\n"
     ]
    },
    {
     "data": {
      "text/plain": [
       " Family: gaussian \n",
       "  Links: mu = identity; sigma = identity \n",
       "Formula: value ~ marchFactor * variable + (1 | subject) \n",
       "   Data: sd_int_s_melt (Number of observations: 2990) \n",
       "  Draws: 4 chains, each with iter = 2000; warmup = 1000; thin = 1;\n",
       "         total post-warmup draws = 4000\n",
       "\n",
       "Group-Level Effects: \n",
       "~subject (Number of levels: 498) \n",
       "              Estimate Est.Error l-95% CI u-95% CI Rhat Bulk_ESS Tail_ESS\n",
       "sd(Intercept)     0.10      0.01     0.08     0.11 1.00     1493     1955\n",
       "\n",
       "Population-Level Effects: \n",
       "                                       Estimate Est.Error l-95% CI u-95% CI\n",
       "Intercept                                 -0.01      0.01    -0.03     0.01\n",
       "marchFactorMarch                          -0.08      0.02    -0.11    -0.04\n",
       "variablecompound_2021                      0.08      0.01     0.06     0.10\n",
       "marchFactorMarch:variablecompound_2021     0.05      0.03    -0.02     0.12\n",
       "                                       Rhat Bulk_ESS Tail_ESS\n",
       "Intercept                              1.00     3369     3058\n",
       "marchFactorMarch                       1.00     3342     2753\n",
       "variablecompound_2021                  1.00     5053     3132\n",
       "marchFactorMarch:variablecompound_2021 1.00     3795     3273\n",
       "\n",
       "Family Specific Parameters: \n",
       "      Estimate Est.Error l-95% CI u-95% CI Rhat Bulk_ESS Tail_ESS\n",
       "sigma     0.29      0.00     0.28     0.30 1.00     4178     3213\n",
       "\n",
       "Draws were sampled using sampling(NUTS). For each parameter, Bulk_ESS\n",
       "and Tail_ESS are effective sample size measures, and Rhat is the potential\n",
       "scale reduction factor on split chains (at convergence, Rhat = 1)."
      ]
     },
     "metadata": {},
     "output_type": "display_data"
    }
   ],
   "source": [
    "# bayesian regression models (for confidence intervals)\n",
    "brm(compound_2020~1+marchFactor+(marchFactor|subject), data = subDate, init = \"random\", cores=10)\n",
    "brm(compound_2020_2021~1+marchFactor+(marchFactor|subject), data = sd_2020_2021, init = \"random\", cores=10)\n",
    "brm(compound_2021~1+marchFactor+(1|subject), data = sd_2021, init = \"random\", cores=10)\n",
    "brm(value~marchFactor*variable+(1|subject),data=sd_int_s_melt,init = \"random\", cores=10)"
   ]
  },
  {
   "cell_type": "markdown",
   "metadata": {},
   "source": [
    "### test relationship between sentiment and memory count across memory collections"
   ]
  },
  {
   "cell_type": "code",
   "execution_count": 78,
   "metadata": {},
   "outputs": [],
   "source": [
    "sd_s<-subDate[,c('subject','compound_2020','compound_2021','compound_2020_2021','date')]\n",
    "sd_s_melt<-melt(sd_s, id.vars=c(\"subject\",'date'))"
   ]
  },
  {
   "cell_type": "code",
   "execution_count": 79,
   "metadata": {},
   "outputs": [],
   "source": [
    "sd_c<-subDate[,c('subject','memCount_2020','memCount_2020_2021','memCount_2021','date')]\n",
    "sd_c_melt<-melt(sd_c, id.vars=c(\"subject\",'date'))"
   ]
  },
  {
   "cell_type": "code",
   "execution_count": 80,
   "metadata": {},
   "outputs": [],
   "source": [
    "colnames(sd_s_melt)[(3:4)]<-c(\"compYear\",\"compound\")\n",
    "colnames(sd_c_melt)[(3:4)]<-c(\"memYear\",\"mc\")\n",
    "sd_s_melt$year <- sub(\"^[^_]*_\", \"\",sd_s_melt$compYear)\n",
    "sd_c_melt$year <- sub(\"^[^_]*_\", \"\",sd_c_melt$memYear)\n",
    "\n",
    "sd_s_melt<-sd_s_melt[complete.cases(sd_s_melt[,\"compound\"]),]\n",
    "sd_agg<-merge(sd_s_melt,sd_c_melt,by=c(\"subject\",\"date\",\"year\"))"
   ]
  },
  {
   "cell_type": "code",
   "execution_count": 81,
   "metadata": {},
   "outputs": [
    {
     "data": {
      "text/plain": [
       "Generalized linear mixed model fit by maximum likelihood (Laplace\n",
       "  Approximation) [glmerMod]\n",
       " Family: poisson  ( log )\n",
       "Formula: mc ~ compound + (1 | year) + (compound | subject)\n",
       "   Data: sd_agg\n",
       "Control: glmerControl(\"bobyqa\")\n",
       "\n",
       "     AIC      BIC   logLik deviance df.resid \n",
       " 28989.5  29030.4 -14488.7  28977.5     6742 \n",
       "\n",
       "Scaled residuals: \n",
       "    Min      1Q  Median      3Q     Max \n",
       "-4.6777 -0.6723 -0.2860  0.3552 16.5190 \n",
       "\n",
       "Random effects:\n",
       " Groups  Name        Variance Std.Dev. Corr \n",
       " subject (Intercept) 0.27355  0.5230        \n",
       "         compound    0.05084  0.2255   -0.28\n",
       " year    (Intercept) 0.01381  0.1175        \n",
       "Number of obs: 6748, groups:  subject, 918; year, 3\n",
       "\n",
       "Fixed effects:\n",
       "            Estimate Std. Error z value Pr(>|z|)    \n",
       "(Intercept)  1.01329    0.07083  14.306  < 2e-16 ***\n",
       "compound    -0.09196    0.02804  -3.279  0.00104 ** \n",
       "---\n",
       "Signif. codes:  0 ‘***’ 0.001 ‘**’ 0.01 ‘*’ 0.05 ‘.’ 0.1 ‘ ’ 1\n",
       "\n",
       "Correlation of Fixed Effects:\n",
       "         (Intr)\n",
       "compound -0.029"
      ]
     },
     "metadata": {},
     "output_type": "display_data"
    }
   ],
   "source": [
    "summary(glmer(mc~compound+(1|year)+(compound|subject),data = sd_agg, family = poisson(link = \"log\"),glmerControl(\"bobyqa\")))"
   ]
  },
  {
   "cell_type": "markdown",
   "metadata": {},
   "source": [
    "## negative affective state increased likelihood of later retrieving that month"
   ]
  },
  {
   "cell_type": "code",
   "execution_count": 72,
   "metadata": {},
   "outputs": [
    {
     "data": {
      "text/plain": [
       "Generalized linear mixed model fit by maximum likelihood (Laplace\n",
       "  Approximation) [glmerMod]\n",
       " Family: binomial  ( logit )\n",
       "Formula: lik_2020 ~ scale(monthly_PANAS_pos) + (1 | subject)\n",
       "   Data: sd_cd\n",
       "Control: glmerControl(\"bobyqa\")\n",
       "\n",
       "     AIC      BIC   logLik deviance df.resid \n",
       "  8396.8   8417.6  -4195.4   8390.8     7417 \n",
       "\n",
       "Scaled residuals: \n",
       "    Min      1Q  Median      3Q     Max \n",
       "-1.4388 -0.5572 -0.4441  0.8243  2.3301 \n",
       "\n",
       "Random effects:\n",
       " Groups  Name        Variance Std.Dev.\n",
       " subject (Intercept) 0.944    0.9716  \n",
       "Number of obs: 7420, groups:  subject, 939\n",
       "\n",
       "Fixed effects:\n",
       "                         Estimate Std. Error z value Pr(>|z|)    \n",
       "(Intercept)              -1.13963    0.04477 -25.456   <2e-16 ***\n",
       "scale(monthly_PANAS_pos) -0.05315    0.03950  -1.345    0.179    \n",
       "---\n",
       "Signif. codes:  0 ‘***’ 0.001 ‘**’ 0.01 ‘*’ 0.05 ‘.’ 0.1 ‘ ’ 1\n",
       "\n",
       "Correlation of Fixed Effects:\n",
       "            (Intr)\n",
       "sc(_PANAS_) 0.017 "
      ]
     },
     "metadata": {},
     "output_type": "display_data"
    },
    {
     "data": {
      "text/plain": [
       "Generalized linear mixed model fit by maximum likelihood (Laplace\n",
       "  Approximation) [glmerMod]\n",
       " Family: binomial  ( logit )\n",
       "Formula: lik_2020 ~ scale(monthly_PANAS_neg) + (1 | subject)\n",
       "   Data: sd_cd\n",
       "Control: glmerControl(\"bobyqa\")\n",
       "\n",
       "     AIC      BIC   logLik deviance df.resid \n",
       "  8393.3   8414.0  -4193.6   8387.3     7417 \n",
       "\n",
       "Scaled residuals: \n",
       "    Min      1Q  Median      3Q     Max \n",
       "-1.4386 -0.5617 -0.4395  0.8296  2.3573 \n",
       "\n",
       "Random effects:\n",
       " Groups  Name        Variance Std.Dev.\n",
       " subject (Intercept) 0.9512   0.9753  \n",
       "Number of obs: 7420, groups:  subject, 939\n",
       "\n",
       "Fixed effects:\n",
       "                         Estimate Std. Error z value Pr(>|z|)    \n",
       "(Intercept)              -1.14161    0.04490 -25.427   <2e-16 ***\n",
       "scale(monthly_PANAS_neg)  0.08476    0.03632   2.333   0.0196 *  \n",
       "---\n",
       "Signif. codes:  0 ‘***’ 0.001 ‘**’ 0.01 ‘*’ 0.05 ‘.’ 0.1 ‘ ’ 1\n",
       "\n",
       "Correlation of Fixed Effects:\n",
       "            (Intr)\n",
       "sc(_PANAS_) -0.038"
      ]
     },
     "metadata": {},
     "output_type": "display_data"
    },
    {
     "data": {
      "text/plain": [
       "Generalized linear mixed model fit by maximum likelihood (Laplace\n",
       "  Approximation) [glmerMod]\n",
       " Family: binomial  ( logit )\n",
       "Formula: lik_2020 ~ scale(monthly_STAI_state) + (1 | subject)\n",
       "   Data: sd_cd\n",
       "Control: glmerControl(\"bobyqa\")\n",
       "\n",
       "     AIC      BIC   logLik deviance df.resid \n",
       "  8390.6   8411.3  -4192.3   8384.6     7417 \n",
       "\n",
       "Scaled residuals: \n",
       "    Min      1Q  Median      3Q     Max \n",
       "-1.4327 -0.5631 -0.4378  0.8345  2.3744 \n",
       "\n",
       "Random effects:\n",
       " Groups  Name        Variance Std.Dev.\n",
       " subject (Intercept) 0.9505   0.9749  \n",
       "Number of obs: 7420, groups:  subject, 939\n",
       "\n",
       "Fixed effects:\n",
       "                          Estimate Std. Error z value Pr(>|z|)    \n",
       "(Intercept)                -1.1424     0.0449 -25.440  < 2e-16 ***\n",
       "scale(monthly_STAI_state)   0.1070     0.0376   2.847  0.00442 ** \n",
       "---\n",
       "Signif. codes:  0 ‘***’ 0.001 ‘**’ 0.01 ‘*’ 0.05 ‘.’ 0.1 ‘ ’ 1\n",
       "\n",
       "Correlation of Fixed Effects:\n",
       "            (Intr)\n",
       "scl(_STAI_) -0.044"
      ]
     },
     "metadata": {},
     "output_type": "display_data"
    },
    {
     "data": {
      "text/plain": [
       "Generalized linear mixed model fit by maximum likelihood (Laplace\n",
       "  Approximation) [glmerMod]\n",
       " Family: binomial  ( logit )\n",
       "Formula: lik_2020 ~ scale(monthly_STAI_trait) + (1 | subject)\n",
       "   Data: sd_cd\n",
       "Control: glmerControl(\"bobyqa\")\n",
       "\n",
       "     AIC      BIC   logLik deviance df.resid \n",
       "  4824.3   4843.2  -2409.1   4818.3     4062 \n",
       "\n",
       "Scaled residuals: \n",
       "    Min      1Q  Median      3Q     Max \n",
       "-1.1702 -0.5800 -0.4627  0.9664  1.9568 \n",
       "\n",
       "Random effects:\n",
       " Groups  Name        Variance Std.Dev.\n",
       " subject (Intercept) 0.7903   0.889   \n",
       "Number of obs: 4065, groups:  subject, 939\n",
       "\n",
       "Fixed effects:\n",
       "                          Estimate Std. Error z value Pr(>|z|)    \n",
       "(Intercept)               -1.01851    0.05067  -20.10   <2e-16 ***\n",
       "scale(monthly_STAI_trait)  0.15470    0.04660    3.32    9e-04 ***\n",
       "---\n",
       "Signif. codes:  0 ‘***’ 0.001 ‘**’ 0.01 ‘*’ 0.05 ‘.’ 0.1 ‘ ’ 1\n",
       "\n",
       "Correlation of Fixed Effects:\n",
       "            (Intr)\n",
       "scl(_STAI_) -0.058"
      ]
     },
     "metadata": {},
     "output_type": "display_data"
    },
    {
     "data": {
      "text/plain": [
       "Generalized linear mixed model fit by maximum likelihood (Laplace\n",
       "  Approximation) [glmerMod]\n",
       " Family: binomial  ( logit )\n",
       "Formula: lik_2020 ~ scale(monthly_PSS) + (1 | subject)\n",
       "   Data: sd_cd\n",
       "Control: glmerControl(\"bobyqa\")\n",
       "\n",
       "     AIC      BIC   logLik deviance df.resid \n",
       "  8355.7   8376.5  -4174.9   8349.7     7398 \n",
       "\n",
       "Scaled residuals: \n",
       "    Min      1Q  Median      3Q     Max \n",
       "-1.4953 -0.5685 -0.4355  0.8327  2.4547 \n",
       "\n",
       "Random effects:\n",
       " Groups  Name        Variance Std.Dev.\n",
       " subject (Intercept) 0.9508   0.9751  \n",
       "Number of obs: 7401, groups:  subject, 935\n",
       "\n",
       "Fixed effects:\n",
       "                   Estimate Std. Error z value Pr(>|z|)    \n",
       "(Intercept)        -1.14696    0.04506 -25.454  < 2e-16 ***\n",
       "scale(monthly_PSS)  0.15922    0.04002   3.979 6.93e-05 ***\n",
       "---\n",
       "Signif. codes:  0 ‘***’ 0.001 ‘**’ 0.01 ‘*’ 0.05 ‘.’ 0.1 ‘ ’ 1\n",
       "\n",
       "Correlation of Fixed Effects:\n",
       "            (Intr)\n",
       "scl(mn_PSS) -0.058"
      ]
     },
     "metadata": {},
     "output_type": "display_data"
    },
    {
     "data": {
      "text/plain": [
       "Generalized linear mixed model fit by maximum likelihood (Laplace\n",
       "  Approximation) [glmerMod]\n",
       " Family: binomial  ( logit )\n",
       "Formula: lik_2020 ~ scale(monthly_RISC) + (1 | subject)\n",
       "   Data: sd_cd\n",
       "Control: glmerControl(\"bobyqa\")\n",
       "\n",
       "     AIC      BIC   logLik deviance df.resid \n",
       "  4628.6   4647.5  -2311.3   4622.6     3985 \n",
       "\n",
       "Scaled residuals: \n",
       "    Min      1Q  Median      3Q     Max \n",
       "-1.1156 -0.5483 -0.4189  0.9210  1.9406 \n",
       "\n",
       "Random effects:\n",
       " Groups  Name        Variance Std.Dev.\n",
       " subject (Intercept) 0.9531   0.9763  \n",
       "Number of obs: 3988, groups:  subject, 912\n",
       "\n",
       "Fixed effects:\n",
       "                    Estimate Std. Error z value Pr(>|z|)    \n",
       "(Intercept)         -1.11431    0.05533 -20.139   <2e-16 ***\n",
       "scale(monthly_RISC) -0.06244    0.04925  -1.268    0.205    \n",
       "---\n",
       "Signif. codes:  0 ‘***’ 0.001 ‘**’ 0.01 ‘*’ 0.05 ‘.’ 0.1 ‘ ’ 1\n",
       "\n",
       "Correlation of Fixed Effects:\n",
       "            (Intr)\n",
       "scl(m_RISC) 0.029 "
      ]
     },
     "metadata": {},
     "output_type": "display_data"
    },
    {
     "data": {
      "text/plain": [
       "Generalized linear mixed model fit by maximum likelihood (Laplace\n",
       "  Approximation) [glmerMod]\n",
       " Family: binomial  ( logit )\n",
       "Formula: lik_2020 ~ scale(monthly_faceMood) + (1 | subject)\n",
       "   Data: sd_cd\n",
       "Control: glmerControl(\"bobyqa\")\n",
       "\n",
       "     AIC      BIC   logLik deviance df.resid \n",
       "  8397.5   8418.2  -4195.7   8391.5     7417 \n",
       "\n",
       "Scaled residuals: \n",
       "    Min      1Q  Median      3Q     Max \n",
       "-1.4425 -0.5541 -0.4451  0.8223  2.3219 \n",
       "\n",
       "Random effects:\n",
       " Groups  Name        Variance Std.Dev.\n",
       " subject (Intercept) 0.9512   0.9753  \n",
       "Number of obs: 7420, groups:  subject, 939\n",
       "\n",
       "Fixed effects:\n",
       "                        Estimate Std. Error z value Pr(>|z|)    \n",
       "(Intercept)             -1.13960    0.04485 -25.407   <2e-16 ***\n",
       "scale(monthly_faceMood) -0.03812    0.03522  -1.083    0.279    \n",
       "---\n",
       "Signif. codes:  0 ‘***’ 0.001 ‘**’ 0.01 ‘*’ 0.05 ‘.’ 0.1 ‘ ’ 1\n",
       "\n",
       "Correlation of Fixed Effects:\n",
       "            (Intr)\n",
       "scl(mnth_M) 0.014 "
      ]
     },
     "metadata": {},
     "output_type": "display_data"
    },
    {
     "data": {
      "text/plain": [
       "Generalized linear mixed model fit by maximum likelihood (Laplace\n",
       "  Approximation) [glmerMod]\n",
       " Family: binomial  ( logit )\n",
       "Formula: lik_2020 ~ scale(monthly_BDI) + (1 | subject)\n",
       "   Data: sd_cd\n",
       "Control: glmerControl(\"bobyqa\")\n",
       "\n",
       "     AIC      BIC   logLik deviance df.resid \n",
       "  5678.1   5697.5  -2836.0   5672.1     4831 \n",
       "\n",
       "Scaled residuals: \n",
       "    Min      1Q  Median      3Q     Max \n",
       "-1.3210 -0.5685 -0.4300  0.8655  1.9951 \n",
       "\n",
       "Random effects:\n",
       " Groups  Name        Variance Std.Dev.\n",
       " subject (Intercept) 0.9311   0.9649  \n",
       "Number of obs: 4834, groups:  subject, 928\n",
       "\n",
       "Fixed effects:\n",
       "                   Estimate Std. Error z value Pr(>|z|)    \n",
       "(Intercept)        -1.04380    0.04983 -20.948   <2e-16 ***\n",
       "scale(monthly_BDI)  0.09861    0.04494   2.194   0.0282 *  \n",
       "---\n",
       "Signif. codes:  0 ‘***’ 0.001 ‘**’ 0.01 ‘*’ 0.05 ‘.’ 0.1 ‘ ’ 1\n",
       "\n",
       "Correlation of Fixed Effects:\n",
       "            (Intr)\n",
       "scl(mn_BDI) -0.032"
      ]
     },
     "metadata": {},
     "output_type": "display_data"
    }
   ],
   "source": [
    "summary(glmer(lik_2020~scale(monthly_PANAS_pos)+(1|subject),data = sd_cd, family = binomial,control=glmerControl(\"bobyqa\")))\n",
    "summary(glmer(lik_2020~scale(monthly_PANAS_neg)+(1|subject),data = sd_cd, family = binomial,control=glmerControl(\"bobyqa\")))\n",
    "summary(glmer(lik_2020~scale(monthly_STAI_state)+(1|subject),data = sd_cd, family = binomial,control=glmerControl(\"bobyqa\")))\n",
    "summary(glmer(lik_2020~scale(monthly_STAI_trait)+(1|subject),data = sd_cd, family = binomial,control=glmerControl(\"bobyqa\")))\n",
    "summary(glmer(lik_2020~scale(monthly_PSS)+(1|subject),data = sd_cd, family = binomial,control=glmerControl(\"bobyqa\")))\n",
    "summary(glmer(lik_2020~scale(monthly_RISC)+(1|subject),data = sd_cd, family = binomial,control=glmerControl(\"bobyqa\")))\n",
    "summary(glmer(lik_2020~scale(monthly_faceMood)+(1|subject),data = sd_cd, family = binomial,control=glmerControl(\"bobyqa\")))\n",
    "summary(glmer(lik_2020~scale(monthly_BDI)+(1|subject),data = sd_cd, family = binomial,control=glmerControl(\"bobyqa\")))"
   ]
  },
  {
   "cell_type": "code",
   "execution_count": 73,
   "metadata": {},
   "outputs": [
    {
     "name": "stderr",
     "output_type": "stream",
     "text": [
      "Warning message:\n",
      "“Rows containing NAs were excluded from the model.”\n",
      "Compiling Stan program...\n",
      "\n",
      "Start sampling\n",
      "\n"
     ]
    },
    {
     "data": {
      "text/plain": [
       " Family: bernoulli \n",
       "  Links: mu = logit \n",
       "Formula: lik_2020 ~ scale(monthly_PANAS_pos) + (1 | subject) \n",
       "   Data: sd_cd (Number of observations: 7420) \n",
       "  Draws: 4 chains, each with iter = 2000; warmup = 1000; thin = 1;\n",
       "         total post-warmup draws = 4000\n",
       "\n",
       "Group-Level Effects: \n",
       "~subject (Number of levels: 939) \n",
       "              Estimate Est.Error l-95% CI u-95% CI Rhat Bulk_ESS Tail_ESS\n",
       "sd(Intercept)     1.01      0.05     0.92     1.11 1.00     1580     2302\n",
       "\n",
       "Population-Level Effects: \n",
       "                       Estimate Est.Error l-95% CI u-95% CI Rhat Bulk_ESS\n",
       "Intercept                 -1.15      0.05    -1.24    -1.05 1.00     1654\n",
       "scalemonthly_PANAS_pos    -0.05      0.04    -0.14     0.03 1.00     2432\n",
       "                       Tail_ESS\n",
       "Intercept                  2763\n",
       "scalemonthly_PANAS_pos     2785\n",
       "\n",
       "Draws were sampled using sampling(NUTS). For each parameter, Bulk_ESS\n",
       "and Tail_ESS are effective sample size measures, and Rhat is the potential\n",
       "scale reduction factor on split chains (at convergence, Rhat = 1)."
      ]
     },
     "metadata": {},
     "output_type": "display_data"
    },
    {
     "name": "stderr",
     "output_type": "stream",
     "text": [
      "Warning message:\n",
      "“Rows containing NAs were excluded from the model.”\n",
      "Compiling Stan program...\n",
      "\n",
      "recompiling to avoid crashing R session\n",
      "\n",
      "Start sampling\n",
      "\n"
     ]
    },
    {
     "data": {
      "text/plain": [
       " Family: bernoulli \n",
       "  Links: mu = logit \n",
       "Formula: lik_2020 ~ scale(monthly_PANAS_neg) + (1 | subject) \n",
       "   Data: sd_cd (Number of observations: 7420) \n",
       "  Draws: 4 chains, each with iter = 2000; warmup = 1000; thin = 1;\n",
       "         total post-warmup draws = 4000\n",
       "\n",
       "Group-Level Effects: \n",
       "~subject (Number of levels: 939) \n",
       "              Estimate Est.Error l-95% CI u-95% CI Rhat Bulk_ESS Tail_ESS\n",
       "sd(Intercept)     1.02      0.05     0.92     1.12 1.00     1365     2118\n",
       "\n",
       "Population-Level Effects: \n",
       "                       Estimate Est.Error l-95% CI u-95% CI Rhat Bulk_ESS\n",
       "Intercept                 -1.15      0.05    -1.24    -1.06 1.00     1385\n",
       "scalemonthly_PANAS_neg     0.09      0.04     0.01     0.16 1.00     2323\n",
       "                       Tail_ESS\n",
       "Intercept                  2260\n",
       "scalemonthly_PANAS_neg     2476\n",
       "\n",
       "Draws were sampled using sampling(NUTS). For each parameter, Bulk_ESS\n",
       "and Tail_ESS are effective sample size measures, and Rhat is the potential\n",
       "scale reduction factor on split chains (at convergence, Rhat = 1)."
      ]
     },
     "metadata": {},
     "output_type": "display_data"
    },
    {
     "name": "stderr",
     "output_type": "stream",
     "text": [
      "Warning message:\n",
      "“Rows containing NAs were excluded from the model.”\n",
      "Compiling Stan program...\n",
      "\n",
      "recompiling to avoid crashing R session\n",
      "\n",
      "Start sampling\n",
      "\n"
     ]
    },
    {
     "data": {
      "text/plain": [
       " Family: bernoulli \n",
       "  Links: mu = logit \n",
       "Formula: lik_2020 ~ scale(monthly_STAI_state) + (1 | subject) \n",
       "   Data: sd_cd (Number of observations: 7420) \n",
       "  Draws: 4 chains, each with iter = 2000; warmup = 1000; thin = 1;\n",
       "         total post-warmup draws = 4000\n",
       "\n",
       "Group-Level Effects: \n",
       "~subject (Number of levels: 939) \n",
       "              Estimate Est.Error l-95% CI u-95% CI Rhat Bulk_ESS Tail_ESS\n",
       "sd(Intercept)     1.02      0.05     0.92     1.12 1.00     1314     1943\n",
       "\n",
       "Population-Level Effects: \n",
       "                        Estimate Est.Error l-95% CI u-95% CI Rhat Bulk_ESS\n",
       "Intercept                  -1.15      0.05    -1.25    -1.06 1.00     1418\n",
       "scalemonthly_STAI_state     0.11      0.04     0.03     0.18 1.00     2136\n",
       "                        Tail_ESS\n",
       "Intercept                   2396\n",
       "scalemonthly_STAI_state     2594\n",
       "\n",
       "Draws were sampled using sampling(NUTS). For each parameter, Bulk_ESS\n",
       "and Tail_ESS are effective sample size measures, and Rhat is the potential\n",
       "scale reduction factor on split chains (at convergence, Rhat = 1)."
      ]
     },
     "metadata": {},
     "output_type": "display_data"
    },
    {
     "name": "stderr",
     "output_type": "stream",
     "text": [
      "Warning message:\n",
      "“Rows containing NAs were excluded from the model.”\n",
      "Compiling Stan program...\n",
      "\n",
      "recompiling to avoid crashing R session\n",
      "\n",
      "Start sampling\n",
      "\n"
     ]
    },
    {
     "data": {
      "text/plain": [
       " Family: bernoulli \n",
       "  Links: mu = logit \n",
       "Formula: lik_2020 ~ scale(monthly_STAI_trait) + (1 | subject) \n",
       "   Data: sd_cd (Number of observations: 4065) \n",
       "  Draws: 4 chains, each with iter = 2000; warmup = 1000; thin = 1;\n",
       "         total post-warmup draws = 4000\n",
       "\n",
       "Group-Level Effects: \n",
       "~subject (Number of levels: 939) \n",
       "              Estimate Est.Error l-95% CI u-95% CI Rhat Bulk_ESS Tail_ESS\n",
       "sd(Intercept)     0.97      0.07     0.84     1.10 1.00     1232     1624\n",
       "\n",
       "Population-Level Effects: \n",
       "                        Estimate Est.Error l-95% CI u-95% CI Rhat Bulk_ESS\n",
       "Intercept                  -1.03      0.05    -1.14    -0.93 1.00     2054\n",
       "scalemonthly_STAI_trait     0.16      0.05     0.07     0.25 1.00     2705\n",
       "                        Tail_ESS\n",
       "Intercept                   2579\n",
       "scalemonthly_STAI_trait     3155\n",
       "\n",
       "Draws were sampled using sampling(NUTS). For each parameter, Bulk_ESS\n",
       "and Tail_ESS are effective sample size measures, and Rhat is the potential\n",
       "scale reduction factor on split chains (at convergence, Rhat = 1)."
      ]
     },
     "metadata": {},
     "output_type": "display_data"
    },
    {
     "name": "stderr",
     "output_type": "stream",
     "text": [
      "Warning message:\n",
      "“Rows containing NAs were excluded from the model.”\n",
      "Compiling Stan program...\n",
      "\n",
      "recompiling to avoid crashing R session\n",
      "\n",
      "Start sampling\n",
      "\n"
     ]
    },
    {
     "data": {
      "text/plain": [
       " Family: bernoulli \n",
       "  Links: mu = logit \n",
       "Formula: lik_2020 ~ scale(monthly_PSS) + (1 | subject) \n",
       "   Data: sd_cd (Number of observations: 7401) \n",
       "  Draws: 4 chains, each with iter = 2000; warmup = 1000; thin = 1;\n",
       "         total post-warmup draws = 4000\n",
       "\n",
       "Group-Level Effects: \n",
       "~subject (Number of levels: 935) \n",
       "              Estimate Est.Error l-95% CI u-95% CI Rhat Bulk_ESS Tail_ESS\n",
       "sd(Intercept)     1.01      0.05     0.92     1.11 1.00     1364     1989\n",
       "\n",
       "Population-Level Effects: \n",
       "                 Estimate Est.Error l-95% CI u-95% CI Rhat Bulk_ESS Tail_ESS\n",
       "Intercept           -1.15      0.05    -1.25    -1.06 1.00     1963     2655\n",
       "scalemonthly_PSS     0.16      0.04     0.08     0.24 1.00     1930     2338\n",
       "\n",
       "Draws were sampled using sampling(NUTS). For each parameter, Bulk_ESS\n",
       "and Tail_ESS are effective sample size measures, and Rhat is the potential\n",
       "scale reduction factor on split chains (at convergence, Rhat = 1)."
      ]
     },
     "metadata": {},
     "output_type": "display_data"
    },
    {
     "name": "stderr",
     "output_type": "stream",
     "text": [
      "Warning message:\n",
      "“Rows containing NAs were excluded from the model.”\n",
      "Compiling Stan program...\n",
      "\n",
      "recompiling to avoid crashing R session\n",
      "\n",
      "Start sampling\n",
      "\n"
     ]
    },
    {
     "data": {
      "text/plain": [
       " Family: bernoulli \n",
       "  Links: mu = logit \n",
       "Formula: lik_2020 ~ scale(monthly_RISC) + (1 | subject) \n",
       "   Data: sd_cd (Number of observations: 3988) \n",
       "  Draws: 4 chains, each with iter = 2000; warmup = 1000; thin = 1;\n",
       "         total post-warmup draws = 4000\n",
       "\n",
       "Group-Level Effects: \n",
       "~subject (Number of levels: 912) \n",
       "              Estimate Est.Error l-95% CI u-95% CI Rhat Bulk_ESS Tail_ESS\n",
       "sd(Intercept)     1.05      0.07     0.92     1.20 1.00     1205     2349\n",
       "\n",
       "Population-Level Effects: \n",
       "                  Estimate Est.Error l-95% CI u-95% CI Rhat Bulk_ESS Tail_ESS\n",
       "Intercept            -1.13      0.06    -1.24    -1.02 1.00     2212     2670\n",
       "scalemonthly_RISC    -0.06      0.05    -0.17     0.04 1.00     2149     2831\n",
       "\n",
       "Draws were sampled using sampling(NUTS). For each parameter, Bulk_ESS\n",
       "and Tail_ESS are effective sample size measures, and Rhat is the potential\n",
       "scale reduction factor on split chains (at convergence, Rhat = 1)."
      ]
     },
     "metadata": {},
     "output_type": "display_data"
    },
    {
     "name": "stderr",
     "output_type": "stream",
     "text": [
      "Warning message:\n",
      "“Rows containing NAs were excluded from the model.”\n",
      "Compiling Stan program...\n",
      "\n",
      "recompiling to avoid crashing R session\n",
      "\n",
      "Start sampling\n",
      "\n"
     ]
    },
    {
     "data": {
      "text/plain": [
       " Family: bernoulli \n",
       "  Links: mu = logit \n",
       "Formula: lik_2020 ~ scale(monthly_faceMood) + (1 | subject) \n",
       "   Data: sd_cd (Number of observations: 7420) \n",
       "  Draws: 4 chains, each with iter = 2000; warmup = 1000; thin = 1;\n",
       "         total post-warmup draws = 4000\n",
       "\n",
       "Group-Level Effects: \n",
       "~subject (Number of levels: 939) \n",
       "              Estimate Est.Error l-95% CI u-95% CI Rhat Bulk_ESS Tail_ESS\n",
       "sd(Intercept)     1.02      0.05     0.92     1.11 1.00     1242     2046\n",
       "\n",
       "Population-Level Effects: \n",
       "                      Estimate Est.Error l-95% CI u-95% CI Rhat Bulk_ESS\n",
       "Intercept                -1.15      0.05    -1.24    -1.06 1.00     1698\n",
       "scalemonthly_faceMood    -0.04      0.04    -0.11     0.03 1.00     2733\n",
       "                      Tail_ESS\n",
       "Intercept                 2379\n",
       "scalemonthly_faceMood     2910\n",
       "\n",
       "Draws were sampled using sampling(NUTS). For each parameter, Bulk_ESS\n",
       "and Tail_ESS are effective sample size measures, and Rhat is the potential\n",
       "scale reduction factor on split chains (at convergence, Rhat = 1)."
      ]
     },
     "metadata": {},
     "output_type": "display_data"
    },
    {
     "name": "stderr",
     "output_type": "stream",
     "text": [
      "Warning message:\n",
      "“Rows containing NAs were excluded from the model.”\n",
      "Compiling Stan program...\n",
      "\n",
      "recompiling to avoid crashing R session\n",
      "\n",
      "Start sampling\n",
      "\n"
     ]
    },
    {
     "data": {
      "text/plain": [
       " Family: bernoulli \n",
       "  Links: mu = logit \n",
       "Formula: lik_2020 ~ scale(monthly_BDI) + (1 | subject) \n",
       "   Data: sd_cd (Number of observations: 4834) \n",
       "  Draws: 4 chains, each with iter = 2000; warmup = 1000; thin = 1;\n",
       "         total post-warmup draws = 4000\n",
       "\n",
       "Group-Level Effects: \n",
       "~subject (Number of levels: 928) \n",
       "              Estimate Est.Error l-95% CI u-95% CI Rhat Bulk_ESS Tail_ESS\n",
       "sd(Intercept)     1.03      0.06     0.91     1.16 1.00     1254     1779\n",
       "\n",
       "Population-Level Effects: \n",
       "                 Estimate Est.Error l-95% CI u-95% CI Rhat Bulk_ESS Tail_ESS\n",
       "Intercept           -1.06      0.05    -1.16    -0.96 1.00     2259     2398\n",
       "scalemonthly_BDI     0.10      0.05     0.01     0.19 1.00     2230     2703\n",
       "\n",
       "Draws were sampled using sampling(NUTS). For each parameter, Bulk_ESS\n",
       "and Tail_ESS are effective sample size measures, and Rhat is the potential\n",
       "scale reduction factor on split chains (at convergence, Rhat = 1)."
      ]
     },
     "metadata": {},
     "output_type": "display_data"
    }
   ],
   "source": [
    "summary(brm(lik_2020~scale(monthly_PANAS_pos)+(1|subject),data = sd_cd, family=bernoulli, init = \"random\", cores=10))\n",
    "summary(brm(lik_2020~scale(monthly_PANAS_neg)+(1|subject),data = sd_cd, family=bernoulli, init = \"random\", cores=10))\n",
    "summary(brm(lik_2020~scale(monthly_STAI_state)+(1|subject),data = sd_cd, family=bernoulli, init = \"random\", cores=10))\n",
    "summary(brm(lik_2020~scale(monthly_STAI_trait)+(1|subject),data = sd_cd, family=bernoulli, init = \"random\", cores=10))\n",
    "summary(brm(lik_2020~scale(monthly_PSS)+(1|subject),data = sd_cd, family=bernoulli, init = \"random\", cores=10))\n",
    "summary(brm(lik_2020~scale(monthly_RISC)+(1|subject),data = sd_cd, family=bernoulli, init = \"random\", cores=10))\n",
    "summary(brm(lik_2020~scale(monthly_faceMood)+(1|subject),data = sd_cd, family=bernoulli, init = \"random\", cores=10))\n",
    "summary(brm(lik_2020~scale(monthly_BDI)+(1|subject),data = sd_cd, family=bernoulli, init = \"random\", cores=10))"
   ]
  },
  {
   "cell_type": "code",
   "execution_count": 74,
   "metadata": {},
   "outputs": [
    {
     "data": {
      "text/plain": [
       "Generalized linear mixed model fit by maximum likelihood (Laplace\n",
       "  Approximation) [glmerMod]\n",
       " Family: binomial  ( logit )\n",
       "Formula: lik_2020 ~ variable * scale(value) + (1 | subject)\n",
       "   Data: lik_panas_melt\n",
       "Control: glmerControl(\"bobyqa\")\n",
       "\n",
       "     AIC      BIC   logLik deviance df.resid \n",
       " 15699.3  15737.3  -7844.6  15689.3    14835 \n",
       "\n",
       "Scaled residuals: \n",
       "    Min      1Q  Median      3Q     Max \n",
       "-2.0449 -0.5462 -0.3846  0.6460  2.7070 \n",
       "\n",
       "Random effects:\n",
       " Groups  Name        Variance Std.Dev.\n",
       " subject (Intercept) 1.71     1.308   \n",
       "Number of obs: 14840, groups:  subject, 939\n",
       "\n",
       "Fixed effects:\n",
       "                                       Estimate Std. Error z value Pr(>|z|)    \n",
       "(Intercept)                            -1.20227    0.06212 -19.355   <2e-16 ***\n",
       "variablemonthly_PANAS_pos              -0.04354    0.05454  -0.798   0.4247    \n",
       "scale(value)                            0.10304    0.05366   1.920   0.0548 .  \n",
       "variablemonthly_PANAS_pos:scale(value) -0.13206    0.06989  -1.890   0.0588 .  \n",
       "---\n",
       "Signif. codes:  0 ‘***’ 0.001 ‘**’ 0.01 ‘*’ 0.05 ‘.’ 0.1 ‘ ’ 1\n",
       "\n",
       "Correlation of Fixed Effects:\n",
       "            (Intr) vr_PANAS_ scl(v)\n",
       "vrbl_PANAS_ -0.506                 \n",
       "scale(valu)  0.500 -0.526          \n",
       "v_PANAS_:() -0.419  0.212    -0.834"
      ]
     },
     "metadata": {},
     "output_type": "display_data"
    }
   ],
   "source": [
    "# test PANAS interaction \n",
    "lik_panas<-sd_cd[,c(\"subject\",\"lik_2020\",\"monthly_PANAS_neg\",\"monthly_PANAS_pos\")]\n",
    "lik_panas_melt<-melt(lik_panas,id.vars=c(\"subject\",\"lik_2020\"))\n",
    "\n",
    "summary(mod<-glmer(lik_2020~variable*scale(value)+(1|subject),data=lik_panas_melt,family = binomial,control=glmerControl(\"bobyqa\")))"
   ]
  },
  {
   "cell_type": "code",
   "execution_count": 75,
   "metadata": {},
   "outputs": [
    {
     "name": "stderr",
     "output_type": "stream",
     "text": [
      "Warning message:\n",
      "“Rows containing NAs were excluded from the model.”\n",
      "Compiling Stan program...\n",
      "\n",
      "recompiling to avoid crashing R session\n",
      "\n",
      "Start sampling\n",
      "\n"
     ]
    },
    {
     "data": {
      "text/plain": [
       " Family: bernoulli \n",
       "  Links: mu = logit \n",
       "Formula: lik_2020 ~ variable * scale(value) + (1 | subject) \n",
       "   Data: lik_panas_melt (Number of observations: 14840) \n",
       "  Draws: 4 chains, each with iter = 2000; warmup = 1000; thin = 1;\n",
       "         total post-warmup draws = 4000\n",
       "\n",
       "Group-Level Effects: \n",
       "~subject (Number of levels: 939) \n",
       "              Estimate Est.Error l-95% CI u-95% CI Rhat Bulk_ESS Tail_ESS\n",
       "sd(Intercept)     1.34      0.05     1.25     1.44 1.00     1032     1683\n",
       "\n",
       "Population-Level Effects: \n",
       "                                     Estimate Est.Error l-95% CI u-95% CI Rhat\n",
       "Intercept                               -1.21      0.06    -1.33    -1.08 1.01\n",
       "variablemonthly_PANAS_pos               -0.04      0.06    -0.15     0.07 1.00\n",
       "scalevalue                               0.10      0.06    -0.00     0.21 1.00\n",
       "variablemonthly_PANAS_pos:scalevalue    -0.13      0.07    -0.27     0.01 1.00\n",
       "                                     Bulk_ESS Tail_ESS\n",
       "Intercept                                 828     1563\n",
       "variablemonthly_PANAS_pos                3242     2872\n",
       "scalevalue                               1582     2334\n",
       "variablemonthly_PANAS_pos:scalevalue     1623     2349\n",
       "\n",
       "Draws were sampled using sampling(NUTS). For each parameter, Bulk_ESS\n",
       "and Tail_ESS are effective sample size measures, and Rhat is the potential\n",
       "scale reduction factor on split chains (at convergence, Rhat = 1)."
      ]
     },
     "metadata": {},
     "output_type": "display_data"
    }
   ],
   "source": [
    "summary(brm(lik_2020~variable*scale(value)+(1|subject),data = lik_panas_melt, family=bernoulli, init = \"random\", cores=10))"
   ]
  },
  {
   "cell_type": "markdown",
   "metadata": {},
   "source": [
    "### test whether monthly state predicts the amount of recall and internal/external details"
   ]
  },
  {
   "cell_type": "code",
   "execution_count": 84,
   "metadata": {},
   "outputs": [
    {
     "data": {
      "text/plain": [
       "Generalized linear mixed model fit by maximum likelihood (Laplace\n",
       "  Approximation) [glmerMod]\n",
       " Family: poisson  ( log )\n",
       "Formula: \n",
       "remCount_2020 ~ scale(monthly_PANAS_pos) + (scale(monthly_PANAS_pos) |  \n",
       "    subject)\n",
       "   Data: sd_cd\n",
       "Control: glmerControl(\"bobyqa\")\n",
       "\n",
       "     AIC      BIC   logLik deviance df.resid \n",
       "  8613.9   8642.1  -4302.0   8603.9     2064 \n",
       "\n",
       "Scaled residuals: \n",
       "    Min      1Q  Median      3Q     Max \n",
       "-5.0083 -0.5554 -0.2102  0.3364  9.3647 \n",
       "\n",
       "Random effects:\n",
       " Groups  Name                     Variance Std.Dev. Corr\n",
       " subject (Intercept)              0.29241  0.5408       \n",
       "         scale(monthly_PANAS_pos) 0.03296  0.1816   0.05\n",
       "Number of obs: 2069, groups:  subject, 743\n",
       "\n",
       "Fixed effects:\n",
       "                         Estimate Std. Error z value Pr(>|z|)    \n",
       "(Intercept)              1.031956   0.025920  39.813   <2e-16 ***\n",
       "scale(monthly_PANAS_pos) 0.001977   0.024267   0.081    0.935    \n",
       "---\n",
       "Signif. codes:  0 ‘***’ 0.001 ‘**’ 0.01 ‘*’ 0.05 ‘.’ 0.1 ‘ ’ 1\n",
       "\n",
       "Correlation of Fixed Effects:\n",
       "            (Intr)\n",
       "sc(_PANAS_) 0.067 "
      ]
     },
     "metadata": {},
     "output_type": "display_data"
    },
    {
     "data": {
      "text/plain": [
       "Generalized linear mixed model fit by maximum likelihood (Laplace\n",
       "  Approximation) [glmerMod]\n",
       " Family: poisson  ( log )\n",
       "Formula: \n",
       "remCount_2020 ~ scale(monthly_PANAS_neg) + (scale(monthly_PANAS_neg) |  \n",
       "    subject)\n",
       "   Data: sd_cd\n",
       "Control: glmerControl(\"bobyqa\")\n",
       "\n",
       "     AIC      BIC   logLik deviance df.resid \n",
       "  8581.8   8610.0  -4285.9   8571.8     2064 \n",
       "\n",
       "Scaled residuals: \n",
       "    Min      1Q  Median      3Q     Max \n",
       "-5.4539 -0.5414 -0.2038  0.3301  5.7589 \n",
       "\n",
       "Random effects:\n",
       " Groups  Name                     Variance Std.Dev. Corr \n",
       " subject (Intercept)              0.29343  0.5417        \n",
       "         scale(monthly_PANAS_neg) 0.05014  0.2239   -0.16\n",
       "Number of obs: 2069, groups:  subject, 743\n",
       "\n",
       "Fixed effects:\n",
       "                         Estimate Std. Error z value Pr(>|z|)    \n",
       "(Intercept)               1.03001    0.02606  39.526   <2e-16 ***\n",
       "scale(monthly_PANAS_neg)  0.04049    0.02365   1.712   0.0869 .  \n",
       "---\n",
       "Signif. codes:  0 ‘***’ 0.001 ‘**’ 0.01 ‘*’ 0.05 ‘.’ 0.1 ‘ ’ 1\n",
       "\n",
       "Correlation of Fixed Effects:\n",
       "            (Intr)\n",
       "sc(_PANAS_) -0.026"
      ]
     },
     "metadata": {},
     "output_type": "display_data"
    },
    {
     "data": {
      "text/plain": [
       "Generalized linear mixed model fit by maximum likelihood (Laplace\n",
       "  Approximation) [glmerMod]\n",
       " Family: poisson  ( log )\n",
       "Formula: \n",
       "remCount_2020 ~ scale(monthly_STAI_state) + (scale(monthly_STAI_state) |  \n",
       "    subject)\n",
       "   Data: sd_cd\n",
       "Control: glmerControl(\"bobyqa\")\n",
       "\n",
       "     AIC      BIC   logLik deviance df.resid \n",
       "  8585.2   8613.4  -4287.6   8575.2     2064 \n",
       "\n",
       "Scaled residuals: \n",
       "    Min      1Q  Median      3Q     Max \n",
       "-4.9119 -0.5594 -0.2125  0.3174 10.4119 \n",
       "\n",
       "Random effects:\n",
       " Groups  Name                      Variance Std.Dev. Corr\n",
       " subject (Intercept)               0.28181  0.5309       \n",
       "         scale(monthly_STAI_state) 0.02894  0.1701   0.27\n",
       "Number of obs: 2069, groups:  subject, 743\n",
       "\n",
       "Fixed effects:\n",
       "                          Estimate Std. Error z value Pr(>|z|)    \n",
       "(Intercept)                1.03169    0.02544  40.546   <2e-16 ***\n",
       "scale(monthly_STAI_state)  0.04909    0.02237   2.195   0.0282 *  \n",
       "---\n",
       "Signif. codes:  0 ‘***’ 0.001 ‘**’ 0.01 ‘*’ 0.05 ‘.’ 0.1 ‘ ’ 1\n",
       "\n",
       "Correlation of Fixed Effects:\n",
       "            (Intr)\n",
       "scl(_STAI_) 0.035 "
      ]
     },
     "metadata": {},
     "output_type": "display_data"
    },
    {
     "data": {
      "text/plain": [
       "Generalized linear mixed model fit by maximum likelihood (Laplace\n",
       "  Approximation) [glmerMod]\n",
       " Family: poisson  ( log )\n",
       "Formula: remCount_2020 ~ scale(monthly_STAI_trait) + (1 | subject)\n",
       "   Data: sd_cd\n",
       "Control: glmerControl(\"bobyqa\")\n",
       "\n",
       "     AIC      BIC   logLik deviance df.resid \n",
       "  5151.7   5167.0  -2572.9   5145.7     1205 \n",
       "\n",
       "Scaled residuals: \n",
       "    Min      1Q  Median      3Q     Max \n",
       "-2.5708 -0.6141 -0.2273  0.3360  5.0064 \n",
       "\n",
       "Random effects:\n",
       " Groups  Name        Variance Std.Dev.\n",
       " subject (Intercept) 0.2724   0.5219  \n",
       "Number of obs: 1208, groups:  subject, 638\n",
       "\n",
       "Fixed effects:\n",
       "                          Estimate Std. Error z value Pr(>|z|)    \n",
       "(Intercept)                1.06225    0.02853  37.228   <2e-16 ***\n",
       "scale(monthly_STAI_trait)  0.03803    0.02631   1.445    0.148    \n",
       "---\n",
       "Signif. codes:  0 ‘***’ 0.001 ‘**’ 0.01 ‘*’ 0.05 ‘.’ 0.1 ‘ ’ 1\n",
       "\n",
       "Correlation of Fixed Effects:\n",
       "            (Intr)\n",
       "scl(_STAI_) -0.094"
      ]
     },
     "metadata": {},
     "output_type": "display_data"
    },
    {
     "data": {
      "text/plain": [
       "Generalized linear mixed model fit by maximum likelihood (Laplace\n",
       "  Approximation) [glmerMod]\n",
       " Family: poisson  ( log )\n",
       "Formula: remCount_2020 ~ scale(monthly_PSS) + (scale(monthly_PSS) | subject)\n",
       "   Data: sd_cd\n",
       "Control: glmerControl(\"bobyqa\")\n",
       "\n",
       "     AIC      BIC   logLik deviance df.resid \n",
       "  8572.6   8600.8  -4281.3   8562.6     2057 \n",
       "\n",
       "Scaled residuals: \n",
       "    Min      1Q  Median      3Q     Max \n",
       "-4.6071 -0.5527 -0.2069  0.3324  7.0421 \n",
       "\n",
       "Random effects:\n",
       " Groups  Name               Variance Std.Dev. Corr \n",
       " subject (Intercept)        0.25249  0.5025        \n",
       "         scale(monthly_PSS) 0.08655  0.2942   -0.11\n",
       "Number of obs: 2062, groups:  subject, 739\n",
       "\n",
       "Fixed effects:\n",
       "                   Estimate Std. Error z value Pr(>|z|)    \n",
       "(Intercept)         1.03452    0.02587  39.988   <2e-16 ***\n",
       "scale(monthly_PSS)  0.03216    0.02620   1.227     0.22    \n",
       "---\n",
       "Signif. codes:  0 ‘***’ 0.001 ‘**’ 0.01 ‘*’ 0.05 ‘.’ 0.1 ‘ ’ 1\n",
       "\n",
       "Correlation of Fixed Effects:\n",
       "            (Intr)\n",
       "scl(mn_PSS) -0.125"
      ]
     },
     "metadata": {},
     "output_type": "display_data"
    },
    {
     "data": {
      "text/plain": [
       "Generalized linear mixed model fit by maximum likelihood (Laplace\n",
       "  Approximation) [glmerMod]\n",
       " Family: poisson  ( log )\n",
       "Formula: remCount_2020 ~ scale(monthly_RISC) + (1 | subject)\n",
       "   Data: sd_cd\n",
       "Control: glmerControl(\"bobyqa\")\n",
       "\n",
       "     AIC      BIC   logLik deviance df.resid \n",
       "  4838.7   4853.8  -2416.4   4832.7     1132 \n",
       "\n",
       "Scaled residuals: \n",
       "    Min      1Q  Median      3Q     Max \n",
       "-4.8557 -0.5768 -0.2019  0.3352  6.2158 \n",
       "\n",
       "Random effects:\n",
       " Groups  Name        Variance Std.Dev.\n",
       " subject (Intercept) 0.2981   0.546   \n",
       "Number of obs: 1135, groups:  subject, 601\n",
       "\n",
       "Fixed effects:\n",
       "                    Estimate Std. Error z value Pr(>|z|)    \n",
       "(Intercept)          1.02667    0.03036   33.81   <2e-16 ***\n",
       "scale(monthly_RISC) -0.02552    0.02774   -0.92    0.358    \n",
       "---\n",
       "Signif. codes:  0 ‘***’ 0.001 ‘**’ 0.01 ‘*’ 0.05 ‘.’ 0.1 ‘ ’ 1\n",
       "\n",
       "Correlation of Fixed Effects:\n",
       "            (Intr)\n",
       "scl(m_RISC) 0.051 "
      ]
     },
     "metadata": {},
     "output_type": "display_data"
    },
    {
     "data": {
      "text/plain": [
       "Generalized linear mixed model fit by maximum likelihood (Laplace\n",
       "  Approximation) [glmerMod]\n",
       " Family: poisson  ( log )\n",
       "Formula: remCount_2020 ~ scale(monthly_faceMood) + (scale(monthly_faceMood) |  \n",
       "    subject)\n",
       "   Data: sd_cd\n",
       "Control: glmerControl(\"bobyqa\")\n",
       "\n",
       "     AIC      BIC   logLik deviance df.resid \n",
       "  8605.9   8634.0  -4297.9   8595.9     2064 \n",
       "\n",
       "Scaled residuals: \n",
       "    Min      1Q  Median      3Q     Max \n",
       "-5.6553 -0.5523 -0.2114  0.3256 10.3916 \n",
       "\n",
       "Random effects:\n",
       " Groups  Name                    Variance Std.Dev. Corr\n",
       " subject (Intercept)             0.28868  0.5373       \n",
       "         scale(monthly_faceMood) 0.02441  0.1562   0.13\n",
       "Number of obs: 2069, groups:  subject, 743\n",
       "\n",
       "Fixed effects:\n",
       "                        Estimate Std. Error z value Pr(>|z|)    \n",
       "(Intercept)              1.03384    0.02542  40.669   <2e-16 ***\n",
       "scale(monthly_faceMood)  0.04120    0.02149   1.917   0.0552 .  \n",
       "---\n",
       "Signif. codes:  0 ‘***’ 0.001 ‘**’ 0.01 ‘*’ 0.05 ‘.’ 0.1 ‘ ’ 1\n",
       "\n",
       "Correlation of Fixed Effects:\n",
       "            (Intr)\n",
       "scl(mnth_M) 0.000 "
      ]
     },
     "metadata": {},
     "output_type": "display_data"
    },
    {
     "data": {
      "text/plain": [
       "Generalized linear mixed model fit by maximum likelihood (Laplace\n",
       "  Approximation) [glmerMod]\n",
       " Family: poisson  ( log )\n",
       "Formula: remCount_2020 ~ scale(monthly_BDI) + (1 | subject)\n",
       "   Data: sd_cd\n",
       "Control: glmerControl(\"bobyqa\")\n",
       "\n",
       "     AIC      BIC   logLik deviance df.resid \n",
       "  6091.8   6107.6  -3042.9   6085.8     1428 \n",
       "\n",
       "Scaled residuals: \n",
       "    Min      1Q  Median      3Q     Max \n",
       "-4.7674 -0.5871 -0.1932  0.3170  6.0603 \n",
       "\n",
       "Random effects:\n",
       " Groups  Name        Variance Std.Dev.\n",
       " subject (Intercept) 0.2931   0.5414  \n",
       "Number of obs: 1431, groups:  subject, 661\n",
       "\n",
       "Fixed effects:\n",
       "                   Estimate Std. Error z value Pr(>|z|)    \n",
       "(Intercept)         1.04456    0.02774  37.650  < 2e-16 ***\n",
       "scale(monthly_BDI)  0.06281    0.02438   2.577  0.00997 ** \n",
       "---\n",
       "Signif. codes:  0 ‘***’ 0.001 ‘**’ 0.01 ‘*’ 0.05 ‘.’ 0.1 ‘ ’ 1\n",
       "\n",
       "Correlation of Fixed Effects:\n",
       "            (Intr)\n",
       "scl(mn_BDI) -0.077"
      ]
     },
     "metadata": {},
     "output_type": "display_data"
    }
   ],
   "source": [
    "# without zeros\n",
    "summary(glmer(remCount_2020~scale(monthly_PANAS_pos)+(scale(monthly_PANAS_pos)|subject),data = sd_cd, family = poisson(link = \"log\"),control=glmerControl(\"bobyqa\")))\n",
    "summary(glmer(remCount_2020~scale(monthly_PANAS_neg)+(scale(monthly_PANAS_neg)|subject),data = sd_cd, family = poisson(link = \"log\"),control=glmerControl(\"bobyqa\")))\n",
    "summary(glmer(remCount_2020~scale(monthly_STAI_state)+(scale(monthly_STAI_state)|subject),data = sd_cd, family = poisson(link = \"log\"),control=glmerControl(\"bobyqa\")))\n",
    "summary(glmer(remCount_2020~scale(monthly_STAI_trait)+(1|subject),data = sd_cd, family = poisson(link = \"log\"),control=glmerControl(\"bobyqa\")))\n",
    "summary(glmer(remCount_2020~scale(monthly_PSS)+(scale(monthly_PSS)|subject),data = sd_cd, family = poisson(link = \"log\"),control=glmerControl(\"bobyqa\")))\n",
    "summary(glmer(remCount_2020~scale(monthly_RISC)+(1|subject),data = sd_cd, family = poisson(link = \"log\"),control=glmerControl(\"bobyqa\")))\n",
    "summary(glmer(remCount_2020~scale(monthly_faceMood)+(scale(monthly_faceMood)|subject),data = sd_cd, family = poisson(link = \"log\"),control=glmerControl(\"bobyqa\")))\n",
    "summary(glmer(remCount_2020~scale(monthly_BDI)+(1|subject),data = sd_cd, family = poisson(link = \"log\"),control=glmerControl(\"bobyqa\")))"
   ]
  },
  {
   "cell_type": "code",
   "execution_count": 77,
   "metadata": {},
   "outputs": [
    {
     "name": "stderr",
     "output_type": "stream",
     "text": [
      "Warning message:\n",
      "“Rows containing NAs were excluded from the model.”\n",
      "Compiling Stan program...\n",
      "\n",
      "Start sampling\n",
      "\n"
     ]
    },
    {
     "data": {
      "text/plain": [
       " Family: poisson \n",
       "  Links: mu = log \n",
       "Formula: remCount_2020 ~ 1 + scale(monthly_STAI_state) + (scale(monthly_STAI_state) | subject) \n",
       "   Data: sd_cd (Number of observations: 2069) \n",
       "  Draws: 4 chains, each with iter = 2000; warmup = 1000; thin = 1;\n",
       "         total post-warmup draws = 4000\n",
       "\n",
       "Group-Level Effects: \n",
       "~subject (Number of levels: 743) \n",
       "                                       Estimate Est.Error l-95% CI u-95% CI\n",
       "sd(Intercept)                              0.54      0.02     0.50     0.58\n",
       "sd(scalemonthly_STAI_state)                0.16      0.03     0.09     0.22\n",
       "cor(Intercept,scalemonthly_STAI_state)     0.29      0.14     0.03     0.60\n",
       "                                       Rhat Bulk_ESS Tail_ESS\n",
       "sd(Intercept)                          1.00     1621     2169\n",
       "sd(scalemonthly_STAI_state)            1.01      624      991\n",
       "cor(Intercept,scalemonthly_STAI_state) 1.00     1080     1295\n",
       "\n",
       "Population-Level Effects: \n",
       "                        Estimate Est.Error l-95% CI u-95% CI Rhat Bulk_ESS\n",
       "Intercept                   1.03      0.03     0.98     1.08 1.00     3448\n",
       "scalemonthly_STAI_state     0.05      0.02     0.00     0.10 1.00     4349\n",
       "                        Tail_ESS\n",
       "Intercept                   3460\n",
       "scalemonthly_STAI_state     2568\n",
       "\n",
       "Draws were sampled using sampling(NUTS). For each parameter, Bulk_ESS\n",
       "and Tail_ESS are effective sample size measures, and Rhat is the potential\n",
       "scale reduction factor on split chains (at convergence, Rhat = 1)."
      ]
     },
     "metadata": {},
     "output_type": "display_data"
    },
    {
     "name": "stderr",
     "output_type": "stream",
     "text": [
      "Warning message:\n",
      "“Rows containing NAs were excluded from the model.”\n",
      "Compiling Stan program...\n",
      "\n",
      "Start sampling\n",
      "\n"
     ]
    },
    {
     "data": {
      "text/plain": [
       " Family: poisson \n",
       "  Links: mu = log \n",
       "Formula: remCount_2020 ~ 1 + scale(monthly_BDI) + (1 | subject) \n",
       "   Data: sd_cd (Number of observations: 1431) \n",
       "  Draws: 4 chains, each with iter = 2000; warmup = 1000; thin = 1;\n",
       "         total post-warmup draws = 4000\n",
       "\n",
       "Group-Level Effects: \n",
       "~subject (Number of levels: 661) \n",
       "              Estimate Est.Error l-95% CI u-95% CI Rhat Bulk_ESS Tail_ESS\n",
       "sd(Intercept)     0.55      0.02     0.50     0.59 1.00      980     1801\n",
       "\n",
       "Population-Level Effects: \n",
       "                 Estimate Est.Error l-95% CI u-95% CI Rhat Bulk_ESS Tail_ESS\n",
       "Intercept            1.04      0.03     0.99     1.10 1.00     1481     2029\n",
       "scalemonthly_BDI     0.06      0.02     0.01     0.11 1.00     1889     2347\n",
       "\n",
       "Draws were sampled using sampling(NUTS). For each parameter, Bulk_ESS\n",
       "and Tail_ESS are effective sample size measures, and Rhat is the potential\n",
       "scale reduction factor on split chains (at convergence, Rhat = 1)."
      ]
     },
     "metadata": {},
     "output_type": "display_data"
    }
   ],
   "source": [
    "summary(brm(remCount_2020~1+scale(monthly_STAI_state)+(scale(monthly_STAI_state)|subject),data = sd_cd, family=poisson, init = \"random\", cores=10))\n",
    "summary(brm(remCount_2020~1+scale(monthly_BDI)+(1|subject),data = sd_cd, family=poisson, init = \"random\", cores=10))"
   ]
  },
  {
   "cell_type": "code",
   "execution_count": 89,
   "metadata": {},
   "outputs": [
    {
     "data": {
      "text/plain": [
       "Linear mixed model fit by REML. t-tests use Satterthwaite's method [\n",
       "lmerModLmerTest]\n",
       "Formula: intDetails_2020 ~ scale(monthly_PANAS_pos) + (1 | subject)\n",
       "   Data: sd_cd\n",
       "Control: lmerControl(\"bobyqa\")\n",
       "\n",
       "REML criterion at convergence: 20942.7\n",
       "\n",
       "Scaled residuals: \n",
       "    Min      1Q  Median      3Q     Max \n",
       "-6.7795 -0.3976 -0.1596  0.2207 21.8875 \n",
       "\n",
       "Random effects:\n",
       " Groups   Name        Variance Std.Dev.\n",
       " subject  (Intercept)  544.7   23.34   \n",
       " Residual             1093.2   33.06   \n",
       "Number of obs: 2069, groups:  subject, 743\n",
       "\n",
       "Fixed effects:\n",
       "                         Estimate Std. Error       df t value Pr(>|t|)    \n",
       "(Intercept)                27.528      1.178  692.716  23.368   <2e-16 ***\n",
       "scale(monthly_PANAS_pos)   -1.379      1.090 1220.250  -1.265    0.206    \n",
       "---\n",
       "Signif. codes:  0 ‘***’ 0.001 ‘**’ 0.01 ‘*’ 0.05 ‘.’ 0.1 ‘ ’ 1\n",
       "\n",
       "Correlation of Fixed Effects:\n",
       "            (Intr)\n",
       "sc(_PANAS_) 0.038 "
      ]
     },
     "metadata": {},
     "output_type": "display_data"
    },
    {
     "data": {
      "text/plain": [
       "Linear mixed model fit by REML. t-tests use Satterthwaite's method [\n",
       "lmerModLmerTest]\n",
       "Formula: intDetails_2020 ~ scale(monthly_PANAS_neg) + (1 | subject)\n",
       "   Data: sd_cd\n",
       "Control: lmerControl(\"bobyqa\")\n",
       "\n",
       "REML criterion at convergence: 20943.2\n",
       "\n",
       "Scaled residuals: \n",
       "    Min      1Q  Median      3Q     Max \n",
       "-6.7785 -0.3950 -0.1598  0.2188 21.9022 \n",
       "\n",
       "Random effects:\n",
       " Groups   Name        Variance Std.Dev.\n",
       " subject  (Intercept)  549.7   23.45   \n",
       " Residual             1091.0   33.03   \n",
       "Number of obs: 2069, groups:  subject, 743\n",
       "\n",
       "Fixed effects:\n",
       "                          Estimate Std. Error        df t value Pr(>|t|)    \n",
       "(Intercept)                27.5237     1.1810  696.1591  23.305   <2e-16 ***\n",
       "scale(monthly_PANAS_neg)    1.1585     0.9955 1566.1991   1.164    0.245    \n",
       "---\n",
       "Signif. codes:  0 ‘***’ 0.001 ‘**’ 0.01 ‘*’ 0.05 ‘.’ 0.1 ‘ ’ 1\n",
       "\n",
       "Correlation of Fixed Effects:\n",
       "            (Intr)\n",
       "sc(_PANAS_) -0.046"
      ]
     },
     "metadata": {},
     "output_type": "display_data"
    },
    {
     "data": {
      "text/plain": [
       "Linear mixed model fit by REML. t-tests use Satterthwaite's method [\n",
       "lmerModLmerTest]\n",
       "Formula: intDetails_2020 ~ scale(monthly_STAI_state) + (1 | subject)\n",
       "   Data: sd_cd\n",
       "Control: lmerControl(\"bobyqa\")\n",
       "\n",
       "REML criterion at convergence: 20939\n",
       "\n",
       "Scaled residuals: \n",
       "    Min      1Q  Median      3Q     Max \n",
       "-6.7429 -0.3923 -0.1578  0.2168 21.9077 \n",
       "\n",
       "Random effects:\n",
       " Groups   Name        Variance Std.Dev.\n",
       " subject  (Intercept)  551.7   23.49   \n",
       " Residual             1087.4   32.98   \n",
       "Number of obs: 2069, groups:  subject, 743\n",
       "\n",
       "Fixed effects:\n",
       "                          Estimate Std. Error       df t value Pr(>|t|)    \n",
       "(Intercept)                 27.419      1.182  694.515  23.189   <2e-16 ***\n",
       "scale(monthly_STAI_state)    2.377      1.020 1417.581   2.331   0.0199 *  \n",
       "---\n",
       "Signif. codes:  0 ‘***’ 0.001 ‘**’ 0.01 ‘*’ 0.05 ‘.’ 0.1 ‘ ’ 1\n",
       "\n",
       "Correlation of Fixed Effects:\n",
       "            (Intr)\n",
       "scl(_STAI_) -0.061"
      ]
     },
     "metadata": {},
     "output_type": "display_data"
    },
    {
     "data": {
      "text/plain": [
       "Linear mixed model fit by REML. t-tests use Satterthwaite's method [\n",
       "lmerModLmerTest]\n",
       "Formula: intDetails_2020 ~ scale(monthly_STAI_trait) + (1 | subject)\n",
       "   Data: sd_cd\n",
       "Control: lmerControl(\"bobyqa\")\n",
       "\n",
       "REML criterion at convergence: 11920.7\n",
       "\n",
       "Scaled residuals: \n",
       "    Min      1Q  Median      3Q     Max \n",
       "-2.3550 -0.4685 -0.1832  0.2386  9.0895 \n",
       "\n",
       "Random effects:\n",
       " Groups   Name        Variance Std.Dev.\n",
       " subject  (Intercept) 434.2    20.84   \n",
       " Residual             796.3    28.22   \n",
       "Number of obs: 1208, groups:  subject, 638\n",
       "\n",
       "Fixed effects:\n",
       "                          Estimate Std. Error      df t value Pr(>|t|)    \n",
       "(Intercept)                 27.997      1.204 600.161  23.261   <2e-16 ***\n",
       "scale(monthly_STAI_trait)    2.293      1.167 715.008   1.965   0.0498 *  \n",
       "---\n",
       "Signif. codes:  0 ‘***’ 0.001 ‘**’ 0.01 ‘*’ 0.05 ‘.’ 0.1 ‘ ’ 1\n",
       "\n",
       "Correlation of Fixed Effects:\n",
       "            (Intr)\n",
       "scl(_STAI_) -0.087"
      ]
     },
     "metadata": {},
     "output_type": "display_data"
    },
    {
     "data": {
      "text/plain": [
       "Linear mixed model fit by REML. t-tests use Satterthwaite's method [\n",
       "lmerModLmerTest]\n",
       "Formula: intDetails_2020 ~ scale(monthly_PSS) + (1 | subject)\n",
       "   Data: sd_cd\n",
       "Control: lmerControl(\"bobyqa\")\n",
       "\n",
       "REML criterion at convergence: 20876.3\n",
       "\n",
       "Scaled residuals: \n",
       "    Min      1Q  Median      3Q     Max \n",
       "-6.7776 -0.3880 -0.1581  0.2154 21.8808 \n",
       "\n",
       "Random effects:\n",
       " Groups   Name        Variance Std.Dev.\n",
       " subject  (Intercept)  552.2   23.50   \n",
       " Residual             1092.8   33.06   \n",
       "Number of obs: 2062, groups:  subject, 739\n",
       "\n",
       "Fixed effects:\n",
       "                   Estimate Std. Error       df t value Pr(>|t|)    \n",
       "(Intercept)          27.489      1.189  691.629  23.128   <2e-16 ***\n",
       "scale(monthly_PSS)    1.461      1.105 1079.783   1.323    0.186    \n",
       "---\n",
       "Signif. codes:  0 ‘***’ 0.001 ‘**’ 0.01 ‘*’ 0.05 ‘.’ 0.1 ‘ ’ 1\n",
       "\n",
       "Correlation of Fixed Effects:\n",
       "            (Intr)\n",
       "scl(mn_PSS) -0.084"
      ]
     },
     "metadata": {},
     "output_type": "display_data"
    },
    {
     "data": {
      "text/plain": [
       "Linear mixed model fit by REML. t-tests use Satterthwaite's method [\n",
       "lmerModLmerTest]\n",
       "Formula: intDetails_2020 ~ scale(monthly_RISC) + (1 | subject)\n",
       "   Data: sd_cd\n",
       "Control: lmerControl(\"bobyqa\")\n",
       "\n",
       "REML criterion at convergence: 11746.8\n",
       "\n",
       "Scaled residuals: \n",
       "    Min      1Q  Median      3Q     Max \n",
       "-3.5899 -0.3867 -0.1762  0.1662 18.5922 \n",
       "\n",
       "Random effects:\n",
       " Groups   Name        Variance Std.Dev.\n",
       " subject  (Intercept)  596     24.41   \n",
       " Residual             1358     36.85   \n",
       "Number of obs: 1135, groups:  subject, 601\n",
       "\n",
       "Fixed effects:\n",
       "                    Estimate Std. Error      df t value Pr(>|t|)    \n",
       "(Intercept)           27.660      1.534 581.528  18.032   <2e-16 ***\n",
       "scale(monthly_RISC)   -1.505      1.499 752.358  -1.004    0.315    \n",
       "---\n",
       "Signif. codes:  0 ‘***’ 0.001 ‘**’ 0.01 ‘*’ 0.05 ‘.’ 0.1 ‘ ’ 1\n",
       "\n",
       "Correlation of Fixed Effects:\n",
       "            (Intr)\n",
       "scl(m_RISC) 0.043 "
      ]
     },
     "metadata": {},
     "output_type": "display_data"
    },
    {
     "data": {
      "text/plain": [
       "Linear mixed model fit by REML. t-tests use Satterthwaite's method [\n",
       "lmerModLmerTest]\n",
       "Formula: intDetails_2020 ~ scale(monthly_faceMood) + (1 | subject)\n",
       "   Data: sd_cd\n",
       "Control: lmerControl(\"bobyqa\")\n",
       "\n",
       "REML criterion at convergence: 20943.6\n",
       "\n",
       "Scaled residuals: \n",
       "    Min      1Q  Median      3Q     Max \n",
       "-6.7452 -0.3940 -0.1589  0.2185 21.8886 \n",
       "\n",
       "Random effects:\n",
       " Groups   Name        Variance Std.Dev.\n",
       " subject  (Intercept)  547.4   23.40   \n",
       " Residual             1092.3   33.05   \n",
       "Number of obs: 2069, groups:  subject, 743\n",
       "\n",
       "Fixed effects:\n",
       "                         Estimate Std. Error        df t value Pr(>|t|)    \n",
       "(Intercept)               27.5830     1.1787  694.9337    23.4   <2e-16 ***\n",
       "scale(monthly_faceMood)    0.9624     0.9625 1891.0509     1.0    0.318    \n",
       "---\n",
       "Signif. codes:  0 ‘***’ 0.001 ‘**’ 0.01 ‘*’ 0.05 ‘.’ 0.1 ‘ ’ 1\n",
       "\n",
       "Correlation of Fixed Effects:\n",
       "            (Intr)\n",
       "scl(mnth_M) -0.002"
      ]
     },
     "metadata": {},
     "output_type": "display_data"
    },
    {
     "data": {
      "text/plain": [
       "Linear mixed model fit by REML. t-tests use Satterthwaite's method [\n",
       "lmerModLmerTest]\n",
       "Formula: intDetails_2020 ~ scale(monthly_BDI) + (1 | subject)\n",
       "   Data: sd_cd\n",
       "Control: lmerControl(\"bobyqa\")\n",
       "\n",
       "REML criterion at convergence: 14653.3\n",
       "\n",
       "Scaled residuals: \n",
       "    Min      1Q  Median      3Q     Max \n",
       "-5.0046 -0.3792 -0.1641  0.1915 19.0476 \n",
       "\n",
       "Random effects:\n",
       " Groups   Name        Variance Std.Dev.\n",
       " subject  (Intercept)  678.1   26.04   \n",
       " Residual             1151.8   33.94   \n",
       "Number of obs: 1431, groups:  subject, 661\n",
       "\n",
       "Fixed effects:\n",
       "                   Estimate Std. Error      df t value Pr(>|t|)    \n",
       "(Intercept)          28.132      1.408 638.995  19.975   <2e-16 ***\n",
       "scale(monthly_BDI)    2.289      1.327 879.554   1.725    0.085 .  \n",
       "---\n",
       "Signif. codes:  0 ‘***’ 0.001 ‘**’ 0.01 ‘*’ 0.05 ‘.’ 0.1 ‘ ’ 1\n",
       "\n",
       "Correlation of Fixed Effects:\n",
       "            (Intr)\n",
       "scl(mn_BDI) -0.058"
      ]
     },
     "metadata": {},
     "output_type": "display_data"
    }
   ],
   "source": [
    "summary(mod<-lmer(intDetails_2020~scale(monthly_PANAS_pos)+(1|subject),data=sd_cd,control=lmerControl(\"bobyqa\")))\n",
    "summary(mod<-lmer(intDetails_2020~scale(monthly_PANAS_neg)+(1|subject),data=sd_cd,control=lmerControl(\"bobyqa\")))\n",
    "summary(mod<-lmer(intDetails_2020~scale(monthly_STAI_state)+(1|subject),data=sd_cd,control=lmerControl(\"bobyqa\")))\n",
    "summary(mod<-lmer(intDetails_2020~scale(monthly_STAI_trait)+(1|subject),data=sd_cd,control=lmerControl(\"bobyqa\")))\n",
    "summary(mod<-lmer(intDetails_2020~scale(monthly_PSS)+(1|subject),data=sd_cd,control=lmerControl(\"bobyqa\")))\n",
    "summary(mod<-lmer(intDetails_2020~scale(monthly_RISC)+(1|subject),data=sd_cd,control=lmerControl(\"bobyqa\")))\n",
    "summary(mod<-lmer(intDetails_2020~scale(monthly_faceMood)+(1|subject),data=sd_cd,control=lmerControl(\"bobyqa\")))\n",
    "summary(mod<-lmer(intDetails_2020~scale(monthly_BDI)+(1|subject),data=sd_cd,control=lmerControl(\"bobyqa\")))"
   ]
  },
  {
   "cell_type": "code",
   "execution_count": 85,
   "metadata": {},
   "outputs": [
    {
     "name": "stderr",
     "output_type": "stream",
     "text": [
      "Warning message:\n",
      "“Rows containing NAs were excluded from the model.”\n",
      "Compiling Stan program...\n",
      "\n",
      "Start sampling\n",
      "\n"
     ]
    },
    {
     "data": {
      "text/plain": [
       " Family: gaussian \n",
       "  Links: mu = identity; sigma = identity \n",
       "Formula: intDetails_2020 ~ 1 + scale(monthly_STAI_state) + (1 | subject) \n",
       "   Data: sd_cd (Number of observations: 2069) \n",
       "  Draws: 4 chains, each with iter = 2000; warmup = 1000; thin = 1;\n",
       "         total post-warmup draws = 4000\n",
       "\n",
       "Group-Level Effects: \n",
       "~subject (Number of levels: 743) \n",
       "              Estimate Est.Error l-95% CI u-95% CI Rhat Bulk_ESS Tail_ESS\n",
       "sd(Intercept)    23.44      1.14    21.23    25.73 1.00     1286     1851\n",
       "\n",
       "Population-Level Effects: \n",
       "                        Estimate Est.Error l-95% CI u-95% CI Rhat Bulk_ESS\n",
       "Intercept                  27.38      1.17    25.05    29.63 1.00     1869\n",
       "scalemonthly_STAI_state     2.37      1.03     0.36     4.33 1.00     2359\n",
       "                        Tail_ESS\n",
       "Intercept                   2573\n",
       "scalemonthly_STAI_state     2662\n",
       "\n",
       "Family Specific Parameters: \n",
       "      Estimate Est.Error l-95% CI u-95% CI Rhat Bulk_ESS Tail_ESS\n",
       "sigma    33.00      0.63    31.81    34.24 1.00     2513     3086\n",
       "\n",
       "Draws were sampled using sampling(NUTS). For each parameter, Bulk_ESS\n",
       "and Tail_ESS are effective sample size measures, and Rhat is the potential\n",
       "scale reduction factor on split chains (at convergence, Rhat = 1)."
      ]
     },
     "metadata": {},
     "output_type": "display_data"
    },
    {
     "name": "stderr",
     "output_type": "stream",
     "text": [
      "Warning message:\n",
      "“Rows containing NAs were excluded from the model.”\n",
      "Compiling Stan program...\n",
      "\n",
      "Start sampling\n",
      "\n"
     ]
    },
    {
     "data": {
      "text/plain": [
       " Family: gaussian \n",
       "  Links: mu = identity; sigma = identity \n",
       "Formula: intDetails_2020 ~ 1 + scale(monthly_STAI_trait) + (1 | subject) \n",
       "   Data: sd_cd (Number of observations: 1208) \n",
       "  Draws: 4 chains, each with iter = 2000; warmup = 1000; thin = 1;\n",
       "         total post-warmup draws = 4000\n",
       "\n",
       "Group-Level Effects: \n",
       "~subject (Number of levels: 638) \n",
       "              Estimate Est.Error l-95% CI u-95% CI Rhat Bulk_ESS Tail_ESS\n",
       "sd(Intercept)    20.80      1.33    18.16    23.45 1.01      897     1618\n",
       "\n",
       "Population-Level Effects: \n",
       "                        Estimate Est.Error l-95% CI u-95% CI Rhat Bulk_ESS\n",
       "Intercept                  27.96      1.20    25.59    30.29 1.00     2771\n",
       "scalemonthly_STAI_trait     2.31      1.16     0.03     4.71 1.00     2747\n",
       "                        Tail_ESS\n",
       "Intercept                   3034\n",
       "scalemonthly_STAI_trait     3168\n",
       "\n",
       "Family Specific Parameters: \n",
       "      Estimate Est.Error l-95% CI u-95% CI Rhat Bulk_ESS Tail_ESS\n",
       "sigma    28.28      0.81    26.80    29.96 1.00     1596     2064\n",
       "\n",
       "Draws were sampled using sampling(NUTS). For each parameter, Bulk_ESS\n",
       "and Tail_ESS are effective sample size measures, and Rhat is the potential\n",
       "scale reduction factor on split chains (at convergence, Rhat = 1)."
      ]
     },
     "metadata": {},
     "output_type": "display_data"
    }
   ],
   "source": [
    "summary(brm(intDetails_2020~1+scale(monthly_STAI_state)+(1|subject), data = sd_cd, init = \"random\", cores=10))\n",
    "summary(brm(intDetails_2020~1+scale(monthly_STAI_trait)+(1|subject), data = sd_cd, init = \"random\", cores=10))"
   ]
  },
  {
   "cell_type": "code",
   "execution_count": 93,
   "metadata": {},
   "outputs": [
    {
     "data": {
      "text/plain": [
       "Linear mixed model fit by REML. t-tests use Satterthwaite's method [\n",
       "lmerModLmerTest]\n",
       "Formula: extDetails_2020 ~ scale(monthly_PANAS_pos) + (1 | subject)\n",
       "   Data: sd_cd\n",
       "Control: lmerControl(\"bobyqa\")\n",
       "\n",
       "REML criterion at convergence: 19870.3\n",
       "\n",
       "Scaled residuals: \n",
       "    Min      1Q  Median      3Q     Max \n",
       "-4.9458 -0.4783 -0.1797  0.2699 12.6247 \n",
       "\n",
       "Random effects:\n",
       " Groups   Name        Variance Std.Dev.\n",
       " subject  (Intercept) 360.7    18.99   \n",
       " Residual             634.1    25.18   \n",
       "Number of obs: 2069, groups:  subject, 743\n",
       "\n",
       "Fixed effects:\n",
       "                          Estimate Std. Error        df t value Pr(>|t|)    \n",
       "(Intercept)                25.9621     0.9327  655.9527  27.837   <2e-16 ***\n",
       "scale(monthly_PANAS_pos)   -1.0922     0.8538 1215.3262  -1.279    0.201    \n",
       "---\n",
       "Signif. codes:  0 ‘***’ 0.001 ‘**’ 0.01 ‘*’ 0.05 ‘.’ 0.1 ‘ ’ 1\n",
       "\n",
       "Correlation of Fixed Effects:\n",
       "            (Intr)\n",
       "sc(_PANAS_) 0.038 "
      ]
     },
     "metadata": {},
     "output_type": "display_data"
    },
    {
     "data": {
      "text/plain": [
       "Linear mixed model fit by REML. t-tests use Satterthwaite's method [\n",
       "lmerModLmerTest]\n",
       "Formula: extDetails_2020 ~ scale(monthly_PANAS_neg) + (1 | subject)\n",
       "   Data: sd_cd\n",
       "Control: lmerControl(\"bobyqa\")\n",
       "\n",
       "REML criterion at convergence: 19871.6\n",
       "\n",
       "Scaled residuals: \n",
       "    Min      1Q  Median      3Q     Max \n",
       "-4.9331 -0.4772 -0.1813  0.2645 12.6339 \n",
       "\n",
       "Random effects:\n",
       " Groups   Name        Variance Std.Dev.\n",
       " subject  (Intercept) 363.0    19.05   \n",
       " Residual             633.5    25.17   \n",
       "Number of obs: 2069, groups:  subject, 743\n",
       "\n",
       "Fixed effects:\n",
       "                          Estimate Std. Error        df t value Pr(>|t|)    \n",
       "(Intercept)                25.9816     0.9345  654.7694  27.803   <2e-16 ***\n",
       "scale(monthly_PANAS_neg)    0.5334     0.7757 1585.0565   0.688    0.492    \n",
       "---\n",
       "Signif. codes:  0 ‘***’ 0.001 ‘**’ 0.01 ‘*’ 0.05 ‘.’ 0.1 ‘ ’ 1\n",
       "\n",
       "Correlation of Fixed Effects:\n",
       "            (Intr)\n",
       "sc(_PANAS_) -0.045"
      ]
     },
     "metadata": {},
     "output_type": "display_data"
    },
    {
     "data": {
      "text/plain": [
       "Linear mixed model fit by REML. t-tests use Satterthwaite's method [\n",
       "lmerModLmerTest]\n",
       "Formula: extDetails_2020 ~ scale(monthly_STAI_state) + (1 | subject)\n",
       "   Data: sd_cd\n",
       "Control: lmerControl(\"bobyqa\")\n",
       "\n",
       "REML criterion at convergence: 19867.9\n",
       "\n",
       "Scaled residuals: \n",
       "    Min      1Q  Median      3Q     Max \n",
       "-4.9239 -0.4790 -0.1786  0.2704 12.6330 \n",
       "\n",
       "Random effects:\n",
       " Groups   Name        Variance Std.Dev.\n",
       " subject  (Intercept) 364.8    19.10   \n",
       " Residual             631.3    25.13   \n",
       "Number of obs: 2069, groups:  subject, 743\n",
       "\n",
       "Fixed effects:\n",
       "                           Estimate Std. Error        df t value Pr(>|t|)    \n",
       "(Intercept)                 25.8975     0.9360  654.3531  27.668   <2e-16 ***\n",
       "scale(monthly_STAI_state)    1.6315     0.7964 1430.3716   2.049   0.0407 *  \n",
       "---\n",
       "Signif. codes:  0 ‘***’ 0.001 ‘**’ 0.01 ‘*’ 0.05 ‘.’ 0.1 ‘ ’ 1\n",
       "\n",
       "Correlation of Fixed Effects:\n",
       "            (Intr)\n",
       "scl(_STAI_) -0.061"
      ]
     },
     "metadata": {},
     "output_type": "display_data"
    },
    {
     "data": {
      "text/plain": [
       "Linear mixed model fit by REML. t-tests use Satterthwaite's method [\n",
       "lmerModLmerTest]\n",
       "Formula: extDetails_2020 ~ scale(monthly_STAI_trait) + (1 | subject)\n",
       "   Data: sd_cd\n",
       "Control: lmerControl(\"bobyqa\")\n",
       "\n",
       "REML criterion at convergence: 11632.8\n",
       "\n",
       "Scaled residuals: \n",
       "    Min      1Q  Median      3Q     Max \n",
       "-3.9351 -0.4944 -0.2032  0.2392 11.7239 \n",
       "\n",
       "Random effects:\n",
       " Groups   Name        Variance Std.Dev.\n",
       " subject  (Intercept) 292.5    17.10   \n",
       " Residual             658.4    25.66   \n",
       "Number of obs: 1208, groups:  subject, 638\n",
       "\n",
       "Fixed effects:\n",
       "                           Estimate Std. Error        df t value Pr(>|t|)    \n",
       "(Intercept)                25.42318    1.04150 576.94873  24.410   <2e-16 ***\n",
       "scale(monthly_STAI_trait)   0.08376    1.01407 683.64562   0.083    0.934    \n",
       "---\n",
       "Signif. codes:  0 ‘***’ 0.001 ‘**’ 0.01 ‘*’ 0.05 ‘.’ 0.1 ‘ ’ 1\n",
       "\n",
       "Correlation of Fixed Effects:\n",
       "            (Intr)\n",
       "scl(_STAI_) -0.087"
      ]
     },
     "metadata": {},
     "output_type": "display_data"
    },
    {
     "data": {
      "text/plain": [
       "Linear mixed model fit by REML. t-tests use Satterthwaite's method [\n",
       "lmerModLmerTest]\n",
       "Formula: extDetails_2020 ~ scale(monthly_PSS) + (1 | subject)\n",
       "   Data: sd_cd\n",
       "Control: lmerControl(\"bobyqa\")\n",
       "\n",
       "REML criterion at convergence: 19800.1\n",
       "\n",
       "Scaled residuals: \n",
       "    Min      1Q  Median      3Q     Max \n",
       "-4.9294 -0.4819 -0.1773  0.2683 12.6477 \n",
       "\n",
       "Random effects:\n",
       " Groups   Name        Variance Std.Dev.\n",
       " subject  (Intercept) 359.9    18.97   \n",
       " Residual             633.5    25.17   \n",
       "Number of obs: 2062, groups:  subject, 739\n",
       "\n",
       "Fixed effects:\n",
       "                    Estimate Std. Error        df t value Pr(>|t|)    \n",
       "(Intercept)          25.9074     0.9365  656.0808  27.663   <2e-16 ***\n",
       "scale(monthly_PSS)    0.4274     0.8640 1066.2602   0.495    0.621    \n",
       "---\n",
       "Signif. codes:  0 ‘***’ 0.001 ‘**’ 0.01 ‘*’ 0.05 ‘.’ 0.1 ‘ ’ 1\n",
       "\n",
       "Correlation of Fixed Effects:\n",
       "            (Intr)\n",
       "scl(mn_PSS) -0.083"
      ]
     },
     "metadata": {},
     "output_type": "display_data"
    },
    {
     "data": {
      "text/plain": [
       "Linear mixed model fit by REML. t-tests use Satterthwaite's method [\n",
       "lmerModLmerTest]\n",
       "Formula: extDetails_2020 ~ scale(monthly_RISC) + (1 | subject)\n",
       "   Data: sd_cd\n",
       "Control: lmerControl(\"bobyqa\")\n",
       "\n",
       "REML criterion at convergence: 11122.8\n",
       "\n",
       "Scaled residuals: \n",
       "    Min      1Q  Median      3Q     Max \n",
       "-4.5485 -0.4325 -0.1631  0.2223 10.8921 \n",
       "\n",
       "Random effects:\n",
       " Groups   Name        Variance Std.Dev.\n",
       " subject  (Intercept) 526.8    22.95   \n",
       " Residual             674.6    25.97   \n",
       "Number of obs: 1135, groups:  subject, 601\n",
       "\n",
       "Fixed effects:\n",
       "                    Estimate Std. Error       df t value Pr(>|t|)    \n",
       "(Intercept)          26.0906     1.2564 545.7325  20.766   <2e-16 ***\n",
       "scale(monthly_RISC)  -0.9662     1.1998 767.4345  -0.805    0.421    \n",
       "---\n",
       "Signif. codes:  0 ‘***’ 0.001 ‘**’ 0.01 ‘*’ 0.05 ‘.’ 0.1 ‘ ’ 1\n",
       "\n",
       "Correlation of Fixed Effects:\n",
       "            (Intr)\n",
       "scl(m_RISC) 0.045 "
      ]
     },
     "metadata": {},
     "output_type": "display_data"
    },
    {
     "data": {
      "text/plain": [
       "Linear mixed model fit by REML. t-tests use Satterthwaite's method [\n",
       "lmerModLmerTest]\n",
       "Formula: extDetails_2020 ~ scale(monthly_faceMood) + (1 | subject)\n",
       "   Data: sd_cd\n",
       "Control: lmerControl(\"bobyqa\")\n",
       "\n",
       "REML criterion at convergence: 19867.3\n",
       "\n",
       "Scaled residuals: \n",
       "    Min      1Q  Median      3Q     Max \n",
       "-4.8591 -0.4798 -0.1870  0.2799 12.6359 \n",
       "\n",
       "Random effects:\n",
       " Groups   Name        Variance Std.Dev.\n",
       " subject  (Intercept) 361.7    19.02   \n",
       " Residual             632.4    25.15   \n",
       "Number of obs: 2069, groups:  subject, 743\n",
       "\n",
       "Fixed effects:\n",
       "                         Estimate Std. Error        df t value Pr(>|t|)    \n",
       "(Intercept)               26.0045     0.9322  655.5477   27.89   <2e-16 ***\n",
       "scale(monthly_faceMood)    1.6407     0.7458 1923.5517    2.20   0.0279 *  \n",
       "---\n",
       "Signif. codes:  0 ‘***’ 0.001 ‘**’ 0.01 ‘*’ 0.05 ‘.’ 0.1 ‘ ’ 1\n",
       "\n",
       "Correlation of Fixed Effects:\n",
       "            (Intr)\n",
       "scl(mnth_M) -0.003"
      ]
     },
     "metadata": {},
     "output_type": "display_data"
    },
    {
     "data": {
      "text/plain": [
       "Linear mixed model fit by REML. t-tests use Satterthwaite's method [\n",
       "lmerModLmerTest]\n",
       "Formula: extDetails_2020 ~ scale(monthly_BDI) + (1 | subject)\n",
       "   Data: sd_cd\n",
       "Control: lmerControl(\"bobyqa\")\n",
       "\n",
       "REML criterion at convergence: 13856.4\n",
       "\n",
       "Scaled residuals: \n",
       "    Min      1Q  Median      3Q     Max \n",
       "-4.2780 -0.4560 -0.1701  0.2421 11.4231 \n",
       "\n",
       "Random effects:\n",
       " Groups   Name        Variance Std.Dev.\n",
       " subject  (Intercept) 396.4    19.91   \n",
       " Residual             655.2    25.60   \n",
       "Number of obs: 1431, groups:  subject, 661\n",
       "\n",
       "Fixed effects:\n",
       "                   Estimate Std. Error      df t value Pr(>|t|)    \n",
       "(Intercept)          25.888      1.070 612.400  24.189   <2e-16 ***\n",
       "scale(monthly_BDI)    1.682      1.007 856.867   1.669   0.0954 .  \n",
       "---\n",
       "Signif. codes:  0 ‘***’ 0.001 ‘**’ 0.01 ‘*’ 0.05 ‘.’ 0.1 ‘ ’ 1\n",
       "\n",
       "Correlation of Fixed Effects:\n",
       "            (Intr)\n",
       "scl(mn_BDI) -0.058"
      ]
     },
     "metadata": {},
     "output_type": "display_data"
    }
   ],
   "source": [
    "summary(mod<-lmer(extDetails_2020~scale(monthly_PANAS_pos)+(1|subject),data=sd_cd,control=lmerControl(\"bobyqa\")))\n",
    "summary(mod<-lmer(extDetails_2020~scale(monthly_PANAS_neg)+(1|subject),data=sd_cd,control=lmerControl(\"bobyqa\")))\n",
    "summary(mod<-lmer(extDetails_2020~scale(monthly_STAI_state)+(1|subject),data=sd_cd,control=lmerControl(\"bobyqa\")))\n",
    "summary(mod<-lmer(extDetails_2020~scale(monthly_STAI_trait)+(1|subject),data=sd_cd,control=lmerControl(\"bobyqa\")))\n",
    "summary(mod<-lmer(extDetails_2020~scale(monthly_PSS)+(1|subject),data=sd_cd,control=lmerControl(\"bobyqa\")))\n",
    "summary(mod<-lmer(extDetails_2020~scale(monthly_RISC)+(1|subject),data=sd_cd,control=lmerControl(\"bobyqa\")))\n",
    "summary(mod<-lmer(extDetails_2020~scale(monthly_faceMood)+(1|subject),data=sd_cd,control=lmerControl(\"bobyqa\")))\n",
    "summary(mod<-lmer(extDetails_2020~scale(monthly_BDI)+(1|subject),data=sd_cd,control=lmerControl(\"bobyqa\")))"
   ]
  },
  {
   "cell_type": "code",
   "execution_count": 86,
   "metadata": {},
   "outputs": [
    {
     "name": "stderr",
     "output_type": "stream",
     "text": [
      "Warning message:\n",
      "“Rows containing NAs were excluded from the model.”\n",
      "Compiling Stan program...\n",
      "\n",
      "Start sampling\n",
      "\n"
     ]
    },
    {
     "data": {
      "text/plain": [
       " Family: gaussian \n",
       "  Links: mu = identity; sigma = identity \n",
       "Formula: extDetails_2020 ~ 1 + scale(monthly_STAI_state) + (1 | subject) \n",
       "   Data: sd_cd (Number of observations: 2069) \n",
       "  Draws: 4 chains, each with iter = 2000; warmup = 1000; thin = 1;\n",
       "         total post-warmup draws = 4000\n",
       "\n",
       "Group-Level Effects: \n",
       "~subject (Number of levels: 743) \n",
       "              Estimate Est.Error l-95% CI u-95% CI Rhat Bulk_ESS Tail_ESS\n",
       "sd(Intercept)    19.04      0.94    17.19    20.85 1.00     1285     2187\n",
       "\n",
       "Population-Level Effects: \n",
       "                        Estimate Est.Error l-95% CI u-95% CI Rhat Bulk_ESS\n",
       "Intercept                  25.87      0.94    24.04    27.71 1.00     1598\n",
       "scalemonthly_STAI_state     1.61      0.80     0.10     3.16 1.00     2090\n",
       "                        Tail_ESS\n",
       "Intercept                   1954\n",
       "scalemonthly_STAI_state     2836\n",
       "\n",
       "Family Specific Parameters: \n",
       "      Estimate Est.Error l-95% CI u-95% CI Rhat Bulk_ESS Tail_ESS\n",
       "sigma    25.15      0.51    24.18    26.16 1.00     2188     2527\n",
       "\n",
       "Draws were sampled using sampling(NUTS). For each parameter, Bulk_ESS\n",
       "and Tail_ESS are effective sample size measures, and Rhat is the potential\n",
       "scale reduction factor on split chains (at convergence, Rhat = 1)."
      ]
     },
     "metadata": {},
     "output_type": "display_data"
    },
    {
     "name": "stderr",
     "output_type": "stream",
     "text": [
      "Warning message:\n",
      "“Rows containing NAs were excluded from the model.”\n",
      "Compiling Stan program...\n",
      "\n",
      "Start sampling\n",
      "\n"
     ]
    },
    {
     "data": {
      "text/plain": [
       " Family: gaussian \n",
       "  Links: mu = identity; sigma = identity \n",
       "Formula: extDetails_2020 ~ 1 + scale(monthly_STAI_trait) + (1 | subject) \n",
       "   Data: sd_cd (Number of observations: 1208) \n",
       "  Draws: 4 chains, each with iter = 2000; warmup = 1000; thin = 1;\n",
       "         total post-warmup draws = 4000\n",
       "\n",
       "Group-Level Effects: \n",
       "~subject (Number of levels: 638) \n",
       "              Estimate Est.Error l-95% CI u-95% CI Rhat Bulk_ESS Tail_ESS\n",
       "sd(Intercept)    17.01      1.28    14.47    19.48 1.01      896     1559\n",
       "\n",
       "Population-Level Effects: \n",
       "                        Estimate Est.Error l-95% CI u-95% CI Rhat Bulk_ESS\n",
       "Intercept                  25.37      1.05    23.29    27.44 1.00     2872\n",
       "scalemonthly_STAI_trait     0.11      1.00    -1.82     2.04 1.00     3210\n",
       "                        Tail_ESS\n",
       "Intercept                   2463\n",
       "scalemonthly_STAI_trait     3017\n",
       "\n",
       "Family Specific Parameters: \n",
       "      Estimate Est.Error l-95% CI u-95% CI Rhat Bulk_ESS Tail_ESS\n",
       "sigma    25.74      0.74    24.33    27.25 1.00     1184     2317\n",
       "\n",
       "Draws were sampled using sampling(NUTS). For each parameter, Bulk_ESS\n",
       "and Tail_ESS are effective sample size measures, and Rhat is the potential\n",
       "scale reduction factor on split chains (at convergence, Rhat = 1)."
      ]
     },
     "metadata": {},
     "output_type": "display_data"
    }
   ],
   "source": [
    "summary(brm(extDetails_2020~1+scale(monthly_STAI_state)+(1|subject), data = sd_cd, init = \"random\", cores=10))\n",
    "summary(brm(extDetails_2020~1+scale(monthly_STAI_trait)+(1|subject), data = sd_cd, init = \"random\", cores=10))"
   ]
  },
  {
   "cell_type": "markdown",
   "metadata": {},
   "source": [
    "## affective state influenced sentiment of retrieved memory"
   ]
  },
  {
   "cell_type": "code",
   "execution_count": 87,
   "metadata": {},
   "outputs": [
    {
     "data": {
      "text/plain": [
       "Linear mixed model fit by REML. t-tests use Satterthwaite's method [\n",
       "lmerModLmerTest]\n",
       "Formula: compound_2020 ~ scale(monthly_PANAS_pos) + (1 | subject)\n",
       "   Data: sd_cd\n",
       "Control: lmerControl(\"bobyqa\")\n",
       "\n",
       "REML criterion at convergence: 1150.4\n",
       "\n",
       "Scaled residuals: \n",
       "     Min       1Q   Median       3Q      Max \n",
       "-2.91627 -0.53918 -0.03568  0.59643  2.79064 \n",
       "\n",
       "Random effects:\n",
       " Groups   Name        Variance Std.Dev.\n",
       " subject  (Intercept) 0.01094  0.1046  \n",
       " Residual             0.09189  0.3031  \n",
       "Number of obs: 2069, groups:  subject, 743\n",
       "\n",
       "Fixed effects:\n",
       "                          Estimate Std. Error        df t value Pr(>|t|)    \n",
       "(Intercept)              3.203e-02  7.973e-03 5.353e+02   4.017 6.74e-05 ***\n",
       "scale(monthly_PANAS_pos) 2.264e-02  7.918e-03 8.355e+02   2.859  0.00435 ** \n",
       "---\n",
       "Signif. codes:  0 ‘***’ 0.001 ‘**’ 0.01 ‘*’ 0.05 ‘.’ 0.1 ‘ ’ 1\n",
       "\n",
       "Correlation of Fixed Effects:\n",
       "            (Intr)\n",
       "sc(_PANAS_) 0.039 "
      ]
     },
     "metadata": {},
     "output_type": "display_data"
    },
    {
     "data": {
      "text/plain": [
       "Linear mixed model fit by REML. t-tests use Satterthwaite's method [\n",
       "lmerModLmerTest]\n",
       "Formula: compound_2020 ~ scale(monthly_PANAS_neg) + (1 | subject)\n",
       "   Data: sd_cd\n",
       "Control: lmerControl(\"bobyqa\")\n",
       "\n",
       "REML criterion at convergence: 1144.1\n",
       "\n",
       "Scaled residuals: \n",
       "     Min       1Q   Median       3Q      Max \n",
       "-2.94223 -0.54594 -0.04409  0.58680  2.73947 \n",
       "\n",
       "Random effects:\n",
       " Groups   Name        Variance Std.Dev.\n",
       " subject  (Intercept) 0.01115  0.1056  \n",
       " Residual             0.09142  0.3024  \n",
       "Number of obs: 2069, groups:  subject, 743\n",
       "\n",
       "Fixed effects:\n",
       "                           Estimate Std. Error         df t value Pr(>|t|)    \n",
       "(Intercept)               3.250e-02  7.982e-03  5.408e+02   4.072 5.36e-05 ***\n",
       "scale(monthly_PANAS_neg) -2.855e-02  7.457e-03  1.037e+03  -3.828 0.000137 ***\n",
       "---\n",
       "Signif. codes:  0 ‘***’ 0.001 ‘**’ 0.01 ‘*’ 0.05 ‘.’ 0.1 ‘ ’ 1\n",
       "\n",
       "Correlation of Fixed Effects:\n",
       "            (Intr)\n",
       "sc(_PANAS_) -0.045"
      ]
     },
     "metadata": {},
     "output_type": "display_data"
    },
    {
     "data": {
      "text/plain": [
       "Linear mixed model fit by REML. t-tests use Satterthwaite's method [\n",
       "lmerModLmerTest]\n",
       "Formula: compound_2020 ~ scale(monthly_STAI_state) + (1 | subject)\n",
       "   Data: sd_cd\n",
       "Control: lmerControl(\"bobyqa\")\n",
       "\n",
       "REML criterion at convergence: 1137.6\n",
       "\n",
       "Scaled residuals: \n",
       "     Min       1Q   Median       3Q      Max \n",
       "-2.92045 -0.53944 -0.04237  0.59468  2.66021 \n",
       "\n",
       "Random effects:\n",
       " Groups   Name        Variance Std.Dev.\n",
       " subject  (Intercept) 0.01101  0.1049  \n",
       " Residual             0.09122  0.3020  \n",
       "Number of obs: 2069, groups:  subject, 743\n",
       "\n",
       "Fixed effects:\n",
       "                            Estimate Std. Error         df t value Pr(>|t|)    \n",
       "(Intercept)                 0.033278   0.007967 543.221062   4.177 3.44e-05 ***\n",
       "scale(monthly_STAI_state)  -0.034556   0.007502 917.534589  -4.606 4.68e-06 ***\n",
       "---\n",
       "Signif. codes:  0 ‘***’ 0.001 ‘**’ 0.01 ‘*’ 0.05 ‘.’ 0.1 ‘ ’ 1\n",
       "\n",
       "Correlation of Fixed Effects:\n",
       "            (Intr)\n",
       "scl(_STAI_) -0.058"
      ]
     },
     "metadata": {},
     "output_type": "display_data"
    },
    {
     "data": {
      "text/plain": [
       "Linear mixed model fit by REML. t-tests use Satterthwaite's method [\n",
       "lmerModLmerTest]\n",
       "Formula: compound_2020 ~ scale(monthly_STAI_trait) + (1 | subject)\n",
       "   Data: sd_cd\n",
       "Control: lmerControl(\"bobyqa\")\n",
       "\n",
       "REML criterion at convergence: 532.2\n",
       "\n",
       "Scaled residuals: \n",
       "     Min       1Q   Median       3Q      Max \n",
       "-2.90628 -0.52253 -0.04879  0.57719  2.71331 \n",
       "\n",
       "Random effects:\n",
       " Groups   Name        Variance Std.Dev.\n",
       " subject  (Intercept) 0.006344 0.07965 \n",
       " Residual             0.083949 0.28974 \n",
       "Number of obs: 1208, groups:  subject, 638\n",
       "\n",
       "Fixed effects:\n",
       "                            Estimate Std. Error         df t value Pr(>|t|)    \n",
       "(Intercept)                 0.024881   0.009097 510.829135   2.735  0.00645 ** \n",
       "scale(monthly_STAI_trait)  -0.044704   0.009033 595.950014  -4.949 9.72e-07 ***\n",
       "---\n",
       "Signif. codes:  0 ‘***’ 0.001 ‘**’ 0.01 ‘*’ 0.05 ‘.’ 0.1 ‘ ’ 1\n",
       "\n",
       "Correlation of Fixed Effects:\n",
       "            (Intr)\n",
       "scl(_STAI_) -0.090"
      ]
     },
     "metadata": {},
     "output_type": "display_data"
    },
    {
     "data": {
      "text/plain": [
       "Linear mixed model fit by REML. t-tests use Satterthwaite's method [\n",
       "lmerModLmerTest]\n",
       "Formula: compound_2020 ~ scale(monthly_BDI) + (1 | subject)\n",
       "   Data: sd_cd\n",
       "Control: lmerControl(\"bobyqa\")\n",
       "\n",
       "REML criterion at convergence: 702.9\n",
       "\n",
       "Scaled residuals: \n",
       "     Min       1Q   Median       3Q      Max \n",
       "-2.77234 -0.52336 -0.04168  0.60569  2.99786 \n",
       "\n",
       "Random effects:\n",
       " Groups   Name        Variance Std.Dev.\n",
       " subject  (Intercept) 0.009914 0.09957 \n",
       " Residual             0.085757 0.29284 \n",
       "Number of obs: 1431, groups:  subject, 661\n",
       "\n",
       "Fixed effects:\n",
       "                     Estimate Std. Error         df t value Pr(>|t|)    \n",
       "(Intercept)          0.020782   0.008893 539.945542   2.337   0.0198 *  \n",
       "scale(monthly_BDI)  -0.043287   0.008752 690.800820  -4.946 9.53e-07 ***\n",
       "---\n",
       "Signif. codes:  0 ‘***’ 0.001 ‘**’ 0.01 ‘*’ 0.05 ‘.’ 0.1 ‘ ’ 1\n",
       "\n",
       "Correlation of Fixed Effects:\n",
       "            (Intr)\n",
       "scl(mn_BDI) -0.060"
      ]
     },
     "metadata": {},
     "output_type": "display_data"
    },
    {
     "data": {
      "text/plain": [
       "Linear mixed model fit by REML. t-tests use Satterthwaite's method [\n",
       "lmerModLmerTest]\n",
       "Formula: compound_2020 ~ scale(monthly_PSS) + (1 | subject)\n",
       "   Data: sd_cd\n",
       "Control: lmerControl(\"bobyqa\")\n",
       "\n",
       "REML criterion at convergence: 1129.5\n",
       "\n",
       "Scaled residuals: \n",
       "     Min       1Q   Median       3Q      Max \n",
       "-2.88346 -0.52764 -0.03304  0.59311  2.72602 \n",
       "\n",
       "Random effects:\n",
       " Groups   Name        Variance Std.Dev.\n",
       " subject  (Intercept) 0.01051  0.1025  \n",
       " Residual             0.09140  0.3023  \n",
       "Number of obs: 2062, groups:  subject, 739\n",
       "\n",
       "Fixed effects:\n",
       "                     Estimate Std. Error         df t value Pr(>|t|)    \n",
       "(Intercept)          0.035323   0.007951 534.865246   4.443 1.08e-05 ***\n",
       "scale(monthly_PSS)  -0.034639   0.007808 732.257399  -4.437 1.05e-05 ***\n",
       "---\n",
       "Signif. codes:  0 ‘***’ 0.001 ‘**’ 0.01 ‘*’ 0.05 ‘.’ 0.1 ‘ ’ 1\n",
       "\n",
       "Correlation of Fixed Effects:\n",
       "            (Intr)\n",
       "scl(mn_PSS) -0.084"
      ]
     },
     "metadata": {},
     "output_type": "display_data"
    },
    {
     "data": {
      "text/plain": [
       "Linear mixed model fit by REML. t-tests use Satterthwaite's method [\n",
       "lmerModLmerTest]\n",
       "Formula: compound_2020 ~ scale(monthly_RISC) + (1 | subject)\n",
       "   Data: sd_cd\n",
       "Control: lmerControl(\"bobyqa\")\n",
       "\n",
       "REML criterion at convergence: 649.3\n",
       "\n",
       "Scaled residuals: \n",
       "     Min       1Q   Median       3Q      Max \n",
       "-2.69806 -0.56136 -0.02187  0.62233  2.47178 \n",
       "\n",
       "Random effects:\n",
       " Groups   Name        Variance Std.Dev.\n",
       " subject  (Intercept) 0.01167  0.108   \n",
       " Residual             0.09183  0.303   \n",
       "Number of obs: 1135, groups:  subject, 601\n",
       "\n",
       "Fixed effects:\n",
       "                     Estimate Std. Error        df t value Pr(>|t|)    \n",
       "(Intercept)           0.02766    0.01026 461.79202   2.697  0.00726 ** \n",
       "scale(monthly_RISC)   0.04143    0.01029 595.34791   4.028 6.36e-05 ***\n",
       "---\n",
       "Signif. codes:  0 ‘***’ 0.001 ‘**’ 0.01 ‘*’ 0.05 ‘.’ 0.1 ‘ ’ 1\n",
       "\n",
       "Correlation of Fixed Effects:\n",
       "            (Intr)\n",
       "scl(m_RISC) 0.039 "
      ]
     },
     "metadata": {},
     "output_type": "display_data"
    },
    {
     "data": {
      "text/plain": [
       "Linear mixed model fit by REML. t-tests use Satterthwaite's method [\n",
       "lmerModLmerTest]\n",
       "Formula: compound_2020 ~ scale(monthly_faceMood) + (1 | subject)\n",
       "   Data: sd_cd\n",
       "Control: lmerControl(\"bobyqa\")\n",
       "\n",
       "REML criterion at convergence: 1138.4\n",
       "\n",
       "Scaled residuals: \n",
       "     Min       1Q   Median       3Q      Max \n",
       "-2.92329 -0.53236 -0.03997  0.59313  2.76109 \n",
       "\n",
       "Random effects:\n",
       " Groups   Name        Variance Std.Dev.\n",
       " subject  (Intercept) 0.009747 0.09873 \n",
       " Residual             0.092228 0.30369 \n",
       "Number of obs: 2069, groups:  subject, 743\n",
       "\n",
       "Fixed effects:\n",
       "                          Estimate Std. Error         df t value Pr(>|t|)    \n",
       "(Intercept)              3.098e-02  7.853e-03  5.307e+02   3.945 9.04e-05 ***\n",
       "scale(monthly_faceMood) -3.369e-02  7.408e-03  1.264e+03  -4.548 5.92e-06 ***\n",
       "---\n",
       "Signif. codes:  0 ‘***’ 0.001 ‘**’ 0.01 ‘*’ 0.05 ‘.’ 0.1 ‘ ’ 1\n",
       "\n",
       "Correlation of Fixed Effects:\n",
       "            (Intr)\n",
       "scl(mnth_M) 0.004 "
      ]
     },
     "metadata": {},
     "output_type": "display_data"
    }
   ],
   "source": [
    "summary(mod<-lmer(compound_2020~scale(monthly_PANAS_pos)+(1|subject),data=sd_cd,control=lmerControl(\"bobyqa\")))\n",
    "summary(mod<-lmer(compound_2020~scale(monthly_PANAS_neg)+(1|subject),data=sd_cd,control=lmerControl(\"bobyqa\")))\n",
    "summary(mod<-lmer(compound_2020~scale(monthly_STAI_state)+(1|subject),data=sd_cd,control=lmerControl(\"bobyqa\")))\n",
    "summary(mod<-lmer(compound_2020~scale(monthly_STAI_trait)+(1|subject),data=sd_cd,control=lmerControl(\"bobyqa\")))\n",
    "summary(mod<-lmer(compound_2020~scale(monthly_BDI)+(1|subject),data=sd_cd,control=lmerControl(\"bobyqa\")))\n",
    "summary(mod<-lmer(compound_2020~scale(monthly_PSS)+(1|subject),data=sd_cd,control=lmerControl(\"bobyqa\")))\n",
    "summary(mod<-lmer(compound_2020~scale(monthly_RISC)+(1|subject),data=sd_cd,control=lmerControl(\"bobyqa\")))\n",
    "summary(mod<-lmer(compound_2020~scale(monthly_faceMood)+(1|subject),data=sd_cd,control=lmerControl(\"bobyqa\")))"
   ]
  },
  {
   "cell_type": "code",
   "execution_count": 88,
   "metadata": {},
   "outputs": [
    {
     "name": "stderr",
     "output_type": "stream",
     "text": [
      "Warning message:\n",
      "“Rows containing NAs were excluded from the model.”\n",
      "Compiling Stan program...\n",
      "\n",
      "Start sampling\n",
      "\n"
     ]
    },
    {
     "data": {
      "text/plain": [
       " Family: gaussian \n",
       "  Links: mu = identity; sigma = identity \n",
       "Formula: compound_2020 ~ 1 + scale(monthly_PANAS_pos) + (1 | subject) \n",
       "   Data: sd_cd (Number of observations: 2069) \n",
       "  Draws: 4 chains, each with iter = 2000; warmup = 1000; thin = 1;\n",
       "         total post-warmup draws = 4000\n",
       "\n",
       "Group-Level Effects: \n",
       "~subject (Number of levels: 743) \n",
       "              Estimate Est.Error l-95% CI u-95% CI Rhat Bulk_ESS Tail_ESS\n",
       "sd(Intercept)     0.10      0.01     0.08     0.13 1.00      831      922\n",
       "\n",
       "Population-Level Effects: \n",
       "                       Estimate Est.Error l-95% CI u-95% CI Rhat Bulk_ESS\n",
       "Intercept                  0.03      0.01     0.02     0.05 1.00     3987\n",
       "scalemonthly_PANAS_pos     0.02      0.01     0.01     0.04 1.00     3808\n",
       "                       Tail_ESS\n",
       "Intercept                  3039\n",
       "scalemonthly_PANAS_pos     3272\n",
       "\n",
       "Family Specific Parameters: \n",
       "      Estimate Est.Error l-95% CI u-95% CI Rhat Bulk_ESS Tail_ESS\n",
       "sigma     0.30      0.01     0.29     0.32 1.00     1475     1616\n",
       "\n",
       "Draws were sampled using sampling(NUTS). For each parameter, Bulk_ESS\n",
       "and Tail_ESS are effective sample size measures, and Rhat is the potential\n",
       "scale reduction factor on split chains (at convergence, Rhat = 1)."
      ]
     },
     "metadata": {},
     "output_type": "display_data"
    },
    {
     "name": "stderr",
     "output_type": "stream",
     "text": [
      "Warning message:\n",
      "“Rows containing NAs were excluded from the model.”\n",
      "Compiling Stan program...\n",
      "\n",
      "Start sampling\n",
      "\n"
     ]
    },
    {
     "data": {
      "text/plain": [
       " Family: gaussian \n",
       "  Links: mu = identity; sigma = identity \n",
       "Formula: compound_2020 ~ 1 + scale(monthly_PANAS_neg) + (1 | subject) \n",
       "   Data: sd_cd (Number of observations: 2069) \n",
       "  Draws: 4 chains, each with iter = 2000; warmup = 1000; thin = 1;\n",
       "         total post-warmup draws = 4000\n",
       "\n",
       "Group-Level Effects: \n",
       "~subject (Number of levels: 743) \n",
       "              Estimate Est.Error l-95% CI u-95% CI Rhat Bulk_ESS Tail_ESS\n",
       "sd(Intercept)     0.10      0.01     0.08     0.13 1.01      708     1085\n",
       "\n",
       "Population-Level Effects: \n",
       "                       Estimate Est.Error l-95% CI u-95% CI Rhat Bulk_ESS\n",
       "Intercept                  0.03      0.01     0.02     0.05 1.00     3752\n",
       "scalemonthly_PANAS_neg    -0.03      0.01    -0.04    -0.01 1.00     4944\n",
       "                       Tail_ESS\n",
       "Intercept                  3005\n",
       "scalemonthly_PANAS_neg     3137\n",
       "\n",
       "Family Specific Parameters: \n",
       "      Estimate Est.Error l-95% CI u-95% CI Rhat Bulk_ESS Tail_ESS\n",
       "sigma     0.30      0.01     0.29     0.31 1.00     1298     2121\n",
       "\n",
       "Draws were sampled using sampling(NUTS). For each parameter, Bulk_ESS\n",
       "and Tail_ESS are effective sample size measures, and Rhat is the potential\n",
       "scale reduction factor on split chains (at convergence, Rhat = 1)."
      ]
     },
     "metadata": {},
     "output_type": "display_data"
    },
    {
     "name": "stderr",
     "output_type": "stream",
     "text": [
      "Warning message:\n",
      "“Rows containing NAs were excluded from the model.”\n",
      "Compiling Stan program...\n",
      "\n",
      "Start sampling\n",
      "\n"
     ]
    },
    {
     "data": {
      "text/plain": [
       " Family: gaussian \n",
       "  Links: mu = identity; sigma = identity \n",
       "Formula: compound_2020 ~ 1 + scale(monthly_STAI_state) + (1 | subject) \n",
       "   Data: sd_cd (Number of observations: 2069) \n",
       "  Draws: 4 chains, each with iter = 2000; warmup = 1000; thin = 1;\n",
       "         total post-warmup draws = 4000\n",
       "\n",
       "Group-Level Effects: \n",
       "~subject (Number of levels: 743) \n",
       "              Estimate Est.Error l-95% CI u-95% CI Rhat Bulk_ESS Tail_ESS\n",
       "sd(Intercept)     0.10      0.01     0.08     0.13 1.00      889     1376\n",
       "\n",
       "Population-Level Effects: \n",
       "                        Estimate Est.Error l-95% CI u-95% CI Rhat Bulk_ESS\n",
       "Intercept                   0.03      0.01     0.02     0.05 1.00     3406\n",
       "scalemonthly_STAI_state    -0.03      0.01    -0.05    -0.02 1.00     4317\n",
       "                        Tail_ESS\n",
       "Intercept                   2845\n",
       "scalemonthly_STAI_state     3086\n",
       "\n",
       "Family Specific Parameters: \n",
       "      Estimate Est.Error l-95% CI u-95% CI Rhat Bulk_ESS Tail_ESS\n",
       "sigma     0.30      0.01     0.29     0.31 1.00     1527     2250\n",
       "\n",
       "Draws were sampled using sampling(NUTS). For each parameter, Bulk_ESS\n",
       "and Tail_ESS are effective sample size measures, and Rhat is the potential\n",
       "scale reduction factor on split chains (at convergence, Rhat = 1)."
      ]
     },
     "metadata": {},
     "output_type": "display_data"
    },
    {
     "name": "stderr",
     "output_type": "stream",
     "text": [
      "Warning message:\n",
      "“Rows containing NAs were excluded from the model.”\n",
      "Compiling Stan program...\n",
      "\n",
      "Start sampling\n",
      "\n"
     ]
    },
    {
     "data": {
      "text/plain": [
       " Family: gaussian \n",
       "  Links: mu = identity; sigma = identity \n",
       "Formula: compound_2020 ~ 1 + scale(monthly_STAI_trait) + (1 | subject) \n",
       "   Data: sd_cd (Number of observations: 1208) \n",
       "  Draws: 4 chains, each with iter = 5000; warmup = 2500; thin = 1;\n",
       "         total post-warmup draws = 10000\n",
       "\n",
       "Group-Level Effects: \n",
       "~subject (Number of levels: 638) \n",
       "              Estimate Est.Error l-95% CI u-95% CI Rhat Bulk_ESS Tail_ESS\n",
       "sd(Intercept)     0.07      0.02     0.02     0.11 1.00     1239     1754\n",
       "\n",
       "Population-Level Effects: \n",
       "                        Estimate Est.Error l-95% CI u-95% CI Rhat Bulk_ESS\n",
       "Intercept                   0.02      0.01     0.01     0.04 1.00    18576\n",
       "scalemonthly_STAI_trait    -0.04      0.01    -0.06    -0.03 1.00    17661\n",
       "                        Tail_ESS\n",
       "Intercept                   7345\n",
       "scalemonthly_STAI_trait     7878\n",
       "\n",
       "Family Specific Parameters: \n",
       "      Estimate Est.Error l-95% CI u-95% CI Rhat Bulk_ESS Tail_ESS\n",
       "sigma     0.29      0.01     0.28     0.31 1.00     2550     4802\n",
       "\n",
       "Draws were sampled using sampling(NUTS). For each parameter, Bulk_ESS\n",
       "and Tail_ESS are effective sample size measures, and Rhat is the potential\n",
       "scale reduction factor on split chains (at convergence, Rhat = 1)."
      ]
     },
     "metadata": {},
     "output_type": "display_data"
    },
    {
     "name": "stderr",
     "output_type": "stream",
     "text": [
      "Warning message:\n",
      "“Rows containing NAs were excluded from the model.”\n",
      "Compiling Stan program...\n",
      "\n",
      "Start sampling\n",
      "\n"
     ]
    },
    {
     "data": {
      "text/plain": [
       " Family: gaussian \n",
       "  Links: mu = identity; sigma = identity \n",
       "Formula: compound_2020 ~ 1 + scale(monthly_BDI) + (1 | subject) \n",
       "   Data: sd_cd (Number of observations: 1431) \n",
       "  Draws: 4 chains, each with iter = 2000; warmup = 1000; thin = 1;\n",
       "         total post-warmup draws = 4000\n",
       "\n",
       "Group-Level Effects: \n",
       "~subject (Number of levels: 661) \n",
       "              Estimate Est.Error l-95% CI u-95% CI Rhat Bulk_ESS Tail_ESS\n",
       "sd(Intercept)     0.10      0.02     0.06     0.13 1.01      537      540\n",
       "\n",
       "Population-Level Effects: \n",
       "                 Estimate Est.Error l-95% CI u-95% CI Rhat Bulk_ESS Tail_ESS\n",
       "Intercept            0.02      0.01     0.00     0.04 1.00     4782     2835\n",
       "scalemonthly_BDI    -0.04      0.01    -0.06    -0.03 1.00     3942     3087\n",
       "\n",
       "Family Specific Parameters: \n",
       "      Estimate Est.Error l-95% CI u-95% CI Rhat Bulk_ESS Tail_ESS\n",
       "sigma     0.29      0.01     0.28     0.31 1.00     1078     1589\n",
       "\n",
       "Draws were sampled using sampling(NUTS). For each parameter, Bulk_ESS\n",
       "and Tail_ESS are effective sample size measures, and Rhat is the potential\n",
       "scale reduction factor on split chains (at convergence, Rhat = 1)."
      ]
     },
     "metadata": {},
     "output_type": "display_data"
    },
    {
     "name": "stderr",
     "output_type": "stream",
     "text": [
      "Warning message:\n",
      "“Rows containing NAs were excluded from the model.”\n",
      "Compiling Stan program...\n",
      "\n",
      "Start sampling\n",
      "\n"
     ]
    },
    {
     "data": {
      "text/plain": [
       " Family: gaussian \n",
       "  Links: mu = identity; sigma = identity \n",
       "Formula: compound_2020 ~ 1 + scale(monthly_PSS) + (1 | subject) \n",
       "   Data: sd_cd (Number of observations: 2062) \n",
       "  Draws: 4 chains, each with iter = 2000; warmup = 1000; thin = 1;\n",
       "         total post-warmup draws = 4000\n",
       "\n",
       "Group-Level Effects: \n",
       "~subject (Number of levels: 739) \n",
       "              Estimate Est.Error l-95% CI u-95% CI Rhat Bulk_ESS Tail_ESS\n",
       "sd(Intercept)     0.10      0.01     0.07     0.13 1.01      574     1227\n",
       "\n",
       "Population-Level Effects: \n",
       "                 Estimate Est.Error l-95% CI u-95% CI Rhat Bulk_ESS Tail_ESS\n",
       "Intercept            0.04      0.01     0.02     0.05 1.00     4721     3004\n",
       "scalemonthly_PSS    -0.03      0.01    -0.05    -0.02 1.00     4671     3248\n",
       "\n",
       "Family Specific Parameters: \n",
       "      Estimate Est.Error l-95% CI u-95% CI Rhat Bulk_ESS Tail_ESS\n",
       "sigma     0.30      0.01     0.29     0.31 1.00     1354     2136\n",
       "\n",
       "Draws were sampled using sampling(NUTS). For each parameter, Bulk_ESS\n",
       "and Tail_ESS are effective sample size measures, and Rhat is the potential\n",
       "scale reduction factor on split chains (at convergence, Rhat = 1)."
      ]
     },
     "metadata": {},
     "output_type": "display_data"
    },
    {
     "name": "stderr",
     "output_type": "stream",
     "text": [
      "Warning message:\n",
      "“Rows containing NAs were excluded from the model.”\n",
      "Compiling Stan program...\n",
      "\n",
      "Start sampling\n",
      "\n"
     ]
    },
    {
     "data": {
      "text/plain": [
       " Family: gaussian \n",
       "  Links: mu = identity; sigma = identity \n",
       "Formula: compound_2020 ~ 1 + scale(monthly_RISC) + (1 | subject) \n",
       "   Data: sd_cd (Number of observations: 1135) \n",
       "  Draws: 4 chains, each with iter = 5000; warmup = 2500; thin = 1;\n",
       "         total post-warmup draws = 10000\n",
       "\n",
       "Group-Level Effects: \n",
       "~subject (Number of levels: 601) \n",
       "              Estimate Est.Error l-95% CI u-95% CI Rhat Bulk_ESS Tail_ESS\n",
       "sd(Intercept)     0.10      0.02     0.05     0.14 1.00     1047     1227\n",
       "\n",
       "Population-Level Effects: \n",
       "                  Estimate Est.Error l-95% CI u-95% CI Rhat Bulk_ESS Tail_ESS\n",
       "Intercept             0.03      0.01     0.01     0.05 1.00     8403     7473\n",
       "scalemonthly_RISC     0.04      0.01     0.02     0.06 1.00     9385     7524\n",
       "\n",
       "Family Specific Parameters: \n",
       "      Estimate Est.Error l-95% CI u-95% CI Rhat Bulk_ESS Tail_ESS\n",
       "sigma     0.30      0.01     0.29     0.32 1.00     1751     2657\n",
       "\n",
       "Draws were sampled using sampling(NUTS). For each parameter, Bulk_ESS\n",
       "and Tail_ESS are effective sample size measures, and Rhat is the potential\n",
       "scale reduction factor on split chains (at convergence, Rhat = 1)."
      ]
     },
     "metadata": {},
     "output_type": "display_data"
    },
    {
     "name": "stderr",
     "output_type": "stream",
     "text": [
      "Warning message:\n",
      "“Rows containing NAs were excluded from the model.”\n",
      "Compiling Stan program...\n",
      "\n",
      "Start sampling\n",
      "\n"
     ]
    },
    {
     "data": {
      "text/plain": [
       " Family: gaussian \n",
       "  Links: mu = identity; sigma = identity \n",
       "Formula: compound_2020 ~ 1 + scale(monthly_faceMood) + (1 | subject) \n",
       "   Data: sd_cd (Number of observations: 2069) \n",
       "  Draws: 4 chains, each with iter = 2000; warmup = 1000; thin = 1;\n",
       "         total post-warmup draws = 4000\n",
       "\n",
       "Group-Level Effects: \n",
       "~subject (Number of levels: 743) \n",
       "              Estimate Est.Error l-95% CI u-95% CI Rhat Bulk_ESS Tail_ESS\n",
       "sd(Intercept)     0.10      0.01     0.07     0.12 1.00      830     1428\n",
       "\n",
       "Population-Level Effects: \n",
       "                      Estimate Est.Error l-95% CI u-95% CI Rhat Bulk_ESS\n",
       "Intercept                 0.03      0.01     0.02     0.05 1.00     4451\n",
       "scalemonthly_faceMood    -0.03      0.01    -0.05    -0.02 1.00     5091\n",
       "                      Tail_ESS\n",
       "Intercept                 3113\n",
       "scalemonthly_faceMood     3202\n",
       "\n",
       "Family Specific Parameters: \n",
       "      Estimate Est.Error l-95% CI u-95% CI Rhat Bulk_ESS Tail_ESS\n",
       "sigma     0.30      0.01     0.29     0.32 1.00     1459     2306\n",
       "\n",
       "Draws were sampled using sampling(NUTS). For each parameter, Bulk_ESS\n",
       "and Tail_ESS are effective sample size measures, and Rhat is the potential\n",
       "scale reduction factor on split chains (at convergence, Rhat = 1)."
      ]
     },
     "metadata": {},
     "output_type": "display_data"
    }
   ],
   "source": [
    "summary(brm(compound_2020~1+scale(monthly_PANAS_pos)+(1|subject), data = sd_cd, init = \"random\", cores=10))\n",
    "summary(brm(compound_2020~1+scale(monthly_PANAS_neg)+(1|subject), data = sd_cd, init = \"random\", cores=10))\n",
    "summary(brm(compound_2020~1+scale(monthly_STAI_state)+(1|subject), data = sd_cd, init = \"random\", cores=10))\n",
    "summary(brm(compound_2020~1+scale(monthly_STAI_trait)+(1|subject), iter=5000, data = sd_cd, init = \"random\", cores=10))\n",
    "summary(brm(compound_2020~1+scale(monthly_BDI)+(1|subject), data = sd_cd, init = \"random\", cores=10))\n",
    "summary(brm(compound_2020~1+scale(monthly_PSS)+(1|subject), data = sd_cd, init = \"random\", cores=10))\n",
    "summary(brm(compound_2020~1+scale(monthly_RISC)+(1|subject), iter = 5000, data = sd_cd, init = \"random\", cores=10))\n",
    "summary(brm(compound_2020~1+scale(monthly_faceMood)+(1|subject), data = sd_cd, init = \"random\", cores=10))"
   ]
  },
  {
   "cell_type": "code",
   "execution_count": 91,
   "metadata": {},
   "outputs": [
    {
     "data": {
      "text/plain": [
       "Linear mixed model fit by REML. t-tests use Satterthwaite's method [\n",
       "lmerModLmerTest]\n",
       "Formula: compound_2020 ~ variable * scale(value) + (1 | subject)\n",
       "   Data: panas_sent_melt\n",
       "Control: lmerControl(\"bobyqa\")\n",
       "\n",
       "REML criterion at convergence: 1768.9\n",
       "\n",
       "Scaled residuals: \n",
       "    Min      1Q  Median      3Q     Max \n",
       "-3.9284 -0.5458 -0.0150  0.5635  3.2358 \n",
       "\n",
       "Random effects:\n",
       " Groups   Name        Variance Std.Dev.\n",
       " subject  (Intercept) 0.03702  0.1924  \n",
       " Residual             0.07117  0.2668  \n",
       "Number of obs: 4138, groups:  subject, 743\n",
       "\n",
       "Fixed effects:\n",
       "                                         Estimate Std. Error         df t value\n",
       "(Intercept)                             2.247e-02  1.046e-02  1.300e+03   2.149\n",
       "variablemonthly_PANAS_neg              -9.732e-03  1.100e-02  3.634e+03  -0.885\n",
       "scale(value)                            1.423e-02  7.928e-03  4.133e+03   1.795\n",
       "variablemonthly_PANAS_neg:scale(value) -4.510e-02  1.431e-02  4.081e+03  -3.153\n",
       "                                       Pr(>|t|)   \n",
       "(Intercept)                             0.03185 * \n",
       "variablemonthly_PANAS_neg               0.37636   \n",
       "scale(value)                            0.07266 . \n",
       "variablemonthly_PANAS_neg:scale(value)  0.00163 **\n",
       "---\n",
       "Signif. codes:  0 ‘***’ 0.001 ‘**’ 0.01 ‘*’ 0.05 ‘.’ 0.1 ‘ ’ 1\n",
       "\n",
       "Correlation of Fixed Effects:\n",
       "            (Intr) vr_PANAS_ scl(v)\n",
       "vrbl_PANAS_ -0.443                 \n",
       "scale(valu) -0.425  0.332          \n",
       "v_PANAS_:()  0.273  0.213    -0.652"
      ]
     },
     "metadata": {},
     "output_type": "display_data"
    }
   ],
   "source": [
    "# test PANAS interaction \n",
    "panas_sent<-sd_cd[,c(\"subject\",\"compound_2020\",\"monthly_PANAS_pos\",\"monthly_PANAS_neg\")]\n",
    "panas_sent_melt<-melt(panas_sent,id.vars=c(\"subject\",\"compound_2020\"))\n",
    "summary(mod<-lmer(compound_2020~variable*scale(value)+(1|subject),data=panas_sent_melt,control=lmerControl(\"bobyqa\")))"
   ]
  },
  {
   "cell_type": "code",
   "execution_count": 92,
   "metadata": {},
   "outputs": [
    {
     "name": "stderr",
     "output_type": "stream",
     "text": [
      "Warning message:\n",
      "“Rows containing NAs were excluded from the model.”\n",
      "Compiling Stan program...\n",
      "\n",
      "Start sampling\n",
      "\n"
     ]
    },
    {
     "data": {
      "text/plain": [
       " Family: gaussian \n",
       "  Links: mu = identity; sigma = identity \n",
       "Formula: compound_2020 ~ 1 + variable * scale(value) + (1 | subject) \n",
       "   Data: panas_sent_melt (Number of observations: 4138) \n",
       "  Draws: 4 chains, each with iter = 2000; warmup = 1000; thin = 1;\n",
       "         total post-warmup draws = 4000\n",
       "\n",
       "Group-Level Effects: \n",
       "~subject (Number of levels: 743) \n",
       "              Estimate Est.Error l-95% CI u-95% CI Rhat Bulk_ESS Tail_ESS\n",
       "sd(Intercept)     0.19      0.01     0.18     0.21 1.00     1137     1751\n",
       "\n",
       "Population-Level Effects: \n",
       "                                     Estimate Est.Error l-95% CI u-95% CI Rhat\n",
       "Intercept                                0.02      0.01     0.00     0.04 1.00\n",
       "variablemonthly_PANAS_neg               -0.01      0.01    -0.03     0.01 1.00\n",
       "scalevalue                               0.01      0.01    -0.00     0.03 1.00\n",
       "variablemonthly_PANAS_neg:scalevalue    -0.05      0.01    -0.07    -0.02 1.00\n",
       "                                     Bulk_ESS Tail_ESS\n",
       "Intercept                                1366     2065\n",
       "variablemonthly_PANAS_neg                4561     3155\n",
       "scalevalue                               2476     2732\n",
       "variablemonthly_PANAS_neg:scalevalue     2380     2830\n",
       "\n",
       "Family Specific Parameters: \n",
       "      Estimate Est.Error l-95% CI u-95% CI Rhat Bulk_ESS Tail_ESS\n",
       "sigma     0.27      0.00     0.26     0.27 1.00     2644     2511\n",
       "\n",
       "Draws were sampled using sampling(NUTS). For each parameter, Bulk_ESS\n",
       "and Tail_ESS are effective sample size measures, and Rhat is the potential\n",
       "scale reduction factor on split chains (at convergence, Rhat = 1)."
      ]
     },
     "metadata": {},
     "output_type": "display_data"
    }
   ],
   "source": [
    "summary(brm(compound_2020~1+variable*scale(value)+(1|subject), data = panas_sent_melt, init = \"random\", cores=10))"
   ]
  }
 ],
 "metadata": {
  "kernelspec": {
   "display_name": "R",
   "language": "R",
   "name": "ir"
  },
  "language_info": {
   "codemirror_mode": "r",
   "file_extension": ".r",
   "mimetype": "text/x-r-source",
   "name": "R",
   "pygments_lexer": "r",
   "version": "4.1.3"
  }
 },
 "nbformat": 4,
 "nbformat_minor": 4
}
